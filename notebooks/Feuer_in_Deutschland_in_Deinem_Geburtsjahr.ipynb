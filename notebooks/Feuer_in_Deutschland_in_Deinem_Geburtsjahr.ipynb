{
 "cells": [
  {
   "cell_type": "markdown",
   "metadata": {},
   "source": [
    "# Wo hat es in Deutschland in dem Jahr, in dem Du geboren bist, gebrannt?"
   ]
  },
  {
   "cell_type": "markdown",
   "metadata": {},
   "source": [
    "## Gib hier das Jahr an, an dem Du geboren bist. \n",
    "Prinzipiell kannst ein Jahr zwischen 2000 und 2020 angeben."
   ]
  },
  {
   "cell_type": "code",
   "execution_count": 1,
   "metadata": {},
   "outputs": [],
   "source": [
    "jahr = 2009             "
   ]
  },
  {
   "cell_type": "markdown",
   "metadata": {},
   "source": [
    "## Nun laden wir die benötigten Apps."
   ]
  },
  {
   "cell_type": "code",
   "execution_count": 2,
   "metadata": {},
   "outputs": [],
   "source": [
    "import pandas as pd\n",
    "import os\n",
    "import glob\n",
    "import matplotlib.pyplot as plt\n",
    "%matplotlib inline\n",
    "\n",
    "import sys\n",
    "sys.path.append('/sw/spack-rhel6/jupyterhub/jupyterhub/lib/python3.8/site-packages')"
   ]
  },
  {
   "cell_type": "code",
   "execution_count": 3,
   "metadata": {},
   "outputs": [
    {
     "data": {
      "text/html": [
       "        <script type=\"text/javascript\">\n",
       "        window.PlotlyConfig = {MathJaxConfig: 'local'};\n",
       "        if (window.MathJax) {MathJax.Hub.Config({SVG: {font: \"STIX-Web\"}});}\n",
       "        if (typeof require !== 'undefined') {\n",
       "        require.undef(\"plotly\");\n",
       "        requirejs.config({\n",
       "            paths: {\n",
       "                'plotly': ['https://cdn.plot.ly/plotly-2.11.1.min']\n",
       "            }\n",
       "        });\n",
       "        require(['plotly'], function(Plotly) {\n",
       "            window._Plotly = Plotly;\n",
       "        });\n",
       "        }\n",
       "        </script>\n",
       "        "
      ]
     },
     "metadata": {},
     "output_type": "display_data"
    }
   ],
   "source": [
    "import plotly.graph_objs as go\n",
    "import plotly.express as px\n",
    "from plotly.offline import download_plotlyjs, init_notebook_mode, plot, iplot\n",
    "import plotly.io as pio\n",
    "init_notebook_mode(connected=True)\n",
    "\n",
    "from IPython.core.interactiveshell import InteractiveShell\n",
    "InteractiveShell.ast_node_interactivity = 'all'"
   ]
  },
  {
   "cell_type": "markdown",
   "metadata": {},
   "source": [
    "## Nun holen wir die Datei mit den MODIS Feuerbeobachtungen vom NASA Datenarchiv und lesen sie ein."
   ]
  },
  {
   "cell_type": "code",
   "execution_count": 4,
   "metadata": {},
   "outputs": [],
   "source": [
    "land       = 'Germany'\n",
    "datei      = 'https://firms.modaps.eosdis.nasa.gov/data/country/modis/'+str(jahr)+'/modis_'+str(jahr)+'_Germany.csv'\n",
    "feuerdaten = pd.read_csv(datei, usecols=['latitude','longitude','acq_date','acq_time','frp','type'])"
   ]
  },
  {
   "cell_type": "markdown",
   "metadata": {},
   "source": [
    "## Hier passen wir die Daten etwas an und wählen nur Vegetationsbrände aus.\n",
    "Bei jedem Feuer gibt es eine Typbeschreibung: Handelt es sich wahrscheinlich um ein Vegetationsbrand oder etwas anderes? Wir wählen nur Feuer aus, die vermutlich echte Vegetationsbrände sind."
   ]
  },
  {
   "cell_type": "code",
   "execution_count": 5,
   "metadata": {},
   "outputs": [],
   "source": [
    "feuerdaten['Zeitpunkt'] = pd.to_datetime(feuerdaten['acq_date'] + ' ' + feuerdaten['acq_time'].astype(str).str.zfill(4).str.wrap(2).str.replace('\\n', ':')) + pd.DateOffset(hours=2)\n",
    "feuerdaten.drop(['acq_time','acq_date'], axis='columns', inplace=True)\n",
    "feuerdaten['Datum'] = pd.to_datetime(feuerdaten['Zeitpunkt']).dt.date.astype(str)\n",
    "\n",
    "\n",
    "feuerdaten.rename({'latitude':'Breitengrad', 'longitude':'Längengrad', 'frp':'Feuerintensität', 'type':'Typ'}, axis='columns', inplace=True)\n",
    "feuerdaten['Typ'].replace(to_replace=[0, 2], value=['Vegetationsbrand', 'Anderes'],inplace=True)\n",
    "feuerdaten=feuerdaten[feuerdaten['Typ'] != 'Anderes']"
   ]
  },
  {
   "cell_type": "markdown",
   "metadata": {},
   "source": [
    "### Wie sehen die Daten nun aus (erste 5 Zeilen)?"
   ]
  },
  {
   "cell_type": "code",
   "execution_count": 6,
   "metadata": {},
   "outputs": [
    {
     "data": {
      "text/html": [
       "<div>\n",
       "<style scoped>\n",
       "    .dataframe tbody tr th:only-of-type {\n",
       "        vertical-align: middle;\n",
       "    }\n",
       "\n",
       "    .dataframe tbody tr th {\n",
       "        vertical-align: top;\n",
       "    }\n",
       "\n",
       "    .dataframe thead th {\n",
       "        text-align: right;\n",
       "    }\n",
       "</style>\n",
       "<table border=\"1\" class=\"dataframe\">\n",
       "  <thead>\n",
       "    <tr style=\"text-align: right;\">\n",
       "      <th></th>\n",
       "      <th>Breitengrad</th>\n",
       "      <th>Längengrad</th>\n",
       "      <th>Feuerintensität</th>\n",
       "      <th>Typ</th>\n",
       "      <th>Zeitpunkt</th>\n",
       "      <th>Datum</th>\n",
       "    </tr>\n",
       "  </thead>\n",
       "  <tbody>\n",
       "    <tr>\n",
       "      <th>1</th>\n",
       "      <td>51.4892</td>\n",
       "      <td>6.7248</td>\n",
       "      <td>11.0</td>\n",
       "      <td>Vegetationsbrand</td>\n",
       "      <td>2009-01-12 03:42:00</td>\n",
       "      <td>2009-01-12</td>\n",
       "    </tr>\n",
       "    <tr>\n",
       "      <th>20</th>\n",
       "      <td>49.2923</td>\n",
       "      <td>8.6136</td>\n",
       "      <td>10.2</td>\n",
       "      <td>Vegetationsbrand</td>\n",
       "      <td>2009-02-03 14:16:00</td>\n",
       "      <td>2009-02-03</td>\n",
       "    </tr>\n",
       "    <tr>\n",
       "      <th>21</th>\n",
       "      <td>49.2947</td>\n",
       "      <td>8.6279</td>\n",
       "      <td>17.2</td>\n",
       "      <td>Vegetationsbrand</td>\n",
       "      <td>2009-02-03 14:16:00</td>\n",
       "      <td>2009-02-03</td>\n",
       "    </tr>\n",
       "    <tr>\n",
       "      <th>27</th>\n",
       "      <td>49.3559</td>\n",
       "      <td>6.7447</td>\n",
       "      <td>6.6</td>\n",
       "      <td>Vegetationsbrand</td>\n",
       "      <td>2009-03-03 12:52:00</td>\n",
       "      <td>2009-03-03</td>\n",
       "    </tr>\n",
       "    <tr>\n",
       "      <th>32</th>\n",
       "      <td>51.4659</td>\n",
       "      <td>6.2459</td>\n",
       "      <td>12.7</td>\n",
       "      <td>Vegetationsbrand</td>\n",
       "      <td>2009-03-17 13:04:00</td>\n",
       "      <td>2009-03-17</td>\n",
       "    </tr>\n",
       "  </tbody>\n",
       "</table>\n",
       "</div>"
      ],
      "text/plain": [
       "    Breitengrad  Längengrad  Feuerintensität               Typ  \\\n",
       "1       51.4892      6.7248             11.0  Vegetationsbrand   \n",
       "20      49.2923      8.6136             10.2  Vegetationsbrand   \n",
       "21      49.2947      8.6279             17.2  Vegetationsbrand   \n",
       "27      49.3559      6.7447              6.6  Vegetationsbrand   \n",
       "32      51.4659      6.2459             12.7  Vegetationsbrand   \n",
       "\n",
       "             Zeitpunkt       Datum  \n",
       "1  2009-01-12 03:42:00  2009-01-12  \n",
       "20 2009-02-03 14:16:00  2009-02-03  \n",
       "21 2009-02-03 14:16:00  2009-02-03  \n",
       "27 2009-03-03 12:52:00  2009-03-03  \n",
       "32 2009-03-17 13:04:00  2009-03-17  "
      ]
     },
     "execution_count": 6,
     "metadata": {},
     "output_type": "execute_result"
    }
   ],
   "source": [
    "feuerdaten.head(5)"
   ]
  },
  {
   "cell_type": "markdown",
   "metadata": {},
   "source": [
    "###  Wie viele Vegetationsbrände gab es in dem Jahr in Deutschland?"
   ]
  },
  {
   "cell_type": "code",
   "execution_count": 7,
   "metadata": {},
   "outputs": [
    {
     "name": "stdout",
     "output_type": "stream",
     "text": [
      "671\n"
     ]
    }
   ],
   "source": [
    "print(feuerdaten['Typ'].value_counts().tolist()[0])"
   ]
  },
  {
   "cell_type": "markdown",
   "metadata": {},
   "source": [
    "# Nun zeichnen wir eine Deutschlandkarte mit den Feuern. "
   ]
  },
  {
   "cell_type": "markdown",
   "metadata": {},
   "source": [
    "### Hier bestimmen wir die Farben des Farbbalkens."
   ]
  },
  {
   "cell_type": "code",
   "execution_count": 8,
   "metadata": {},
   "outputs": [],
   "source": [
    "cmap = [[0, 'black'], [0.5, 'red'],[1, 'yellow']]"
   ]
  },
  {
   "cell_type": "markdown",
   "metadata": {},
   "source": [
    "Hier könntet ihr auch andere Farben auf Englisch wählen. \n",
    "Wichtig ist, dass der englische Farbname klein geschrieben ist.\n",
    "Ihr könntet auch eine Regenbogenfarbskala verwenden. Dann müsst ihr nur schreiben:<br>\n",
    "cmap= 'rainbow'"
   ]
  },
  {
   "cell_type": "markdown",
   "metadata": {},
   "source": [
    "### Hier wird die Abbildung gemacht:"
   ]
  },
  {
   "cell_type": "code",
   "execution_count": 9,
   "metadata": {},
   "outputs": [
    {
     "data": {
      "application/vnd.plotly.v1+json": {
       "config": {
        "plotlyServerURL": "https://plot.ly"
       },
       "data": [
        {
         "customdata": [
          [
           "Vegetationsbrand"
          ]
         ],
         "hovertemplate": "Datum=2009-01-12<br>Feuerintensität=%{marker.color}<br>Breitengrad=%{lat}<br>Längengrad=%{lon}<br>Typ=%{customdata[0]}<extra></extra>",
         "lat": [
          51.4892
         ],
         "legendgroup": "",
         "lon": [
          6.7248
         ],
         "marker": {
          "color": [
           11
          ],
          "coloraxis": "coloraxis",
          "opacity": 0.5,
          "size": [
           11
          ],
          "sizemode": "area",
          "sizeref": 0.6502500000000001
         },
         "mode": "markers",
         "name": "",
         "showlegend": false,
         "subplot": "mapbox",
         "type": "scattermapbox"
        }
       ],
       "frames": [
        {
         "data": [
          {
           "customdata": [
            [
             "Vegetationsbrand"
            ]
           ],
           "hovertemplate": "Datum=2009-01-12<br>Feuerintensität=%{marker.color}<br>Breitengrad=%{lat}<br>Längengrad=%{lon}<br>Typ=%{customdata[0]}<extra></extra>",
           "lat": [
            51.4892
           ],
           "legendgroup": "",
           "lon": [
            6.7248
           ],
           "marker": {
            "color": [
             11
            ],
            "coloraxis": "coloraxis",
            "opacity": 0.5,
            "size": [
             11
            ],
            "sizemode": "area",
            "sizeref": 0.6502500000000001
           },
           "mode": "markers",
           "name": "",
           "showlegend": false,
           "subplot": "mapbox",
           "type": "scattermapbox"
          }
         ],
         "name": "2009-01-12"
        },
        {
         "data": [
          {
           "customdata": [
            [
             "Vegetationsbrand"
            ],
            [
             "Vegetationsbrand"
            ]
           ],
           "hovertemplate": "Datum=2009-02-03<br>Feuerintensität=%{marker.color}<br>Breitengrad=%{lat}<br>Längengrad=%{lon}<br>Typ=%{customdata[0]}<extra></extra>",
           "lat": [
            49.2923,
            49.2947
           ],
           "legendgroup": "",
           "lon": [
            8.6136,
            8.6279
           ],
           "marker": {
            "color": [
             10.2,
             17.2
            ],
            "coloraxis": "coloraxis",
            "opacity": 0.5,
            "size": [
             10.2,
             17.2
            ],
            "sizemode": "area",
            "sizeref": 0.6502500000000001
           },
           "mode": "markers",
           "name": "",
           "showlegend": false,
           "subplot": "mapbox",
           "type": "scattermapbox"
          }
         ],
         "name": "2009-02-03"
        },
        {
         "data": [
          {
           "customdata": [
            [
             "Vegetationsbrand"
            ]
           ],
           "hovertemplate": "Datum=2009-03-03<br>Feuerintensität=%{marker.color}<br>Breitengrad=%{lat}<br>Längengrad=%{lon}<br>Typ=%{customdata[0]}<extra></extra>",
           "lat": [
            49.3559
           ],
           "legendgroup": "",
           "lon": [
            6.7447
           ],
           "marker": {
            "color": [
             6.6
            ],
            "coloraxis": "coloraxis",
            "opacity": 0.5,
            "size": [
             6.6
            ],
            "sizemode": "area",
            "sizeref": 0.6502500000000001
           },
           "mode": "markers",
           "name": "",
           "showlegend": false,
           "subplot": "mapbox",
           "type": "scattermapbox"
          }
         ],
         "name": "2009-03-03"
        },
        {
         "data": [
          {
           "customdata": [
            [
             "Vegetationsbrand"
            ]
           ],
           "hovertemplate": "Datum=2009-03-17<br>Feuerintensität=%{marker.color}<br>Breitengrad=%{lat}<br>Längengrad=%{lon}<br>Typ=%{customdata[0]}<extra></extra>",
           "lat": [
            51.4659
           ],
           "legendgroup": "",
           "lon": [
            6.2459
           ],
           "marker": {
            "color": [
             12.7
            ],
            "coloraxis": "coloraxis",
            "opacity": 0.5,
            "size": [
             12.7
            ],
            "sizemode": "area",
            "sizeref": 0.6502500000000001
           },
           "mode": "markers",
           "name": "",
           "showlegend": false,
           "subplot": "mapbox",
           "type": "scattermapbox"
          }
         ],
         "name": "2009-03-17"
        },
        {
         "data": [
          {
           "customdata": [
            [
             "Vegetationsbrand"
            ],
            [
             "Vegetationsbrand"
            ],
            [
             "Vegetationsbrand"
            ],
            [
             "Vegetationsbrand"
            ]
           ],
           "hovertemplate": "Datum=2009-03-18<br>Feuerintensität=%{marker.color}<br>Breitengrad=%{lat}<br>Längengrad=%{lon}<br>Typ=%{customdata[0]}<extra></extra>",
           "lat": [
            54.1371,
            51.7948,
            51.7924,
            51.6042
           ],
           "legendgroup": "",
           "lon": [
            9.394,
            12.9329,
            12.9183,
            7.0158
           ],
           "marker": {
            "color": [
             12.7,
             60.6,
             213.5,
             31.8
            ],
            "coloraxis": "coloraxis",
            "opacity": 0.5,
            "size": [
             12.7,
             60.6,
             213.5,
             31.8
            ],
            "sizemode": "area",
            "sizeref": 0.6502500000000001
           },
           "mode": "markers",
           "name": "",
           "showlegend": false,
           "subplot": "mapbox",
           "type": "scattermapbox"
          }
         ],
         "name": "2009-03-18"
        },
        {
         "data": [
          {
           "customdata": [
            [
             "Vegetationsbrand"
            ],
            [
             "Vegetationsbrand"
            ],
            [
             "Vegetationsbrand"
            ]
           ],
           "hovertemplate": "Datum=2009-03-19<br>Feuerintensität=%{marker.color}<br>Breitengrad=%{lat}<br>Längengrad=%{lon}<br>Typ=%{customdata[0]}<extra></extra>",
           "lat": [
            53.5115,
            51.6377,
            51.6401
           ],
           "legendgroup": "",
           "lon": [
            10.0381,
            6.995,
            6.9804
           ],
           "marker": {
            "color": [
             6.3,
             7.1,
             5.6
            ],
            "coloraxis": "coloraxis",
            "opacity": 0.5,
            "size": [
             6.3,
             7.1,
             5.6
            ],
            "sizemode": "area",
            "sizeref": 0.6502500000000001
           },
           "mode": "markers",
           "name": "",
           "showlegend": false,
           "subplot": "mapbox",
           "type": "scattermapbox"
          }
         ],
         "name": "2009-03-19"
        },
        {
         "data": [
          {
           "customdata": [
            [
             "Vegetationsbrand"
            ],
            [
             "Vegetationsbrand"
            ],
            [
             "Vegetationsbrand"
            ],
            [
             "Vegetationsbrand"
            ],
            [
             "Vegetationsbrand"
            ],
            [
             "Vegetationsbrand"
            ],
            [
             "Vegetationsbrand"
            ],
            [
             "Vegetationsbrand"
            ],
            [
             "Vegetationsbrand"
            ],
            [
             "Vegetationsbrand"
            ],
            [
             "Vegetationsbrand"
            ],
            [
             "Vegetationsbrand"
            ]
           ],
           "hovertemplate": "Datum=2009-03-21<br>Feuerintensität=%{marker.color}<br>Breitengrad=%{lat}<br>Längengrad=%{lon}<br>Typ=%{customdata[0]}<extra></extra>",
           "lat": [
            52.7768,
            52.7791,
            48.9818,
            48.9784,
            51.4657,
            51.4875,
            49.7166,
            49.7198,
            48.699,
            49.2539,
            49.3498,
            49.2558
           ],
           "legendgroup": "",
           "lon": [
            9.8457,
            9.831,
            12.1765,
            12.1938,
            6.7458,
            6.7231,
            11.7446,
            11.7281,
            8.9807,
            8.5177,
            6.7332,
            8.5312
           ],
           "marker": {
            "color": [
             8,
             60.8,
             28.5,
             40.3,
             3.7,
             23.4,
             18.7,
             12.7,
             4.2,
             20.2,
             10.6,
             23.6
            ],
            "coloraxis": "coloraxis",
            "opacity": 0.5,
            "size": [
             8,
             60.8,
             28.5,
             40.3,
             3.7,
             23.4,
             18.7,
             12.7,
             4.2,
             20.2,
             10.6,
             23.6
            ],
            "sizemode": "area",
            "sizeref": 0.6502500000000001
           },
           "mode": "markers",
           "name": "",
           "showlegend": false,
           "subplot": "mapbox",
           "type": "scattermapbox"
          }
         ],
         "name": "2009-03-21"
        },
        {
         "data": [
          {
           "customdata": [
            [
             "Vegetationsbrand"
            ]
           ],
           "hovertemplate": "Datum=2009-03-28<br>Feuerintensität=%{marker.color}<br>Breitengrad=%{lat}<br>Längengrad=%{lon}<br>Typ=%{customdata[0]}<extra></extra>",
           "lat": [
            48.9841
           ],
           "legendgroup": "",
           "lon": [
            12.1912
           ],
           "marker": {
            "color": [
             13.1
            ],
            "coloraxis": "coloraxis",
            "opacity": 0.5,
            "size": [
             13.1
            ],
            "sizemode": "area",
            "sizeref": 0.6502500000000001
           },
           "mode": "markers",
           "name": "",
           "showlegend": false,
           "subplot": "mapbox",
           "type": "scattermapbox"
          }
         ],
         "name": "2009-03-28"
        },
        {
         "data": [
          {
           "customdata": [
            [
             "Vegetationsbrand"
            ]
           ],
           "hovertemplate": "Datum=2009-03-29<br>Feuerintensität=%{marker.color}<br>Breitengrad=%{lat}<br>Längengrad=%{lon}<br>Typ=%{customdata[0]}<extra></extra>",
           "lat": [
            52.156
           ],
           "legendgroup": "",
           "lon": [
            10.3925
           ],
           "marker": {
            "color": [
             10.4
            ],
            "coloraxis": "coloraxis",
            "opacity": 0.5,
            "size": [
             10.4
            ],
            "sizemode": "area",
            "sizeref": 0.6502500000000001
           },
           "mode": "markers",
           "name": "",
           "showlegend": false,
           "subplot": "mapbox",
           "type": "scattermapbox"
          }
         ],
         "name": "2009-03-29"
        },
        {
         "data": [
          {
           "customdata": [
            [
             "Vegetationsbrand"
            ],
            [
             "Vegetationsbrand"
            ],
            [
             "Vegetationsbrand"
            ],
            [
             "Vegetationsbrand"
            ],
            [
             "Vegetationsbrand"
            ]
           ],
           "hovertemplate": "Datum=2009-03-30<br>Feuerintensität=%{marker.color}<br>Breitengrad=%{lat}<br>Längengrad=%{lon}<br>Typ=%{customdata[0]}<extra></extra>",
           "lat": [
            52.4601,
            49.9031,
            51.2712,
            51.4693,
            51.4718
           ],
           "legendgroup": "",
           "lon": [
            10.5388,
            8.0694,
            6.4568,
            6.232,
            6.2469
           ],
           "marker": {
            "color": [
             5,
             3.4,
             5.9,
             18.7,
             20.6
            ],
            "coloraxis": "coloraxis",
            "opacity": 0.5,
            "size": [
             5,
             3.4,
             5.9,
             18.7,
             20.6
            ],
            "sizemode": "area",
            "sizeref": 0.6502500000000001
           },
           "mode": "markers",
           "name": "",
           "showlegend": false,
           "subplot": "mapbox",
           "type": "scattermapbox"
          }
         ],
         "name": "2009-03-30"
        },
        {
         "data": [
          {
           "customdata": [
            [
             "Vegetationsbrand"
            ],
            [
             "Vegetationsbrand"
            ],
            [
             "Vegetationsbrand"
            ],
            [
             "Vegetationsbrand"
            ],
            [
             "Vegetationsbrand"
            ]
           ],
           "hovertemplate": "Datum=2009-03-31<br>Feuerintensität=%{marker.color}<br>Breitengrad=%{lat}<br>Längengrad=%{lon}<br>Typ=%{customdata[0]}<extra></extra>",
           "lat": [
            49.6977,
            49.6995,
            49.3545,
            52.1583,
            52.1508
           ],
           "legendgroup": "",
           "lon": [
            11.8548,
            11.8203,
            6.7442,
            12.168,
            12.1719
           ],
           "marker": {
            "color": [
             260.1,
             27.5,
             14,
             40.2,
             43.9
            ],
            "coloraxis": "coloraxis",
            "opacity": 0.5,
            "size": [
             260.1,
             27.5,
             14,
             40.2,
             43.9
            ],
            "sizemode": "area",
            "sizeref": 0.6502500000000001
           },
           "mode": "markers",
           "name": "",
           "showlegend": false,
           "subplot": "mapbox",
           "type": "scattermapbox"
          }
         ],
         "name": "2009-03-31"
        },
        {
         "data": [
          {
           "customdata": [
            [
             "Vegetationsbrand"
            ],
            [
             "Vegetationsbrand"
            ],
            [
             "Vegetationsbrand"
            ],
            [
             "Vegetationsbrand"
            ],
            [
             "Vegetationsbrand"
            ],
            [
             "Vegetationsbrand"
            ],
            [
             "Vegetationsbrand"
            ],
            [
             "Vegetationsbrand"
            ],
            [
             "Vegetationsbrand"
            ],
            [
             "Vegetationsbrand"
            ],
            [
             "Vegetationsbrand"
            ],
            [
             "Vegetationsbrand"
            ],
            [
             "Vegetationsbrand"
            ],
            [
             "Vegetationsbrand"
            ],
            [
             "Vegetationsbrand"
            ],
            [
             "Vegetationsbrand"
            ],
            [
             "Vegetationsbrand"
            ],
            [
             "Vegetationsbrand"
            ],
            [
             "Vegetationsbrand"
            ],
            [
             "Vegetationsbrand"
            ]
           ],
           "hovertemplate": "Datum=2009-04-01<br>Feuerintensität=%{marker.color}<br>Breitengrad=%{lat}<br>Längengrad=%{lon}<br>Typ=%{customdata[0]}<extra></extra>",
           "lat": [
            50.8975,
            52.151,
            51.33,
            53.5079,
            51.3279,
            49.2474,
            49.2391,
            48.4732,
            51.5663,
            52.1572,
            52.1552,
            50.7908,
            50.0767,
            50.0792,
            50.0685,
            50.0709,
            49.815,
            53.1009,
            53.0059,
            53.1038
           ],
           "legendgroup": "",
           "lon": [
            12.4272,
            12.1771,
            12.6474,
            10.0391,
            12.6614,
            6.8585,
            6.8508,
            11.9399,
            7.9268,
            12.2101,
            12.1957,
            6.9284,
            9.8488,
            9.8634,
            9.8435,
            9.8581,
            9.0256,
            7.3601,
            7.361,
            7.3764
           ],
           "marker": {
            "color": [
             4.5,
             27.7,
             6.2,
             3.8,
             6.4,
             11.7,
             7.9,
             5.4,
             5.3,
             15.2,
             15.6,
             11,
             28.5,
             4.3,
             12.6,
             24.5,
             5.6,
             9.3,
             5.6,
             8.6
            ],
            "coloraxis": "coloraxis",
            "opacity": 0.5,
            "size": [
             4.5,
             27.7,
             6.2,
             3.8,
             6.4,
             11.7,
             7.9,
             5.4,
             5.3,
             15.2,
             15.6,
             11,
             28.5,
             4.3,
             12.6,
             24.5,
             5.6,
             9.3,
             5.6,
             8.6
            ],
            "sizemode": "area",
            "sizeref": 0.6502500000000001
           },
           "mode": "markers",
           "name": "",
           "showlegend": false,
           "subplot": "mapbox",
           "type": "scattermapbox"
          }
         ],
         "name": "2009-04-01"
        },
        {
         "data": [
          {
           "customdata": [
            [
             "Vegetationsbrand"
            ],
            [
             "Vegetationsbrand"
            ],
            [
             "Vegetationsbrand"
            ],
            [
             "Vegetationsbrand"
            ],
            [
             "Vegetationsbrand"
            ],
            [
             "Vegetationsbrand"
            ],
            [
             "Vegetationsbrand"
            ],
            [
             "Vegetationsbrand"
            ]
           ],
           "hovertemplate": "Datum=2009-04-02<br>Feuerintensität=%{marker.color}<br>Breitengrad=%{lat}<br>Längengrad=%{lon}<br>Typ=%{customdata[0]}<extra></extra>",
           "lat": [
            51.607,
            51.3792,
            51.6923,
            51.6892,
            51.2678,
            51.0168,
            51.7381,
            51.4592
           ],
           "legendgroup": "",
           "lon": [
            14.2179,
            6.2035,
            6.1021,
            6.1185,
            6.5115,
            6.8318,
            6.4742,
            6.7357
           ],
           "marker": {
            "color": [
             17.3,
             14.5,
             5.3,
             7.9,
             6.2,
             6.9,
             5.8,
             12.9
            ],
            "coloraxis": "coloraxis",
            "opacity": 0.5,
            "size": [
             17.3,
             14.5,
             5.3,
             7.9,
             6.2,
             6.9,
             5.8,
             12.9
            ],
            "sizemode": "area",
            "sizeref": 0.6502500000000001
           },
           "mode": "markers",
           "name": "",
           "showlegend": false,
           "subplot": "mapbox",
           "type": "scattermapbox"
          }
         ],
         "name": "2009-04-02"
        },
        {
         "data": [
          {
           "customdata": [
            [
             "Vegetationsbrand"
            ],
            [
             "Vegetationsbrand"
            ],
            [
             "Vegetationsbrand"
            ],
            [
             "Vegetationsbrand"
            ],
            [
             "Vegetationsbrand"
            ],
            [
             "Vegetationsbrand"
            ],
            [
             "Vegetationsbrand"
            ]
           ],
           "hovertemplate": "Datum=2009-04-03<br>Feuerintensität=%{marker.color}<br>Breitengrad=%{lat}<br>Längengrad=%{lon}<br>Typ=%{customdata[0]}<extra></extra>",
           "lat": [
            52.7937,
            52.7917,
            52.797,
            50.0635,
            50.0637,
            53.5188,
            51.5161
           ],
           "legendgroup": "",
           "lon": [
            9.7487,
            9.77,
            9.7556,
            8.2192,
            8.2263,
            9.8986,
            6.9729
           ],
           "marker": {
            "color": [
             9.1,
             6.7,
             13.7,
             25.4,
             7.8,
             5.8,
             8.2
            ],
            "coloraxis": "coloraxis",
            "opacity": 0.5,
            "size": [
             9.1,
             6.7,
             13.7,
             25.4,
             7.8,
             5.8,
             8.2
            ],
            "sizemode": "area",
            "sizeref": 0.6502500000000001
           },
           "mode": "markers",
           "name": "",
           "showlegend": false,
           "subplot": "mapbox",
           "type": "scattermapbox"
          }
         ],
         "name": "2009-04-03"
        },
        {
         "data": [
          {
           "customdata": [
            [
             "Vegetationsbrand"
            ],
            [
             "Vegetationsbrand"
            ],
            [
             "Vegetationsbrand"
            ],
            [
             "Vegetationsbrand"
            ],
            [
             "Vegetationsbrand"
            ],
            [
             "Vegetationsbrand"
            ],
            [
             "Vegetationsbrand"
            ]
           ],
           "hovertemplate": "Datum=2009-04-04<br>Feuerintensität=%{marker.color}<br>Breitengrad=%{lat}<br>Längengrad=%{lon}<br>Typ=%{customdata[0]}<extra></extra>",
           "lat": [
            53.4104,
            54.1522,
            49.0231,
            53.5213,
            53.5193,
            50.9114,
            49.9625
           ],
           "legendgroup": "",
           "lon": [
            10.1888,
            9.6501,
            8.4687,
            9.9086,
            9.8868,
            10.829,
            9.1601
           ],
           "marker": {
            "color": [
             21.6,
             3.9,
             7.4,
             15,
             11.4,
             4.2,
             3.9
            ],
            "coloraxis": "coloraxis",
            "opacity": 0.5,
            "size": [
             21.6,
             3.9,
             7.4,
             15,
             11.4,
             4.2,
             3.9
            ],
            "sizemode": "area",
            "sizeref": 0.6502500000000001
           },
           "mode": "markers",
           "name": "",
           "showlegend": false,
           "subplot": "mapbox",
           "type": "scattermapbox"
          }
         ],
         "name": "2009-04-04"
        },
        {
         "data": [
          {
           "customdata": [
            [
             "Vegetationsbrand"
            ],
            [
             "Vegetationsbrand"
            ],
            [
             "Vegetationsbrand"
            ],
            [
             "Vegetationsbrand"
            ],
            [
             "Vegetationsbrand"
            ],
            [
             "Vegetationsbrand"
            ],
            [
             "Vegetationsbrand"
            ],
            [
             "Vegetationsbrand"
            ],
            [
             "Vegetationsbrand"
            ],
            [
             "Vegetationsbrand"
            ],
            [
             "Vegetationsbrand"
            ],
            [
             "Vegetationsbrand"
            ],
            [
             "Vegetationsbrand"
            ],
            [
             "Vegetationsbrand"
            ],
            [
             "Vegetationsbrand"
            ],
            [
             "Vegetationsbrand"
            ],
            [
             "Vegetationsbrand"
            ]
           ],
           "hovertemplate": "Datum=2009-04-06<br>Feuerintensität=%{marker.color}<br>Breitengrad=%{lat}<br>Längengrad=%{lon}<br>Typ=%{customdata[0]}<extra></extra>",
           "lat": [
            52.3589,
            51.7234,
            49.9968,
            49.9902,
            49.9431,
            49.816,
            47.743,
            51.1898,
            48.6388,
            47.7573,
            52.9425,
            51.466,
            52.9328,
            51.4638,
            52.9384,
            52.9443,
            52.8314
           ],
           "legendgroup": "",
           "lon": [
            8.8296,
            7.5199,
            9.0661,
            9.0485,
            9.1049,
            9.028,
            10.322,
            9.4911,
            10.1566,
            8.8684,
            10.0316,
            6.2585,
            10.076,
            6.2443,
            10.04,
            10.0482,
            9.8701
           ],
           "marker": {
            "color": [
             3,
             8.4,
             13.6,
             15,
             8.1,
             6.8,
             3.2,
             4.3,
             8.3,
             5.2,
             12.5,
             3.4,
             9.8,
             9.9,
             13.8,
             4.8,
             5.3
            ],
            "coloraxis": "coloraxis",
            "opacity": 0.5,
            "size": [
             3,
             8.4,
             13.6,
             15,
             8.1,
             6.8,
             3.2,
             4.3,
             8.3,
             5.2,
             12.5,
             3.4,
             9.8,
             9.9,
             13.8,
             4.8,
             5.3
            ],
            "sizemode": "area",
            "sizeref": 0.6502500000000001
           },
           "mode": "markers",
           "name": "",
           "showlegend": false,
           "subplot": "mapbox",
           "type": "scattermapbox"
          }
         ],
         "name": "2009-04-06"
        },
        {
         "data": [
          {
           "customdata": [
            [
             "Vegetationsbrand"
            ],
            [
             "Vegetationsbrand"
            ],
            [
             "Vegetationsbrand"
            ]
           ],
           "hovertemplate": "Datum=2009-04-07<br>Feuerintensität=%{marker.color}<br>Breitengrad=%{lat}<br>Längengrad=%{lon}<br>Typ=%{customdata[0]}<extra></extra>",
           "lat": [
            52.9432,
            52.9365,
            52.9391
           ],
           "legendgroup": "",
           "lon": [
            10.0534,
            10.0435,
            10.0397
           ],
           "marker": {
            "color": [
             43.6,
             33.1,
             19.2
            ],
            "coloraxis": "coloraxis",
            "opacity": 0.5,
            "size": [
             43.6,
             33.1,
             19.2
            ],
            "sizemode": "area",
            "sizeref": 0.6502500000000001
           },
           "mode": "markers",
           "name": "",
           "showlegend": false,
           "subplot": "mapbox",
           "type": "scattermapbox"
          }
         ],
         "name": "2009-04-07"
        },
        {
         "data": [
          {
           "customdata": [
            [
             "Vegetationsbrand"
            ],
            [
             "Vegetationsbrand"
            ]
           ],
           "hovertemplate": "Datum=2009-04-08<br>Feuerintensität=%{marker.color}<br>Breitengrad=%{lat}<br>Längengrad=%{lon}<br>Typ=%{customdata[0]}<extra></extra>",
           "lat": [
            48.1919,
            48.9762
           ],
           "legendgroup": "",
           "lon": [
            11.5979,
            12.1896
           ],
           "marker": {
            "color": [
             7.1,
             5.3
            ],
            "coloraxis": "coloraxis",
            "opacity": 0.5,
            "size": [
             7.1,
             5.3
            ],
            "sizemode": "area",
            "sizeref": 0.6502500000000001
           },
           "mode": "markers",
           "name": "",
           "showlegend": false,
           "subplot": "mapbox",
           "type": "scattermapbox"
          }
         ],
         "name": "2009-04-08"
        },
        {
         "data": [
          {
           "customdata": [
            [
             "Vegetationsbrand"
            ],
            [
             "Vegetationsbrand"
            ],
            [
             "Vegetationsbrand"
            ],
            [
             "Vegetationsbrand"
            ],
            [
             "Vegetationsbrand"
            ],
            [
             "Vegetationsbrand"
            ],
            [
             "Vegetationsbrand"
            ],
            [
             "Vegetationsbrand"
            ],
            [
             "Vegetationsbrand"
            ],
            [
             "Vegetationsbrand"
            ],
            [
             "Vegetationsbrand"
            ],
            [
             "Vegetationsbrand"
            ],
            [
             "Vegetationsbrand"
            ],
            [
             "Vegetationsbrand"
            ]
           ],
           "hovertemplate": "Datum=2009-04-10<br>Feuerintensität=%{marker.color}<br>Breitengrad=%{lat}<br>Längengrad=%{lon}<br>Typ=%{customdata[0]}<extra></extra>",
           "lat": [
            53.5138,
            48.5536,
            48.0761,
            48.0859,
            49.1641,
            49.9928,
            49.9961,
            50.7369,
            51.9458,
            51.5458,
            51.2423,
            52.48,
            52.4774,
            53.5073
           ],
           "legendgroup": "",
           "lon": [
            10.0371,
            12.5629,
            9.8034,
            9.799,
            9.9104,
            9.1791,
            9.1962,
            6.1763,
            10.6016,
            9.925,
            11.9667,
            10.0252,
            10.0097,
            10.0425
           ],
           "marker": {
            "color": [
             7.7,
             5.3,
             8.2,
             8.5,
             6.5,
             9.6,
             11,
             10.8,
             3.8,
             12.2,
             16.8,
             4.2,
             10.7,
             5.7
            ],
            "coloraxis": "coloraxis",
            "opacity": 0.5,
            "size": [
             7.7,
             5.3,
             8.2,
             8.5,
             6.5,
             9.6,
             11,
             10.8,
             3.8,
             12.2,
             16.8,
             4.2,
             10.7,
             5.7
            ],
            "sizemode": "area",
            "sizeref": 0.6502500000000001
           },
           "mode": "markers",
           "name": "",
           "showlegend": false,
           "subplot": "mapbox",
           "type": "scattermapbox"
          }
         ],
         "name": "2009-04-10"
        },
        {
         "data": [
          {
           "customdata": [
            [
             "Vegetationsbrand"
            ],
            [
             "Vegetationsbrand"
            ],
            [
             "Vegetationsbrand"
            ],
            [
             "Vegetationsbrand"
            ],
            [
             "Vegetationsbrand"
            ],
            [
             "Vegetationsbrand"
            ],
            [
             "Vegetationsbrand"
            ]
           ],
           "hovertemplate": "Datum=2009-04-11<br>Feuerintensität=%{marker.color}<br>Breitengrad=%{lat}<br>Längengrad=%{lon}<br>Typ=%{customdata[0]}<extra></extra>",
           "lat": [
            53.441,
            53.5081,
            48.7842,
            52.7581,
            51.6257,
            53.5595,
            51.8554
           ],
           "legendgroup": "",
           "lon": [
            10.2083,
            10.0354,
            9.2483,
            7.9803,
            7.3042,
            7.3668,
            14.1083
           ],
           "marker": {
            "color": [
             9.2,
             6.2,
             13.4,
             4.3,
             6.6,
             5.4,
             16.1
            ],
            "coloraxis": "coloraxis",
            "opacity": 0.5,
            "size": [
             9.2,
             6.2,
             13.4,
             4.3,
             6.6,
             5.4,
             16.1
            ],
            "sizemode": "area",
            "sizeref": 0.6502500000000001
           },
           "mode": "markers",
           "name": "",
           "showlegend": false,
           "subplot": "mapbox",
           "type": "scattermapbox"
          }
         ],
         "name": "2009-04-11"
        },
        {
         "data": [
          {
           "customdata": [
            [
             "Vegetationsbrand"
            ],
            [
             "Vegetationsbrand"
            ],
            [
             "Vegetationsbrand"
            ],
            [
             "Vegetationsbrand"
            ]
           ],
           "hovertemplate": "Datum=2009-04-13<br>Feuerintensität=%{marker.color}<br>Breitengrad=%{lat}<br>Längengrad=%{lon}<br>Typ=%{customdata[0]}<extra></extra>",
           "lat": [
            53.4504,
            53.1021,
            49.8135,
            49.8162
           ],
           "legendgroup": "",
           "lon": [
            10.2218,
            7.3719,
            9.0303,
            9.0152
           ],
           "marker": {
            "color": [
             3.2,
             5.8,
             26,
             12.8
            ],
            "coloraxis": "coloraxis",
            "opacity": 0.5,
            "size": [
             3.2,
             5.8,
             26,
             12.8
            ],
            "sizemode": "area",
            "sizeref": 0.6502500000000001
           },
           "mode": "markers",
           "name": "",
           "showlegend": false,
           "subplot": "mapbox",
           "type": "scattermapbox"
          }
         ],
         "name": "2009-04-13"
        },
        {
         "data": [
          {
           "customdata": [
            [
             "Vegetationsbrand"
            ],
            [
             "Vegetationsbrand"
            ]
           ],
           "hovertemplate": "Datum=2009-04-14<br>Feuerintensität=%{marker.color}<br>Breitengrad=%{lat}<br>Längengrad=%{lon}<br>Typ=%{customdata[0]}<extra></extra>",
           "lat": [
            53.4192,
            53.4138
           ],
           "legendgroup": "",
           "lon": [
            10.2094,
            10.1856
           ],
           "marker": {
            "color": [
             24,
             10.8
            ],
            "coloraxis": "coloraxis",
            "opacity": 0.5,
            "size": [
             24,
             10.8
            ],
            "sizemode": "area",
            "sizeref": 0.6502500000000001
           },
           "mode": "markers",
           "name": "",
           "showlegend": false,
           "subplot": "mapbox",
           "type": "scattermapbox"
          }
         ],
         "name": "2009-04-14"
        },
        {
         "data": [
          {
           "customdata": [
            [
             "Vegetationsbrand"
            ],
            [
             "Vegetationsbrand"
            ],
            [
             "Vegetationsbrand"
            ],
            [
             "Vegetationsbrand"
            ],
            [
             "Vegetationsbrand"
            ],
            [
             "Vegetationsbrand"
            ],
            [
             "Vegetationsbrand"
            ],
            [
             "Vegetationsbrand"
            ],
            [
             "Vegetationsbrand"
            ],
            [
             "Vegetationsbrand"
            ],
            [
             "Vegetationsbrand"
            ],
            [
             "Vegetationsbrand"
            ],
            [
             "Vegetationsbrand"
            ]
           ],
           "hovertemplate": "Datum=2009-04-15<br>Feuerintensität=%{marker.color}<br>Breitengrad=%{lat}<br>Längengrad=%{lon}<br>Typ=%{customdata[0]}<extra></extra>",
           "lat": [
            49.3608,
            49.3613,
            47.6013,
            49.9709,
            50.9135,
            48.9925,
            48.4762,
            48.9898,
            50.7981,
            49.7076,
            49.8124,
            48.7743,
            52.1185
           ],
           "legendgroup": "",
           "lon": [
            6.7479,
            6.7437,
            11.0509,
            10.8802,
            6.8301,
            11.8159,
            11.9406,
            11.8308,
            7.1545,
            11.7696,
            9.0237,
            8.1504,
            8.6466
           ],
           "marker": {
            "color": [
             30.7,
             27.1,
             4.8,
             5.7,
             6.3,
             10.6,
             6.7,
             18.3,
             6.3,
             13.4,
             10.1,
             18,
             4.6
            ],
            "coloraxis": "coloraxis",
            "opacity": 0.5,
            "size": [
             30.7,
             27.1,
             4.8,
             5.7,
             6.3,
             10.6,
             6.7,
             18.3,
             6.3,
             13.4,
             10.1,
             18,
             4.6
            ],
            "sizemode": "area",
            "sizeref": 0.6502500000000001
           },
           "mode": "markers",
           "name": "",
           "showlegend": false,
           "subplot": "mapbox",
           "type": "scattermapbox"
          }
         ],
         "name": "2009-04-15"
        },
        {
         "data": [
          {
           "customdata": [
            [
             "Vegetationsbrand"
            ],
            [
             "Vegetationsbrand"
            ]
           ],
           "hovertemplate": "Datum=2009-04-16<br>Feuerintensität=%{marker.color}<br>Breitengrad=%{lat}<br>Längengrad=%{lon}<br>Typ=%{customdata[0]}<extra></extra>",
           "lat": [
            53.0367,
            53.0289
           ],
           "legendgroup": "",
           "lon": [
            10.1975,
            10.2069
           ],
           "marker": {
            "color": [
             12.9,
             14.4
            ],
            "coloraxis": "coloraxis",
            "opacity": 0.5,
            "size": [
             12.9,
             14.4
            ],
            "sizemode": "area",
            "sizeref": 0.6502500000000001
           },
           "mode": "markers",
           "name": "",
           "showlegend": false,
           "subplot": "mapbox",
           "type": "scattermapbox"
          }
         ],
         "name": "2009-04-16"
        },
        {
         "data": [
          {
           "customdata": [
            [
             "Vegetationsbrand"
            ]
           ],
           "hovertemplate": "Datum=2009-04-17<br>Feuerintensität=%{marker.color}<br>Breitengrad=%{lat}<br>Längengrad=%{lon}<br>Typ=%{customdata[0]}<extra></extra>",
           "lat": [
            52.9756
           ],
           "legendgroup": "",
           "lon": [
            13.3493
           ],
           "marker": {
            "color": [
             7.7
            ],
            "coloraxis": "coloraxis",
            "opacity": 0.5,
            "size": [
             7.7
            ],
            "sizemode": "area",
            "sizeref": 0.6502500000000001
           },
           "mode": "markers",
           "name": "",
           "showlegend": false,
           "subplot": "mapbox",
           "type": "scattermapbox"
          }
         ],
         "name": "2009-04-17"
        },
        {
         "data": [
          {
           "customdata": [
            [
             "Vegetationsbrand"
            ],
            [
             "Vegetationsbrand"
            ],
            [
             "Vegetationsbrand"
            ],
            [
             "Vegetationsbrand"
            ]
           ],
           "hovertemplate": "Datum=2009-04-18<br>Feuerintensität=%{marker.color}<br>Breitengrad=%{lat}<br>Längengrad=%{lon}<br>Typ=%{customdata[0]}<extra></extra>",
           "lat": [
            51.4673,
            52.1477,
            52.5541,
            52.1581
           ],
           "legendgroup": "",
           "lon": [
            6.242,
            7.8587,
            7.6726,
            7.8495
           ],
           "marker": {
            "color": [
             4.6,
             18.9,
             7.2,
             11.1
            ],
            "coloraxis": "coloraxis",
            "opacity": 0.5,
            "size": [
             4.6,
             18.9,
             7.2,
             11.1
            ],
            "sizemode": "area",
            "sizeref": 0.6502500000000001
           },
           "mode": "markers",
           "name": "",
           "showlegend": false,
           "subplot": "mapbox",
           "type": "scattermapbox"
          }
         ],
         "name": "2009-04-18"
        },
        {
         "data": [
          {
           "customdata": [
            [
             "Vegetationsbrand"
            ],
            [
             "Vegetationsbrand"
            ],
            [
             "Vegetationsbrand"
            ]
           ],
           "hovertemplate": "Datum=2009-04-19<br>Feuerintensität=%{marker.color}<br>Breitengrad=%{lat}<br>Längengrad=%{lon}<br>Typ=%{customdata[0]}<extra></extra>",
           "lat": [
            53.5255,
            49.2464,
            48.4327
           ],
           "legendgroup": "",
           "lon": [
            9.9093,
            6.8616,
            13.3292
           ],
           "marker": {
            "color": [
             20.6,
             11.5,
             4.9
            ],
            "coloraxis": "coloraxis",
            "opacity": 0.5,
            "size": [
             20.6,
             11.5,
             4.9
            ],
            "sizemode": "area",
            "sizeref": 0.6502500000000001
           },
           "mode": "markers",
           "name": "",
           "showlegend": false,
           "subplot": "mapbox",
           "type": "scattermapbox"
          }
         ],
         "name": "2009-04-19"
        },
        {
         "data": [
          {
           "customdata": [
            [
             "Vegetationsbrand"
            ],
            [
             "Vegetationsbrand"
            ],
            [
             "Vegetationsbrand"
            ],
            [
             "Vegetationsbrand"
            ],
            [
             "Vegetationsbrand"
            ],
            [
             "Vegetationsbrand"
            ],
            [
             "Vegetationsbrand"
            ],
            [
             "Vegetationsbrand"
            ],
            [
             "Vegetationsbrand"
            ],
            [
             "Vegetationsbrand"
            ],
            [
             "Vegetationsbrand"
            ],
            [
             "Vegetationsbrand"
            ],
            [
             "Vegetationsbrand"
            ],
            [
             "Vegetationsbrand"
            ],
            [
             "Vegetationsbrand"
            ],
            [
             "Vegetationsbrand"
            ],
            [
             "Vegetationsbrand"
            ],
            [
             "Vegetationsbrand"
            ]
           ],
           "hovertemplate": "Datum=2009-04-20<br>Feuerintensität=%{marker.color}<br>Breitengrad=%{lat}<br>Längengrad=%{lon}<br>Typ=%{customdata[0]}<extra></extra>",
           "lat": [
            53.4436,
            53.4342,
            52.7875,
            52.7889,
            52.7936,
            49.8174,
            48.7874,
            49.2422,
            51.1491,
            49.4387,
            49.8187,
            51.4624,
            48.9447,
            50.0122,
            50.3658,
            47.8826,
            51.4633,
            51.1823
           ],
           "legendgroup": "",
           "lon": [
            10.2395,
            10.2346,
            9.8519,
            9.8586,
            9.7632,
            9.0359,
            9.2507,
            6.8506,
            6.7767,
            7.6952,
            9.0297,
            6.7461,
            8.3817,
            9.2871,
            10.6057,
            8.9824,
            6.739,
            7.2579
           ],
           "marker": {
            "color": [
             13,
             19.3,
             14.1,
             7.4,
             9,
             5.6,
             7.9,
             5.3,
             4.9,
             6,
             6.9,
             8.1,
             6.4,
             4.1,
             4.7,
             5.1,
             15.4,
             3
            ],
            "coloraxis": "coloraxis",
            "opacity": 0.5,
            "size": [
             13,
             19.3,
             14.1,
             7.4,
             9,
             5.6,
             7.9,
             5.3,
             4.9,
             6,
             6.9,
             8.1,
             6.4,
             4.1,
             4.7,
             5.1,
             15.4,
             3
            ],
            "sizemode": "area",
            "sizeref": 0.6502500000000001
           },
           "mode": "markers",
           "name": "",
           "showlegend": false,
           "subplot": "mapbox",
           "type": "scattermapbox"
          }
         ],
         "name": "2009-04-20"
        },
        {
         "data": [
          {
           "customdata": [
            [
             "Vegetationsbrand"
            ],
            [
             "Vegetationsbrand"
            ],
            [
             "Vegetationsbrand"
            ],
            [
             "Vegetationsbrand"
            ],
            [
             "Vegetationsbrand"
            ],
            [
             "Vegetationsbrand"
            ],
            [
             "Vegetationsbrand"
            ],
            [
             "Vegetationsbrand"
            ]
           ],
           "hovertemplate": "Datum=2009-04-21<br>Feuerintensität=%{marker.color}<br>Breitengrad=%{lat}<br>Längengrad=%{lon}<br>Typ=%{customdata[0]}<extra></extra>",
           "lat": [
            52.7869,
            52.7885,
            52.7849,
            51.4439,
            53.5185,
            54.2426,
            54.383,
            52.776
           ],
           "legendgroup": "",
           "lon": [
            9.7388,
            9.7465,
            9.7683,
            14.8628,
            9.9054,
            8.8996,
            9.6036,
            9.8113
           ],
           "marker": {
            "color": [
             21.5,
             31.9,
             12.8,
             11.3,
             12.3,
             12.5,
             9,
             8.3
            ],
            "coloraxis": "coloraxis",
            "opacity": 0.5,
            "size": [
             21.5,
             31.9,
             12.8,
             11.3,
             12.3,
             12.5,
             9,
             8.3
            ],
            "sizemode": "area",
            "sizeref": 0.6502500000000001
           },
           "mode": "markers",
           "name": "",
           "showlegend": false,
           "subplot": "mapbox",
           "type": "scattermapbox"
          }
         ],
         "name": "2009-04-21"
        },
        {
         "data": [
          {
           "customdata": [
            [
             "Vegetationsbrand"
            ],
            [
             "Vegetationsbrand"
            ],
            [
             "Vegetationsbrand"
            ],
            [
             "Vegetationsbrand"
            ]
           ],
           "hovertemplate": "Datum=2009-04-22<br>Feuerintensität=%{marker.color}<br>Breitengrad=%{lat}<br>Längengrad=%{lon}<br>Typ=%{customdata[0]}<extra></extra>",
           "lat": [
            49.8165,
            51.4621,
            51.3395,
            52.6612
           ],
           "legendgroup": "",
           "lon": [
            9.0241,
            6.7379,
            12.0612,
            7.2206
           ],
           "marker": {
            "color": [
             4.8,
             3.3,
             5.1,
             2.7
            ],
            "coloraxis": "coloraxis",
            "opacity": 0.5,
            "size": [
             4.8,
             3.3,
             5.1,
             2.7
            ],
            "sizemode": "area",
            "sizeref": 0.6502500000000001
           },
           "mode": "markers",
           "name": "",
           "showlegend": false,
           "subplot": "mapbox",
           "type": "scattermapbox"
          }
         ],
         "name": "2009-04-22"
        },
        {
         "data": [
          {
           "customdata": [
            [
             "Vegetationsbrand"
            ],
            [
             "Vegetationsbrand"
            ],
            [
             "Vegetationsbrand"
            ],
            [
             "Vegetationsbrand"
            ],
            [
             "Vegetationsbrand"
            ],
            [
             "Vegetationsbrand"
            ],
            [
             "Vegetationsbrand"
            ],
            [
             "Vegetationsbrand"
            ],
            [
             "Vegetationsbrand"
            ],
            [
             "Vegetationsbrand"
            ],
            [
             "Vegetationsbrand"
            ]
           ],
           "hovertemplate": "Datum=2009-04-24<br>Feuerintensität=%{marker.color}<br>Breitengrad=%{lat}<br>Längengrad=%{lon}<br>Typ=%{customdata[0]}<extra></extra>",
           "lat": [
            48.0861,
            49.346,
            48.4678,
            50.2459,
            51.5135,
            49.2771,
            50.6344,
            49.2386,
            51.0257,
            53.5595,
            53.4431
           ],
           "legendgroup": "",
           "lon": [
            9.8039,
            6.7316,
            11.9403,
            12.0268,
            6.9701,
            7.1056,
            9.3977,
            6.843,
            8.6797,
            9.9724,
            10.1333
           ],
           "marker": {
            "color": [
             6.8,
             7.8,
             11.2,
             2.8,
             6.2,
             4,
             3.3,
             8.2,
             5.3,
             2.7,
             4.6
            ],
            "coloraxis": "coloraxis",
            "opacity": 0.5,
            "size": [
             6.8,
             7.8,
             11.2,
             2.8,
             6.2,
             4,
             3.3,
             8.2,
             5.3,
             2.7,
             4.6
            ],
            "sizemode": "area",
            "sizeref": 0.6502500000000001
           },
           "mode": "markers",
           "name": "",
           "showlegend": false,
           "subplot": "mapbox",
           "type": "scattermapbox"
          }
         ],
         "name": "2009-04-24"
        },
        {
         "data": [
          {
           "customdata": [
            [
             "Vegetationsbrand"
            ],
            [
             "Vegetationsbrand"
            ]
           ],
           "hovertemplate": "Datum=2009-04-25<br>Feuerintensität=%{marker.color}<br>Breitengrad=%{lat}<br>Längengrad=%{lon}<br>Typ=%{customdata[0]}<extra></extra>",
           "lat": [
            48.9839,
            51.6929
           ],
           "legendgroup": "",
           "lon": [
            12.1962,
            7.4737
           ],
           "marker": {
            "color": [
             25.9,
             3.8
            ],
            "coloraxis": "coloraxis",
            "opacity": 0.5,
            "size": [
             25.9,
             3.8
            ],
            "sizemode": "area",
            "sizeref": 0.6502500000000001
           },
           "mode": "markers",
           "name": "",
           "showlegend": false,
           "subplot": "mapbox",
           "type": "scattermapbox"
          }
         ],
         "name": "2009-04-25"
        },
        {
         "data": [
          {
           "customdata": [
            [
             "Vegetationsbrand"
            ]
           ],
           "hovertemplate": "Datum=2009-04-26<br>Feuerintensität=%{marker.color}<br>Breitengrad=%{lat}<br>Längengrad=%{lon}<br>Typ=%{customdata[0]}<extra></extra>",
           "lat": [
            52.1545
           ],
           "legendgroup": "",
           "lon": [
            10.3974
           ],
           "marker": {
            "color": [
             6
            ],
            "coloraxis": "coloraxis",
            "opacity": 0.5,
            "size": [
             6
            ],
            "sizemode": "area",
            "sizeref": 0.6502500000000001
           },
           "mode": "markers",
           "name": "",
           "showlegend": false,
           "subplot": "mapbox",
           "type": "scattermapbox"
          }
         ],
         "name": "2009-04-26"
        },
        {
         "data": [
          {
           "customdata": [
            [
             "Vegetationsbrand"
            ],
            [
             "Vegetationsbrand"
            ],
            [
             "Vegetationsbrand"
            ]
           ],
           "hovertemplate": "Datum=2009-04-28<br>Feuerintensität=%{marker.color}<br>Breitengrad=%{lat}<br>Längengrad=%{lon}<br>Typ=%{customdata[0]}<extra></extra>",
           "lat": [
            52.1446,
            52.1492,
            52.1468
           ],
           "legendgroup": "",
           "lon": [
            13.8855,
            13.8857,
            13.8707
           ],
           "marker": {
            "color": [
             7.1,
             8,
             8.1
            ],
            "coloraxis": "coloraxis",
            "opacity": 0.5,
            "size": [
             7.1,
             8,
             8.1
            ],
            "sizemode": "area",
            "sizeref": 0.6502500000000001
           },
           "mode": "markers",
           "name": "",
           "showlegend": false,
           "subplot": "mapbox",
           "type": "scattermapbox"
          }
         ],
         "name": "2009-04-28"
        },
        {
         "data": [
          {
           "customdata": [
            [
             "Vegetationsbrand"
            ]
           ],
           "hovertemplate": "Datum=2009-04-30<br>Feuerintensität=%{marker.color}<br>Breitengrad=%{lat}<br>Längengrad=%{lon}<br>Typ=%{customdata[0]}<extra></extra>",
           "lat": [
            53.9701
           ],
           "legendgroup": "",
           "lon": [
            10.2044
           ],
           "marker": {
            "color": [
             6.5
            ],
            "coloraxis": "coloraxis",
            "opacity": 0.5,
            "size": [
             6.5
            ],
            "sizemode": "area",
            "sizeref": 0.6502500000000001
           },
           "mode": "markers",
           "name": "",
           "showlegend": false,
           "subplot": "mapbox",
           "type": "scattermapbox"
          }
         ],
         "name": "2009-04-30"
        },
        {
         "data": [
          {
           "customdata": [
            [
             "Vegetationsbrand"
            ],
            [
             "Vegetationsbrand"
            ],
            [
             "Vegetationsbrand"
            ],
            [
             "Vegetationsbrand"
            ],
            [
             "Vegetationsbrand"
            ],
            [
             "Vegetationsbrand"
            ],
            [
             "Vegetationsbrand"
            ],
            [
             "Vegetationsbrand"
            ],
            [
             "Vegetationsbrand"
            ],
            [
             "Vegetationsbrand"
            ],
            [
             "Vegetationsbrand"
            ],
            [
             "Vegetationsbrand"
            ],
            [
             "Vegetationsbrand"
            ]
           ],
           "hovertemplate": "Datum=2009-05-01<br>Feuerintensität=%{marker.color}<br>Breitengrad=%{lat}<br>Längengrad=%{lon}<br>Typ=%{customdata[0]}<extra></extra>",
           "lat": [
            51.3835,
            51.1499,
            52.4377,
            49.9819,
            48.3895,
            48.0734,
            48.1335,
            48.0809,
            49.2845,
            49.8097,
            50.9873,
            53.8539,
            53.8449
           ],
           "legendgroup": "",
           "lon": [
            12.6259,
            6.7694,
            10.7775,
            9.154,
            10.0368,
            11.5083,
            11.698,
            9.8135,
            8.2721,
            9.0246,
            7.1245,
            9.9276,
            9.9309
           ],
           "marker": {
            "color": [
             4.9,
             4.6,
             10.8,
             3.8,
             7.5,
             10.9,
             3.3,
             4,
             4.6,
             3.8,
             3.7,
             8.9,
             6.8
            ],
            "coloraxis": "coloraxis",
            "opacity": 0.5,
            "size": [
             4.9,
             4.6,
             10.8,
             3.8,
             7.5,
             10.9,
             3.3,
             4,
             4.6,
             3.8,
             3.7,
             8.9,
             6.8
            ],
            "sizemode": "area",
            "sizeref": 0.6502500000000001
           },
           "mode": "markers",
           "name": "",
           "showlegend": false,
           "subplot": "mapbox",
           "type": "scattermapbox"
          }
         ],
         "name": "2009-05-01"
        },
        {
         "data": [
          {
           "customdata": [
            [
             "Vegetationsbrand"
            ],
            [
             "Vegetationsbrand"
            ],
            [
             "Vegetationsbrand"
            ]
           ],
           "hovertemplate": "Datum=2009-05-02<br>Feuerintensität=%{marker.color}<br>Breitengrad=%{lat}<br>Längengrad=%{lon}<br>Typ=%{customdata[0]}<extra></extra>",
           "lat": [
            51.4925,
            53.4225,
            53.57
           ],
           "legendgroup": "",
           "lon": [
            6.7235,
            10.2058,
            14.0183
           ],
           "marker": {
            "color": [
             29.3,
             14.3,
             11.4
            ],
            "coloraxis": "coloraxis",
            "opacity": 0.5,
            "size": [
             29.3,
             14.3,
             11.4
            ],
            "sizemode": "area",
            "sizeref": 0.6502500000000001
           },
           "mode": "markers",
           "name": "",
           "showlegend": false,
           "subplot": "mapbox",
           "type": "scattermapbox"
          }
         ],
         "name": "2009-05-02"
        },
        {
         "data": [
          {
           "customdata": [
            [
             "Vegetationsbrand"
            ],
            [
             "Vegetationsbrand"
            ],
            [
             "Vegetationsbrand"
            ],
            [
             "Vegetationsbrand"
            ],
            [
             "Vegetationsbrand"
            ],
            [
             "Vegetationsbrand"
            ],
            [
             "Vegetationsbrand"
            ],
            [
             "Vegetationsbrand"
            ],
            [
             "Vegetationsbrand"
            ],
            [
             "Vegetationsbrand"
            ],
            [
             "Vegetationsbrand"
            ]
           ],
           "hovertemplate": "Datum=2009-05-03<br>Feuerintensität=%{marker.color}<br>Breitengrad=%{lat}<br>Längengrad=%{lon}<br>Typ=%{customdata[0]}<extra></extra>",
           "lat": [
            53.6814,
            53.6221,
            51.9328,
            51.7537,
            51.3271,
            48.6457,
            48.0892,
            48.4324,
            48.0818,
            48.4303,
            51.1523
           ],
           "legendgroup": "",
           "lon": [
            13.2984,
            14.1369,
            14.4064,
            13.3491,
            12.6558,
            12.4709,
            9.7991,
            13.3355,
            9.8066,
            13.3335,
            12.5946
           ],
           "marker": {
            "color": [
             5.4,
             6.1,
             15,
             4,
             6.7,
             6.3,
             6.1,
             11.4,
             13,
             4.3,
             4.4
            ],
            "coloraxis": "coloraxis",
            "opacity": 0.5,
            "size": [
             5.4,
             6.1,
             15,
             4,
             6.7,
             6.3,
             6.1,
             11.4,
             13,
             4.3,
             4.4
            ],
            "sizemode": "area",
            "sizeref": 0.6502500000000001
           },
           "mode": "markers",
           "name": "",
           "showlegend": false,
           "subplot": "mapbox",
           "type": "scattermapbox"
          }
         ],
         "name": "2009-05-03"
        },
        {
         "data": [
          {
           "customdata": [
            [
             "Vegetationsbrand"
            ]
           ],
           "hovertemplate": "Datum=2009-05-04<br>Feuerintensität=%{marker.color}<br>Breitengrad=%{lat}<br>Längengrad=%{lon}<br>Typ=%{customdata[0]}<extra></extra>",
           "lat": [
            52.1683
           ],
           "legendgroup": "",
           "lon": [
            10.4157
           ],
           "marker": {
            "color": [
             20.4
            ],
            "coloraxis": "coloraxis",
            "opacity": 0.5,
            "size": [
             20.4
            ],
            "sizemode": "area",
            "sizeref": 0.6502500000000001
           },
           "mode": "markers",
           "name": "",
           "showlegend": false,
           "subplot": "mapbox",
           "type": "scattermapbox"
          }
         ],
         "name": "2009-05-04"
        },
        {
         "data": [
          {
           "customdata": [
            [
             "Vegetationsbrand"
            ]
           ],
           "hovertemplate": "Datum=2009-05-07<br>Feuerintensität=%{marker.color}<br>Breitengrad=%{lat}<br>Längengrad=%{lon}<br>Typ=%{customdata[0]}<extra></extra>",
           "lat": [
            50.2697
           ],
           "legendgroup": "",
           "lon": [
            8.9716
           ],
           "marker": {
            "color": [
             6.9
            ],
            "coloraxis": "coloraxis",
            "opacity": 0.5,
            "size": [
             6.9
            ],
            "sizemode": "area",
            "sizeref": 0.6502500000000001
           },
           "mode": "markers",
           "name": "",
           "showlegend": false,
           "subplot": "mapbox",
           "type": "scattermapbox"
          }
         ],
         "name": "2009-05-07"
        },
        {
         "data": [
          {
           "customdata": [
            [
             "Vegetationsbrand"
            ],
            [
             "Vegetationsbrand"
            ]
           ],
           "hovertemplate": "Datum=2009-05-08<br>Feuerintensität=%{marker.color}<br>Breitengrad=%{lat}<br>Längengrad=%{lon}<br>Typ=%{customdata[0]}<extra></extra>",
           "lat": [
            51.9067,
            48.7818
           ],
           "legendgroup": "",
           "lon": [
            8.4225,
            9.2431
           ],
           "marker": {
            "color": [
             4.7,
             9.6
            ],
            "coloraxis": "coloraxis",
            "opacity": 0.5,
            "size": [
             4.7,
             9.6
            ],
            "sizemode": "area",
            "sizeref": 0.6502500000000001
           },
           "mode": "markers",
           "name": "",
           "showlegend": false,
           "subplot": "mapbox",
           "type": "scattermapbox"
          }
         ],
         "name": "2009-05-08"
        },
        {
         "data": [
          {
           "customdata": [
            [
             "Vegetationsbrand"
            ],
            [
             "Vegetationsbrand"
            ],
            [
             "Vegetationsbrand"
            ],
            [
             "Vegetationsbrand"
            ],
            [
             "Vegetationsbrand"
            ],
            [
             "Vegetationsbrand"
            ],
            [
             "Vegetationsbrand"
            ],
            [
             "Vegetationsbrand"
            ],
            [
             "Vegetationsbrand"
            ],
            [
             "Vegetationsbrand"
            ],
            [
             "Vegetationsbrand"
            ],
            [
             "Vegetationsbrand"
            ]
           ],
           "hovertemplate": "Datum=2009-05-10<br>Feuerintensität=%{marker.color}<br>Breitengrad=%{lat}<br>Längengrad=%{lon}<br>Typ=%{customdata[0]}<extra></extra>",
           "lat": [
            53.2214,
            54.0091,
            51.5491,
            48.4346,
            50.8793,
            51.0266,
            51.6595,
            51.9459,
            51.9209,
            54.5379,
            53.5144,
            53.9275
           ],
           "legendgroup": "",
           "lon": [
            13.6933,
            12.0541,
            9.936,
            13.3438,
            7.6236,
            8.6806,
            14.0967,
            11.3055,
            8.5928,
            9.3158,
            9.9048,
            13.4372
           ],
           "marker": {
            "color": [
             10.3,
             5.2,
             10.2,
             6.1,
             2.6,
             8,
             3.9,
             2.1,
             3.5,
             2.6,
             7.8,
             3.7
            ],
            "coloraxis": "coloraxis",
            "opacity": 0.5,
            "size": [
             10.3,
             5.2,
             10.2,
             6.1,
             2.6,
             8,
             3.9,
             2.1,
             3.5,
             2.6,
             7.8,
             3.7
            ],
            "sizemode": "area",
            "sizeref": 0.6502500000000001
           },
           "mode": "markers",
           "name": "",
           "showlegend": false,
           "subplot": "mapbox",
           "type": "scattermapbox"
          }
         ],
         "name": "2009-05-10"
        },
        {
         "data": [
          {
           "customdata": [
            [
             "Vegetationsbrand"
            ]
           ],
           "hovertemplate": "Datum=2009-05-11<br>Feuerintensität=%{marker.color}<br>Breitengrad=%{lat}<br>Längengrad=%{lon}<br>Typ=%{customdata[0]}<extra></extra>",
           "lat": [
            53.5226
           ],
           "legendgroup": "",
           "lon": [
            9.9013
           ],
           "marker": {
            "color": [
             12
            ],
            "coloraxis": "coloraxis",
            "opacity": 0.5,
            "size": [
             12
            ],
            "sizemode": "area",
            "sizeref": 0.6502500000000001
           },
           "mode": "markers",
           "name": "",
           "showlegend": false,
           "subplot": "mapbox",
           "type": "scattermapbox"
          }
         ],
         "name": "2009-05-11"
        },
        {
         "data": [
          {
           "customdata": [
            [
             "Vegetationsbrand"
            ],
            [
             "Vegetationsbrand"
            ],
            [
             "Vegetationsbrand"
            ],
            [
             "Vegetationsbrand"
            ],
            [
             "Vegetationsbrand"
            ],
            [
             "Vegetationsbrand"
            ],
            [
             "Vegetationsbrand"
            ],
            [
             "Vegetationsbrand"
            ]
           ],
           "hovertemplate": "Datum=2009-05-12<br>Feuerintensität=%{marker.color}<br>Breitengrad=%{lat}<br>Längengrad=%{lon}<br>Typ=%{customdata[0]}<extra></extra>",
           "lat": [
            54.2894,
            51.9814,
            52.582,
            51.9014,
            52.1295,
            53.5569,
            52.3314,
            53.1383
           ],
           "legendgroup": "",
           "lon": [
            12.4954,
            12.8992,
            14.5731,
            10.8588,
            14.2349,
            9.9698,
            10.2382,
            8.6841
           ],
           "marker": {
            "color": [
             5.7,
             3.8,
             3.8,
             6.6,
             3.7,
             4,
             2.8,
             9.5
            ],
            "coloraxis": "coloraxis",
            "opacity": 0.5,
            "size": [
             5.7,
             3.8,
             3.8,
             6.6,
             3.7,
             4,
             2.8,
             9.5
            ],
            "sizemode": "area",
            "sizeref": 0.6502500000000001
           },
           "mode": "markers",
           "name": "",
           "showlegend": false,
           "subplot": "mapbox",
           "type": "scattermapbox"
          }
         ],
         "name": "2009-05-12"
        },
        {
         "data": [
          {
           "customdata": [
            [
             "Vegetationsbrand"
            ],
            [
             "Vegetationsbrand"
            ],
            [
             "Vegetationsbrand"
            ],
            [
             "Vegetationsbrand"
            ],
            [
             "Vegetationsbrand"
            ],
            [
             "Vegetationsbrand"
            ]
           ],
           "hovertemplate": "Datum=2009-05-14<br>Feuerintensität=%{marker.color}<br>Breitengrad=%{lat}<br>Längengrad=%{lon}<br>Typ=%{customdata[0]}<extra></extra>",
           "lat": [
            51.8797,
            53.2239,
            52.4683,
            53.7172,
            52.9381,
            53.218
           ],
           "legendgroup": "",
           "lon": [
            14.6421,
            13.6838,
            12.5912,
            14.0654,
            13.4239,
            13.692
           ],
           "marker": {
            "color": [
             3.5,
             8.5,
             4.9,
             3.5,
             5.8,
             12.5
            ],
            "coloraxis": "coloraxis",
            "opacity": 0.5,
            "size": [
             3.5,
             8.5,
             4.9,
             3.5,
             5.8,
             12.5
            ],
            "sizemode": "area",
            "sizeref": 0.6502500000000001
           },
           "mode": "markers",
           "name": "",
           "showlegend": false,
           "subplot": "mapbox",
           "type": "scattermapbox"
          }
         ],
         "name": "2009-05-14"
        },
        {
         "data": [
          {
           "customdata": [
            [
             "Vegetationsbrand"
            ],
            [
             "Vegetationsbrand"
            ]
           ],
           "hovertemplate": "Datum=2009-05-15<br>Feuerintensität=%{marker.color}<br>Breitengrad=%{lat}<br>Längengrad=%{lon}<br>Typ=%{customdata[0]}<extra></extra>",
           "lat": [
            51.6101,
            52.4365
           ],
           "legendgroup": "",
           "lon": [
            14.229,
            14.4257
           ],
           "marker": {
            "color": [
             34.6,
             6.6
            ],
            "coloraxis": "coloraxis",
            "opacity": 0.5,
            "size": [
             34.6,
             6.6
            ],
            "sizemode": "area",
            "sizeref": 0.6502500000000001
           },
           "mode": "markers",
           "name": "",
           "showlegend": false,
           "subplot": "mapbox",
           "type": "scattermapbox"
          }
         ],
         "name": "2009-05-15"
        },
        {
         "data": [
          {
           "customdata": [
            [
             "Vegetationsbrand"
            ],
            [
             "Vegetationsbrand"
            ],
            [
             "Vegetationsbrand"
            ]
           ],
           "hovertemplate": "Datum=2009-05-17<br>Feuerintensität=%{marker.color}<br>Breitengrad=%{lat}<br>Längengrad=%{lon}<br>Typ=%{customdata[0]}<extra></extra>",
           "lat": [
            50.0292,
            48.8594,
            48.7849
           ],
           "legendgroup": "",
           "lon": [
            10.2137,
            8.1774,
            11.4062
           ],
           "marker": {
            "color": [
             5.1,
             7.4,
             9.3
            ],
            "coloraxis": "coloraxis",
            "opacity": 0.5,
            "size": [
             5.1,
             7.4,
             9.3
            ],
            "sizemode": "area",
            "sizeref": 0.6502500000000001
           },
           "mode": "markers",
           "name": "",
           "showlegend": false,
           "subplot": "mapbox",
           "type": "scattermapbox"
          }
         ],
         "name": "2009-05-17"
        },
        {
         "data": [
          {
           "customdata": [
            [
             "Vegetationsbrand"
            ]
           ],
           "hovertemplate": "Datum=2009-05-18<br>Feuerintensität=%{marker.color}<br>Breitengrad=%{lat}<br>Längengrad=%{lon}<br>Typ=%{customdata[0]}<extra></extra>",
           "lat": [
            51.4972
           ],
           "legendgroup": "",
           "lon": [
            6.75
           ],
           "marker": {
            "color": [
             10
            ],
            "coloraxis": "coloraxis",
            "opacity": 0.5,
            "size": [
             10
            ],
            "sizemode": "area",
            "sizeref": 0.6502500000000001
           },
           "mode": "markers",
           "name": "",
           "showlegend": false,
           "subplot": "mapbox",
           "type": "scattermapbox"
          }
         ],
         "name": "2009-05-18"
        },
        {
         "data": [
          {
           "customdata": [
            [
             "Vegetationsbrand"
            ],
            [
             "Vegetationsbrand"
            ],
            [
             "Vegetationsbrand"
            ],
            [
             "Vegetationsbrand"
            ],
            [
             "Vegetationsbrand"
            ],
            [
             "Vegetationsbrand"
            ],
            [
             "Vegetationsbrand"
            ],
            [
             "Vegetationsbrand"
            ],
            [
             "Vegetationsbrand"
            ]
           ],
           "hovertemplate": "Datum=2009-05-19<br>Feuerintensität=%{marker.color}<br>Breitengrad=%{lat}<br>Längengrad=%{lon}<br>Typ=%{customdata[0]}<extra></extra>",
           "lat": [
            51.3276,
            49.3856,
            48.433,
            49.0451,
            48.7876,
            48.391,
            47.8051,
            53.5103,
            51.7385
           ],
           "legendgroup": "",
           "lon": [
            12.6548,
            12.142,
            13.3346,
            8.285,
            10.108,
            10.0389,
            10.8794,
            10.033,
            13.759
           ],
           "marker": {
            "color": [
             4.8,
             2.8,
             5.6,
             8.3,
             4,
             7.5,
             3.2,
             3.9,
             4.3
            ],
            "coloraxis": "coloraxis",
            "opacity": 0.5,
            "size": [
             4.8,
             2.8,
             5.6,
             8.3,
             4,
             7.5,
             3.2,
             3.9,
             4.3
            ],
            "sizemode": "area",
            "sizeref": 0.6502500000000001
           },
           "mode": "markers",
           "name": "",
           "showlegend": false,
           "subplot": "mapbox",
           "type": "scattermapbox"
          }
         ],
         "name": "2009-05-19"
        },
        {
         "data": [
          {
           "customdata": [
            [
             "Vegetationsbrand"
            ]
           ],
           "hovertemplate": "Datum=2009-05-20<br>Feuerintensität=%{marker.color}<br>Breitengrad=%{lat}<br>Längengrad=%{lon}<br>Typ=%{customdata[0]}<extra></extra>",
           "lat": [
            48.6977
           ],
           "legendgroup": "",
           "lon": [
            8.9973
           ],
           "marker": {
            "color": [
             13.1
            ],
            "coloraxis": "coloraxis",
            "opacity": 0.5,
            "size": [
             13.1
            ],
            "sizemode": "area",
            "sizeref": 0.6502500000000001
           },
           "mode": "markers",
           "name": "",
           "showlegend": false,
           "subplot": "mapbox",
           "type": "scattermapbox"
          }
         ],
         "name": "2009-05-20"
        },
        {
         "data": [
          {
           "customdata": [
            [
             "Vegetationsbrand"
            ]
           ],
           "hovertemplate": "Datum=2009-05-21<br>Feuerintensität=%{marker.color}<br>Breitengrad=%{lat}<br>Längengrad=%{lon}<br>Typ=%{customdata[0]}<extra></extra>",
           "lat": [
            51.4968
           ],
           "legendgroup": "",
           "lon": [
            6.7389
           ],
           "marker": {
            "color": [
             5.4
            ],
            "coloraxis": "coloraxis",
            "opacity": 0.5,
            "size": [
             5.4
            ],
            "sizemode": "area",
            "sizeref": 0.6502500000000001
           },
           "mode": "markers",
           "name": "",
           "showlegend": false,
           "subplot": "mapbox",
           "type": "scattermapbox"
          }
         ],
         "name": "2009-05-21"
        },
        {
         "data": [
          {
           "customdata": [
            [
             "Vegetationsbrand"
            ],
            [
             "Vegetationsbrand"
            ],
            [
             "Vegetationsbrand"
            ]
           ],
           "hovertemplate": "Datum=2009-05-22<br>Feuerintensität=%{marker.color}<br>Breitengrad=%{lat}<br>Längengrad=%{lon}<br>Typ=%{customdata[0]}<extra></extra>",
           "lat": [
            51.4311,
            51.1526,
            50.9195
           ],
           "legendgroup": "",
           "lon": [
            6.7448,
            6.769,
            6.5233
           ],
           "marker": {
            "color": [
             12.5,
             6.7,
             4.9
            ],
            "coloraxis": "coloraxis",
            "opacity": 0.5,
            "size": [
             12.5,
             6.7,
             4.9
            ],
            "sizemode": "area",
            "sizeref": 0.6502500000000001
           },
           "mode": "markers",
           "name": "",
           "showlegend": false,
           "subplot": "mapbox",
           "type": "scattermapbox"
          }
         ],
         "name": "2009-05-22"
        },
        {
         "data": [
          {
           "customdata": [
            [
             "Vegetationsbrand"
            ],
            [
             "Vegetationsbrand"
            ],
            [
             "Vegetationsbrand"
            ],
            [
             "Vegetationsbrand"
            ],
            [
             "Vegetationsbrand"
            ]
           ],
           "hovertemplate": "Datum=2009-05-23<br>Feuerintensität=%{marker.color}<br>Breitengrad=%{lat}<br>Längengrad=%{lon}<br>Typ=%{customdata[0]}<extra></extra>",
           "lat": [
            48.8162,
            51.024,
            51.9833,
            54.0411,
            52.6769
           ],
           "legendgroup": "",
           "lon": [
            13.5441,
            8.6718,
            13.3508,
            11.6768,
            12.1677
           ],
           "marker": {
            "color": [
             6.4,
             7.7,
             3.4,
             4.9,
             5.4
            ],
            "coloraxis": "coloraxis",
            "opacity": 0.5,
            "size": [
             6.4,
             7.7,
             3.4,
             4.9,
             5.4
            ],
            "sizemode": "area",
            "sizeref": 0.6502500000000001
           },
           "mode": "markers",
           "name": "",
           "showlegend": false,
           "subplot": "mapbox",
           "type": "scattermapbox"
          }
         ],
         "name": "2009-05-23"
        },
        {
         "data": [
          {
           "customdata": [
            [
             "Vegetationsbrand"
            ],
            [
             "Vegetationsbrand"
            ],
            [
             "Vegetationsbrand"
            ],
            [
             "Vegetationsbrand"
            ]
           ],
           "hovertemplate": "Datum=2009-05-24<br>Feuerintensität=%{marker.color}<br>Breitengrad=%{lat}<br>Längengrad=%{lon}<br>Typ=%{customdata[0]}<extra></extra>",
           "lat": [
            51.6564,
            49.7236,
            49.2427,
            51.1498
           ],
           "legendgroup": "",
           "lon": [
            11.5047,
            6.5971,
            6.8465,
            6.769
           ],
           "marker": {
            "color": [
             8,
             5.2,
             9.2,
             7.4
            ],
            "coloraxis": "coloraxis",
            "opacity": 0.5,
            "size": [
             8,
             5.2,
             9.2,
             7.4
            ],
            "sizemode": "area",
            "sizeref": 0.6502500000000001
           },
           "mode": "markers",
           "name": "",
           "showlegend": false,
           "subplot": "mapbox",
           "type": "scattermapbox"
          }
         ],
         "name": "2009-05-24"
        },
        {
         "data": [
          {
           "customdata": [
            [
             "Vegetationsbrand"
            ],
            [
             "Vegetationsbrand"
            ],
            [
             "Vegetationsbrand"
            ],
            [
             "Vegetationsbrand"
            ]
           ],
           "hovertemplate": "Datum=2009-05-25<br>Feuerintensität=%{marker.color}<br>Breitengrad=%{lat}<br>Längengrad=%{lon}<br>Typ=%{customdata[0]}<extra></extra>",
           "lat": [
            50.9359,
            53.1379,
            52.7641,
            51.49
           ],
           "legendgroup": "",
           "lon": [
            10.7176,
            8.6765,
            13.8897,
            6.7189
           ],
           "marker": {
            "color": [
             23.7,
             17.8,
             6.3,
             7.7
            ],
            "coloraxis": "coloraxis",
            "opacity": 0.5,
            "size": [
             23.7,
             17.8,
             6.3,
             7.7
            ],
            "sizemode": "area",
            "sizeref": 0.6502500000000001
           },
           "mode": "markers",
           "name": "",
           "showlegend": false,
           "subplot": "mapbox",
           "type": "scattermapbox"
          }
         ],
         "name": "2009-05-25"
        },
        {
         "data": [
          {
           "customdata": [
            [
             "Vegetationsbrand"
            ],
            [
             "Vegetationsbrand"
            ],
            [
             "Vegetationsbrand"
            ],
            [
             "Vegetationsbrand"
            ]
           ],
           "hovertemplate": "Datum=2009-05-26<br>Feuerintensität=%{marker.color}<br>Breitengrad=%{lat}<br>Längengrad=%{lon}<br>Typ=%{customdata[0]}<extra></extra>",
           "lat": [
            48.1909,
            48.1348,
            48.1361,
            48.386
           ],
           "legendgroup": "",
           "lon": [
            11.6496,
            11.7016,
            11.6955,
            10.0356
           ],
           "marker": {
            "color": [
             6.1,
             5.9,
             4.9,
             8.5
            ],
            "coloraxis": "coloraxis",
            "opacity": 0.5,
            "size": [
             6.1,
             5.9,
             4.9,
             8.5
            ],
            "sizemode": "area",
            "sizeref": 0.6502500000000001
           },
           "mode": "markers",
           "name": "",
           "showlegend": false,
           "subplot": "mapbox",
           "type": "scattermapbox"
          }
         ],
         "name": "2009-05-26"
        },
        {
         "data": [
          {
           "customdata": [
            [
             "Vegetationsbrand"
            ]
           ],
           "hovertemplate": "Datum=2009-05-27<br>Feuerintensität=%{marker.color}<br>Breitengrad=%{lat}<br>Längengrad=%{lon}<br>Typ=%{customdata[0]}<extra></extra>",
           "lat": [
            51.4889
           ],
           "legendgroup": "",
           "lon": [
            6.7104
           ],
           "marker": {
            "color": [
             7.1
            ],
            "coloraxis": "coloraxis",
            "opacity": 0.5,
            "size": [
             7.1
            ],
            "sizemode": "area",
            "sizeref": 0.6502500000000001
           },
           "mode": "markers",
           "name": "",
           "showlegend": false,
           "subplot": "mapbox",
           "type": "scattermapbox"
          }
         ],
         "name": "2009-05-27"
        },
        {
         "data": [
          {
           "customdata": [
            [
             "Vegetationsbrand"
            ]
           ],
           "hovertemplate": "Datum=2009-05-28<br>Feuerintensität=%{marker.color}<br>Breitengrad=%{lat}<br>Längengrad=%{lon}<br>Typ=%{customdata[0]}<extra></extra>",
           "lat": [
            53.1161
           ],
           "legendgroup": "",
           "lon": [
            9.701
           ],
           "marker": {
            "color": [
             2.9
            ],
            "coloraxis": "coloraxis",
            "opacity": 0.5,
            "size": [
             2.9
            ],
            "sizemode": "area",
            "sizeref": 0.6502500000000001
           },
           "mode": "markers",
           "name": "",
           "showlegend": false,
           "subplot": "mapbox",
           "type": "scattermapbox"
          }
         ],
         "name": "2009-05-28"
        },
        {
         "data": [
          {
           "customdata": [
            [
             "Vegetationsbrand"
            ],
            [
             "Vegetationsbrand"
            ],
            [
             "Vegetationsbrand"
            ],
            [
             "Vegetationsbrand"
            ],
            [
             "Vegetationsbrand"
            ],
            [
             "Vegetationsbrand"
            ]
           ],
           "hovertemplate": "Datum=2009-05-29<br>Feuerintensität=%{marker.color}<br>Breitengrad=%{lat}<br>Längengrad=%{lon}<br>Typ=%{customdata[0]}<extra></extra>",
           "lat": [
            53.1378,
            49.2443,
            49.2473,
            49.2449,
            49.2431,
            51.5184
           ],
           "legendgroup": "",
           "lon": [
            8.6975,
            6.8578,
            6.8417,
            6.8525,
            6.8371,
            6.9656
           ],
           "marker": {
            "color": [
             12,
             18.2,
             13.8,
             15.4,
             10.9,
             7
            ],
            "coloraxis": "coloraxis",
            "opacity": 0.5,
            "size": [
             12,
             18.2,
             13.8,
             15.4,
             10.9,
             7
            ],
            "sizemode": "area",
            "sizeref": 0.6502500000000001
           },
           "mode": "markers",
           "name": "",
           "showlegend": false,
           "subplot": "mapbox",
           "type": "scattermapbox"
          }
         ],
         "name": "2009-05-29"
        },
        {
         "data": [
          {
           "customdata": [
            [
             "Vegetationsbrand"
            ],
            [
             "Vegetationsbrand"
            ]
           ],
           "hovertemplate": "Datum=2009-05-31<br>Feuerintensität=%{marker.color}<br>Breitengrad=%{lat}<br>Längengrad=%{lon}<br>Typ=%{customdata[0]}<extra></extra>",
           "lat": [
            51.3716,
            51.365
           ],
           "legendgroup": "",
           "lon": [
            6.7111,
            6.6907
           ],
           "marker": {
            "color": [
             36,
             14.5
            ],
            "coloraxis": "coloraxis",
            "opacity": 0.5,
            "size": [
             36,
             14.5
            ],
            "sizemode": "area",
            "sizeref": 0.6502500000000001
           },
           "mode": "markers",
           "name": "",
           "showlegend": false,
           "subplot": "mapbox",
           "type": "scattermapbox"
          }
         ],
         "name": "2009-05-31"
        },
        {
         "data": [
          {
           "customdata": [
            [
             "Vegetationsbrand"
            ],
            [
             "Vegetationsbrand"
            ]
           ],
           "hovertemplate": "Datum=2009-06-01<br>Feuerintensität=%{marker.color}<br>Breitengrad=%{lat}<br>Längengrad=%{lon}<br>Typ=%{customdata[0]}<extra></extra>",
           "lat": [
            52.1345,
            52.4019
           ],
           "legendgroup": "",
           "lon": [
            10.9982,
            12.4957
           ],
           "marker": {
            "color": [
             10.6,
             6.3
            ],
            "coloraxis": "coloraxis",
            "opacity": 0.5,
            "size": [
             10.6,
             6.3
            ],
            "sizemode": "area",
            "sizeref": 0.6502500000000001
           },
           "mode": "markers",
           "name": "",
           "showlegend": false,
           "subplot": "mapbox",
           "type": "scattermapbox"
          }
         ],
         "name": "2009-06-01"
        },
        {
         "data": [
          {
           "customdata": [
            [
             "Vegetationsbrand"
            ],
            [
             "Vegetationsbrand"
            ],
            [
             "Vegetationsbrand"
            ],
            [
             "Vegetationsbrand"
            ],
            [
             "Vegetationsbrand"
            ],
            [
             "Vegetationsbrand"
            ],
            [
             "Vegetationsbrand"
            ],
            [
             "Vegetationsbrand"
            ],
            [
             "Vegetationsbrand"
            ]
           ],
           "hovertemplate": "Datum=2009-06-02<br>Feuerintensität=%{marker.color}<br>Breitengrad=%{lat}<br>Längengrad=%{lon}<br>Typ=%{customdata[0]}<extra></extra>",
           "lat": [
            51.7505,
            51.9105,
            49.2446,
            49.2464,
            50.0827,
            51.4847,
            52.9529,
            52.156,
            52.8154
           ],
           "legendgroup": "",
           "lon": [
            11.9899,
            8.4217,
            6.8554,
            6.8413,
            8.4436,
            7.3197,
            7.2125,
            10.3968,
            7.1047
           ],
           "marker": {
            "color": [
             6.8,
             8.4,
             22.4,
             10,
             5.4,
             5.8,
             14.1,
             8.8,
             6.3
            ],
            "coloraxis": "coloraxis",
            "opacity": 0.5,
            "size": [
             6.8,
             8.4,
             22.4,
             10,
             5.4,
             5.8,
             14.1,
             8.8,
             6.3
            ],
            "sizemode": "area",
            "sizeref": 0.6502500000000001
           },
           "mode": "markers",
           "name": "",
           "showlegend": false,
           "subplot": "mapbox",
           "type": "scattermapbox"
          }
         ],
         "name": "2009-06-02"
        },
        {
         "data": [
          {
           "customdata": [
            [
             "Vegetationsbrand"
            ],
            [
             "Vegetationsbrand"
            ]
           ],
           "hovertemplate": "Datum=2009-06-03<br>Feuerintensität=%{marker.color}<br>Breitengrad=%{lat}<br>Längengrad=%{lon}<br>Typ=%{customdata[0]}<extra></extra>",
           "lat": [
            49.2463,
            50.0422
           ],
           "legendgroup": "",
           "lon": [
            6.8525,
            10.2236
           ],
           "marker": {
            "color": [
             10.7,
             11.9
            ],
            "coloraxis": "coloraxis",
            "opacity": 0.5,
            "size": [
             10.7,
             11.9
            ],
            "sizemode": "area",
            "sizeref": 0.6502500000000001
           },
           "mode": "markers",
           "name": "",
           "showlegend": false,
           "subplot": "mapbox",
           "type": "scattermapbox"
          }
         ],
         "name": "2009-06-03"
        },
        {
         "data": [
          {
           "customdata": [
            [
             "Vegetationsbrand"
            ]
           ],
           "hovertemplate": "Datum=2009-06-04<br>Feuerintensität=%{marker.color}<br>Breitengrad=%{lat}<br>Längengrad=%{lon}<br>Typ=%{customdata[0]}<extra></extra>",
           "lat": [
            53.5185
           ],
           "legendgroup": "",
           "lon": [
            9.9053
           ],
           "marker": {
            "color": [
             18.1
            ],
            "coloraxis": "coloraxis",
            "opacity": 0.5,
            "size": [
             18.1
            ],
            "sizemode": "area",
            "sizeref": 0.6502500000000001
           },
           "mode": "markers",
           "name": "",
           "showlegend": false,
           "subplot": "mapbox",
           "type": "scattermapbox"
          }
         ],
         "name": "2009-06-04"
        },
        {
         "data": [
          {
           "customdata": [
            [
             "Vegetationsbrand"
            ],
            [
             "Vegetationsbrand"
            ],
            [
             "Vegetationsbrand"
            ]
           ],
           "hovertemplate": "Datum=2009-06-09<br>Feuerintensität=%{marker.color}<br>Breitengrad=%{lat}<br>Längengrad=%{lon}<br>Typ=%{customdata[0]}<extra></extra>",
           "lat": [
            48.9414,
            48.8715,
            49.3577
           ],
           "legendgroup": "",
           "lon": [
            8.3789,
            9.3896,
            6.747
           ],
           "marker": {
            "color": [
             7.8,
             2.7,
             9.2
            ],
            "coloraxis": "coloraxis",
            "opacity": 0.5,
            "size": [
             7.8,
             2.7,
             9.2
            ],
            "sizemode": "area",
            "sizeref": 0.6502500000000001
           },
           "mode": "markers",
           "name": "",
           "showlegend": false,
           "subplot": "mapbox",
           "type": "scattermapbox"
          }
         ],
         "name": "2009-06-09"
        },
        {
         "data": [
          {
           "customdata": [
            [
             "Vegetationsbrand"
            ]
           ],
           "hovertemplate": "Datum=2009-06-10<br>Feuerintensität=%{marker.color}<br>Breitengrad=%{lat}<br>Längengrad=%{lon}<br>Typ=%{customdata[0]}<extra></extra>",
           "lat": [
            52.1565
           ],
           "legendgroup": "",
           "lon": [
            10.3972
           ],
           "marker": {
            "color": [
             8.4
            ],
            "coloraxis": "coloraxis",
            "opacity": 0.5,
            "size": [
             8.4
            ],
            "sizemode": "area",
            "sizeref": 0.6502500000000001
           },
           "mode": "markers",
           "name": "",
           "showlegend": false,
           "subplot": "mapbox",
           "type": "scattermapbox"
          }
         ],
         "name": "2009-06-10"
        },
        {
         "data": [
          {
           "customdata": [
            [
             "Vegetationsbrand"
            ],
            [
             "Vegetationsbrand"
            ]
           ],
           "hovertemplate": "Datum=2009-06-11<br>Feuerintensität=%{marker.color}<br>Breitengrad=%{lat}<br>Längengrad=%{lon}<br>Typ=%{customdata[0]}<extra></extra>",
           "lat": [
            48.8803,
            48.8778
           ],
           "legendgroup": "",
           "lon": [
            8.2888,
            8.274
           ],
           "marker": {
            "color": [
             8,
             21.1
            ],
            "coloraxis": "coloraxis",
            "opacity": 0.5,
            "size": [
             8,
             21.1
            ],
            "sizemode": "area",
            "sizeref": 0.6502500000000001
           },
           "mode": "markers",
           "name": "",
           "showlegend": false,
           "subplot": "mapbox",
           "type": "scattermapbox"
          }
         ],
         "name": "2009-06-11"
        },
        {
         "data": [
          {
           "customdata": [
            [
             "Vegetationsbrand"
            ],
            [
             "Vegetationsbrand"
            ],
            [
             "Vegetationsbrand"
            ],
            [
             "Vegetationsbrand"
            ],
            [
             "Vegetationsbrand"
            ],
            [
             "Vegetationsbrand"
            ],
            [
             "Vegetationsbrand"
            ],
            [
             "Vegetationsbrand"
            ],
            [
             "Vegetationsbrand"
            ],
            [
             "Vegetationsbrand"
            ]
           ],
           "hovertemplate": "Datum=2009-06-13<br>Feuerintensität=%{marker.color}<br>Breitengrad=%{lat}<br>Längengrad=%{lon}<br>Typ=%{customdata[0]}<extra></extra>",
           "lat": [
            52.203,
            53.0891,
            51.7722,
            51.1458,
            51.9582,
            51.6125,
            53.1487,
            52.5638,
            52.9201,
            51.4926
           ],
           "legendgroup": "",
           "lon": [
            12.2893,
            14.2433,
            14.5336,
            14.7928,
            12.9691,
            14.1931,
            11.348,
            11.2501,
            11.4963,
            6.7207
           ],
           "marker": {
            "color": [
             5.4,
             5.1,
             4.4,
             8.1,
             5.1,
             4.4,
             2.8,
             3.3,
             3.2,
             8.5
            ],
            "coloraxis": "coloraxis",
            "opacity": 0.5,
            "size": [
             5.4,
             5.1,
             4.4,
             8.1,
             5.1,
             4.4,
             2.8,
             3.3,
             3.2,
             8.5
            ],
            "sizemode": "area",
            "sizeref": 0.6502500000000001
           },
           "mode": "markers",
           "name": "",
           "showlegend": false,
           "subplot": "mapbox",
           "type": "scattermapbox"
          }
         ],
         "name": "2009-06-13"
        },
        {
         "data": [
          {
           "customdata": [
            [
             "Vegetationsbrand"
            ]
           ],
           "hovertemplate": "Datum=2009-06-14<br>Feuerintensität=%{marker.color}<br>Breitengrad=%{lat}<br>Längengrad=%{lon}<br>Typ=%{customdata[0]}<extra></extra>",
           "lat": [
            52.4152
           ],
           "legendgroup": "",
           "lon": [
            12.1565
           ],
           "marker": {
            "color": [
             16.3
            ],
            "coloraxis": "coloraxis",
            "opacity": 0.5,
            "size": [
             16.3
            ],
            "sizemode": "area",
            "sizeref": 0.6502500000000001
           },
           "mode": "markers",
           "name": "",
           "showlegend": false,
           "subplot": "mapbox",
           "type": "scattermapbox"
          }
         ],
         "name": "2009-06-14"
        },
        {
         "data": [
          {
           "customdata": [
            [
             "Vegetationsbrand"
            ]
           ],
           "hovertemplate": "Datum=2009-06-15<br>Feuerintensität=%{marker.color}<br>Breitengrad=%{lat}<br>Längengrad=%{lon}<br>Typ=%{customdata[0]}<extra></extra>",
           "lat": [
            51.49
           ],
           "legendgroup": "",
           "lon": [
            6.7098
           ],
           "marker": {
            "color": [
             6.6
            ],
            "coloraxis": "coloraxis",
            "opacity": 0.5,
            "size": [
             6.6
            ],
            "sizemode": "area",
            "sizeref": 0.6502500000000001
           },
           "mode": "markers",
           "name": "",
           "showlegend": false,
           "subplot": "mapbox",
           "type": "scattermapbox"
          }
         ],
         "name": "2009-06-15"
        },
        {
         "data": [
          {
           "customdata": [
            [
             "Vegetationsbrand"
            ],
            [
             "Vegetationsbrand"
            ]
           ],
           "hovertemplate": "Datum=2009-06-16<br>Feuerintensität=%{marker.color}<br>Breitengrad=%{lat}<br>Längengrad=%{lon}<br>Typ=%{customdata[0]}<extra></extra>",
           "lat": [
            48.7824,
            49.0711
           ],
           "legendgroup": "",
           "lon": [
            9.2385,
            9.149
           ],
           "marker": {
            "color": [
             7.4,
             3.6
            ],
            "coloraxis": "coloraxis",
            "opacity": 0.5,
            "size": [
             7.4,
             3.6
            ],
            "sizemode": "area",
            "sizeref": 0.6502500000000001
           },
           "mode": "markers",
           "name": "",
           "showlegend": false,
           "subplot": "mapbox",
           "type": "scattermapbox"
          }
         ],
         "name": "2009-06-16"
        },
        {
         "data": [
          {
           "customdata": [
            [
             "Vegetationsbrand"
            ],
            [
             "Vegetationsbrand"
            ]
           ],
           "hovertemplate": "Datum=2009-06-17<br>Feuerintensität=%{marker.color}<br>Breitengrad=%{lat}<br>Längengrad=%{lon}<br>Typ=%{customdata[0]}<extra></extra>",
           "lat": [
            50.7483,
            51.4516
           ],
           "legendgroup": "",
           "lon": [
            13.0673,
            11.7051
           ],
           "marker": {
            "color": [
             4.4,
             4.5
            ],
            "coloraxis": "coloraxis",
            "opacity": 0.5,
            "size": [
             4.4,
             4.5
            ],
            "sizemode": "area",
            "sizeref": 0.6502500000000001
           },
           "mode": "markers",
           "name": "",
           "showlegend": false,
           "subplot": "mapbox",
           "type": "scattermapbox"
          }
         ],
         "name": "2009-06-17"
        },
        {
         "data": [
          {
           "customdata": [
            [
             "Vegetationsbrand"
            ],
            [
             "Vegetationsbrand"
            ],
            [
             "Vegetationsbrand"
            ],
            [
             "Vegetationsbrand"
            ],
            [
             "Vegetationsbrand"
            ],
            [
             "Vegetationsbrand"
            ],
            [
             "Vegetationsbrand"
            ],
            [
             "Vegetationsbrand"
            ]
           ],
           "hovertemplate": "Datum=2009-06-18<br>Feuerintensität=%{marker.color}<br>Breitengrad=%{lat}<br>Längengrad=%{lon}<br>Typ=%{customdata[0]}<extra></extra>",
           "lat": [
            48.7863,
            48.723,
            47.7594,
            47.7557,
            48.2861,
            52.4533,
            53.1844,
            51.5133
           ],
           "legendgroup": "",
           "lon": [
            11.4111,
            11.1798,
            8.8574,
            8.8567,
            11.571,
            11.5959,
            11.1898,
            6.9642
           ],
           "marker": {
            "color": [
             9.7,
             8.6,
             8.7,
             8.7,
             5.9,
             8,
             4.6,
             6
            ],
            "coloraxis": "coloraxis",
            "opacity": 0.5,
            "size": [
             9.7,
             8.6,
             8.7,
             8.7,
             5.9,
             8,
             4.6,
             6
            ],
            "sizemode": "area",
            "sizeref": 0.6502500000000001
           },
           "mode": "markers",
           "name": "",
           "showlegend": false,
           "subplot": "mapbox",
           "type": "scattermapbox"
          }
         ],
         "name": "2009-06-18"
        },
        {
         "data": [
          {
           "customdata": [
            [
             "Vegetationsbrand"
            ]
           ],
           "hovertemplate": "Datum=2009-06-19<br>Feuerintensität=%{marker.color}<br>Breitengrad=%{lat}<br>Längengrad=%{lon}<br>Typ=%{customdata[0]}<extra></extra>",
           "lat": [
            52.1558
           ],
           "legendgroup": "",
           "lon": [
            10.3958
           ],
           "marker": {
            "color": [
             10.6
            ],
            "coloraxis": "coloraxis",
            "opacity": 0.5,
            "size": [
             10.6
            ],
            "sizemode": "area",
            "sizeref": 0.6502500000000001
           },
           "mode": "markers",
           "name": "",
           "showlegend": false,
           "subplot": "mapbox",
           "type": "scattermapbox"
          }
         ],
         "name": "2009-06-19"
        },
        {
         "data": [
          {
           "customdata": [
            [
             "Vegetationsbrand"
            ]
           ],
           "hovertemplate": "Datum=2009-06-20<br>Feuerintensität=%{marker.color}<br>Breitengrad=%{lat}<br>Längengrad=%{lon}<br>Typ=%{customdata[0]}<extra></extra>",
           "lat": [
            49.3491
           ],
           "legendgroup": "",
           "lon": [
            11.1552
           ],
           "marker": {
            "color": [
             4.6
            ],
            "coloraxis": "coloraxis",
            "opacity": 0.5,
            "size": [
             4.6
            ],
            "sizemode": "area",
            "sizeref": 0.6502500000000001
           },
           "mode": "markers",
           "name": "",
           "showlegend": false,
           "subplot": "mapbox",
           "type": "scattermapbox"
          }
         ],
         "name": "2009-06-20"
        },
        {
         "data": [
          {
           "customdata": [
            [
             "Vegetationsbrand"
            ],
            [
             "Vegetationsbrand"
            ]
           ],
           "hovertemplate": "Datum=2009-06-22<br>Feuerintensität=%{marker.color}<br>Breitengrad=%{lat}<br>Längengrad=%{lon}<br>Typ=%{customdata[0]}<extra></extra>",
           "lat": [
            54.3318,
            49.3551
           ],
           "legendgroup": "",
           "lon": [
            13.0652,
            6.7477
           ],
           "marker": {
            "color": [
             11.7,
             8.5
            ],
            "coloraxis": "coloraxis",
            "opacity": 0.5,
            "size": [
             11.7,
             8.5
            ],
            "sizemode": "area",
            "sizeref": 0.6502500000000001
           },
           "mode": "markers",
           "name": "",
           "showlegend": false,
           "subplot": "mapbox",
           "type": "scattermapbox"
          }
         ],
         "name": "2009-06-22"
        },
        {
         "data": [
          {
           "customdata": [
            [
             "Vegetationsbrand"
            ],
            [
             "Vegetationsbrand"
            ],
            [
             "Vegetationsbrand"
            ],
            [
             "Vegetationsbrand"
            ],
            [
             "Vegetationsbrand"
            ]
           ],
           "hovertemplate": "Datum=2009-06-23<br>Feuerintensität=%{marker.color}<br>Breitengrad=%{lat}<br>Längengrad=%{lon}<br>Typ=%{customdata[0]}<extra></extra>",
           "lat": [
            51.4872,
            53.5126,
            53.5071,
            51.1541,
            51.153
           ],
           "legendgroup": "",
           "lon": [
            7.3168,
            9.8871,
            9.8957,
            6.7773,
            6.7746
           ],
           "marker": {
            "color": [
             7.8,
             9.3,
             8.4,
             4.5,
             5.3
            ],
            "coloraxis": "coloraxis",
            "opacity": 0.5,
            "size": [
             7.8,
             9.3,
             8.4,
             4.5,
             5.3
            ],
            "sizemode": "area",
            "sizeref": 0.6502500000000001
           },
           "mode": "markers",
           "name": "",
           "showlegend": false,
           "subplot": "mapbox",
           "type": "scattermapbox"
          }
         ],
         "name": "2009-06-23"
        },
        {
         "data": [
          {
           "customdata": [
            [
             "Vegetationsbrand"
            ],
            [
             "Vegetationsbrand"
            ],
            [
             "Vegetationsbrand"
            ]
           ],
           "hovertemplate": "Datum=2009-06-24<br>Feuerintensität=%{marker.color}<br>Breitengrad=%{lat}<br>Längengrad=%{lon}<br>Typ=%{customdata[0]}<extra></extra>",
           "lat": [
            52.7906,
            53.056,
            52.7911
           ],
           "legendgroup": "",
           "lon": [
            9.7532,
            10.1038,
            9.7581
           ],
           "marker": {
            "color": [
             14,
             8.7,
             12.3
            ],
            "coloraxis": "coloraxis",
            "opacity": 0.5,
            "size": [
             14,
             8.7,
             12.3
            ],
            "sizemode": "area",
            "sizeref": 0.6502500000000001
           },
           "mode": "markers",
           "name": "",
           "showlegend": false,
           "subplot": "mapbox",
           "type": "scattermapbox"
          }
         ],
         "name": "2009-06-24"
        },
        {
         "data": [
          {
           "customdata": [
            [
             "Vegetationsbrand"
            ],
            [
             "Vegetationsbrand"
            ],
            [
             "Vegetationsbrand"
            ]
           ],
           "hovertemplate": "Datum=2009-06-25<br>Feuerintensität=%{marker.color}<br>Breitengrad=%{lat}<br>Längengrad=%{lon}<br>Typ=%{customdata[0]}<extra></extra>",
           "lat": [
            53.1393,
            52.7964,
            51.4883
           ],
           "legendgroup": "",
           "lon": [
            8.6871,
            9.8174,
            6.7128
           ],
           "marker": {
            "color": [
             15.1,
             7.1,
             10.1
            ],
            "coloraxis": "coloraxis",
            "opacity": 0.5,
            "size": [
             15.1,
             7.1,
             10.1
            ],
            "sizemode": "area",
            "sizeref": 0.6502500000000001
           },
           "mode": "markers",
           "name": "",
           "showlegend": false,
           "subplot": "mapbox",
           "type": "scattermapbox"
          }
         ],
         "name": "2009-06-25"
        },
        {
         "data": [
          {
           "customdata": [
            [
             "Vegetationsbrand"
            ],
            [
             "Vegetationsbrand"
            ],
            [
             "Vegetationsbrand"
            ],
            [
             "Vegetationsbrand"
            ]
           ],
           "hovertemplate": "Datum=2009-06-27<br>Feuerintensität=%{marker.color}<br>Breitengrad=%{lat}<br>Längengrad=%{lon}<br>Typ=%{customdata[0]}<extra></extra>",
           "lat": [
            54.3358,
            48.8774,
            48.9389,
            48.8749
           ],
           "legendgroup": "",
           "lon": [
            13.067,
            8.2836,
            8.3782,
            8.2688
           ],
           "marker": {
            "color": [
             13.2,
             24.2,
             10.1,
             11.4
            ],
            "coloraxis": "coloraxis",
            "opacity": 0.5,
            "size": [
             13.2,
             24.2,
             10.1,
             11.4
            ],
            "sizemode": "area",
            "sizeref": 0.6502500000000001
           },
           "mode": "markers",
           "name": "",
           "showlegend": false,
           "subplot": "mapbox",
           "type": "scattermapbox"
          }
         ],
         "name": "2009-06-27"
        },
        {
         "data": [
          {
           "customdata": [
            [
             "Vegetationsbrand"
            ],
            [
             "Vegetationsbrand"
            ],
            [
             "Vegetationsbrand"
            ]
           ],
           "hovertemplate": "Datum=2009-06-29<br>Feuerintensität=%{marker.color}<br>Breitengrad=%{lat}<br>Längengrad=%{lon}<br>Typ=%{customdata[0]}<extra></extra>",
           "lat": [
            51.8396,
            49.3566,
            52.1582
           ],
           "legendgroup": "",
           "lon": [
            6.2713,
            6.742,
            10.3929
           ],
           "marker": {
            "color": [
             7,
             5,
             9.8
            ],
            "coloraxis": "coloraxis",
            "opacity": 0.5,
            "size": [
             7,
             5,
             9.8
            ],
            "sizemode": "area",
            "sizeref": 0.6502500000000001
           },
           "mode": "markers",
           "name": "",
           "showlegend": false,
           "subplot": "mapbox",
           "type": "scattermapbox"
          }
         ],
         "name": "2009-06-29"
        },
        {
         "data": [
          {
           "customdata": [
            [
             "Vegetationsbrand"
            ],
            [
             "Vegetationsbrand"
            ],
            [
             "Vegetationsbrand"
            ],
            [
             "Vegetationsbrand"
            ],
            [
             "Vegetationsbrand"
            ],
            [
             "Vegetationsbrand"
            ]
           ],
           "hovertemplate": "Datum=2009-06-30<br>Feuerintensität=%{marker.color}<br>Breitengrad=%{lat}<br>Längengrad=%{lon}<br>Typ=%{customdata[0]}<extra></extra>",
           "lat": [
            51.4893,
            51.4835,
            49.7237,
            49.7255,
            49.4733,
            52.1566
           ],
           "legendgroup": "",
           "lon": [
            6.7138,
            7.3145,
            6.6008,
            6.6081,
            11.2265,
            10.3917
           ],
           "marker": {
            "color": [
             22.3,
             7.9,
             11.5,
             10.7,
             9.9,
             15
            ],
            "coloraxis": "coloraxis",
            "opacity": 0.5,
            "size": [
             22.3,
             7.9,
             11.5,
             10.7,
             9.9,
             15
            ],
            "sizemode": "area",
            "sizeref": 0.6502500000000001
           },
           "mode": "markers",
           "name": "",
           "showlegend": false,
           "subplot": "mapbox",
           "type": "scattermapbox"
          }
         ],
         "name": "2009-06-30"
        },
        {
         "data": [
          {
           "customdata": [
            [
             "Vegetationsbrand"
            ],
            [
             "Vegetationsbrand"
            ],
            [
             "Vegetationsbrand"
            ],
            [
             "Vegetationsbrand"
            ],
            [
             "Vegetationsbrand"
            ],
            [
             "Vegetationsbrand"
            ],
            [
             "Vegetationsbrand"
            ]
           ],
           "hovertemplate": "Datum=2009-07-01<br>Feuerintensität=%{marker.color}<br>Breitengrad=%{lat}<br>Längengrad=%{lon}<br>Typ=%{customdata[0]}<extra></extra>",
           "lat": [
            51.4877,
            52.1549,
            52.0482,
            53.2233,
            52.1633,
            49.3601,
            52.1593
           ],
           "legendgroup": "",
           "lon": [
            6.7161,
            10.394,
            10.3729,
            13.6861,
            14.6149,
            6.7437,
            10.3969
           ],
           "marker": {
            "color": [
             34.7,
             13.3,
             5.9,
             11,
             12,
             5.3,
             5.5
            ],
            "coloraxis": "coloraxis",
            "opacity": 0.5,
            "size": [
             34.7,
             13.3,
             5.9,
             11,
             12,
             5.3,
             5.5
            ],
            "sizemode": "area",
            "sizeref": 0.6502500000000001
           },
           "mode": "markers",
           "name": "",
           "showlegend": false,
           "subplot": "mapbox",
           "type": "scattermapbox"
          }
         ],
         "name": "2009-07-01"
        },
        {
         "data": [
          {
           "customdata": [
            [
             "Vegetationsbrand"
            ],
            [
             "Vegetationsbrand"
            ],
            [
             "Vegetationsbrand"
            ],
            [
             "Vegetationsbrand"
            ],
            [
             "Vegetationsbrand"
            ],
            [
             "Vegetationsbrand"
            ],
            [
             "Vegetationsbrand"
            ],
            [
             "Vegetationsbrand"
            ],
            [
             "Vegetationsbrand"
            ]
           ],
           "hovertemplate": "Datum=2009-07-02<br>Feuerintensität=%{marker.color}<br>Breitengrad=%{lat}<br>Längengrad=%{lon}<br>Typ=%{customdata[0]}<extra></extra>",
           "lat": [
            49.9715,
            51.0321,
            49.7224,
            47.7599,
            48.3598,
            47.7571,
            47.7189,
            48.776,
            51.6008
           ],
           "legendgroup": "",
           "lon": [
            9.0694,
            8.6785,
            6.6029,
            10.327,
            9.9429,
            8.862,
            9.3925,
            9.2423,
            7.0191
           ],
           "marker": {
            "color": [
             9.8,
             8,
             6.5,
             6.4,
             9.6,
             6.6,
             5.5,
             9.1,
             13.5
            ],
            "coloraxis": "coloraxis",
            "opacity": 0.5,
            "size": [
             9.8,
             8,
             6.5,
             6.4,
             9.6,
             6.6,
             5.5,
             9.1,
             13.5
            ],
            "sizemode": "area",
            "sizeref": 0.6502500000000001
           },
           "mode": "markers",
           "name": "",
           "showlegend": false,
           "subplot": "mapbox",
           "type": "scattermapbox"
          }
         ],
         "name": "2009-07-02"
        },
        {
         "data": [
          {
           "customdata": [
            [
             "Vegetationsbrand"
            ],
            [
             "Vegetationsbrand"
            ]
           ],
           "hovertemplate": "Datum=2009-07-03<br>Feuerintensität=%{marker.color}<br>Breitengrad=%{lat}<br>Längengrad=%{lon}<br>Typ=%{customdata[0]}<extra></extra>",
           "lat": [
            52.6809,
            51.7497
           ],
           "legendgroup": "",
           "lon": [
            9.3545,
            11.9847
           ],
           "marker": {
            "color": [
             25.3,
             6.7
            ],
            "coloraxis": "coloraxis",
            "opacity": 0.5,
            "size": [
             25.3,
             6.7
            ],
            "sizemode": "area",
            "sizeref": 0.6502500000000001
           },
           "mode": "markers",
           "name": "",
           "showlegend": false,
           "subplot": "mapbox",
           "type": "scattermapbox"
          }
         ],
         "name": "2009-07-03"
        },
        {
         "data": [
          {
           "customdata": [
            [
             "Vegetationsbrand"
            ],
            [
             "Vegetationsbrand"
            ],
            [
             "Vegetationsbrand"
            ],
            [
             "Vegetationsbrand"
            ],
            [
             "Vegetationsbrand"
            ]
           ],
           "hovertemplate": "Datum=2009-07-04<br>Feuerintensität=%{marker.color}<br>Breitengrad=%{lat}<br>Längengrad=%{lon}<br>Typ=%{customdata[0]}<extra></extra>",
           "lat": [
            49.0523,
            48.7894,
            48.9727,
            52.0323,
            51.4877
           ],
           "legendgroup": "",
           "lon": [
            8.2895,
            11.4097,
            12.165,
            13.4179,
            6.7103
           ],
           "marker": {
            "color": [
             8.7,
             6.6,
             9.4,
             7.4,
             14.8
            ],
            "coloraxis": "coloraxis",
            "opacity": 0.5,
            "size": [
             8.7,
             6.6,
             9.4,
             7.4,
             14.8
            ],
            "sizemode": "area",
            "sizeref": 0.6502500000000001
           },
           "mode": "markers",
           "name": "",
           "showlegend": false,
           "subplot": "mapbox",
           "type": "scattermapbox"
          }
         ],
         "name": "2009-07-04"
        },
        {
         "data": [
          {
           "customdata": [
            [
             "Vegetationsbrand"
            ],
            [
             "Vegetationsbrand"
            ],
            [
             "Vegetationsbrand"
            ]
           ],
           "hovertemplate": "Datum=2009-07-06<br>Feuerintensität=%{marker.color}<br>Breitengrad=%{lat}<br>Längengrad=%{lon}<br>Typ=%{customdata[0]}<extra></extra>",
           "lat": [
            51.7785,
            53.1674,
            52.6653
           ],
           "legendgroup": "",
           "lon": [
            9.3796,
            8.6385,
            8.1278
           ],
           "marker": {
            "color": [
             4.6,
             4,
             4.1
            ],
            "coloraxis": "coloraxis",
            "opacity": 0.5,
            "size": [
             4.6,
             4,
             4.1
            ],
            "sizemode": "area",
            "sizeref": 0.6502500000000001
           },
           "mode": "markers",
           "name": "",
           "showlegend": false,
           "subplot": "mapbox",
           "type": "scattermapbox"
          }
         ],
         "name": "2009-07-06"
        },
        {
         "data": [
          {
           "customdata": [
            [
             "Vegetationsbrand"
            ]
           ],
           "hovertemplate": "Datum=2009-07-07<br>Feuerintensität=%{marker.color}<br>Breitengrad=%{lat}<br>Längengrad=%{lon}<br>Typ=%{customdata[0]}<extra></extra>",
           "lat": [
            51.4907
           ],
           "legendgroup": "",
           "lon": [
            6.7201
           ],
           "marker": {
            "color": [
             45.6
            ],
            "coloraxis": "coloraxis",
            "opacity": 0.5,
            "size": [
             45.6
            ],
            "sizemode": "area",
            "sizeref": 0.6502500000000001
           },
           "mode": "markers",
           "name": "",
           "showlegend": false,
           "subplot": "mapbox",
           "type": "scattermapbox"
          }
         ],
         "name": "2009-07-07"
        },
        {
         "data": [
          {
           "customdata": [
            [
             "Vegetationsbrand"
            ],
            [
             "Vegetationsbrand"
            ]
           ],
           "hovertemplate": "Datum=2009-07-09<br>Feuerintensität=%{marker.color}<br>Breitengrad=%{lat}<br>Längengrad=%{lon}<br>Typ=%{customdata[0]}<extra></extra>",
           "lat": [
            48.9467,
            51.2005
           ],
           "legendgroup": "",
           "lon": [
            8.3772,
            8.7004
           ],
           "marker": {
            "color": [
             5.6,
             13.4
            ],
            "coloraxis": "coloraxis",
            "opacity": 0.5,
            "size": [
             5.6,
             13.4
            ],
            "sizemode": "area",
            "sizeref": 0.6502500000000001
           },
           "mode": "markers",
           "name": "",
           "showlegend": false,
           "subplot": "mapbox",
           "type": "scattermapbox"
          }
         ],
         "name": "2009-07-09"
        },
        {
         "data": [
          {
           "customdata": [
            [
             "Vegetationsbrand"
            ]
           ],
           "hovertemplate": "Datum=2009-07-12<br>Feuerintensität=%{marker.color}<br>Breitengrad=%{lat}<br>Längengrad=%{lon}<br>Typ=%{customdata[0]}<extra></extra>",
           "lat": [
            51.3712
           ],
           "legendgroup": "",
           "lon": [
            6.7141
           ],
           "marker": {
            "color": [
             12
            ],
            "coloraxis": "coloraxis",
            "opacity": 0.5,
            "size": [
             12
            ],
            "sizemode": "area",
            "sizeref": 0.6502500000000001
           },
           "mode": "markers",
           "name": "",
           "showlegend": false,
           "subplot": "mapbox",
           "type": "scattermapbox"
          }
         ],
         "name": "2009-07-12"
        },
        {
         "data": [
          {
           "customdata": [
            [
             "Vegetationsbrand"
            ],
            [
             "Vegetationsbrand"
            ],
            [
             "Vegetationsbrand"
            ],
            [
             "Vegetationsbrand"
            ]
           ],
           "hovertemplate": "Datum=2009-07-13<br>Feuerintensität=%{marker.color}<br>Breitengrad=%{lat}<br>Längengrad=%{lon}<br>Typ=%{customdata[0]}<extra></extra>",
           "lat": [
            53.5174,
            48.1339,
            50.8239,
            51.4963
           ],
           "legendgroup": "",
           "lon": [
            9.9024,
            11.6982,
            8.9364,
            6.7409
           ],
           "marker": {
            "color": [
             10.7,
             5.8,
             3.3,
             6.4
            ],
            "coloraxis": "coloraxis",
            "opacity": 0.5,
            "size": [
             10.7,
             5.8,
             3.3,
             6.4
            ],
            "sizemode": "area",
            "sizeref": 0.6502500000000001
           },
           "mode": "markers",
           "name": "",
           "showlegend": false,
           "subplot": "mapbox",
           "type": "scattermapbox"
          }
         ],
         "name": "2009-07-13"
        },
        {
         "data": [
          {
           "customdata": [
            [
             "Vegetationsbrand"
            ],
            [
             "Vegetationsbrand"
            ]
           ],
           "hovertemplate": "Datum=2009-07-15<br>Feuerintensität=%{marker.color}<br>Breitengrad=%{lat}<br>Längengrad=%{lon}<br>Typ=%{customdata[0]}<extra></extra>",
           "lat": [
            53.5212,
            53.1377
           ],
           "legendgroup": "",
           "lon": [
            9.9032,
            8.6824
           ],
           "marker": {
            "color": [
             8.4,
             7.5
            ],
            "coloraxis": "coloraxis",
            "opacity": 0.5,
            "size": [
             8.4,
             7.5
            ],
            "sizemode": "area",
            "sizeref": 0.6502500000000001
           },
           "mode": "markers",
           "name": "",
           "showlegend": false,
           "subplot": "mapbox",
           "type": "scattermapbox"
          }
         ],
         "name": "2009-07-15"
        },
        {
         "data": [
          {
           "customdata": [
            [
             "Vegetationsbrand"
            ],
            [
             "Vegetationsbrand"
            ],
            [
             "Vegetationsbrand"
            ]
           ],
           "hovertemplate": "Datum=2009-07-16<br>Feuerintensität=%{marker.color}<br>Breitengrad=%{lat}<br>Längengrad=%{lon}<br>Typ=%{customdata[0]}<extra></extra>",
           "lat": [
            47.7531,
            51.4905,
            51.4884
           ],
           "legendgroup": "",
           "lon": [
            8.8545,
            6.7156,
            6.7219
           ],
           "marker": {
            "color": [
             11.1,
             18.3,
             20.4
            ],
            "coloraxis": "coloraxis",
            "opacity": 0.5,
            "size": [
             11.1,
             18.3,
             20.4
            ],
            "sizemode": "area",
            "sizeref": 0.6502500000000001
           },
           "mode": "markers",
           "name": "",
           "showlegend": false,
           "subplot": "mapbox",
           "type": "scattermapbox"
          }
         ],
         "name": "2009-07-16"
        },
        {
         "data": [
          {
           "customdata": [
            [
             "Vegetationsbrand"
            ],
            [
             "Vegetationsbrand"
            ],
            [
             "Vegetationsbrand"
            ],
            [
             "Vegetationsbrand"
            ]
           ],
           "hovertemplate": "Datum=2009-07-21<br>Feuerintensität=%{marker.color}<br>Breitengrad=%{lat}<br>Längengrad=%{lon}<br>Typ=%{customdata[0]}<extra></extra>",
           "lat": [
            53.138,
            47.4062,
            53.3951,
            53.387
           ],
           "legendgroup": "",
           "lon": [
            8.6809,
            10.2907,
            10.2437,
            10.2117
           ],
           "marker": {
            "color": [
             7.8,
             17.9,
             13.1,
             11.6
            ],
            "coloraxis": "coloraxis",
            "opacity": 0.5,
            "size": [
             7.8,
             17.9,
             13.1,
             11.6
            ],
            "sizemode": "area",
            "sizeref": 0.6502500000000001
           },
           "mode": "markers",
           "name": "",
           "showlegend": false,
           "subplot": "mapbox",
           "type": "scattermapbox"
          }
         ],
         "name": "2009-07-21"
        },
        {
         "data": [
          {
           "customdata": [
            [
             "Vegetationsbrand"
            ]
           ],
           "hovertemplate": "Datum=2009-07-22<br>Feuerintensität=%{marker.color}<br>Breitengrad=%{lat}<br>Längengrad=%{lon}<br>Typ=%{customdata[0]}<extra></extra>",
           "lat": [
            48.4286
           ],
           "legendgroup": "",
           "lon": [
            13.3382
           ],
           "marker": {
            "color": [
             7.5
            ],
            "coloraxis": "coloraxis",
            "opacity": 0.5,
            "size": [
             7.5
            ],
            "sizemode": "area",
            "sizeref": 0.6502500000000001
           },
           "mode": "markers",
           "name": "",
           "showlegend": false,
           "subplot": "mapbox",
           "type": "scattermapbox"
          }
         ],
         "name": "2009-07-22"
        },
        {
         "data": [
          {
           "customdata": [
            [
             "Vegetationsbrand"
            ]
           ],
           "hovertemplate": "Datum=2009-07-24<br>Feuerintensität=%{marker.color}<br>Breitengrad=%{lat}<br>Längengrad=%{lon}<br>Typ=%{customdata[0]}<extra></extra>",
           "lat": [
            51.9104
           ],
           "legendgroup": "",
           "lon": [
            12.76
           ],
           "marker": {
            "color": [
             10.9
            ],
            "coloraxis": "coloraxis",
            "opacity": 0.5,
            "size": [
             10.9
            ],
            "sizemode": "area",
            "sizeref": 0.6502500000000001
           },
           "mode": "markers",
           "name": "",
           "showlegend": false,
           "subplot": "mapbox",
           "type": "scattermapbox"
          }
         ],
         "name": "2009-07-24"
        },
        {
         "data": [
          {
           "customdata": [
            [
             "Vegetationsbrand"
            ],
            [
             "Vegetationsbrand"
            ],
            [
             "Vegetationsbrand"
            ],
            [
             "Vegetationsbrand"
            ]
           ],
           "hovertemplate": "Datum=2009-07-25<br>Feuerintensität=%{marker.color}<br>Breitengrad=%{lat}<br>Längengrad=%{lon}<br>Typ=%{customdata[0]}<extra></extra>",
           "lat": [
            51.4876,
            50.9156,
            48.3069,
            50.7942
           ],
           "legendgroup": "",
           "lon": [
            6.7181,
            6.8181,
            10.1674,
            6.7738
           ],
           "marker": {
            "color": [
             10.8,
             3.1,
             4.8,
             2.5
            ],
            "coloraxis": "coloraxis",
            "opacity": 0.5,
            "size": [
             10.8,
             3.1,
             4.8,
             2.5
            ],
            "sizemode": "area",
            "sizeref": 0.6502500000000001
           },
           "mode": "markers",
           "name": "",
           "showlegend": false,
           "subplot": "mapbox",
           "type": "scattermapbox"
          }
         ],
         "name": "2009-07-25"
        },
        {
         "data": [
          {
           "customdata": [
            [
             "Vegetationsbrand"
            ],
            [
             "Vegetationsbrand"
            ],
            [
             "Vegetationsbrand"
            ],
            [
             "Vegetationsbrand"
            ],
            [
             "Vegetationsbrand"
            ],
            [
             "Vegetationsbrand"
            ],
            [
             "Vegetationsbrand"
            ],
            [
             "Vegetationsbrand"
            ],
            [
             "Vegetationsbrand"
            ]
           ],
           "hovertemplate": "Datum=2009-07-27<br>Feuerintensität=%{marker.color}<br>Breitengrad=%{lat}<br>Längengrad=%{lon}<br>Typ=%{customdata[0]}<extra></extra>",
           "lat": [
            51.0256,
            50.5017,
            49.7242,
            51.9059,
            51.8785,
            48.9449,
            48.9845,
            52.3892,
            52.2042
           ],
           "legendgroup": "",
           "lon": [
            8.6784,
            10.6599,
            6.6046,
            10.864,
            11.0797,
            8.3862,
            12.1923,
            7.3022,
            8.0426
           ],
           "marker": {
            "color": [
             6.3,
             5.3,
             6.6,
             7.1,
             5.9,
             8.3,
             10.5,
             3,
             8.3
            ],
            "coloraxis": "coloraxis",
            "opacity": 0.5,
            "size": [
             6.3,
             5.3,
             6.6,
             7.1,
             5.9,
             8.3,
             10.5,
             3,
             8.3
            ],
            "sizemode": "area",
            "sizeref": 0.6502500000000001
           },
           "mode": "markers",
           "name": "",
           "showlegend": false,
           "subplot": "mapbox",
           "type": "scattermapbox"
          }
         ],
         "name": "2009-07-27"
        },
        {
         "data": [
          {
           "customdata": [
            [
             "Vegetationsbrand"
            ],
            [
             "Vegetationsbrand"
            ]
           ],
           "hovertemplate": "Datum=2009-07-28<br>Feuerintensität=%{marker.color}<br>Breitengrad=%{lat}<br>Längengrad=%{lon}<br>Typ=%{customdata[0]}<extra></extra>",
           "lat": [
            51.4893,
            51.3397
           ],
           "legendgroup": "",
           "lon": [
            6.7091,
            6.7485
           ],
           "marker": {
            "color": [
             6.8,
             14.4
            ],
            "coloraxis": "coloraxis",
            "opacity": 0.5,
            "size": [
             6.8,
             14.4
            ],
            "sizemode": "area",
            "sizeref": 0.6502500000000001
           },
           "mode": "markers",
           "name": "",
           "showlegend": false,
           "subplot": "mapbox",
           "type": "scattermapbox"
          }
         ],
         "name": "2009-07-28"
        },
        {
         "data": [
          {
           "customdata": [
            [
             "Vegetationsbrand"
            ],
            [
             "Vegetationsbrand"
            ],
            [
             "Vegetationsbrand"
            ],
            [
             "Vegetationsbrand"
            ],
            [
             "Vegetationsbrand"
            ],
            [
             "Vegetationsbrand"
            ],
            [
             "Vegetationsbrand"
            ],
            [
             "Vegetationsbrand"
            ],
            [
             "Vegetationsbrand"
            ],
            [
             "Vegetationsbrand"
            ],
            [
             "Vegetationsbrand"
            ]
           ],
           "hovertemplate": "Datum=2009-07-29<br>Feuerintensität=%{marker.color}<br>Breitengrad=%{lat}<br>Längengrad=%{lon}<br>Typ=%{customdata[0]}<extra></extra>",
           "lat": [
            51.2918,
            48.0805,
            51.1551,
            48.3687,
            48.2109,
            48.4284,
            48.4689,
            48.9401,
            48.9427,
            48.3861,
            49.3611
           ],
           "legendgroup": "",
           "lon": [
            12.0053,
            9.8058,
            6.5073,
            9.7383,
            9.0306,
            13.3403,
            11.9456,
            8.3688,
            8.3835,
            10.0316,
            6.7452
           ],
           "marker": {
            "color": [
             7,
             6.5,
             9.5,
             5.1,
             4.7,
             5.1,
             4.4,
             8.7,
             10.5,
             12.9,
             5.2
            ],
            "coloraxis": "coloraxis",
            "opacity": 0.5,
            "size": [
             7,
             6.5,
             9.5,
             5.1,
             4.7,
             5.1,
             4.4,
             8.7,
             10.5,
             12.9,
             5.2
            ],
            "sizemode": "area",
            "sizeref": 0.6502500000000001
           },
           "mode": "markers",
           "name": "",
           "showlegend": false,
           "subplot": "mapbox",
           "type": "scattermapbox"
          }
         ],
         "name": "2009-07-29"
        },
        {
         "data": [
          {
           "customdata": [
            [
             "Vegetationsbrand"
            ]
           ],
           "hovertemplate": "Datum=2009-07-31<br>Feuerintensität=%{marker.color}<br>Breitengrad=%{lat}<br>Längengrad=%{lon}<br>Typ=%{customdata[0]}<extra></extra>",
           "lat": [
            53.9605
           ],
           "legendgroup": "",
           "lon": [
            10.3894
           ],
           "marker": {
            "color": [
             3.7
            ],
            "coloraxis": "coloraxis",
            "opacity": 0.5,
            "size": [
             3.7
            ],
            "sizemode": "area",
            "sizeref": 0.6502500000000001
           },
           "mode": "markers",
           "name": "",
           "showlegend": false,
           "subplot": "mapbox",
           "type": "scattermapbox"
          }
         ],
         "name": "2009-07-31"
        },
        {
         "data": [
          {
           "customdata": [
            [
             "Vegetationsbrand"
            ],
            [
             "Vegetationsbrand"
            ],
            [
             "Vegetationsbrand"
            ],
            [
             "Vegetationsbrand"
            ]
           ],
           "hovertemplate": "Datum=2009-08-01<br>Feuerintensität=%{marker.color}<br>Breitengrad=%{lat}<br>Längengrad=%{lon}<br>Typ=%{customdata[0]}<extra></extra>",
           "lat": [
            51.4897,
            47.6843,
            47.6685,
            47.6732
           ],
           "legendgroup": "",
           "lon": [
            6.712,
            9.4938,
            9.5105,
            9.4887
           ],
           "marker": {
            "color": [
             11,
             17.2,
             33.8,
             14.3
            ],
            "coloraxis": "coloraxis",
            "opacity": 0.5,
            "size": [
             11,
             17.2,
             33.8,
             14.3
            ],
            "sizemode": "area",
            "sizeref": 0.6502500000000001
           },
           "mode": "markers",
           "name": "",
           "showlegend": false,
           "subplot": "mapbox",
           "type": "scattermapbox"
          }
         ],
         "name": "2009-08-01"
        },
        {
         "data": [
          {
           "customdata": [
            [
             "Vegetationsbrand"
            ]
           ],
           "hovertemplate": "Datum=2009-08-04<br>Feuerintensität=%{marker.color}<br>Breitengrad=%{lat}<br>Längengrad=%{lon}<br>Typ=%{customdata[0]}<extra></extra>",
           "lat": [
            53.5152
           ],
           "legendgroup": "",
           "lon": [
            10.0341
           ],
           "marker": {
            "color": [
             5.3
            ],
            "coloraxis": "coloraxis",
            "opacity": 0.5,
            "size": [
             5.3
            ],
            "sizemode": "area",
            "sizeref": 0.6502500000000001
           },
           "mode": "markers",
           "name": "",
           "showlegend": false,
           "subplot": "mapbox",
           "type": "scattermapbox"
          }
         ],
         "name": "2009-08-04"
        },
        {
         "data": [
          {
           "customdata": [
            [
             "Vegetationsbrand"
            ],
            [
             "Vegetationsbrand"
            ],
            [
             "Vegetationsbrand"
            ],
            [
             "Vegetationsbrand"
            ],
            [
             "Vegetationsbrand"
            ],
            [
             "Vegetationsbrand"
            ],
            [
             "Vegetationsbrand"
            ],
            [
             "Vegetationsbrand"
            ],
            [
             "Vegetationsbrand"
            ]
           ],
           "hovertemplate": "Datum=2009-08-05<br>Feuerintensität=%{marker.color}<br>Breitengrad=%{lat}<br>Längengrad=%{lon}<br>Typ=%{customdata[0]}<extra></extra>",
           "lat": [
            53.9447,
            50.9158,
            48.0872,
            48.3938,
            48.0721,
            49.8125,
            52.7341,
            51.0244,
            52.1737
           ],
           "legendgroup": "",
           "lon": [
            10.2007,
            11.8189,
            9.8087,
            10.0447,
            10.1338,
            9.029,
            7.218,
            8.6727,
            10.413
           ],
           "marker": {
            "color": [
             6.7,
             4.8,
             6.2,
             9.2,
             5.1,
             7.4,
             12.9,
             7.1,
             53.2
            ],
            "coloraxis": "coloraxis",
            "opacity": 0.5,
            "size": [
             6.7,
             4.8,
             6.2,
             9.2,
             5.1,
             7.4,
             12.9,
             7.1,
             53.2
            ],
            "sizemode": "area",
            "sizeref": 0.6502500000000001
           },
           "mode": "markers",
           "name": "",
           "showlegend": false,
           "subplot": "mapbox",
           "type": "scattermapbox"
          }
         ],
         "name": "2009-08-05"
        },
        {
         "data": [
          {
           "customdata": [
            [
             "Vegetationsbrand"
            ],
            [
             "Vegetationsbrand"
            ],
            [
             "Vegetationsbrand"
            ],
            [
             "Vegetationsbrand"
            ]
           ],
           "hovertemplate": "Datum=2009-08-06<br>Feuerintensität=%{marker.color}<br>Breitengrad=%{lat}<br>Längengrad=%{lon}<br>Typ=%{customdata[0]}<extra></extra>",
           "lat": [
            53.1398,
            51.3712,
            52.1554,
            51.4877
           ],
           "legendgroup": "",
           "lon": [
            8.681,
            6.7084,
            10.3943,
            6.71
           ],
           "marker": {
            "color": [
             6.7,
             18.8,
             8,
             19.9
            ],
            "coloraxis": "coloraxis",
            "opacity": 0.5,
            "size": [
             6.7,
             18.8,
             8,
             19.9
            ],
            "sizemode": "area",
            "sizeref": 0.6502500000000001
           },
           "mode": "markers",
           "name": "",
           "showlegend": false,
           "subplot": "mapbox",
           "type": "scattermapbox"
          }
         ],
         "name": "2009-08-06"
        },
        {
         "data": [
          {
           "customdata": [
            [
             "Vegetationsbrand"
            ],
            [
             "Vegetationsbrand"
            ],
            [
             "Vegetationsbrand"
            ],
            [
             "Vegetationsbrand"
            ],
            [
             "Vegetationsbrand"
            ],
            [
             "Vegetationsbrand"
            ],
            [
             "Vegetationsbrand"
            ],
            [
             "Vegetationsbrand"
            ],
            [
             "Vegetationsbrand"
            ]
           ],
           "hovertemplate": "Datum=2009-08-07<br>Feuerintensität=%{marker.color}<br>Breitengrad=%{lat}<br>Längengrad=%{lon}<br>Typ=%{customdata[0]}<extra></extra>",
           "lat": [
            52.8,
            52.2088,
            51.3709,
            52.4076,
            52.4057,
            49.3315,
            48.4298,
            53.52,
            52.156
           ],
           "legendgroup": "",
           "lon": [
            8.6091,
            8.0464,
            6.7074,
            9.8141,
            9.8303,
            11.0313,
            13.3314,
            9.9093,
            10.3963
           ],
           "marker": {
            "color": [
             16.2,
             11.8,
             19.8,
             10.1,
             10.6,
             9,
             7.3,
             9.7,
             16
            ],
            "coloraxis": "coloraxis",
            "opacity": 0.5,
            "size": [
             16.2,
             11.8,
             19.8,
             10.1,
             10.6,
             9,
             7.3,
             9.7,
             16
            ],
            "sizemode": "area",
            "sizeref": 0.6502500000000001
           },
           "mode": "markers",
           "name": "",
           "showlegend": false,
           "subplot": "mapbox",
           "type": "scattermapbox"
          }
         ],
         "name": "2009-08-07"
        },
        {
         "data": [
          {
           "customdata": [
            [
             "Vegetationsbrand"
            ],
            [
             "Vegetationsbrand"
            ]
           ],
           "hovertemplate": "Datum=2009-08-11<br>Feuerintensität=%{marker.color}<br>Breitengrad=%{lat}<br>Längengrad=%{lon}<br>Typ=%{customdata[0]}<extra></extra>",
           "lat": [
            53.5193,
            53.5214
           ],
           "legendgroup": "",
           "lon": [
            9.8948,
            9.9096
           ],
           "marker": {
            "color": [
             10.3,
             11.8
            ],
            "coloraxis": "coloraxis",
            "opacity": 0.5,
            "size": [
             10.3,
             11.8
            ],
            "sizemode": "area",
            "sizeref": 0.6502500000000001
           },
           "mode": "markers",
           "name": "",
           "showlegend": false,
           "subplot": "mapbox",
           "type": "scattermapbox"
          }
         ],
         "name": "2009-08-11"
        },
        {
         "data": [
          {
           "customdata": [
            [
             "Vegetationsbrand"
            ],
            [
             "Vegetationsbrand"
            ],
            [
             "Vegetationsbrand"
            ],
            [
             "Vegetationsbrand"
            ],
            [
             "Vegetationsbrand"
            ]
           ],
           "hovertemplate": "Datum=2009-08-12<br>Feuerintensität=%{marker.color}<br>Breitengrad=%{lat}<br>Längengrad=%{lon}<br>Typ=%{customdata[0]}<extra></extra>",
           "lat": [
            49.3545,
            49.2455,
            47.7586,
            48.7807,
            49.2449
           ],
           "legendgroup": "",
           "lon": [
            6.7436,
            6.8566,
            8.8578,
            9.2382,
            6.8426
           ],
           "marker": {
            "color": [
             6.3,
             6.7,
             8.2,
             6.5,
             6.6
            ],
            "coloraxis": "coloraxis",
            "opacity": 0.5,
            "size": [
             6.3,
             6.7,
             8.2,
             6.5,
             6.6
            ],
            "sizemode": "area",
            "sizeref": 0.6502500000000001
           },
           "mode": "markers",
           "name": "",
           "showlegend": false,
           "subplot": "mapbox",
           "type": "scattermapbox"
          }
         ],
         "name": "2009-08-12"
        },
        {
         "data": [
          {
           "customdata": [
            [
             "Vegetationsbrand"
            ],
            [
             "Vegetationsbrand"
            ],
            [
             "Vegetationsbrand"
            ],
            [
             "Vegetationsbrand"
            ],
            [
             "Vegetationsbrand"
            ]
           ],
           "hovertemplate": "Datum=2009-08-13<br>Feuerintensität=%{marker.color}<br>Breitengrad=%{lat}<br>Längengrad=%{lon}<br>Typ=%{customdata[0]}<extra></extra>",
           "lat": [
            51.4974,
            51.4908,
            53.6029,
            53.6013,
            53.6129
           ],
           "legendgroup": "",
           "lon": [
            6.7432,
            6.7251,
            9.8905,
            9.8958,
            9.8879
           ],
           "marker": {
            "color": [
             5.3,
             10.5,
             25,
             26.2,
             43.3
            ],
            "coloraxis": "coloraxis",
            "opacity": 0.5,
            "size": [
             5.3,
             10.5,
             25,
             26.2,
             43.3
            ],
            "sizemode": "area",
            "sizeref": 0.6502500000000001
           },
           "mode": "markers",
           "name": "",
           "showlegend": false,
           "subplot": "mapbox",
           "type": "scattermapbox"
          }
         ],
         "name": "2009-08-13"
        },
        {
         "data": [
          {
           "customdata": [
            [
             "Vegetationsbrand"
            ],
            [
             "Vegetationsbrand"
            ]
           ],
           "hovertemplate": "Datum=2009-08-14<br>Feuerintensität=%{marker.color}<br>Breitengrad=%{lat}<br>Längengrad=%{lon}<br>Typ=%{customdata[0]}<extra></extra>",
           "lat": [
            49.6821,
            49.3578
           ],
           "legendgroup": "",
           "lon": [
            9.972,
            6.7443
           ],
           "marker": {
            "color": [
             9.7,
             8.3
            ],
            "coloraxis": "coloraxis",
            "opacity": 0.5,
            "size": [
             9.7,
             8.3
            ],
            "sizemode": "area",
            "sizeref": 0.6502500000000001
           },
           "mode": "markers",
           "name": "",
           "showlegend": false,
           "subplot": "mapbox",
           "type": "scattermapbox"
          }
         ],
         "name": "2009-08-14"
        },
        {
         "data": [
          {
           "customdata": [
            [
             "Vegetationsbrand"
            ],
            [
             "Vegetationsbrand"
            ]
           ],
           "hovertemplate": "Datum=2009-08-15<br>Feuerintensität=%{marker.color}<br>Breitengrad=%{lat}<br>Längengrad=%{lon}<br>Typ=%{customdata[0]}<extra></extra>",
           "lat": [
            51.4879,
            53.1398
           ],
           "legendgroup": "",
           "lon": [
            6.71,
            8.6844
           ],
           "marker": {
            "color": [
             8.2,
             8.2
            ],
            "coloraxis": "coloraxis",
            "opacity": 0.5,
            "size": [
             8.2,
             8.2
            ],
            "sizemode": "area",
            "sizeref": 0.6502500000000001
           },
           "mode": "markers",
           "name": "",
           "showlegend": false,
           "subplot": "mapbox",
           "type": "scattermapbox"
          }
         ],
         "name": "2009-08-15"
        },
        {
         "data": [
          {
           "customdata": [
            [
             "Vegetationsbrand"
            ],
            [
             "Vegetationsbrand"
            ],
            [
             "Vegetationsbrand"
            ],
            [
             "Vegetationsbrand"
            ],
            [
             "Vegetationsbrand"
            ],
            [
             "Vegetationsbrand"
            ]
           ],
           "hovertemplate": "Datum=2009-08-16<br>Feuerintensität=%{marker.color}<br>Breitengrad=%{lat}<br>Längengrad=%{lon}<br>Typ=%{customdata[0]}<extra></extra>",
           "lat": [
            48.4299,
            48.8921,
            54.0164,
            54.0136,
            52.5149,
            49.3614
           ],
           "legendgroup": "",
           "lon": [
            13.3253,
            12.6552,
            9.0718,
            9.0557,
            13.7303,
            6.7453
           ],
           "marker": {
            "color": [
             8.5,
             10,
             12.8,
             15.9,
             6.9,
             5.1
            ],
            "coloraxis": "coloraxis",
            "opacity": 0.5,
            "size": [
             8.5,
             10,
             12.8,
             15.9,
             6.9,
             5.1
            ],
            "sizemode": "area",
            "sizeref": 0.6502500000000001
           },
           "mode": "markers",
           "name": "",
           "showlegend": false,
           "subplot": "mapbox",
           "type": "scattermapbox"
          }
         ],
         "name": "2009-08-16"
        },
        {
         "data": [
          {
           "customdata": [
            [
             "Vegetationsbrand"
            ]
           ],
           "hovertemplate": "Datum=2009-08-17<br>Feuerintensität=%{marker.color}<br>Breitengrad=%{lat}<br>Längengrad=%{lon}<br>Typ=%{customdata[0]}<extra></extra>",
           "lat": [
            49.3559
           ],
           "legendgroup": "",
           "lon": [
            6.7478
           ],
           "marker": {
            "color": [
             13
            ],
            "coloraxis": "coloraxis",
            "opacity": 0.5,
            "size": [
             13
            ],
            "sizemode": "area",
            "sizeref": 0.6502500000000001
           },
           "mode": "markers",
           "name": "",
           "showlegend": false,
           "subplot": "mapbox",
           "type": "scattermapbox"
          }
         ],
         "name": "2009-08-17"
        },
        {
         "data": [
          {
           "customdata": [
            [
             "Vegetationsbrand"
            ],
            [
             "Vegetationsbrand"
            ]
           ],
           "hovertemplate": "Datum=2009-08-18<br>Feuerintensität=%{marker.color}<br>Breitengrad=%{lat}<br>Längengrad=%{lon}<br>Typ=%{customdata[0]}<extra></extra>",
           "lat": [
            51.0544,
            51.0488
           ],
           "legendgroup": "",
           "lon": [
            11.3842,
            11.3768
           ],
           "marker": {
            "color": [
             9.6,
             7.3
            ],
            "coloraxis": "coloraxis",
            "opacity": 0.5,
            "size": [
             9.6,
             7.3
            ],
            "sizemode": "area",
            "sizeref": 0.6502500000000001
           },
           "mode": "markers",
           "name": "",
           "showlegend": false,
           "subplot": "mapbox",
           "type": "scattermapbox"
          }
         ],
         "name": "2009-08-18"
        },
        {
         "data": [
          {
           "customdata": [
            [
             "Vegetationsbrand"
            ],
            [
             "Vegetationsbrand"
            ],
            [
             "Vegetationsbrand"
            ],
            [
             "Vegetationsbrand"
            ],
            [
             "Vegetationsbrand"
            ]
           ],
           "hovertemplate": "Datum=2009-08-19<br>Feuerintensität=%{marker.color}<br>Breitengrad=%{lat}<br>Längengrad=%{lon}<br>Typ=%{customdata[0]}<extra></extra>",
           "lat": [
            51.1244,
            51.354,
            51.3509,
            49.3582,
            49.8207
           ],
           "legendgroup": "",
           "lon": [
            11.1489,
            10.6926,
            10.709,
            6.746,
            9.0258
           ],
           "marker": {
            "color": [
             14.1,
             19,
             38.4,
             9.7,
             8.7
            ],
            "coloraxis": "coloraxis",
            "opacity": 0.5,
            "size": [
             14.1,
             19,
             38.4,
             9.7,
             8.7
            ],
            "sizemode": "area",
            "sizeref": 0.6502500000000001
           },
           "mode": "markers",
           "name": "",
           "showlegend": false,
           "subplot": "mapbox",
           "type": "scattermapbox"
          }
         ],
         "name": "2009-08-19"
        },
        {
         "data": [
          {
           "customdata": [
            [
             "Vegetationsbrand"
            ],
            [
             "Vegetationsbrand"
            ],
            [
             "Vegetationsbrand"
            ],
            [
             "Vegetationsbrand"
            ],
            [
             "Vegetationsbrand"
            ]
           ],
           "hovertemplate": "Datum=2009-08-20<br>Feuerintensität=%{marker.color}<br>Breitengrad=%{lat}<br>Längengrad=%{lon}<br>Typ=%{customdata[0]}<extra></extra>",
           "lat": [
            50.8632,
            50.8604,
            51.8622,
            51.855,
            51.8515
           ],
           "legendgroup": "",
           "lon": [
            6.6144,
            6.63,
            13.8471,
            13.8574,
            13.839
           ],
           "marker": {
            "color": [
             7.1,
             5.8,
             20.1,
             11.8,
             12
            ],
            "coloraxis": "coloraxis",
            "opacity": 0.5,
            "size": [
             7.1,
             5.8,
             20.1,
             11.8,
             12
            ],
            "sizemode": "area",
            "sizeref": 0.6502500000000001
           },
           "mode": "markers",
           "name": "",
           "showlegend": false,
           "subplot": "mapbox",
           "type": "scattermapbox"
          }
         ],
         "name": "2009-08-20"
        },
        {
         "data": [
          {
           "customdata": [
            [
             "Vegetationsbrand"
            ],
            [
             "Vegetationsbrand"
            ]
           ],
           "hovertemplate": "Datum=2009-08-21<br>Feuerintensität=%{marker.color}<br>Breitengrad=%{lat}<br>Längengrad=%{lon}<br>Typ=%{customdata[0]}<extra></extra>",
           "lat": [
            51.4881,
            52.2261
           ],
           "legendgroup": "",
           "lon": [
            6.7121,
            7.4879
           ],
           "marker": {
            "color": [
             11.2,
             2.7
            ],
            "coloraxis": "coloraxis",
            "opacity": 0.5,
            "size": [
             11.2,
             2.7
            ],
            "sizemode": "area",
            "sizeref": 0.6502500000000001
           },
           "mode": "markers",
           "name": "",
           "showlegend": false,
           "subplot": "mapbox",
           "type": "scattermapbox"
          }
         ],
         "name": "2009-08-21"
        },
        {
         "data": [
          {
           "customdata": [
            [
             "Vegetationsbrand"
            ],
            [
             "Vegetationsbrand"
            ],
            [
             "Vegetationsbrand"
            ],
            [
             "Vegetationsbrand"
            ]
           ],
           "hovertemplate": "Datum=2009-08-23<br>Feuerintensität=%{marker.color}<br>Breitengrad=%{lat}<br>Längengrad=%{lon}<br>Typ=%{customdata[0]}<extra></extra>",
           "lat": [
            49.3561,
            48.0875,
            51.5584,
            53.1912
           ],
           "legendgroup": "",
           "lon": [
            6.7437,
            9.8024,
            14.2908,
            7.2611
           ],
           "marker": {
            "color": [
             9.1,
             4.5,
             4.3,
             5.3
            ],
            "coloraxis": "coloraxis",
            "opacity": 0.5,
            "size": [
             9.1,
             4.5,
             4.3,
             5.3
            ],
            "sizemode": "area",
            "sizeref": 0.6502500000000001
           },
           "mode": "markers",
           "name": "",
           "showlegend": false,
           "subplot": "mapbox",
           "type": "scattermapbox"
          }
         ],
         "name": "2009-08-23"
        },
        {
         "data": [
          {
           "customdata": [
            [
             "Vegetationsbrand"
            ],
            [
             "Vegetationsbrand"
            ],
            [
             "Vegetationsbrand"
            ]
           ],
           "hovertemplate": "Datum=2009-08-24<br>Feuerintensität=%{marker.color}<br>Breitengrad=%{lat}<br>Längengrad=%{lon}<br>Typ=%{customdata[0]}<extra></extra>",
           "lat": [
            48.9889,
            48.9817,
            52.155
           ],
           "legendgroup": "",
           "lon": [
            12.1832,
            12.1842,
            10.3887
           ],
           "marker": {
            "color": [
             20.4,
             22.3,
             9.2
            ],
            "coloraxis": "coloraxis",
            "opacity": 0.5,
            "size": [
             20.4,
             22.3,
             9.2
            ],
            "sizemode": "area",
            "sizeref": 0.6502500000000001
           },
           "mode": "markers",
           "name": "",
           "showlegend": false,
           "subplot": "mapbox",
           "type": "scattermapbox"
          }
         ],
         "name": "2009-08-24"
        },
        {
         "data": [
          {
           "customdata": [
            [
             "Vegetationsbrand"
            ],
            [
             "Vegetationsbrand"
            ],
            [
             "Vegetationsbrand"
            ]
           ],
           "hovertemplate": "Datum=2009-08-25<br>Feuerintensität=%{marker.color}<br>Breitengrad=%{lat}<br>Längengrad=%{lon}<br>Typ=%{customdata[0]}<extra></extra>",
           "lat": [
            51.4884,
            51.1104,
            51.1126
           ],
           "legendgroup": "",
           "lon": [
            6.708,
            6.3059,
            6.32
           ],
           "marker": {
            "color": [
             8,
             10.2,
             7.3
            ],
            "coloraxis": "coloraxis",
            "opacity": 0.5,
            "size": [
             8,
             10.2,
             7.3
            ],
            "sizemode": "area",
            "sizeref": 0.6502500000000001
           },
           "mode": "markers",
           "name": "",
           "showlegend": false,
           "subplot": "mapbox",
           "type": "scattermapbox"
          }
         ],
         "name": "2009-08-25"
        },
        {
         "data": [
          {
           "customdata": [
            [
             "Vegetationsbrand"
            ],
            [
             "Vegetationsbrand"
            ]
           ],
           "hovertemplate": "Datum=2009-08-26<br>Feuerintensität=%{marker.color}<br>Breitengrad=%{lat}<br>Längengrad=%{lon}<br>Typ=%{customdata[0]}<extra></extra>",
           "lat": [
            48.7591,
            49.2409
           ],
           "legendgroup": "",
           "lon": [
            11.7143,
            6.8518
           ],
           "marker": {
            "color": [
             9.4,
             7.2
            ],
            "coloraxis": "coloraxis",
            "opacity": 0.5,
            "size": [
             9.4,
             7.2
            ],
            "sizemode": "area",
            "sizeref": 0.6502500000000001
           },
           "mode": "markers",
           "name": "",
           "showlegend": false,
           "subplot": "mapbox",
           "type": "scattermapbox"
          }
         ],
         "name": "2009-08-26"
        },
        {
         "data": [
          {
           "customdata": [
            [
             "Vegetationsbrand"
            ]
           ],
           "hovertemplate": "Datum=2009-08-27<br>Feuerintensität=%{marker.color}<br>Breitengrad=%{lat}<br>Längengrad=%{lon}<br>Typ=%{customdata[0]}<extra></extra>",
           "lat": [
            52.8352
           ],
           "legendgroup": "",
           "lon": [
            9.8517
           ],
           "marker": {
            "color": [
             18.5
            ],
            "coloraxis": "coloraxis",
            "opacity": 0.5,
            "size": [
             18.5
            ],
            "sizemode": "area",
            "sizeref": 0.6502500000000001
           },
           "mode": "markers",
           "name": "",
           "showlegend": false,
           "subplot": "mapbox",
           "type": "scattermapbox"
          }
         ],
         "name": "2009-08-27"
        },
        {
         "data": [
          {
           "customdata": [
            [
             "Vegetationsbrand"
            ]
           ],
           "hovertemplate": "Datum=2009-08-28<br>Feuerintensität=%{marker.color}<br>Breitengrad=%{lat}<br>Längengrad=%{lon}<br>Typ=%{customdata[0]}<extra></extra>",
           "lat": [
            52.2043
           ],
           "legendgroup": "",
           "lon": [
            8.0407
           ],
           "marker": {
            "color": [
             5.3
            ],
            "coloraxis": "coloraxis",
            "opacity": 0.5,
            "size": [
             5.3
            ],
            "sizemode": "area",
            "sizeref": 0.6502500000000001
           },
           "mode": "markers",
           "name": "",
           "showlegend": false,
           "subplot": "mapbox",
           "type": "scattermapbox"
          }
         ],
         "name": "2009-08-28"
        },
        {
         "data": [
          {
           "customdata": [
            [
             "Vegetationsbrand"
            ],
            [
             "Vegetationsbrand"
            ]
           ],
           "hovertemplate": "Datum=2009-08-29<br>Feuerintensität=%{marker.color}<br>Breitengrad=%{lat}<br>Längengrad=%{lon}<br>Typ=%{customdata[0]}<extra></extra>",
           "lat": [
            53.1392,
            52.1549
           ],
           "legendgroup": "",
           "lon": [
            8.6861,
            14.0906
           ],
           "marker": {
            "color": [
             8.1,
             10.3
            ],
            "coloraxis": "coloraxis",
            "opacity": 0.5,
            "size": [
             8.1,
             10.3
            ],
            "sizemode": "area",
            "sizeref": 0.6502500000000001
           },
           "mode": "markers",
           "name": "",
           "showlegend": false,
           "subplot": "mapbox",
           "type": "scattermapbox"
          }
         ],
         "name": "2009-08-29"
        },
        {
         "data": [
          {
           "customdata": [
            [
             "Vegetationsbrand"
            ],
            [
             "Vegetationsbrand"
            ],
            [
             "Vegetationsbrand"
            ],
            [
             "Vegetationsbrand"
            ],
            [
             "Vegetationsbrand"
            ],
            [
             "Vegetationsbrand"
            ],
            [
             "Vegetationsbrand"
            ],
            [
             "Vegetationsbrand"
            ],
            [
             "Vegetationsbrand"
            ]
           ],
           "hovertemplate": "Datum=2009-08-30<br>Feuerintensität=%{marker.color}<br>Breitengrad=%{lat}<br>Längengrad=%{lon}<br>Typ=%{customdata[0]}<extra></extra>",
           "lat": [
            48.2159,
            48.2137,
            48.0833,
            48.1938,
            48.1961,
            48.4682,
            47.7543,
            48.5242,
            49.8556
           ],
           "legendgroup": "",
           "lon": [
            11.4681,
            11.4817,
            9.8015,
            11.6042,
            11.5905,
            11.9411,
            8.8611,
            9.3354,
            7.8879
           ],
           "marker": {
            "color": [
             5.4,
             5.3,
             4.6,
             7.9,
             8.1,
             9.1,
             7.2,
             7.3,
             8.2
            ],
            "coloraxis": "coloraxis",
            "opacity": 0.5,
            "size": [
             5.4,
             5.3,
             4.6,
             7.9,
             8.1,
             9.1,
             7.2,
             7.3,
             8.2
            ],
            "sizemode": "area",
            "sizeref": 0.6502500000000001
           },
           "mode": "markers",
           "name": "",
           "showlegend": false,
           "subplot": "mapbox",
           "type": "scattermapbox"
          }
         ],
         "name": "2009-08-30"
        },
        {
         "data": [
          {
           "customdata": [
            [
             "Vegetationsbrand"
            ],
            [
             "Vegetationsbrand"
            ]
           ],
           "hovertemplate": "Datum=2009-08-31<br>Feuerintensität=%{marker.color}<br>Breitengrad=%{lat}<br>Längengrad=%{lon}<br>Typ=%{customdata[0]}<extra></extra>",
           "lat": [
            51.49,
            51.3558
           ],
           "legendgroup": "",
           "lon": [
            6.713,
            6.2054
           ],
           "marker": {
            "color": [
             10,
             7.3
            ],
            "coloraxis": "coloraxis",
            "opacity": 0.5,
            "size": [
             10,
             7.3
            ],
            "sizemode": "area",
            "sizeref": 0.6502500000000001
           },
           "mode": "markers",
           "name": "",
           "showlegend": false,
           "subplot": "mapbox",
           "type": "scattermapbox"
          }
         ],
         "name": "2009-08-31"
        },
        {
         "data": [
          {
           "customdata": [
            [
             "Vegetationsbrand"
            ],
            [
             "Vegetationsbrand"
            ],
            [
             "Vegetationsbrand"
            ],
            [
             "Vegetationsbrand"
            ],
            [
             "Vegetationsbrand"
            ],
            [
             "Vegetationsbrand"
            ],
            [
             "Vegetationsbrand"
            ],
            [
             "Vegetationsbrand"
            ],
            [
             "Vegetationsbrand"
            ]
           ],
           "hovertemplate": "Datum=2009-09-01<br>Feuerintensität=%{marker.color}<br>Breitengrad=%{lat}<br>Längengrad=%{lon}<br>Typ=%{customdata[0]}<extra></extra>",
           "lat": [
            48.0857,
            49.9952,
            51.5448,
            51.2374,
            51.2396,
            49.9919,
            52.6356,
            52.9436,
            52.6334
           ],
           "legendgroup": "",
           "lon": [
            9.7965,
            9.1962,
            9.9268,
            11.9592,
            11.9735,
            9.179,
            12.1819,
            10.0781,
            12.1674
           ],
           "marker": {
            "color": [
             7.5,
             10.3,
             12.1,
             9.4,
             29.3,
             9.2,
             89.6,
             19.1,
             38.4
            ],
            "coloraxis": "coloraxis",
            "opacity": 0.5,
            "size": [
             7.5,
             10.3,
             12.1,
             9.4,
             29.3,
             9.2,
             89.6,
             19.1,
             38.4
            ],
            "sizemode": "area",
            "sizeref": 0.6502500000000001
           },
           "mode": "markers",
           "name": "",
           "showlegend": false,
           "subplot": "mapbox",
           "type": "scattermapbox"
          }
         ],
         "name": "2009-09-01"
        },
        {
         "data": [
          {
           "customdata": [
            [
             "Vegetationsbrand"
            ]
           ],
           "hovertemplate": "Datum=2009-09-02<br>Feuerintensität=%{marker.color}<br>Breitengrad=%{lat}<br>Längengrad=%{lon}<br>Typ=%{customdata[0]}<extra></extra>",
           "lat": [
            53.1397
           ],
           "legendgroup": "",
           "lon": [
            8.6906
           ],
           "marker": {
            "color": [
             8
            ],
            "coloraxis": "coloraxis",
            "opacity": 0.5,
            "size": [
             8
            ],
            "sizemode": "area",
            "sizeref": 0.6502500000000001
           },
           "mode": "markers",
           "name": "",
           "showlegend": false,
           "subplot": "mapbox",
           "type": "scattermapbox"
          }
         ],
         "name": "2009-09-02"
        },
        {
         "data": [
          {
           "customdata": [
            [
             "Vegetationsbrand"
            ]
           ],
           "hovertemplate": "Datum=2009-09-04<br>Feuerintensität=%{marker.color}<br>Breitengrad=%{lat}<br>Längengrad=%{lon}<br>Typ=%{customdata[0]}<extra></extra>",
           "lat": [
            53.1036
           ],
           "legendgroup": "",
           "lon": [
            7.3771
           ],
           "marker": {
            "color": [
             5.1
            ],
            "coloraxis": "coloraxis",
            "opacity": 0.5,
            "size": [
             5.1
            ],
            "sizemode": "area",
            "sizeref": 0.6502500000000001
           },
           "mode": "markers",
           "name": "",
           "showlegend": false,
           "subplot": "mapbox",
           "type": "scattermapbox"
          }
         ],
         "name": "2009-09-04"
        },
        {
         "data": [
          {
           "customdata": [
            [
             "Vegetationsbrand"
            ],
            [
             "Vegetationsbrand"
            ]
           ],
           "hovertemplate": "Datum=2009-09-05<br>Feuerintensität=%{marker.color}<br>Breitengrad=%{lat}<br>Längengrad=%{lon}<br>Typ=%{customdata[0]}<extra></extra>",
           "lat": [
            52.1547,
            51.4883
           ],
           "legendgroup": "",
           "lon": [
            10.3954,
            6.7174
           ],
           "marker": {
            "color": [
             9.2,
             9.7
            ],
            "coloraxis": "coloraxis",
            "opacity": 0.5,
            "size": [
             9.2,
             9.7
            ],
            "sizemode": "area",
            "sizeref": 0.6502500000000001
           },
           "mode": "markers",
           "name": "",
           "showlegend": false,
           "subplot": "mapbox",
           "type": "scattermapbox"
          }
         ],
         "name": "2009-09-05"
        },
        {
         "data": [
          {
           "customdata": [
            [
             "Vegetationsbrand"
            ]
           ],
           "hovertemplate": "Datum=2009-09-06<br>Feuerintensität=%{marker.color}<br>Breitengrad=%{lat}<br>Längengrad=%{lon}<br>Typ=%{customdata[0]}<extra></extra>",
           "lat": [
            48.5921
           ],
           "legendgroup": "",
           "lon": [
            7.8179
           ],
           "marker": {
            "color": [
             6.2
            ],
            "coloraxis": "coloraxis",
            "opacity": 0.5,
            "size": [
             6.2
            ],
            "sizemode": "area",
            "sizeref": 0.6502500000000001
           },
           "mode": "markers",
           "name": "",
           "showlegend": false,
           "subplot": "mapbox",
           "type": "scattermapbox"
          }
         ],
         "name": "2009-09-06"
        },
        {
         "data": [
          {
           "customdata": [
            [
             "Vegetationsbrand"
            ]
           ],
           "hovertemplate": "Datum=2009-09-07<br>Feuerintensität=%{marker.color}<br>Breitengrad=%{lat}<br>Längengrad=%{lon}<br>Typ=%{customdata[0]}<extra></extra>",
           "lat": [
            49.2394
           ],
           "legendgroup": "",
           "lon": [
            6.8536
           ],
           "marker": {
            "color": [
             12.7
            ],
            "coloraxis": "coloraxis",
            "opacity": 0.5,
            "size": [
             12.7
            ],
            "sizemode": "area",
            "sizeref": 0.6502500000000001
           },
           "mode": "markers",
           "name": "",
           "showlegend": false,
           "subplot": "mapbox",
           "type": "scattermapbox"
          }
         ],
         "name": "2009-09-07"
        },
        {
         "data": [
          {
           "customdata": [
            [
             "Vegetationsbrand"
            ],
            [
             "Vegetationsbrand"
            ],
            [
             "Vegetationsbrand"
            ],
            [
             "Vegetationsbrand"
            ],
            [
             "Vegetationsbrand"
            ],
            [
             "Vegetationsbrand"
            ],
            [
             "Vegetationsbrand"
            ],
            [
             "Vegetationsbrand"
            ],
            [
             "Vegetationsbrand"
            ],
            [
             "Vegetationsbrand"
            ],
            [
             "Vegetationsbrand"
            ],
            [
             "Vegetationsbrand"
            ],
            [
             "Vegetationsbrand"
            ]
           ],
           "hovertemplate": "Datum=2009-09-08<br>Feuerintensität=%{marker.color}<br>Breitengrad=%{lat}<br>Längengrad=%{lon}<br>Typ=%{customdata[0]}<extra></extra>",
           "lat": [
            52.9461,
            51.3304,
            51.3236,
            49.0584,
            49.1662,
            48.4694,
            48.0852,
            50.0386,
            53.5175,
            52.5584,
            52.9547,
            53.4608,
            53.5152
           ],
           "legendgroup": "",
           "lon": [
            10.0644,
            12.6614,
            12.644,
            10.0628,
            9.9203,
            11.9419,
            9.8026,
            8.5298,
            9.9062,
            7.4958,
            10.0765,
            10.2047,
            9.8913
           ],
           "marker": {
            "color": [
             8.3,
             12,
             8.4,
             22.9,
             5.2,
             6.3,
             5.1,
             7.2,
             10.9,
             4.6,
             9.5,
             3.9,
             4.5
            ],
            "coloraxis": "coloraxis",
            "opacity": 0.5,
            "size": [
             8.3,
             12,
             8.4,
             22.9,
             5.2,
             6.3,
             5.1,
             7.2,
             10.9,
             4.6,
             9.5,
             3.9,
             4.5
            ],
            "sizemode": "area",
            "sizeref": 0.6502500000000001
           },
           "mode": "markers",
           "name": "",
           "showlegend": false,
           "subplot": "mapbox",
           "type": "scattermapbox"
          }
         ],
         "name": "2009-09-08"
        },
        {
         "data": [
          {
           "customdata": [
            [
             "Vegetationsbrand"
            ],
            [
             "Vegetationsbrand"
            ],
            [
             "Vegetationsbrand"
            ]
           ],
           "hovertemplate": "Datum=2009-09-09<br>Feuerintensität=%{marker.color}<br>Breitengrad=%{lat}<br>Längengrad=%{lon}<br>Typ=%{customdata[0]}<extra></extra>",
           "lat": [
            51.5708,
            53.472,
            51.0196
           ],
           "legendgroup": "",
           "lon": [
            7.3505,
            10.1141,
            6.8468
           ],
           "marker": {
            "color": [
             6.8,
             5.3,
             25.3
            ],
            "coloraxis": "coloraxis",
            "opacity": 0.5,
            "size": [
             6.8,
             5.3,
             25.3
            ],
            "sizemode": "area",
            "sizeref": 0.6502500000000001
           },
           "mode": "markers",
           "name": "",
           "showlegend": false,
           "subplot": "mapbox",
           "type": "scattermapbox"
          }
         ],
         "name": "2009-09-09"
        },
        {
         "data": [
          {
           "customdata": [
            [
             "Vegetationsbrand"
            ],
            [
             "Vegetationsbrand"
            ]
           ],
           "hovertemplate": "Datum=2009-09-10<br>Feuerintensität=%{marker.color}<br>Breitengrad=%{lat}<br>Längengrad=%{lon}<br>Typ=%{customdata[0]}<extra></extra>",
           "lat": [
            48.3596,
            51.5001
           ],
           "legendgroup": "",
           "lon": [
            11.9558,
            12.6678
           ],
           "marker": {
            "color": [
             6.4,
             9.2
            ],
            "coloraxis": "coloraxis",
            "opacity": 0.5,
            "size": [
             6.4,
             9.2
            ],
            "sizemode": "area",
            "sizeref": 0.6502500000000001
           },
           "mode": "markers",
           "name": "",
           "showlegend": false,
           "subplot": "mapbox",
           "type": "scattermapbox"
          }
         ],
         "name": "2009-09-10"
        },
        {
         "data": [
          {
           "customdata": [
            [
             "Vegetationsbrand"
            ],
            [
             "Vegetationsbrand"
            ],
            [
             "Vegetationsbrand"
            ],
            [
             "Vegetationsbrand"
            ]
           ],
           "hovertemplate": "Datum=2009-09-12<br>Feuerintensität=%{marker.color}<br>Breitengrad=%{lat}<br>Längengrad=%{lon}<br>Typ=%{customdata[0]}<extra></extra>",
           "lat": [
            49.2987,
            51.9568,
            51.5164,
            51.4961
           ],
           "legendgroup": "",
           "lon": [
            8.9753,
            13.9866,
            6.9744,
            6.7463
           ],
           "marker": {
            "color": [
             7,
             6.4,
             7.2,
             6.2
            ],
            "coloraxis": "coloraxis",
            "opacity": 0.5,
            "size": [
             7,
             6.4,
             7.2,
             6.2
            ],
            "sizemode": "area",
            "sizeref": 0.6502500000000001
           },
           "mode": "markers",
           "name": "",
           "showlegend": false,
           "subplot": "mapbox",
           "type": "scattermapbox"
          }
         ],
         "name": "2009-09-12"
        },
        {
         "data": [
          {
           "customdata": [
            [
             "Vegetationsbrand"
            ],
            [
             "Vegetationsbrand"
            ],
            [
             "Vegetationsbrand"
            ],
            [
             "Vegetationsbrand"
            ]
           ],
           "hovertemplate": "Datum=2009-09-13<br>Feuerintensität=%{marker.color}<br>Breitengrad=%{lat}<br>Längengrad=%{lon}<br>Typ=%{customdata[0]}<extra></extra>",
           "lat": [
            49.0194,
            48.2095,
            48.3025,
            53.5103
           ],
           "legendgroup": "",
           "lon": [
            8.3333,
            9.003,
            10.1467,
            10.0323
           ],
           "marker": {
            "color": [
             3.9,
             9.2,
             4.1,
             5.7
            ],
            "coloraxis": "coloraxis",
            "opacity": 0.5,
            "size": [
             3.9,
             9.2,
             4.1,
             5.7
            ],
            "sizemode": "area",
            "sizeref": 0.6502500000000001
           },
           "mode": "markers",
           "name": "",
           "showlegend": false,
           "subplot": "mapbox",
           "type": "scattermapbox"
          }
         ],
         "name": "2009-09-13"
        },
        {
         "data": [
          {
           "customdata": [
            [
             "Vegetationsbrand"
            ],
            [
             "Vegetationsbrand"
            ],
            [
             "Vegetationsbrand"
            ],
            [
             "Vegetationsbrand"
            ],
            [
             "Vegetationsbrand"
            ]
           ],
           "hovertemplate": "Datum=2009-09-17<br>Feuerintensität=%{marker.color}<br>Breitengrad=%{lat}<br>Längengrad=%{lon}<br>Typ=%{customdata[0]}<extra></extra>",
           "lat": [
            53.5163,
            52.6971,
            52.2718,
            53.5002,
            53.0541
           ],
           "legendgroup": "",
           "lon": [
            9.8966,
            12.7939,
            10.4935,
            9.9716,
            10.1117
           ],
           "marker": {
            "color": [
             5.1,
             3.2,
             2.4,
             1.7,
             5.3
            ],
            "coloraxis": "coloraxis",
            "opacity": 0.5,
            "size": [
             5.1,
             3.2,
             2.4,
             1.7,
             5.3
            ],
            "sizemode": "area",
            "sizeref": 0.6502500000000001
           },
           "mode": "markers",
           "name": "",
           "showlegend": false,
           "subplot": "mapbox",
           "type": "scattermapbox"
          }
         ],
         "name": "2009-09-17"
        },
        {
         "data": [
          {
           "customdata": [
            [
             "Vegetationsbrand"
            ],
            [
             "Vegetationsbrand"
            ]
           ],
           "hovertemplate": "Datum=2009-09-18<br>Feuerintensität=%{marker.color}<br>Breitengrad=%{lat}<br>Längengrad=%{lon}<br>Typ=%{customdata[0]}<extra></extra>",
           "lat": [
            53.5193,
            52.9153
           ],
           "legendgroup": "",
           "lon": [
            9.9119,
            9.0541
           ],
           "marker": {
            "color": [
             8.6,
             4.6
            ],
            "coloraxis": "coloraxis",
            "opacity": 0.5,
            "size": [
             8.6,
             4.6
            ],
            "sizemode": "area",
            "sizeref": 0.6502500000000001
           },
           "mode": "markers",
           "name": "",
           "showlegend": false,
           "subplot": "mapbox",
           "type": "scattermapbox"
          }
         ],
         "name": "2009-09-18"
        },
        {
         "data": [
          {
           "customdata": [
            [
             "Vegetationsbrand"
            ],
            [
             "Vegetationsbrand"
            ],
            [
             "Vegetationsbrand"
            ],
            [
             "Vegetationsbrand"
            ],
            [
             "Vegetationsbrand"
            ],
            [
             "Vegetationsbrand"
            ],
            [
             "Vegetationsbrand"
            ],
            [
             "Vegetationsbrand"
            ],
            [
             "Vegetationsbrand"
            ],
            [
             "Vegetationsbrand"
            ],
            [
             "Vegetationsbrand"
            ],
            [
             "Vegetationsbrand"
            ]
           ],
           "hovertemplate": "Datum=2009-09-19<br>Feuerintensität=%{marker.color}<br>Breitengrad=%{lat}<br>Längengrad=%{lon}<br>Typ=%{customdata[0]}<extra></extra>",
           "lat": [
            52.4642,
            52.4841,
            52.4633,
            52.4834,
            52.4619,
            51.329,
            52.4819,
            52.4724,
            51.9195,
            51.9284,
            52.2088,
            51.489
           ],
           "legendgroup": "",
           "lon": [
            11.5794,
            11.5186,
            11.5828,
            11.5223,
            11.5522,
            12.6522,
            11.5349,
            11.5396,
            14.4063,
            14.4025,
            8.0452,
            6.7206
           ],
           "marker": {
            "color": [
             55.2,
             56.6,
             47.6,
             63.1,
             8.5,
             6.1,
             16.4,
             12.6,
             5,
             4.6,
             7,
             15.4
            ],
            "coloraxis": "coloraxis",
            "opacity": 0.5,
            "size": [
             55.2,
             56.6,
             47.6,
             63.1,
             8.5,
             6.1,
             16.4,
             12.6,
             5,
             4.6,
             7,
             15.4
            ],
            "sizemode": "area",
            "sizeref": 0.6502500000000001
           },
           "mode": "markers",
           "name": "",
           "showlegend": false,
           "subplot": "mapbox",
           "type": "scattermapbox"
          }
         ],
         "name": "2009-09-19"
        },
        {
         "data": [
          {
           "customdata": [
            [
             "Vegetationsbrand"
            ],
            [
             "Vegetationsbrand"
            ],
            [
             "Vegetationsbrand"
            ],
            [
             "Vegetationsbrand"
            ],
            [
             "Vegetationsbrand"
            ],
            [
             "Vegetationsbrand"
            ],
            [
             "Vegetationsbrand"
            ]
           ],
           "hovertemplate": "Datum=2009-09-20<br>Feuerintensität=%{marker.color}<br>Breitengrad=%{lat}<br>Längengrad=%{lon}<br>Typ=%{customdata[0]}<extra></extra>",
           "lat": [
            53.5191,
            52.4316,
            52.4506,
            51.0625,
            51.0713,
            51.0677,
            53.1168
           ],
           "legendgroup": "",
           "lon": [
            9.9099,
            11.5905,
            11.5999,
            6.8362,
            6.8395,
            6.8287,
            8.6992
           ],
           "marker": {
            "color": [
             12.4,
             18.4,
             9.5,
             6.2,
             14,
             15.3,
             16.6
            ],
            "coloraxis": "coloraxis",
            "opacity": 0.5,
            "size": [
             12.4,
             18.4,
             9.5,
             6.2,
             14,
             15.3,
             16.6
            ],
            "sizemode": "area",
            "sizeref": 0.6502500000000001
           },
           "mode": "markers",
           "name": "",
           "showlegend": false,
           "subplot": "mapbox",
           "type": "scattermapbox"
          }
         ],
         "name": "2009-09-20"
        },
        {
         "data": [
          {
           "customdata": [
            [
             "Vegetationsbrand"
            ]
           ],
           "hovertemplate": "Datum=2009-09-21<br>Feuerintensität=%{marker.color}<br>Breitengrad=%{lat}<br>Längengrad=%{lon}<br>Typ=%{customdata[0]}<extra></extra>",
           "lat": [
            51.4908
           ],
           "legendgroup": "",
           "lon": [
            6.7098
           ],
           "marker": {
            "color": [
             7.5
            ],
            "coloraxis": "coloraxis",
            "opacity": 0.5,
            "size": [
             7.5
            ],
            "sizemode": "area",
            "sizeref": 0.6502500000000001
           },
           "mode": "markers",
           "name": "",
           "showlegend": false,
           "subplot": "mapbox",
           "type": "scattermapbox"
          }
         ],
         "name": "2009-09-21"
        },
        {
         "data": [
          {
           "customdata": [
            [
             "Vegetationsbrand"
            ],
            [
             "Vegetationsbrand"
            ],
            [
             "Vegetationsbrand"
            ],
            [
             "Vegetationsbrand"
            ],
            [
             "Vegetationsbrand"
            ],
            [
             "Vegetationsbrand"
            ],
            [
             "Vegetationsbrand"
            ],
            [
             "Vegetationsbrand"
            ],
            [
             "Vegetationsbrand"
            ]
           ],
           "hovertemplate": "Datum=2009-09-22<br>Feuerintensität=%{marker.color}<br>Breitengrad=%{lat}<br>Längengrad=%{lon}<br>Typ=%{customdata[0]}<extra></extra>",
           "lat": [
            51.8973,
            48.4771,
            49.244,
            50.4847,
            49.5047,
            51.5379,
            51.5426,
            51.1113,
            51.492
           ],
           "legendgroup": "",
           "lon": [
            11.0907,
            9.2261,
            6.8552,
            9.9788,
            10.9557,
            6.3538,
            6.6572,
            7.2398,
            6.7235
           ],
           "marker": {
            "color": [
             6.8,
             4.4,
             5.4,
             4.4,
             12.6,
             5.1,
             7.6,
             5.8,
             9.6
            ],
            "coloraxis": "coloraxis",
            "opacity": 0.5,
            "size": [
             6.8,
             4.4,
             5.4,
             4.4,
             12.6,
             5.1,
             7.6,
             5.8,
             9.6
            ],
            "sizemode": "area",
            "sizeref": 0.6502500000000001
           },
           "mode": "markers",
           "name": "",
           "showlegend": false,
           "subplot": "mapbox",
           "type": "scattermapbox"
          }
         ],
         "name": "2009-09-22"
        },
        {
         "data": [
          {
           "customdata": [
            [
             "Vegetationsbrand"
            ]
           ],
           "hovertemplate": "Datum=2009-09-23<br>Feuerintensität=%{marker.color}<br>Breitengrad=%{lat}<br>Längengrad=%{lon}<br>Typ=%{customdata[0]}<extra></extra>",
           "lat": [
            51.0674
           ],
           "legendgroup": "",
           "lon": [
            6.8381
           ],
           "marker": {
            "color": [
             11.5
            ],
            "coloraxis": "coloraxis",
            "opacity": 0.5,
            "size": [
             11.5
            ],
            "sizemode": "area",
            "sizeref": 0.6502500000000001
           },
           "mode": "markers",
           "name": "",
           "showlegend": false,
           "subplot": "mapbox",
           "type": "scattermapbox"
          }
         ],
         "name": "2009-09-23"
        },
        {
         "data": [
          {
           "customdata": [
            [
             "Vegetationsbrand"
            ],
            [
             "Vegetationsbrand"
            ],
            [
             "Vegetationsbrand"
            ],
            [
             "Vegetationsbrand"
            ],
            [
             "Vegetationsbrand"
            ],
            [
             "Vegetationsbrand"
            ]
           ],
           "hovertemplate": "Datum=2009-09-24<br>Feuerintensität=%{marker.color}<br>Breitengrad=%{lat}<br>Längengrad=%{lon}<br>Typ=%{customdata[0]}<extra></extra>",
           "lat": [
            52.4628,
            52.4648,
            52.2873,
            52.026,
            51.8323,
            52.0239
           ],
           "legendgroup": "",
           "lon": [
            11.6242,
            11.6094,
            10.9533,
            11.2635,
            13.9917,
            11.2492
           ],
           "marker": {
            "color": [
             19.9,
             6.9,
             4.4,
             4.1,
             2.7,
             16.3
            ],
            "coloraxis": "coloraxis",
            "opacity": 0.5,
            "size": [
             19.9,
             6.9,
             4.4,
             4.1,
             2.7,
             16.3
            ],
            "sizemode": "area",
            "sizeref": 0.6502500000000001
           },
           "mode": "markers",
           "name": "",
           "showlegend": false,
           "subplot": "mapbox",
           "type": "scattermapbox"
          }
         ],
         "name": "2009-09-24"
        },
        {
         "data": [
          {
           "customdata": [
            [
             "Vegetationsbrand"
            ]
           ],
           "hovertemplate": "Datum=2009-09-26<br>Feuerintensität=%{marker.color}<br>Breitengrad=%{lat}<br>Längengrad=%{lon}<br>Typ=%{customdata[0]}<extra></extra>",
           "lat": [
            51.349
           ],
           "legendgroup": "",
           "lon": [
            14.3757
           ],
           "marker": {
            "color": [
             3.6
            ],
            "coloraxis": "coloraxis",
            "opacity": 0.5,
            "size": [
             3.6
            ],
            "sizemode": "area",
            "sizeref": 0.6502500000000001
           },
           "mode": "markers",
           "name": "",
           "showlegend": false,
           "subplot": "mapbox",
           "type": "scattermapbox"
          }
         ],
         "name": "2009-09-26"
        },
        {
         "data": [
          {
           "customdata": [
            [
             "Vegetationsbrand"
            ],
            [
             "Vegetationsbrand"
            ],
            [
             "Vegetationsbrand"
            ],
            [
             "Vegetationsbrand"
            ],
            [
             "Vegetationsbrand"
            ],
            [
             "Vegetationsbrand"
            ],
            [
             "Vegetationsbrand"
            ],
            [
             "Vegetationsbrand"
            ],
            [
             "Vegetationsbrand"
            ]
           ],
           "hovertemplate": "Datum=2009-09-27<br>Feuerintensität=%{marker.color}<br>Breitengrad=%{lat}<br>Längengrad=%{lon}<br>Typ=%{customdata[0]}<extra></extra>",
           "lat": [
            51.4891,
            53.1387,
            49.8541,
            48.6963,
            50.7807,
            49.2491,
            51.6871,
            51.0656,
            53.5212
           ],
           "legendgroup": "",
           "lon": [
            6.7157,
            8.6799,
            6.7761,
            8.9914,
            6.7836,
            6.8522,
            6.9129,
            6.829,
            9.9006
           ],
           "marker": {
            "color": [
             17.2,
             7.3,
             6.3,
             7.5,
             5.4,
             13.8,
             6.1,
             6,
             10.7
            ],
            "coloraxis": "coloraxis",
            "opacity": 0.5,
            "size": [
             17.2,
             7.3,
             6.3,
             7.5,
             5.4,
             13.8,
             6.1,
             6,
             10.7
            ],
            "sizemode": "area",
            "sizeref": 0.6502500000000001
           },
           "mode": "markers",
           "name": "",
           "showlegend": false,
           "subplot": "mapbox",
           "type": "scattermapbox"
          }
         ],
         "name": "2009-09-27"
        },
        {
         "data": [
          {
           "customdata": [
            [
             "Vegetationsbrand"
            ],
            [
             "Vegetationsbrand"
            ],
            [
             "Vegetationsbrand"
            ]
           ],
           "hovertemplate": "Datum=2009-09-29<br>Feuerintensität=%{marker.color}<br>Breitengrad=%{lat}<br>Längengrad=%{lon}<br>Typ=%{customdata[0]}<extra></extra>",
           "lat": [
            49.3542,
            48.6962,
            49.3469
           ],
           "legendgroup": "",
           "lon": [
            6.7433,
            8.9882,
            6.7313
           ],
           "marker": {
            "color": [
             4.3,
             10.5,
             9.2
            ],
            "coloraxis": "coloraxis",
            "opacity": 0.5,
            "size": [
             4.3,
             10.5,
             9.2
            ],
            "sizemode": "area",
            "sizeref": 0.6502500000000001
           },
           "mode": "markers",
           "name": "",
           "showlegend": false,
           "subplot": "mapbox",
           "type": "scattermapbox"
          }
         ],
         "name": "2009-09-29"
        },
        {
         "data": [
          {
           "customdata": [
            [
             "Vegetationsbrand"
            ],
            [
             "Vegetationsbrand"
            ],
            [
             "Vegetationsbrand"
            ],
            [
             "Vegetationsbrand"
            ],
            [
             "Vegetationsbrand"
            ],
            [
             "Vegetationsbrand"
            ],
            [
             "Vegetationsbrand"
            ],
            [
             "Vegetationsbrand"
            ]
           ],
           "hovertemplate": "Datum=2009-10-01<br>Feuerintensität=%{marker.color}<br>Breitengrad=%{lat}<br>Längengrad=%{lon}<br>Typ=%{customdata[0]}<extra></extra>",
           "lat": [
            48.5772,
            48.3077,
            48.4774,
            48.1991,
            48.3056,
            49.5562,
            49.5935,
            49.5537
           ],
           "legendgroup": "",
           "lon": [
            11.0126,
            11.1258,
            11.1133,
            11.2228,
            11.1393,
            8.3108,
            8.1476,
            8.2961
           ],
           "marker": {
            "color": [
             5.7,
             19.3,
             14.6,
             5.7,
             9.7,
             9.2,
             5.4,
             7.4
            ],
            "coloraxis": "coloraxis",
            "opacity": 0.5,
            "size": [
             5.7,
             19.3,
             14.6,
             5.7,
             9.7,
             9.2,
             5.4,
             7.4
            ],
            "sizemode": "area",
            "sizeref": 0.6502500000000001
           },
           "mode": "markers",
           "name": "",
           "showlegend": false,
           "subplot": "mapbox",
           "type": "scattermapbox"
          }
         ],
         "name": "2009-10-01"
        },
        {
         "data": [
          {
           "customdata": [
            [
             "Vegetationsbrand"
            ],
            [
             "Vegetationsbrand"
            ]
           ],
           "hovertemplate": "Datum=2009-10-03<br>Feuerintensität=%{marker.color}<br>Breitengrad=%{lat}<br>Längengrad=%{lon}<br>Typ=%{customdata[0]}<extra></extra>",
           "lat": [
            51.4876,
            48.4525
           ],
           "legendgroup": "",
           "lon": [
            6.7157,
            12.935
           ],
           "marker": {
            "color": [
             22,
             9.8
            ],
            "coloraxis": "coloraxis",
            "opacity": 0.5,
            "size": [
             22,
             9.8
            ],
            "sizemode": "area",
            "sizeref": 0.6502500000000001
           },
           "mode": "markers",
           "name": "",
           "showlegend": false,
           "subplot": "mapbox",
           "type": "scattermapbox"
          }
         ],
         "name": "2009-10-03"
        },
        {
         "data": [
          {
           "customdata": [
            [
             "Vegetationsbrand"
            ]
           ],
           "hovertemplate": "Datum=2009-10-05<br>Feuerintensität=%{marker.color}<br>Breitengrad=%{lat}<br>Längengrad=%{lon}<br>Typ=%{customdata[0]}<extra></extra>",
           "lat": [
            51.5659
           ],
           "legendgroup": "",
           "lon": [
            13.7334
           ],
           "marker": {
            "color": [
             19.1
            ],
            "coloraxis": "coloraxis",
            "opacity": 0.5,
            "size": [
             19.1
            ],
            "sizemode": "area",
            "sizeref": 0.6502500000000001
           },
           "mode": "markers",
           "name": "",
           "showlegend": false,
           "subplot": "mapbox",
           "type": "scattermapbox"
          }
         ],
         "name": "2009-10-05"
        },
        {
         "data": [
          {
           "customdata": [
            [
             "Vegetationsbrand"
            ],
            [
             "Vegetationsbrand"
            ],
            [
             "Vegetationsbrand"
            ]
           ],
           "hovertemplate": "Datum=2009-10-08<br>Feuerintensität=%{marker.color}<br>Breitengrad=%{lat}<br>Längengrad=%{lon}<br>Typ=%{customdata[0]}<extra></extra>",
           "lat": [
            48.1985,
            51.4602,
            52.1576
           ],
           "legendgroup": "",
           "lon": [
            12.8432,
            6.7345,
            10.3909
           ],
           "marker": {
            "color": [
             10.2,
             5.3,
             22.5
            ],
            "coloraxis": "coloraxis",
            "opacity": 0.5,
            "size": [
             10.2,
             5.3,
             22.5
            ],
            "sizemode": "area",
            "sizeref": 0.6502500000000001
           },
           "mode": "markers",
           "name": "",
           "showlegend": false,
           "subplot": "mapbox",
           "type": "scattermapbox"
          }
         ],
         "name": "2009-10-08"
        },
        {
         "data": [
          {
           "customdata": [
            [
             "Vegetationsbrand"
            ],
            [
             "Vegetationsbrand"
            ]
           ],
           "hovertemplate": "Datum=2009-10-10<br>Feuerintensität=%{marker.color}<br>Breitengrad=%{lat}<br>Längengrad=%{lon}<br>Typ=%{customdata[0]}<extra></extra>",
           "lat": [
            49.2439,
            49.3482
           ],
           "legendgroup": "",
           "lon": [
            6.8504,
            6.7334
           ],
           "marker": {
            "color": [
             8.2,
             7.4
            ],
            "coloraxis": "coloraxis",
            "opacity": 0.5,
            "size": [
             8.2,
             7.4
            ],
            "sizemode": "area",
            "sizeref": 0.6502500000000001
           },
           "mode": "markers",
           "name": "",
           "showlegend": false,
           "subplot": "mapbox",
           "type": "scattermapbox"
          }
         ],
         "name": "2009-10-10"
        },
        {
         "data": [
          {
           "customdata": [
            [
             "Vegetationsbrand"
            ]
           ],
           "hovertemplate": "Datum=2009-10-12<br>Feuerintensität=%{marker.color}<br>Breitengrad=%{lat}<br>Längengrad=%{lon}<br>Typ=%{customdata[0]}<extra></extra>",
           "lat": [
            51.6107
           ],
           "legendgroup": "",
           "lon": [
            7.0198
           ],
           "marker": {
            "color": [
             8.1
            ],
            "coloraxis": "coloraxis",
            "opacity": 0.5,
            "size": [
             8.1
            ],
            "sizemode": "area",
            "sizeref": 0.6502500000000001
           },
           "mode": "markers",
           "name": "",
           "showlegend": false,
           "subplot": "mapbox",
           "type": "scattermapbox"
          }
         ],
         "name": "2009-10-12"
        },
        {
         "data": [
          {
           "customdata": [
            [
             "Vegetationsbrand"
            ],
            [
             "Vegetationsbrand"
            ],
            [
             "Vegetationsbrand"
            ]
           ],
           "hovertemplate": "Datum=2009-10-13<br>Feuerintensität=%{marker.color}<br>Breitengrad=%{lat}<br>Längengrad=%{lon}<br>Typ=%{customdata[0]}<extra></extra>",
           "lat": [
            53.5163,
            53.4948,
            53.519
           ],
           "legendgroup": "",
           "lon": [
            9.9058,
            7.3834,
            9.913
           ],
           "marker": {
            "color": [
             9.2,
             29.7,
             6.6
            ],
            "coloraxis": "coloraxis",
            "opacity": 0.5,
            "size": [
             9.2,
             29.7,
             6.6
            ],
            "sizemode": "area",
            "sizeref": 0.6502500000000001
           },
           "mode": "markers",
           "name": "",
           "showlegend": false,
           "subplot": "mapbox",
           "type": "scattermapbox"
          }
         ],
         "name": "2009-10-13"
        },
        {
         "data": [
          {
           "customdata": [
            [
             "Vegetationsbrand"
            ]
           ],
           "hovertemplate": "Datum=2009-10-15<br>Feuerintensität=%{marker.color}<br>Breitengrad=%{lat}<br>Längengrad=%{lon}<br>Typ=%{customdata[0]}<extra></extra>",
           "lat": [
            49.3532
           ],
           "legendgroup": "",
           "lon": [
            6.7325
           ],
           "marker": {
            "color": [
             6.7
            ],
            "coloraxis": "coloraxis",
            "opacity": 0.5,
            "size": [
             6.7
            ],
            "sizemode": "area",
            "sizeref": 0.6502500000000001
           },
           "mode": "markers",
           "name": "",
           "showlegend": false,
           "subplot": "mapbox",
           "type": "scattermapbox"
          }
         ],
         "name": "2009-10-15"
        },
        {
         "data": [
          {
           "customdata": [
            [
             "Vegetationsbrand"
            ],
            [
             "Vegetationsbrand"
            ]
           ],
           "hovertemplate": "Datum=2009-10-20<br>Feuerintensität=%{marker.color}<br>Breitengrad=%{lat}<br>Längengrad=%{lon}<br>Typ=%{customdata[0]}<extra></extra>",
           "lat": [
            49.3562,
            51.4533
           ],
           "legendgroup": "",
           "lon": [
            6.7376,
            6.7344
           ],
           "marker": {
            "color": [
             7.4,
             6.2
            ],
            "coloraxis": "coloraxis",
            "opacity": 0.5,
            "size": [
             7.4,
             6.2
            ],
            "sizemode": "area",
            "sizeref": 0.6502500000000001
           },
           "mode": "markers",
           "name": "",
           "showlegend": false,
           "subplot": "mapbox",
           "type": "scattermapbox"
          }
         ],
         "name": "2009-10-20"
        },
        {
         "data": [
          {
           "customdata": [
            [
             "Vegetationsbrand"
            ],
            [
             "Vegetationsbrand"
            ]
           ],
           "hovertemplate": "Datum=2009-10-21<br>Feuerintensität=%{marker.color}<br>Breitengrad=%{lat}<br>Längengrad=%{lon}<br>Typ=%{customdata[0]}<extra></extra>",
           "lat": [
            51.2714,
            52.1706
           ],
           "legendgroup": "",
           "lon": [
            13.8754,
            14.6211
           ],
           "marker": {
            "color": [
             7.3,
             27.9
            ],
            "coloraxis": "coloraxis",
            "opacity": 0.5,
            "size": [
             7.3,
             27.9
            ],
            "sizemode": "area",
            "sizeref": 0.6502500000000001
           },
           "mode": "markers",
           "name": "",
           "showlegend": false,
           "subplot": "mapbox",
           "type": "scattermapbox"
          }
         ],
         "name": "2009-10-21"
        },
        {
         "data": [
          {
           "customdata": [
            [
             "Vegetationsbrand"
            ]
           ],
           "hovertemplate": "Datum=2009-10-28<br>Feuerintensität=%{marker.color}<br>Breitengrad=%{lat}<br>Längengrad=%{lon}<br>Typ=%{customdata[0]}<extra></extra>",
           "lat": [
            49.246
           ],
           "legendgroup": "",
           "lon": [
            6.8615
           ],
           "marker": {
            "color": [
             24.5
            ],
            "coloraxis": "coloraxis",
            "opacity": 0.5,
            "size": [
             24.5
            ],
            "sizemode": "area",
            "sizeref": 0.6502500000000001
           },
           "mode": "markers",
           "name": "",
           "showlegend": false,
           "subplot": "mapbox",
           "type": "scattermapbox"
          }
         ],
         "name": "2009-10-28"
        },
        {
         "data": [
          {
           "customdata": [
            [
             "Vegetationsbrand"
            ]
           ],
           "hovertemplate": "Datum=2009-10-29<br>Feuerintensität=%{marker.color}<br>Breitengrad=%{lat}<br>Längengrad=%{lon}<br>Typ=%{customdata[0]}<extra></extra>",
           "lat": [
            49.2465
           ],
           "legendgroup": "",
           "lon": [
            6.8521
           ],
           "marker": {
            "color": [
             6.6
            ],
            "coloraxis": "coloraxis",
            "opacity": 0.5,
            "size": [
             6.6
            ],
            "sizemode": "area",
            "sizeref": 0.6502500000000001
           },
           "mode": "markers",
           "name": "",
           "showlegend": false,
           "subplot": "mapbox",
           "type": "scattermapbox"
          }
         ],
         "name": "2009-10-29"
        },
        {
         "data": [
          {
           "customdata": [
            [
             "Vegetationsbrand"
            ]
           ],
           "hovertemplate": "Datum=2009-10-31<br>Feuerintensität=%{marker.color}<br>Breitengrad=%{lat}<br>Längengrad=%{lon}<br>Typ=%{customdata[0]}<extra></extra>",
           "lat": [
            49.2415
           ],
           "legendgroup": "",
           "lon": [
            6.8521
           ],
           "marker": {
            "color": [
             10.9
            ],
            "coloraxis": "coloraxis",
            "opacity": 0.5,
            "size": [
             10.9
            ],
            "sizemode": "area",
            "sizeref": 0.6502500000000001
           },
           "mode": "markers",
           "name": "",
           "showlegend": false,
           "subplot": "mapbox",
           "type": "scattermapbox"
          }
         ],
         "name": "2009-10-31"
        },
        {
         "data": [
          {
           "customdata": [
            [
             "Vegetationsbrand"
            ]
           ],
           "hovertemplate": "Datum=2009-11-03<br>Feuerintensität=%{marker.color}<br>Breitengrad=%{lat}<br>Längengrad=%{lon}<br>Typ=%{customdata[0]}<extra></extra>",
           "lat": [
            51.4878
           ],
           "legendgroup": "",
           "lon": [
            6.7088
           ],
           "marker": {
            "color": [
             10.4
            ],
            "coloraxis": "coloraxis",
            "opacity": 0.5,
            "size": [
             10.4
            ],
            "sizemode": "area",
            "sizeref": 0.6502500000000001
           },
           "mode": "markers",
           "name": "",
           "showlegend": false,
           "subplot": "mapbox",
           "type": "scattermapbox"
          }
         ],
         "name": "2009-11-03"
        },
        {
         "data": [
          {
           "customdata": [
            [
             "Vegetationsbrand"
            ]
           ],
           "hovertemplate": "Datum=2009-11-06<br>Feuerintensität=%{marker.color}<br>Breitengrad=%{lat}<br>Längengrad=%{lon}<br>Typ=%{customdata[0]}<extra></extra>",
           "lat": [
            52.1737
           ],
           "legendgroup": "",
           "lon": [
            10.4133
           ],
           "marker": {
            "color": [
             16.1
            ],
            "coloraxis": "coloraxis",
            "opacity": 0.5,
            "size": [
             16.1
            ],
            "sizemode": "area",
            "sizeref": 0.6502500000000001
           },
           "mode": "markers",
           "name": "",
           "showlegend": false,
           "subplot": "mapbox",
           "type": "scattermapbox"
          }
         ],
         "name": "2009-11-06"
        },
        {
         "data": [
          {
           "customdata": [
            [
             "Vegetationsbrand"
            ],
            [
             "Vegetationsbrand"
            ]
           ],
           "hovertemplate": "Datum=2009-11-17<br>Feuerintensität=%{marker.color}<br>Breitengrad=%{lat}<br>Längengrad=%{lon}<br>Typ=%{customdata[0]}<extra></extra>",
           "lat": [
            51.4965,
            51.4923
           ],
           "legendgroup": "",
           "lon": [
            6.7456,
            6.7256
           ],
           "marker": {
            "color": [
             13.2,
             21.3
            ],
            "coloraxis": "coloraxis",
            "opacity": 0.5,
            "size": [
             13.2,
             21.3
            ],
            "sizemode": "area",
            "sizeref": 0.6502500000000001
           },
           "mode": "markers",
           "name": "",
           "showlegend": false,
           "subplot": "mapbox",
           "type": "scattermapbox"
          }
         ],
         "name": "2009-11-17"
        },
        {
         "data": [
          {
           "customdata": [
            [
             "Vegetationsbrand"
            ]
           ],
           "hovertemplate": "Datum=2009-11-19<br>Feuerintensität=%{marker.color}<br>Breitengrad=%{lat}<br>Längengrad=%{lon}<br>Typ=%{customdata[0]}<extra></extra>",
           "lat": [
            51.4913
           ],
           "legendgroup": "",
           "lon": [
            6.7247
           ],
           "marker": {
            "color": [
             15.3
            ],
            "coloraxis": "coloraxis",
            "opacity": 0.5,
            "size": [
             15.3
            ],
            "sizemode": "area",
            "sizeref": 0.6502500000000001
           },
           "mode": "markers",
           "name": "",
           "showlegend": false,
           "subplot": "mapbox",
           "type": "scattermapbox"
          }
         ],
         "name": "2009-11-19"
        },
        {
         "data": [
          {
           "customdata": [
            [
             "Vegetationsbrand"
            ]
           ],
           "hovertemplate": "Datum=2009-11-20<br>Feuerintensität=%{marker.color}<br>Breitengrad=%{lat}<br>Längengrad=%{lon}<br>Typ=%{customdata[0]}<extra></extra>",
           "lat": [
            49.2439
           ],
           "legendgroup": "",
           "lon": [
            6.8499
           ],
           "marker": {
            "color": [
             21.8
            ],
            "coloraxis": "coloraxis",
            "opacity": 0.5,
            "size": [
             21.8
            ],
            "sizemode": "area",
            "sizeref": 0.6502500000000001
           },
           "mode": "markers",
           "name": "",
           "showlegend": false,
           "subplot": "mapbox",
           "type": "scattermapbox"
          }
         ],
         "name": "2009-11-20"
        },
        {
         "data": [
          {
           "customdata": [
            [
             "Vegetationsbrand"
            ]
           ],
           "hovertemplate": "Datum=2009-12-13<br>Feuerintensität=%{marker.color}<br>Breitengrad=%{lat}<br>Längengrad=%{lon}<br>Typ=%{customdata[0]}<extra></extra>",
           "lat": [
            51.4875
           ],
           "legendgroup": "",
           "lon": [
            6.7236
           ],
           "marker": {
            "color": [
             46.2
            ],
            "coloraxis": "coloraxis",
            "opacity": 0.5,
            "size": [
             46.2
            ],
            "sizemode": "area",
            "sizeref": 0.6502500000000001
           },
           "mode": "markers",
           "name": "",
           "showlegend": false,
           "subplot": "mapbox",
           "type": "scattermapbox"
          }
         ],
         "name": "2009-12-13"
        },
        {
         "data": [
          {
           "customdata": [
            [
             "Vegetationsbrand"
            ]
           ],
           "hovertemplate": "Datum=2009-12-27<br>Feuerintensität=%{marker.color}<br>Breitengrad=%{lat}<br>Längengrad=%{lon}<br>Typ=%{customdata[0]}<extra></extra>",
           "lat": [
            51.4878
           ],
           "legendgroup": "",
           "lon": [
            6.7246
           ],
           "marker": {
            "color": [
             16.9
            ],
            "coloraxis": "coloraxis",
            "opacity": 0.5,
            "size": [
             16.9
            ],
            "sizemode": "area",
            "sizeref": 0.6502500000000001
           },
           "mode": "markers",
           "name": "",
           "showlegend": false,
           "subplot": "mapbox",
           "type": "scattermapbox"
          }
         ],
         "name": "2009-12-27"
        }
       ],
       "layout": {
        "coloraxis": {
         "cmax": 50,
         "cmin": 0,
         "colorbar": {
          "ticks": "inside",
          "title": {
           "text": "Feuerintensität [MW]"
          }
         },
         "colorscale": [
          [
           0,
           "black"
          ],
          [
           0.5,
           "red"
          ],
          [
           1,
           "yellow"
          ]
         ]
        },
        "height": 800,
        "legend": {
         "itemsizing": "constant",
         "tracegroupgap": 0,
         "x": 0.1,
         "xanchor": "left",
         "y": 1,
         "yanchor": "top"
        },
        "mapbox": {
         "bearing": 0,
         "center": {
          "lat": 51.17,
          "lon": 10.45
         },
         "domain": {
          "x": [
           0,
           1
          ],
          "y": [
           0,
           1
          ]
         },
         "pitch": 0,
         "style": "carto-positron",
         "zoom": 4.5
        },
        "margin": {
         "t": 60
        },
        "sliders": [
         {
          "active": 0,
          "currentvalue": {
           "prefix": "Datum="
          },
          "len": 0.9,
          "pad": {
           "b": 10,
           "t": 60
          },
          "steps": [
           {
            "args": [
             [
              "2009-01-12"
             ],
             {
              "frame": {
               "duration": 0,
               "redraw": true
              },
              "fromcurrent": true,
              "mode": "immediate",
              "transition": {
               "duration": 0,
               "easing": "linear"
              }
             }
            ],
            "label": "2009-01-12",
            "method": "animate"
           },
           {
            "args": [
             [
              "2009-02-03"
             ],
             {
              "frame": {
               "duration": 0,
               "redraw": true
              },
              "fromcurrent": true,
              "mode": "immediate",
              "transition": {
               "duration": 0,
               "easing": "linear"
              }
             }
            ],
            "label": "2009-02-03",
            "method": "animate"
           },
           {
            "args": [
             [
              "2009-03-03"
             ],
             {
              "frame": {
               "duration": 0,
               "redraw": true
              },
              "fromcurrent": true,
              "mode": "immediate",
              "transition": {
               "duration": 0,
               "easing": "linear"
              }
             }
            ],
            "label": "2009-03-03",
            "method": "animate"
           },
           {
            "args": [
             [
              "2009-03-17"
             ],
             {
              "frame": {
               "duration": 0,
               "redraw": true
              },
              "fromcurrent": true,
              "mode": "immediate",
              "transition": {
               "duration": 0,
               "easing": "linear"
              }
             }
            ],
            "label": "2009-03-17",
            "method": "animate"
           },
           {
            "args": [
             [
              "2009-03-18"
             ],
             {
              "frame": {
               "duration": 0,
               "redraw": true
              },
              "fromcurrent": true,
              "mode": "immediate",
              "transition": {
               "duration": 0,
               "easing": "linear"
              }
             }
            ],
            "label": "2009-03-18",
            "method": "animate"
           },
           {
            "args": [
             [
              "2009-03-19"
             ],
             {
              "frame": {
               "duration": 0,
               "redraw": true
              },
              "fromcurrent": true,
              "mode": "immediate",
              "transition": {
               "duration": 0,
               "easing": "linear"
              }
             }
            ],
            "label": "2009-03-19",
            "method": "animate"
           },
           {
            "args": [
             [
              "2009-03-21"
             ],
             {
              "frame": {
               "duration": 0,
               "redraw": true
              },
              "fromcurrent": true,
              "mode": "immediate",
              "transition": {
               "duration": 0,
               "easing": "linear"
              }
             }
            ],
            "label": "2009-03-21",
            "method": "animate"
           },
           {
            "args": [
             [
              "2009-03-28"
             ],
             {
              "frame": {
               "duration": 0,
               "redraw": true
              },
              "fromcurrent": true,
              "mode": "immediate",
              "transition": {
               "duration": 0,
               "easing": "linear"
              }
             }
            ],
            "label": "2009-03-28",
            "method": "animate"
           },
           {
            "args": [
             [
              "2009-03-29"
             ],
             {
              "frame": {
               "duration": 0,
               "redraw": true
              },
              "fromcurrent": true,
              "mode": "immediate",
              "transition": {
               "duration": 0,
               "easing": "linear"
              }
             }
            ],
            "label": "2009-03-29",
            "method": "animate"
           },
           {
            "args": [
             [
              "2009-03-30"
             ],
             {
              "frame": {
               "duration": 0,
               "redraw": true
              },
              "fromcurrent": true,
              "mode": "immediate",
              "transition": {
               "duration": 0,
               "easing": "linear"
              }
             }
            ],
            "label": "2009-03-30",
            "method": "animate"
           },
           {
            "args": [
             [
              "2009-03-31"
             ],
             {
              "frame": {
               "duration": 0,
               "redraw": true
              },
              "fromcurrent": true,
              "mode": "immediate",
              "transition": {
               "duration": 0,
               "easing": "linear"
              }
             }
            ],
            "label": "2009-03-31",
            "method": "animate"
           },
           {
            "args": [
             [
              "2009-04-01"
             ],
             {
              "frame": {
               "duration": 0,
               "redraw": true
              },
              "fromcurrent": true,
              "mode": "immediate",
              "transition": {
               "duration": 0,
               "easing": "linear"
              }
             }
            ],
            "label": "2009-04-01",
            "method": "animate"
           },
           {
            "args": [
             [
              "2009-04-02"
             ],
             {
              "frame": {
               "duration": 0,
               "redraw": true
              },
              "fromcurrent": true,
              "mode": "immediate",
              "transition": {
               "duration": 0,
               "easing": "linear"
              }
             }
            ],
            "label": "2009-04-02",
            "method": "animate"
           },
           {
            "args": [
             [
              "2009-04-03"
             ],
             {
              "frame": {
               "duration": 0,
               "redraw": true
              },
              "fromcurrent": true,
              "mode": "immediate",
              "transition": {
               "duration": 0,
               "easing": "linear"
              }
             }
            ],
            "label": "2009-04-03",
            "method": "animate"
           },
           {
            "args": [
             [
              "2009-04-04"
             ],
             {
              "frame": {
               "duration": 0,
               "redraw": true
              },
              "fromcurrent": true,
              "mode": "immediate",
              "transition": {
               "duration": 0,
               "easing": "linear"
              }
             }
            ],
            "label": "2009-04-04",
            "method": "animate"
           },
           {
            "args": [
             [
              "2009-04-06"
             ],
             {
              "frame": {
               "duration": 0,
               "redraw": true
              },
              "fromcurrent": true,
              "mode": "immediate",
              "transition": {
               "duration": 0,
               "easing": "linear"
              }
             }
            ],
            "label": "2009-04-06",
            "method": "animate"
           },
           {
            "args": [
             [
              "2009-04-07"
             ],
             {
              "frame": {
               "duration": 0,
               "redraw": true
              },
              "fromcurrent": true,
              "mode": "immediate",
              "transition": {
               "duration": 0,
               "easing": "linear"
              }
             }
            ],
            "label": "2009-04-07",
            "method": "animate"
           },
           {
            "args": [
             [
              "2009-04-08"
             ],
             {
              "frame": {
               "duration": 0,
               "redraw": true
              },
              "fromcurrent": true,
              "mode": "immediate",
              "transition": {
               "duration": 0,
               "easing": "linear"
              }
             }
            ],
            "label": "2009-04-08",
            "method": "animate"
           },
           {
            "args": [
             [
              "2009-04-10"
             ],
             {
              "frame": {
               "duration": 0,
               "redraw": true
              },
              "fromcurrent": true,
              "mode": "immediate",
              "transition": {
               "duration": 0,
               "easing": "linear"
              }
             }
            ],
            "label": "2009-04-10",
            "method": "animate"
           },
           {
            "args": [
             [
              "2009-04-11"
             ],
             {
              "frame": {
               "duration": 0,
               "redraw": true
              },
              "fromcurrent": true,
              "mode": "immediate",
              "transition": {
               "duration": 0,
               "easing": "linear"
              }
             }
            ],
            "label": "2009-04-11",
            "method": "animate"
           },
           {
            "args": [
             [
              "2009-04-13"
             ],
             {
              "frame": {
               "duration": 0,
               "redraw": true
              },
              "fromcurrent": true,
              "mode": "immediate",
              "transition": {
               "duration": 0,
               "easing": "linear"
              }
             }
            ],
            "label": "2009-04-13",
            "method": "animate"
           },
           {
            "args": [
             [
              "2009-04-14"
             ],
             {
              "frame": {
               "duration": 0,
               "redraw": true
              },
              "fromcurrent": true,
              "mode": "immediate",
              "transition": {
               "duration": 0,
               "easing": "linear"
              }
             }
            ],
            "label": "2009-04-14",
            "method": "animate"
           },
           {
            "args": [
             [
              "2009-04-15"
             ],
             {
              "frame": {
               "duration": 0,
               "redraw": true
              },
              "fromcurrent": true,
              "mode": "immediate",
              "transition": {
               "duration": 0,
               "easing": "linear"
              }
             }
            ],
            "label": "2009-04-15",
            "method": "animate"
           },
           {
            "args": [
             [
              "2009-04-16"
             ],
             {
              "frame": {
               "duration": 0,
               "redraw": true
              },
              "fromcurrent": true,
              "mode": "immediate",
              "transition": {
               "duration": 0,
               "easing": "linear"
              }
             }
            ],
            "label": "2009-04-16",
            "method": "animate"
           },
           {
            "args": [
             [
              "2009-04-17"
             ],
             {
              "frame": {
               "duration": 0,
               "redraw": true
              },
              "fromcurrent": true,
              "mode": "immediate",
              "transition": {
               "duration": 0,
               "easing": "linear"
              }
             }
            ],
            "label": "2009-04-17",
            "method": "animate"
           },
           {
            "args": [
             [
              "2009-04-18"
             ],
             {
              "frame": {
               "duration": 0,
               "redraw": true
              },
              "fromcurrent": true,
              "mode": "immediate",
              "transition": {
               "duration": 0,
               "easing": "linear"
              }
             }
            ],
            "label": "2009-04-18",
            "method": "animate"
           },
           {
            "args": [
             [
              "2009-04-19"
             ],
             {
              "frame": {
               "duration": 0,
               "redraw": true
              },
              "fromcurrent": true,
              "mode": "immediate",
              "transition": {
               "duration": 0,
               "easing": "linear"
              }
             }
            ],
            "label": "2009-04-19",
            "method": "animate"
           },
           {
            "args": [
             [
              "2009-04-20"
             ],
             {
              "frame": {
               "duration": 0,
               "redraw": true
              },
              "fromcurrent": true,
              "mode": "immediate",
              "transition": {
               "duration": 0,
               "easing": "linear"
              }
             }
            ],
            "label": "2009-04-20",
            "method": "animate"
           },
           {
            "args": [
             [
              "2009-04-21"
             ],
             {
              "frame": {
               "duration": 0,
               "redraw": true
              },
              "fromcurrent": true,
              "mode": "immediate",
              "transition": {
               "duration": 0,
               "easing": "linear"
              }
             }
            ],
            "label": "2009-04-21",
            "method": "animate"
           },
           {
            "args": [
             [
              "2009-04-22"
             ],
             {
              "frame": {
               "duration": 0,
               "redraw": true
              },
              "fromcurrent": true,
              "mode": "immediate",
              "transition": {
               "duration": 0,
               "easing": "linear"
              }
             }
            ],
            "label": "2009-04-22",
            "method": "animate"
           },
           {
            "args": [
             [
              "2009-04-24"
             ],
             {
              "frame": {
               "duration": 0,
               "redraw": true
              },
              "fromcurrent": true,
              "mode": "immediate",
              "transition": {
               "duration": 0,
               "easing": "linear"
              }
             }
            ],
            "label": "2009-04-24",
            "method": "animate"
           },
           {
            "args": [
             [
              "2009-04-25"
             ],
             {
              "frame": {
               "duration": 0,
               "redraw": true
              },
              "fromcurrent": true,
              "mode": "immediate",
              "transition": {
               "duration": 0,
               "easing": "linear"
              }
             }
            ],
            "label": "2009-04-25",
            "method": "animate"
           },
           {
            "args": [
             [
              "2009-04-26"
             ],
             {
              "frame": {
               "duration": 0,
               "redraw": true
              },
              "fromcurrent": true,
              "mode": "immediate",
              "transition": {
               "duration": 0,
               "easing": "linear"
              }
             }
            ],
            "label": "2009-04-26",
            "method": "animate"
           },
           {
            "args": [
             [
              "2009-04-28"
             ],
             {
              "frame": {
               "duration": 0,
               "redraw": true
              },
              "fromcurrent": true,
              "mode": "immediate",
              "transition": {
               "duration": 0,
               "easing": "linear"
              }
             }
            ],
            "label": "2009-04-28",
            "method": "animate"
           },
           {
            "args": [
             [
              "2009-04-30"
             ],
             {
              "frame": {
               "duration": 0,
               "redraw": true
              },
              "fromcurrent": true,
              "mode": "immediate",
              "transition": {
               "duration": 0,
               "easing": "linear"
              }
             }
            ],
            "label": "2009-04-30",
            "method": "animate"
           },
           {
            "args": [
             [
              "2009-05-01"
             ],
             {
              "frame": {
               "duration": 0,
               "redraw": true
              },
              "fromcurrent": true,
              "mode": "immediate",
              "transition": {
               "duration": 0,
               "easing": "linear"
              }
             }
            ],
            "label": "2009-05-01",
            "method": "animate"
           },
           {
            "args": [
             [
              "2009-05-02"
             ],
             {
              "frame": {
               "duration": 0,
               "redraw": true
              },
              "fromcurrent": true,
              "mode": "immediate",
              "transition": {
               "duration": 0,
               "easing": "linear"
              }
             }
            ],
            "label": "2009-05-02",
            "method": "animate"
           },
           {
            "args": [
             [
              "2009-05-03"
             ],
             {
              "frame": {
               "duration": 0,
               "redraw": true
              },
              "fromcurrent": true,
              "mode": "immediate",
              "transition": {
               "duration": 0,
               "easing": "linear"
              }
             }
            ],
            "label": "2009-05-03",
            "method": "animate"
           },
           {
            "args": [
             [
              "2009-05-04"
             ],
             {
              "frame": {
               "duration": 0,
               "redraw": true
              },
              "fromcurrent": true,
              "mode": "immediate",
              "transition": {
               "duration": 0,
               "easing": "linear"
              }
             }
            ],
            "label": "2009-05-04",
            "method": "animate"
           },
           {
            "args": [
             [
              "2009-05-07"
             ],
             {
              "frame": {
               "duration": 0,
               "redraw": true
              },
              "fromcurrent": true,
              "mode": "immediate",
              "transition": {
               "duration": 0,
               "easing": "linear"
              }
             }
            ],
            "label": "2009-05-07",
            "method": "animate"
           },
           {
            "args": [
             [
              "2009-05-08"
             ],
             {
              "frame": {
               "duration": 0,
               "redraw": true
              },
              "fromcurrent": true,
              "mode": "immediate",
              "transition": {
               "duration": 0,
               "easing": "linear"
              }
             }
            ],
            "label": "2009-05-08",
            "method": "animate"
           },
           {
            "args": [
             [
              "2009-05-10"
             ],
             {
              "frame": {
               "duration": 0,
               "redraw": true
              },
              "fromcurrent": true,
              "mode": "immediate",
              "transition": {
               "duration": 0,
               "easing": "linear"
              }
             }
            ],
            "label": "2009-05-10",
            "method": "animate"
           },
           {
            "args": [
             [
              "2009-05-11"
             ],
             {
              "frame": {
               "duration": 0,
               "redraw": true
              },
              "fromcurrent": true,
              "mode": "immediate",
              "transition": {
               "duration": 0,
               "easing": "linear"
              }
             }
            ],
            "label": "2009-05-11",
            "method": "animate"
           },
           {
            "args": [
             [
              "2009-05-12"
             ],
             {
              "frame": {
               "duration": 0,
               "redraw": true
              },
              "fromcurrent": true,
              "mode": "immediate",
              "transition": {
               "duration": 0,
               "easing": "linear"
              }
             }
            ],
            "label": "2009-05-12",
            "method": "animate"
           },
           {
            "args": [
             [
              "2009-05-14"
             ],
             {
              "frame": {
               "duration": 0,
               "redraw": true
              },
              "fromcurrent": true,
              "mode": "immediate",
              "transition": {
               "duration": 0,
               "easing": "linear"
              }
             }
            ],
            "label": "2009-05-14",
            "method": "animate"
           },
           {
            "args": [
             [
              "2009-05-15"
             ],
             {
              "frame": {
               "duration": 0,
               "redraw": true
              },
              "fromcurrent": true,
              "mode": "immediate",
              "transition": {
               "duration": 0,
               "easing": "linear"
              }
             }
            ],
            "label": "2009-05-15",
            "method": "animate"
           },
           {
            "args": [
             [
              "2009-05-17"
             ],
             {
              "frame": {
               "duration": 0,
               "redraw": true
              },
              "fromcurrent": true,
              "mode": "immediate",
              "transition": {
               "duration": 0,
               "easing": "linear"
              }
             }
            ],
            "label": "2009-05-17",
            "method": "animate"
           },
           {
            "args": [
             [
              "2009-05-18"
             ],
             {
              "frame": {
               "duration": 0,
               "redraw": true
              },
              "fromcurrent": true,
              "mode": "immediate",
              "transition": {
               "duration": 0,
               "easing": "linear"
              }
             }
            ],
            "label": "2009-05-18",
            "method": "animate"
           },
           {
            "args": [
             [
              "2009-05-19"
             ],
             {
              "frame": {
               "duration": 0,
               "redraw": true
              },
              "fromcurrent": true,
              "mode": "immediate",
              "transition": {
               "duration": 0,
               "easing": "linear"
              }
             }
            ],
            "label": "2009-05-19",
            "method": "animate"
           },
           {
            "args": [
             [
              "2009-05-20"
             ],
             {
              "frame": {
               "duration": 0,
               "redraw": true
              },
              "fromcurrent": true,
              "mode": "immediate",
              "transition": {
               "duration": 0,
               "easing": "linear"
              }
             }
            ],
            "label": "2009-05-20",
            "method": "animate"
           },
           {
            "args": [
             [
              "2009-05-21"
             ],
             {
              "frame": {
               "duration": 0,
               "redraw": true
              },
              "fromcurrent": true,
              "mode": "immediate",
              "transition": {
               "duration": 0,
               "easing": "linear"
              }
             }
            ],
            "label": "2009-05-21",
            "method": "animate"
           },
           {
            "args": [
             [
              "2009-05-22"
             ],
             {
              "frame": {
               "duration": 0,
               "redraw": true
              },
              "fromcurrent": true,
              "mode": "immediate",
              "transition": {
               "duration": 0,
               "easing": "linear"
              }
             }
            ],
            "label": "2009-05-22",
            "method": "animate"
           },
           {
            "args": [
             [
              "2009-05-23"
             ],
             {
              "frame": {
               "duration": 0,
               "redraw": true
              },
              "fromcurrent": true,
              "mode": "immediate",
              "transition": {
               "duration": 0,
               "easing": "linear"
              }
             }
            ],
            "label": "2009-05-23",
            "method": "animate"
           },
           {
            "args": [
             [
              "2009-05-24"
             ],
             {
              "frame": {
               "duration": 0,
               "redraw": true
              },
              "fromcurrent": true,
              "mode": "immediate",
              "transition": {
               "duration": 0,
               "easing": "linear"
              }
             }
            ],
            "label": "2009-05-24",
            "method": "animate"
           },
           {
            "args": [
             [
              "2009-05-25"
             ],
             {
              "frame": {
               "duration": 0,
               "redraw": true
              },
              "fromcurrent": true,
              "mode": "immediate",
              "transition": {
               "duration": 0,
               "easing": "linear"
              }
             }
            ],
            "label": "2009-05-25",
            "method": "animate"
           },
           {
            "args": [
             [
              "2009-05-26"
             ],
             {
              "frame": {
               "duration": 0,
               "redraw": true
              },
              "fromcurrent": true,
              "mode": "immediate",
              "transition": {
               "duration": 0,
               "easing": "linear"
              }
             }
            ],
            "label": "2009-05-26",
            "method": "animate"
           },
           {
            "args": [
             [
              "2009-05-27"
             ],
             {
              "frame": {
               "duration": 0,
               "redraw": true
              },
              "fromcurrent": true,
              "mode": "immediate",
              "transition": {
               "duration": 0,
               "easing": "linear"
              }
             }
            ],
            "label": "2009-05-27",
            "method": "animate"
           },
           {
            "args": [
             [
              "2009-05-28"
             ],
             {
              "frame": {
               "duration": 0,
               "redraw": true
              },
              "fromcurrent": true,
              "mode": "immediate",
              "transition": {
               "duration": 0,
               "easing": "linear"
              }
             }
            ],
            "label": "2009-05-28",
            "method": "animate"
           },
           {
            "args": [
             [
              "2009-05-29"
             ],
             {
              "frame": {
               "duration": 0,
               "redraw": true
              },
              "fromcurrent": true,
              "mode": "immediate",
              "transition": {
               "duration": 0,
               "easing": "linear"
              }
             }
            ],
            "label": "2009-05-29",
            "method": "animate"
           },
           {
            "args": [
             [
              "2009-05-31"
             ],
             {
              "frame": {
               "duration": 0,
               "redraw": true
              },
              "fromcurrent": true,
              "mode": "immediate",
              "transition": {
               "duration": 0,
               "easing": "linear"
              }
             }
            ],
            "label": "2009-05-31",
            "method": "animate"
           },
           {
            "args": [
             [
              "2009-06-01"
             ],
             {
              "frame": {
               "duration": 0,
               "redraw": true
              },
              "fromcurrent": true,
              "mode": "immediate",
              "transition": {
               "duration": 0,
               "easing": "linear"
              }
             }
            ],
            "label": "2009-06-01",
            "method": "animate"
           },
           {
            "args": [
             [
              "2009-06-02"
             ],
             {
              "frame": {
               "duration": 0,
               "redraw": true
              },
              "fromcurrent": true,
              "mode": "immediate",
              "transition": {
               "duration": 0,
               "easing": "linear"
              }
             }
            ],
            "label": "2009-06-02",
            "method": "animate"
           },
           {
            "args": [
             [
              "2009-06-03"
             ],
             {
              "frame": {
               "duration": 0,
               "redraw": true
              },
              "fromcurrent": true,
              "mode": "immediate",
              "transition": {
               "duration": 0,
               "easing": "linear"
              }
             }
            ],
            "label": "2009-06-03",
            "method": "animate"
           },
           {
            "args": [
             [
              "2009-06-04"
             ],
             {
              "frame": {
               "duration": 0,
               "redraw": true
              },
              "fromcurrent": true,
              "mode": "immediate",
              "transition": {
               "duration": 0,
               "easing": "linear"
              }
             }
            ],
            "label": "2009-06-04",
            "method": "animate"
           },
           {
            "args": [
             [
              "2009-06-09"
             ],
             {
              "frame": {
               "duration": 0,
               "redraw": true
              },
              "fromcurrent": true,
              "mode": "immediate",
              "transition": {
               "duration": 0,
               "easing": "linear"
              }
             }
            ],
            "label": "2009-06-09",
            "method": "animate"
           },
           {
            "args": [
             [
              "2009-06-10"
             ],
             {
              "frame": {
               "duration": 0,
               "redraw": true
              },
              "fromcurrent": true,
              "mode": "immediate",
              "transition": {
               "duration": 0,
               "easing": "linear"
              }
             }
            ],
            "label": "2009-06-10",
            "method": "animate"
           },
           {
            "args": [
             [
              "2009-06-11"
             ],
             {
              "frame": {
               "duration": 0,
               "redraw": true
              },
              "fromcurrent": true,
              "mode": "immediate",
              "transition": {
               "duration": 0,
               "easing": "linear"
              }
             }
            ],
            "label": "2009-06-11",
            "method": "animate"
           },
           {
            "args": [
             [
              "2009-06-13"
             ],
             {
              "frame": {
               "duration": 0,
               "redraw": true
              },
              "fromcurrent": true,
              "mode": "immediate",
              "transition": {
               "duration": 0,
               "easing": "linear"
              }
             }
            ],
            "label": "2009-06-13",
            "method": "animate"
           },
           {
            "args": [
             [
              "2009-06-14"
             ],
             {
              "frame": {
               "duration": 0,
               "redraw": true
              },
              "fromcurrent": true,
              "mode": "immediate",
              "transition": {
               "duration": 0,
               "easing": "linear"
              }
             }
            ],
            "label": "2009-06-14",
            "method": "animate"
           },
           {
            "args": [
             [
              "2009-06-15"
             ],
             {
              "frame": {
               "duration": 0,
               "redraw": true
              },
              "fromcurrent": true,
              "mode": "immediate",
              "transition": {
               "duration": 0,
               "easing": "linear"
              }
             }
            ],
            "label": "2009-06-15",
            "method": "animate"
           },
           {
            "args": [
             [
              "2009-06-16"
             ],
             {
              "frame": {
               "duration": 0,
               "redraw": true
              },
              "fromcurrent": true,
              "mode": "immediate",
              "transition": {
               "duration": 0,
               "easing": "linear"
              }
             }
            ],
            "label": "2009-06-16",
            "method": "animate"
           },
           {
            "args": [
             [
              "2009-06-17"
             ],
             {
              "frame": {
               "duration": 0,
               "redraw": true
              },
              "fromcurrent": true,
              "mode": "immediate",
              "transition": {
               "duration": 0,
               "easing": "linear"
              }
             }
            ],
            "label": "2009-06-17",
            "method": "animate"
           },
           {
            "args": [
             [
              "2009-06-18"
             ],
             {
              "frame": {
               "duration": 0,
               "redraw": true
              },
              "fromcurrent": true,
              "mode": "immediate",
              "transition": {
               "duration": 0,
               "easing": "linear"
              }
             }
            ],
            "label": "2009-06-18",
            "method": "animate"
           },
           {
            "args": [
             [
              "2009-06-19"
             ],
             {
              "frame": {
               "duration": 0,
               "redraw": true
              },
              "fromcurrent": true,
              "mode": "immediate",
              "transition": {
               "duration": 0,
               "easing": "linear"
              }
             }
            ],
            "label": "2009-06-19",
            "method": "animate"
           },
           {
            "args": [
             [
              "2009-06-20"
             ],
             {
              "frame": {
               "duration": 0,
               "redraw": true
              },
              "fromcurrent": true,
              "mode": "immediate",
              "transition": {
               "duration": 0,
               "easing": "linear"
              }
             }
            ],
            "label": "2009-06-20",
            "method": "animate"
           },
           {
            "args": [
             [
              "2009-06-22"
             ],
             {
              "frame": {
               "duration": 0,
               "redraw": true
              },
              "fromcurrent": true,
              "mode": "immediate",
              "transition": {
               "duration": 0,
               "easing": "linear"
              }
             }
            ],
            "label": "2009-06-22",
            "method": "animate"
           },
           {
            "args": [
             [
              "2009-06-23"
             ],
             {
              "frame": {
               "duration": 0,
               "redraw": true
              },
              "fromcurrent": true,
              "mode": "immediate",
              "transition": {
               "duration": 0,
               "easing": "linear"
              }
             }
            ],
            "label": "2009-06-23",
            "method": "animate"
           },
           {
            "args": [
             [
              "2009-06-24"
             ],
             {
              "frame": {
               "duration": 0,
               "redraw": true
              },
              "fromcurrent": true,
              "mode": "immediate",
              "transition": {
               "duration": 0,
               "easing": "linear"
              }
             }
            ],
            "label": "2009-06-24",
            "method": "animate"
           },
           {
            "args": [
             [
              "2009-06-25"
             ],
             {
              "frame": {
               "duration": 0,
               "redraw": true
              },
              "fromcurrent": true,
              "mode": "immediate",
              "transition": {
               "duration": 0,
               "easing": "linear"
              }
             }
            ],
            "label": "2009-06-25",
            "method": "animate"
           },
           {
            "args": [
             [
              "2009-06-27"
             ],
             {
              "frame": {
               "duration": 0,
               "redraw": true
              },
              "fromcurrent": true,
              "mode": "immediate",
              "transition": {
               "duration": 0,
               "easing": "linear"
              }
             }
            ],
            "label": "2009-06-27",
            "method": "animate"
           },
           {
            "args": [
             [
              "2009-06-29"
             ],
             {
              "frame": {
               "duration": 0,
               "redraw": true
              },
              "fromcurrent": true,
              "mode": "immediate",
              "transition": {
               "duration": 0,
               "easing": "linear"
              }
             }
            ],
            "label": "2009-06-29",
            "method": "animate"
           },
           {
            "args": [
             [
              "2009-06-30"
             ],
             {
              "frame": {
               "duration": 0,
               "redraw": true
              },
              "fromcurrent": true,
              "mode": "immediate",
              "transition": {
               "duration": 0,
               "easing": "linear"
              }
             }
            ],
            "label": "2009-06-30",
            "method": "animate"
           },
           {
            "args": [
             [
              "2009-07-01"
             ],
             {
              "frame": {
               "duration": 0,
               "redraw": true
              },
              "fromcurrent": true,
              "mode": "immediate",
              "transition": {
               "duration": 0,
               "easing": "linear"
              }
             }
            ],
            "label": "2009-07-01",
            "method": "animate"
           },
           {
            "args": [
             [
              "2009-07-02"
             ],
             {
              "frame": {
               "duration": 0,
               "redraw": true
              },
              "fromcurrent": true,
              "mode": "immediate",
              "transition": {
               "duration": 0,
               "easing": "linear"
              }
             }
            ],
            "label": "2009-07-02",
            "method": "animate"
           },
           {
            "args": [
             [
              "2009-07-03"
             ],
             {
              "frame": {
               "duration": 0,
               "redraw": true
              },
              "fromcurrent": true,
              "mode": "immediate",
              "transition": {
               "duration": 0,
               "easing": "linear"
              }
             }
            ],
            "label": "2009-07-03",
            "method": "animate"
           },
           {
            "args": [
             [
              "2009-07-04"
             ],
             {
              "frame": {
               "duration": 0,
               "redraw": true
              },
              "fromcurrent": true,
              "mode": "immediate",
              "transition": {
               "duration": 0,
               "easing": "linear"
              }
             }
            ],
            "label": "2009-07-04",
            "method": "animate"
           },
           {
            "args": [
             [
              "2009-07-06"
             ],
             {
              "frame": {
               "duration": 0,
               "redraw": true
              },
              "fromcurrent": true,
              "mode": "immediate",
              "transition": {
               "duration": 0,
               "easing": "linear"
              }
             }
            ],
            "label": "2009-07-06",
            "method": "animate"
           },
           {
            "args": [
             [
              "2009-07-07"
             ],
             {
              "frame": {
               "duration": 0,
               "redraw": true
              },
              "fromcurrent": true,
              "mode": "immediate",
              "transition": {
               "duration": 0,
               "easing": "linear"
              }
             }
            ],
            "label": "2009-07-07",
            "method": "animate"
           },
           {
            "args": [
             [
              "2009-07-09"
             ],
             {
              "frame": {
               "duration": 0,
               "redraw": true
              },
              "fromcurrent": true,
              "mode": "immediate",
              "transition": {
               "duration": 0,
               "easing": "linear"
              }
             }
            ],
            "label": "2009-07-09",
            "method": "animate"
           },
           {
            "args": [
             [
              "2009-07-12"
             ],
             {
              "frame": {
               "duration": 0,
               "redraw": true
              },
              "fromcurrent": true,
              "mode": "immediate",
              "transition": {
               "duration": 0,
               "easing": "linear"
              }
             }
            ],
            "label": "2009-07-12",
            "method": "animate"
           },
           {
            "args": [
             [
              "2009-07-13"
             ],
             {
              "frame": {
               "duration": 0,
               "redraw": true
              },
              "fromcurrent": true,
              "mode": "immediate",
              "transition": {
               "duration": 0,
               "easing": "linear"
              }
             }
            ],
            "label": "2009-07-13",
            "method": "animate"
           },
           {
            "args": [
             [
              "2009-07-15"
             ],
             {
              "frame": {
               "duration": 0,
               "redraw": true
              },
              "fromcurrent": true,
              "mode": "immediate",
              "transition": {
               "duration": 0,
               "easing": "linear"
              }
             }
            ],
            "label": "2009-07-15",
            "method": "animate"
           },
           {
            "args": [
             [
              "2009-07-16"
             ],
             {
              "frame": {
               "duration": 0,
               "redraw": true
              },
              "fromcurrent": true,
              "mode": "immediate",
              "transition": {
               "duration": 0,
               "easing": "linear"
              }
             }
            ],
            "label": "2009-07-16",
            "method": "animate"
           },
           {
            "args": [
             [
              "2009-07-21"
             ],
             {
              "frame": {
               "duration": 0,
               "redraw": true
              },
              "fromcurrent": true,
              "mode": "immediate",
              "transition": {
               "duration": 0,
               "easing": "linear"
              }
             }
            ],
            "label": "2009-07-21",
            "method": "animate"
           },
           {
            "args": [
             [
              "2009-07-22"
             ],
             {
              "frame": {
               "duration": 0,
               "redraw": true
              },
              "fromcurrent": true,
              "mode": "immediate",
              "transition": {
               "duration": 0,
               "easing": "linear"
              }
             }
            ],
            "label": "2009-07-22",
            "method": "animate"
           },
           {
            "args": [
             [
              "2009-07-24"
             ],
             {
              "frame": {
               "duration": 0,
               "redraw": true
              },
              "fromcurrent": true,
              "mode": "immediate",
              "transition": {
               "duration": 0,
               "easing": "linear"
              }
             }
            ],
            "label": "2009-07-24",
            "method": "animate"
           },
           {
            "args": [
             [
              "2009-07-25"
             ],
             {
              "frame": {
               "duration": 0,
               "redraw": true
              },
              "fromcurrent": true,
              "mode": "immediate",
              "transition": {
               "duration": 0,
               "easing": "linear"
              }
             }
            ],
            "label": "2009-07-25",
            "method": "animate"
           },
           {
            "args": [
             [
              "2009-07-27"
             ],
             {
              "frame": {
               "duration": 0,
               "redraw": true
              },
              "fromcurrent": true,
              "mode": "immediate",
              "transition": {
               "duration": 0,
               "easing": "linear"
              }
             }
            ],
            "label": "2009-07-27",
            "method": "animate"
           },
           {
            "args": [
             [
              "2009-07-28"
             ],
             {
              "frame": {
               "duration": 0,
               "redraw": true
              },
              "fromcurrent": true,
              "mode": "immediate",
              "transition": {
               "duration": 0,
               "easing": "linear"
              }
             }
            ],
            "label": "2009-07-28",
            "method": "animate"
           },
           {
            "args": [
             [
              "2009-07-29"
             ],
             {
              "frame": {
               "duration": 0,
               "redraw": true
              },
              "fromcurrent": true,
              "mode": "immediate",
              "transition": {
               "duration": 0,
               "easing": "linear"
              }
             }
            ],
            "label": "2009-07-29",
            "method": "animate"
           },
           {
            "args": [
             [
              "2009-07-31"
             ],
             {
              "frame": {
               "duration": 0,
               "redraw": true
              },
              "fromcurrent": true,
              "mode": "immediate",
              "transition": {
               "duration": 0,
               "easing": "linear"
              }
             }
            ],
            "label": "2009-07-31",
            "method": "animate"
           },
           {
            "args": [
             [
              "2009-08-01"
             ],
             {
              "frame": {
               "duration": 0,
               "redraw": true
              },
              "fromcurrent": true,
              "mode": "immediate",
              "transition": {
               "duration": 0,
               "easing": "linear"
              }
             }
            ],
            "label": "2009-08-01",
            "method": "animate"
           },
           {
            "args": [
             [
              "2009-08-04"
             ],
             {
              "frame": {
               "duration": 0,
               "redraw": true
              },
              "fromcurrent": true,
              "mode": "immediate",
              "transition": {
               "duration": 0,
               "easing": "linear"
              }
             }
            ],
            "label": "2009-08-04",
            "method": "animate"
           },
           {
            "args": [
             [
              "2009-08-05"
             ],
             {
              "frame": {
               "duration": 0,
               "redraw": true
              },
              "fromcurrent": true,
              "mode": "immediate",
              "transition": {
               "duration": 0,
               "easing": "linear"
              }
             }
            ],
            "label": "2009-08-05",
            "method": "animate"
           },
           {
            "args": [
             [
              "2009-08-06"
             ],
             {
              "frame": {
               "duration": 0,
               "redraw": true
              },
              "fromcurrent": true,
              "mode": "immediate",
              "transition": {
               "duration": 0,
               "easing": "linear"
              }
             }
            ],
            "label": "2009-08-06",
            "method": "animate"
           },
           {
            "args": [
             [
              "2009-08-07"
             ],
             {
              "frame": {
               "duration": 0,
               "redraw": true
              },
              "fromcurrent": true,
              "mode": "immediate",
              "transition": {
               "duration": 0,
               "easing": "linear"
              }
             }
            ],
            "label": "2009-08-07",
            "method": "animate"
           },
           {
            "args": [
             [
              "2009-08-11"
             ],
             {
              "frame": {
               "duration": 0,
               "redraw": true
              },
              "fromcurrent": true,
              "mode": "immediate",
              "transition": {
               "duration": 0,
               "easing": "linear"
              }
             }
            ],
            "label": "2009-08-11",
            "method": "animate"
           },
           {
            "args": [
             [
              "2009-08-12"
             ],
             {
              "frame": {
               "duration": 0,
               "redraw": true
              },
              "fromcurrent": true,
              "mode": "immediate",
              "transition": {
               "duration": 0,
               "easing": "linear"
              }
             }
            ],
            "label": "2009-08-12",
            "method": "animate"
           },
           {
            "args": [
             [
              "2009-08-13"
             ],
             {
              "frame": {
               "duration": 0,
               "redraw": true
              },
              "fromcurrent": true,
              "mode": "immediate",
              "transition": {
               "duration": 0,
               "easing": "linear"
              }
             }
            ],
            "label": "2009-08-13",
            "method": "animate"
           },
           {
            "args": [
             [
              "2009-08-14"
             ],
             {
              "frame": {
               "duration": 0,
               "redraw": true
              },
              "fromcurrent": true,
              "mode": "immediate",
              "transition": {
               "duration": 0,
               "easing": "linear"
              }
             }
            ],
            "label": "2009-08-14",
            "method": "animate"
           },
           {
            "args": [
             [
              "2009-08-15"
             ],
             {
              "frame": {
               "duration": 0,
               "redraw": true
              },
              "fromcurrent": true,
              "mode": "immediate",
              "transition": {
               "duration": 0,
               "easing": "linear"
              }
             }
            ],
            "label": "2009-08-15",
            "method": "animate"
           },
           {
            "args": [
             [
              "2009-08-16"
             ],
             {
              "frame": {
               "duration": 0,
               "redraw": true
              },
              "fromcurrent": true,
              "mode": "immediate",
              "transition": {
               "duration": 0,
               "easing": "linear"
              }
             }
            ],
            "label": "2009-08-16",
            "method": "animate"
           },
           {
            "args": [
             [
              "2009-08-17"
             ],
             {
              "frame": {
               "duration": 0,
               "redraw": true
              },
              "fromcurrent": true,
              "mode": "immediate",
              "transition": {
               "duration": 0,
               "easing": "linear"
              }
             }
            ],
            "label": "2009-08-17",
            "method": "animate"
           },
           {
            "args": [
             [
              "2009-08-18"
             ],
             {
              "frame": {
               "duration": 0,
               "redraw": true
              },
              "fromcurrent": true,
              "mode": "immediate",
              "transition": {
               "duration": 0,
               "easing": "linear"
              }
             }
            ],
            "label": "2009-08-18",
            "method": "animate"
           },
           {
            "args": [
             [
              "2009-08-19"
             ],
             {
              "frame": {
               "duration": 0,
               "redraw": true
              },
              "fromcurrent": true,
              "mode": "immediate",
              "transition": {
               "duration": 0,
               "easing": "linear"
              }
             }
            ],
            "label": "2009-08-19",
            "method": "animate"
           },
           {
            "args": [
             [
              "2009-08-20"
             ],
             {
              "frame": {
               "duration": 0,
               "redraw": true
              },
              "fromcurrent": true,
              "mode": "immediate",
              "transition": {
               "duration": 0,
               "easing": "linear"
              }
             }
            ],
            "label": "2009-08-20",
            "method": "animate"
           },
           {
            "args": [
             [
              "2009-08-21"
             ],
             {
              "frame": {
               "duration": 0,
               "redraw": true
              },
              "fromcurrent": true,
              "mode": "immediate",
              "transition": {
               "duration": 0,
               "easing": "linear"
              }
             }
            ],
            "label": "2009-08-21",
            "method": "animate"
           },
           {
            "args": [
             [
              "2009-08-23"
             ],
             {
              "frame": {
               "duration": 0,
               "redraw": true
              },
              "fromcurrent": true,
              "mode": "immediate",
              "transition": {
               "duration": 0,
               "easing": "linear"
              }
             }
            ],
            "label": "2009-08-23",
            "method": "animate"
           },
           {
            "args": [
             [
              "2009-08-24"
             ],
             {
              "frame": {
               "duration": 0,
               "redraw": true
              },
              "fromcurrent": true,
              "mode": "immediate",
              "transition": {
               "duration": 0,
               "easing": "linear"
              }
             }
            ],
            "label": "2009-08-24",
            "method": "animate"
           },
           {
            "args": [
             [
              "2009-08-25"
             ],
             {
              "frame": {
               "duration": 0,
               "redraw": true
              },
              "fromcurrent": true,
              "mode": "immediate",
              "transition": {
               "duration": 0,
               "easing": "linear"
              }
             }
            ],
            "label": "2009-08-25",
            "method": "animate"
           },
           {
            "args": [
             [
              "2009-08-26"
             ],
             {
              "frame": {
               "duration": 0,
               "redraw": true
              },
              "fromcurrent": true,
              "mode": "immediate",
              "transition": {
               "duration": 0,
               "easing": "linear"
              }
             }
            ],
            "label": "2009-08-26",
            "method": "animate"
           },
           {
            "args": [
             [
              "2009-08-27"
             ],
             {
              "frame": {
               "duration": 0,
               "redraw": true
              },
              "fromcurrent": true,
              "mode": "immediate",
              "transition": {
               "duration": 0,
               "easing": "linear"
              }
             }
            ],
            "label": "2009-08-27",
            "method": "animate"
           },
           {
            "args": [
             [
              "2009-08-28"
             ],
             {
              "frame": {
               "duration": 0,
               "redraw": true
              },
              "fromcurrent": true,
              "mode": "immediate",
              "transition": {
               "duration": 0,
               "easing": "linear"
              }
             }
            ],
            "label": "2009-08-28",
            "method": "animate"
           },
           {
            "args": [
             [
              "2009-08-29"
             ],
             {
              "frame": {
               "duration": 0,
               "redraw": true
              },
              "fromcurrent": true,
              "mode": "immediate",
              "transition": {
               "duration": 0,
               "easing": "linear"
              }
             }
            ],
            "label": "2009-08-29",
            "method": "animate"
           },
           {
            "args": [
             [
              "2009-08-30"
             ],
             {
              "frame": {
               "duration": 0,
               "redraw": true
              },
              "fromcurrent": true,
              "mode": "immediate",
              "transition": {
               "duration": 0,
               "easing": "linear"
              }
             }
            ],
            "label": "2009-08-30",
            "method": "animate"
           },
           {
            "args": [
             [
              "2009-08-31"
             ],
             {
              "frame": {
               "duration": 0,
               "redraw": true
              },
              "fromcurrent": true,
              "mode": "immediate",
              "transition": {
               "duration": 0,
               "easing": "linear"
              }
             }
            ],
            "label": "2009-08-31",
            "method": "animate"
           },
           {
            "args": [
             [
              "2009-09-01"
             ],
             {
              "frame": {
               "duration": 0,
               "redraw": true
              },
              "fromcurrent": true,
              "mode": "immediate",
              "transition": {
               "duration": 0,
               "easing": "linear"
              }
             }
            ],
            "label": "2009-09-01",
            "method": "animate"
           },
           {
            "args": [
             [
              "2009-09-02"
             ],
             {
              "frame": {
               "duration": 0,
               "redraw": true
              },
              "fromcurrent": true,
              "mode": "immediate",
              "transition": {
               "duration": 0,
               "easing": "linear"
              }
             }
            ],
            "label": "2009-09-02",
            "method": "animate"
           },
           {
            "args": [
             [
              "2009-09-04"
             ],
             {
              "frame": {
               "duration": 0,
               "redraw": true
              },
              "fromcurrent": true,
              "mode": "immediate",
              "transition": {
               "duration": 0,
               "easing": "linear"
              }
             }
            ],
            "label": "2009-09-04",
            "method": "animate"
           },
           {
            "args": [
             [
              "2009-09-05"
             ],
             {
              "frame": {
               "duration": 0,
               "redraw": true
              },
              "fromcurrent": true,
              "mode": "immediate",
              "transition": {
               "duration": 0,
               "easing": "linear"
              }
             }
            ],
            "label": "2009-09-05",
            "method": "animate"
           },
           {
            "args": [
             [
              "2009-09-06"
             ],
             {
              "frame": {
               "duration": 0,
               "redraw": true
              },
              "fromcurrent": true,
              "mode": "immediate",
              "transition": {
               "duration": 0,
               "easing": "linear"
              }
             }
            ],
            "label": "2009-09-06",
            "method": "animate"
           },
           {
            "args": [
             [
              "2009-09-07"
             ],
             {
              "frame": {
               "duration": 0,
               "redraw": true
              },
              "fromcurrent": true,
              "mode": "immediate",
              "transition": {
               "duration": 0,
               "easing": "linear"
              }
             }
            ],
            "label": "2009-09-07",
            "method": "animate"
           },
           {
            "args": [
             [
              "2009-09-08"
             ],
             {
              "frame": {
               "duration": 0,
               "redraw": true
              },
              "fromcurrent": true,
              "mode": "immediate",
              "transition": {
               "duration": 0,
               "easing": "linear"
              }
             }
            ],
            "label": "2009-09-08",
            "method": "animate"
           },
           {
            "args": [
             [
              "2009-09-09"
             ],
             {
              "frame": {
               "duration": 0,
               "redraw": true
              },
              "fromcurrent": true,
              "mode": "immediate",
              "transition": {
               "duration": 0,
               "easing": "linear"
              }
             }
            ],
            "label": "2009-09-09",
            "method": "animate"
           },
           {
            "args": [
             [
              "2009-09-10"
             ],
             {
              "frame": {
               "duration": 0,
               "redraw": true
              },
              "fromcurrent": true,
              "mode": "immediate",
              "transition": {
               "duration": 0,
               "easing": "linear"
              }
             }
            ],
            "label": "2009-09-10",
            "method": "animate"
           },
           {
            "args": [
             [
              "2009-09-12"
             ],
             {
              "frame": {
               "duration": 0,
               "redraw": true
              },
              "fromcurrent": true,
              "mode": "immediate",
              "transition": {
               "duration": 0,
               "easing": "linear"
              }
             }
            ],
            "label": "2009-09-12",
            "method": "animate"
           },
           {
            "args": [
             [
              "2009-09-13"
             ],
             {
              "frame": {
               "duration": 0,
               "redraw": true
              },
              "fromcurrent": true,
              "mode": "immediate",
              "transition": {
               "duration": 0,
               "easing": "linear"
              }
             }
            ],
            "label": "2009-09-13",
            "method": "animate"
           },
           {
            "args": [
             [
              "2009-09-17"
             ],
             {
              "frame": {
               "duration": 0,
               "redraw": true
              },
              "fromcurrent": true,
              "mode": "immediate",
              "transition": {
               "duration": 0,
               "easing": "linear"
              }
             }
            ],
            "label": "2009-09-17",
            "method": "animate"
           },
           {
            "args": [
             [
              "2009-09-18"
             ],
             {
              "frame": {
               "duration": 0,
               "redraw": true
              },
              "fromcurrent": true,
              "mode": "immediate",
              "transition": {
               "duration": 0,
               "easing": "linear"
              }
             }
            ],
            "label": "2009-09-18",
            "method": "animate"
           },
           {
            "args": [
             [
              "2009-09-19"
             ],
             {
              "frame": {
               "duration": 0,
               "redraw": true
              },
              "fromcurrent": true,
              "mode": "immediate",
              "transition": {
               "duration": 0,
               "easing": "linear"
              }
             }
            ],
            "label": "2009-09-19",
            "method": "animate"
           },
           {
            "args": [
             [
              "2009-09-20"
             ],
             {
              "frame": {
               "duration": 0,
               "redraw": true
              },
              "fromcurrent": true,
              "mode": "immediate",
              "transition": {
               "duration": 0,
               "easing": "linear"
              }
             }
            ],
            "label": "2009-09-20",
            "method": "animate"
           },
           {
            "args": [
             [
              "2009-09-21"
             ],
             {
              "frame": {
               "duration": 0,
               "redraw": true
              },
              "fromcurrent": true,
              "mode": "immediate",
              "transition": {
               "duration": 0,
               "easing": "linear"
              }
             }
            ],
            "label": "2009-09-21",
            "method": "animate"
           },
           {
            "args": [
             [
              "2009-09-22"
             ],
             {
              "frame": {
               "duration": 0,
               "redraw": true
              },
              "fromcurrent": true,
              "mode": "immediate",
              "transition": {
               "duration": 0,
               "easing": "linear"
              }
             }
            ],
            "label": "2009-09-22",
            "method": "animate"
           },
           {
            "args": [
             [
              "2009-09-23"
             ],
             {
              "frame": {
               "duration": 0,
               "redraw": true
              },
              "fromcurrent": true,
              "mode": "immediate",
              "transition": {
               "duration": 0,
               "easing": "linear"
              }
             }
            ],
            "label": "2009-09-23",
            "method": "animate"
           },
           {
            "args": [
             [
              "2009-09-24"
             ],
             {
              "frame": {
               "duration": 0,
               "redraw": true
              },
              "fromcurrent": true,
              "mode": "immediate",
              "transition": {
               "duration": 0,
               "easing": "linear"
              }
             }
            ],
            "label": "2009-09-24",
            "method": "animate"
           },
           {
            "args": [
             [
              "2009-09-26"
             ],
             {
              "frame": {
               "duration": 0,
               "redraw": true
              },
              "fromcurrent": true,
              "mode": "immediate",
              "transition": {
               "duration": 0,
               "easing": "linear"
              }
             }
            ],
            "label": "2009-09-26",
            "method": "animate"
           },
           {
            "args": [
             [
              "2009-09-27"
             ],
             {
              "frame": {
               "duration": 0,
               "redraw": true
              },
              "fromcurrent": true,
              "mode": "immediate",
              "transition": {
               "duration": 0,
               "easing": "linear"
              }
             }
            ],
            "label": "2009-09-27",
            "method": "animate"
           },
           {
            "args": [
             [
              "2009-09-29"
             ],
             {
              "frame": {
               "duration": 0,
               "redraw": true
              },
              "fromcurrent": true,
              "mode": "immediate",
              "transition": {
               "duration": 0,
               "easing": "linear"
              }
             }
            ],
            "label": "2009-09-29",
            "method": "animate"
           },
           {
            "args": [
             [
              "2009-10-01"
             ],
             {
              "frame": {
               "duration": 0,
               "redraw": true
              },
              "fromcurrent": true,
              "mode": "immediate",
              "transition": {
               "duration": 0,
               "easing": "linear"
              }
             }
            ],
            "label": "2009-10-01",
            "method": "animate"
           },
           {
            "args": [
             [
              "2009-10-03"
             ],
             {
              "frame": {
               "duration": 0,
               "redraw": true
              },
              "fromcurrent": true,
              "mode": "immediate",
              "transition": {
               "duration": 0,
               "easing": "linear"
              }
             }
            ],
            "label": "2009-10-03",
            "method": "animate"
           },
           {
            "args": [
             [
              "2009-10-05"
             ],
             {
              "frame": {
               "duration": 0,
               "redraw": true
              },
              "fromcurrent": true,
              "mode": "immediate",
              "transition": {
               "duration": 0,
               "easing": "linear"
              }
             }
            ],
            "label": "2009-10-05",
            "method": "animate"
           },
           {
            "args": [
             [
              "2009-10-08"
             ],
             {
              "frame": {
               "duration": 0,
               "redraw": true
              },
              "fromcurrent": true,
              "mode": "immediate",
              "transition": {
               "duration": 0,
               "easing": "linear"
              }
             }
            ],
            "label": "2009-10-08",
            "method": "animate"
           },
           {
            "args": [
             [
              "2009-10-10"
             ],
             {
              "frame": {
               "duration": 0,
               "redraw": true
              },
              "fromcurrent": true,
              "mode": "immediate",
              "transition": {
               "duration": 0,
               "easing": "linear"
              }
             }
            ],
            "label": "2009-10-10",
            "method": "animate"
           },
           {
            "args": [
             [
              "2009-10-12"
             ],
             {
              "frame": {
               "duration": 0,
               "redraw": true
              },
              "fromcurrent": true,
              "mode": "immediate",
              "transition": {
               "duration": 0,
               "easing": "linear"
              }
             }
            ],
            "label": "2009-10-12",
            "method": "animate"
           },
           {
            "args": [
             [
              "2009-10-13"
             ],
             {
              "frame": {
               "duration": 0,
               "redraw": true
              },
              "fromcurrent": true,
              "mode": "immediate",
              "transition": {
               "duration": 0,
               "easing": "linear"
              }
             }
            ],
            "label": "2009-10-13",
            "method": "animate"
           },
           {
            "args": [
             [
              "2009-10-15"
             ],
             {
              "frame": {
               "duration": 0,
               "redraw": true
              },
              "fromcurrent": true,
              "mode": "immediate",
              "transition": {
               "duration": 0,
               "easing": "linear"
              }
             }
            ],
            "label": "2009-10-15",
            "method": "animate"
           },
           {
            "args": [
             [
              "2009-10-20"
             ],
             {
              "frame": {
               "duration": 0,
               "redraw": true
              },
              "fromcurrent": true,
              "mode": "immediate",
              "transition": {
               "duration": 0,
               "easing": "linear"
              }
             }
            ],
            "label": "2009-10-20",
            "method": "animate"
           },
           {
            "args": [
             [
              "2009-10-21"
             ],
             {
              "frame": {
               "duration": 0,
               "redraw": true
              },
              "fromcurrent": true,
              "mode": "immediate",
              "transition": {
               "duration": 0,
               "easing": "linear"
              }
             }
            ],
            "label": "2009-10-21",
            "method": "animate"
           },
           {
            "args": [
             [
              "2009-10-28"
             ],
             {
              "frame": {
               "duration": 0,
               "redraw": true
              },
              "fromcurrent": true,
              "mode": "immediate",
              "transition": {
               "duration": 0,
               "easing": "linear"
              }
             }
            ],
            "label": "2009-10-28",
            "method": "animate"
           },
           {
            "args": [
             [
              "2009-10-29"
             ],
             {
              "frame": {
               "duration": 0,
               "redraw": true
              },
              "fromcurrent": true,
              "mode": "immediate",
              "transition": {
               "duration": 0,
               "easing": "linear"
              }
             }
            ],
            "label": "2009-10-29",
            "method": "animate"
           },
           {
            "args": [
             [
              "2009-10-31"
             ],
             {
              "frame": {
               "duration": 0,
               "redraw": true
              },
              "fromcurrent": true,
              "mode": "immediate",
              "transition": {
               "duration": 0,
               "easing": "linear"
              }
             }
            ],
            "label": "2009-10-31",
            "method": "animate"
           },
           {
            "args": [
             [
              "2009-11-03"
             ],
             {
              "frame": {
               "duration": 0,
               "redraw": true
              },
              "fromcurrent": true,
              "mode": "immediate",
              "transition": {
               "duration": 0,
               "easing": "linear"
              }
             }
            ],
            "label": "2009-11-03",
            "method": "animate"
           },
           {
            "args": [
             [
              "2009-11-06"
             ],
             {
              "frame": {
               "duration": 0,
               "redraw": true
              },
              "fromcurrent": true,
              "mode": "immediate",
              "transition": {
               "duration": 0,
               "easing": "linear"
              }
             }
            ],
            "label": "2009-11-06",
            "method": "animate"
           },
           {
            "args": [
             [
              "2009-11-17"
             ],
             {
              "frame": {
               "duration": 0,
               "redraw": true
              },
              "fromcurrent": true,
              "mode": "immediate",
              "transition": {
               "duration": 0,
               "easing": "linear"
              }
             }
            ],
            "label": "2009-11-17",
            "method": "animate"
           },
           {
            "args": [
             [
              "2009-11-19"
             ],
             {
              "frame": {
               "duration": 0,
               "redraw": true
              },
              "fromcurrent": true,
              "mode": "immediate",
              "transition": {
               "duration": 0,
               "easing": "linear"
              }
             }
            ],
            "label": "2009-11-19",
            "method": "animate"
           },
           {
            "args": [
             [
              "2009-11-20"
             ],
             {
              "frame": {
               "duration": 0,
               "redraw": true
              },
              "fromcurrent": true,
              "mode": "immediate",
              "transition": {
               "duration": 0,
               "easing": "linear"
              }
             }
            ],
            "label": "2009-11-20",
            "method": "animate"
           },
           {
            "args": [
             [
              "2009-12-13"
             ],
             {
              "frame": {
               "duration": 0,
               "redraw": true
              },
              "fromcurrent": true,
              "mode": "immediate",
              "transition": {
               "duration": 0,
               "easing": "linear"
              }
             }
            ],
            "label": "2009-12-13",
            "method": "animate"
           },
           {
            "args": [
             [
              "2009-12-27"
             ],
             {
              "frame": {
               "duration": 0,
               "redraw": true
              },
              "fromcurrent": true,
              "mode": "immediate",
              "transition": {
               "duration": 0,
               "easing": "linear"
              }
             }
            ],
            "label": "2009-12-27",
            "method": "animate"
           }
          ],
          "x": 0.1,
          "xanchor": "left",
          "y": 0,
          "yanchor": "top"
         }
        ],
        "template": {
         "data": {
          "bar": [
           {
            "error_x": {
             "color": "#2a3f5f"
            },
            "error_y": {
             "color": "#2a3f5f"
            },
            "marker": {
             "line": {
              "color": "#E5ECF6",
              "width": 0.5
             },
             "pattern": {
              "fillmode": "overlay",
              "size": 10,
              "solidity": 0.2
             }
            },
            "type": "bar"
           }
          ],
          "barpolar": [
           {
            "marker": {
             "line": {
              "color": "#E5ECF6",
              "width": 0.5
             },
             "pattern": {
              "fillmode": "overlay",
              "size": 10,
              "solidity": 0.2
             }
            },
            "type": "barpolar"
           }
          ],
          "carpet": [
           {
            "aaxis": {
             "endlinecolor": "#2a3f5f",
             "gridcolor": "white",
             "linecolor": "white",
             "minorgridcolor": "white",
             "startlinecolor": "#2a3f5f"
            },
            "baxis": {
             "endlinecolor": "#2a3f5f",
             "gridcolor": "white",
             "linecolor": "white",
             "minorgridcolor": "white",
             "startlinecolor": "#2a3f5f"
            },
            "type": "carpet"
           }
          ],
          "choropleth": [
           {
            "colorbar": {
             "outlinewidth": 0,
             "ticks": ""
            },
            "type": "choropleth"
           }
          ],
          "contour": [
           {
            "colorbar": {
             "outlinewidth": 0,
             "ticks": ""
            },
            "colorscale": [
             [
              0,
              "#0d0887"
             ],
             [
              0.1111111111111111,
              "#46039f"
             ],
             [
              0.2222222222222222,
              "#7201a8"
             ],
             [
              0.3333333333333333,
              "#9c179e"
             ],
             [
              0.4444444444444444,
              "#bd3786"
             ],
             [
              0.5555555555555556,
              "#d8576b"
             ],
             [
              0.6666666666666666,
              "#ed7953"
             ],
             [
              0.7777777777777778,
              "#fb9f3a"
             ],
             [
              0.8888888888888888,
              "#fdca26"
             ],
             [
              1,
              "#f0f921"
             ]
            ],
            "type": "contour"
           }
          ],
          "contourcarpet": [
           {
            "colorbar": {
             "outlinewidth": 0,
             "ticks": ""
            },
            "type": "contourcarpet"
           }
          ],
          "heatmap": [
           {
            "colorbar": {
             "outlinewidth": 0,
             "ticks": ""
            },
            "colorscale": [
             [
              0,
              "#0d0887"
             ],
             [
              0.1111111111111111,
              "#46039f"
             ],
             [
              0.2222222222222222,
              "#7201a8"
             ],
             [
              0.3333333333333333,
              "#9c179e"
             ],
             [
              0.4444444444444444,
              "#bd3786"
             ],
             [
              0.5555555555555556,
              "#d8576b"
             ],
             [
              0.6666666666666666,
              "#ed7953"
             ],
             [
              0.7777777777777778,
              "#fb9f3a"
             ],
             [
              0.8888888888888888,
              "#fdca26"
             ],
             [
              1,
              "#f0f921"
             ]
            ],
            "type": "heatmap"
           }
          ],
          "heatmapgl": [
           {
            "colorbar": {
             "outlinewidth": 0,
             "ticks": ""
            },
            "colorscale": [
             [
              0,
              "#0d0887"
             ],
             [
              0.1111111111111111,
              "#46039f"
             ],
             [
              0.2222222222222222,
              "#7201a8"
             ],
             [
              0.3333333333333333,
              "#9c179e"
             ],
             [
              0.4444444444444444,
              "#bd3786"
             ],
             [
              0.5555555555555556,
              "#d8576b"
             ],
             [
              0.6666666666666666,
              "#ed7953"
             ],
             [
              0.7777777777777778,
              "#fb9f3a"
             ],
             [
              0.8888888888888888,
              "#fdca26"
             ],
             [
              1,
              "#f0f921"
             ]
            ],
            "type": "heatmapgl"
           }
          ],
          "histogram": [
           {
            "marker": {
             "pattern": {
              "fillmode": "overlay",
              "size": 10,
              "solidity": 0.2
             }
            },
            "type": "histogram"
           }
          ],
          "histogram2d": [
           {
            "colorbar": {
             "outlinewidth": 0,
             "ticks": ""
            },
            "colorscale": [
             [
              0,
              "#0d0887"
             ],
             [
              0.1111111111111111,
              "#46039f"
             ],
             [
              0.2222222222222222,
              "#7201a8"
             ],
             [
              0.3333333333333333,
              "#9c179e"
             ],
             [
              0.4444444444444444,
              "#bd3786"
             ],
             [
              0.5555555555555556,
              "#d8576b"
             ],
             [
              0.6666666666666666,
              "#ed7953"
             ],
             [
              0.7777777777777778,
              "#fb9f3a"
             ],
             [
              0.8888888888888888,
              "#fdca26"
             ],
             [
              1,
              "#f0f921"
             ]
            ],
            "type": "histogram2d"
           }
          ],
          "histogram2dcontour": [
           {
            "colorbar": {
             "outlinewidth": 0,
             "ticks": ""
            },
            "colorscale": [
             [
              0,
              "#0d0887"
             ],
             [
              0.1111111111111111,
              "#46039f"
             ],
             [
              0.2222222222222222,
              "#7201a8"
             ],
             [
              0.3333333333333333,
              "#9c179e"
             ],
             [
              0.4444444444444444,
              "#bd3786"
             ],
             [
              0.5555555555555556,
              "#d8576b"
             ],
             [
              0.6666666666666666,
              "#ed7953"
             ],
             [
              0.7777777777777778,
              "#fb9f3a"
             ],
             [
              0.8888888888888888,
              "#fdca26"
             ],
             [
              1,
              "#f0f921"
             ]
            ],
            "type": "histogram2dcontour"
           }
          ],
          "mesh3d": [
           {
            "colorbar": {
             "outlinewidth": 0,
             "ticks": ""
            },
            "type": "mesh3d"
           }
          ],
          "parcoords": [
           {
            "line": {
             "colorbar": {
              "outlinewidth": 0,
              "ticks": ""
             }
            },
            "type": "parcoords"
           }
          ],
          "pie": [
           {
            "automargin": true,
            "type": "pie"
           }
          ],
          "scatter": [
           {
            "fillpattern": {
             "fillmode": "overlay",
             "size": 10,
             "solidity": 0.2
            },
            "type": "scatter"
           }
          ],
          "scatter3d": [
           {
            "line": {
             "colorbar": {
              "outlinewidth": 0,
              "ticks": ""
             }
            },
            "marker": {
             "colorbar": {
              "outlinewidth": 0,
              "ticks": ""
             }
            },
            "type": "scatter3d"
           }
          ],
          "scattercarpet": [
           {
            "marker": {
             "colorbar": {
              "outlinewidth": 0,
              "ticks": ""
             }
            },
            "type": "scattercarpet"
           }
          ],
          "scattergeo": [
           {
            "marker": {
             "colorbar": {
              "outlinewidth": 0,
              "ticks": ""
             }
            },
            "type": "scattergeo"
           }
          ],
          "scattergl": [
           {
            "marker": {
             "colorbar": {
              "outlinewidth": 0,
              "ticks": ""
             }
            },
            "type": "scattergl"
           }
          ],
          "scattermapbox": [
           {
            "marker": {
             "colorbar": {
              "outlinewidth": 0,
              "ticks": ""
             }
            },
            "type": "scattermapbox"
           }
          ],
          "scatterpolar": [
           {
            "marker": {
             "colorbar": {
              "outlinewidth": 0,
              "ticks": ""
             }
            },
            "type": "scatterpolar"
           }
          ],
          "scatterpolargl": [
           {
            "marker": {
             "colorbar": {
              "outlinewidth": 0,
              "ticks": ""
             }
            },
            "type": "scatterpolargl"
           }
          ],
          "scatterternary": [
           {
            "marker": {
             "colorbar": {
              "outlinewidth": 0,
              "ticks": ""
             }
            },
            "type": "scatterternary"
           }
          ],
          "surface": [
           {
            "colorbar": {
             "outlinewidth": 0,
             "ticks": ""
            },
            "colorscale": [
             [
              0,
              "#0d0887"
             ],
             [
              0.1111111111111111,
              "#46039f"
             ],
             [
              0.2222222222222222,
              "#7201a8"
             ],
             [
              0.3333333333333333,
              "#9c179e"
             ],
             [
              0.4444444444444444,
              "#bd3786"
             ],
             [
              0.5555555555555556,
              "#d8576b"
             ],
             [
              0.6666666666666666,
              "#ed7953"
             ],
             [
              0.7777777777777778,
              "#fb9f3a"
             ],
             [
              0.8888888888888888,
              "#fdca26"
             ],
             [
              1,
              "#f0f921"
             ]
            ],
            "type": "surface"
           }
          ],
          "table": [
           {
            "cells": {
             "fill": {
              "color": "#EBF0F8"
             },
             "line": {
              "color": "white"
             }
            },
            "header": {
             "fill": {
              "color": "#C8D4E3"
             },
             "line": {
              "color": "white"
             }
            },
            "type": "table"
           }
          ]
         },
         "layout": {
          "annotationdefaults": {
           "arrowcolor": "#2a3f5f",
           "arrowhead": 0,
           "arrowwidth": 1
          },
          "autotypenumbers": "strict",
          "coloraxis": {
           "colorbar": {
            "outlinewidth": 0,
            "ticks": ""
           }
          },
          "colorscale": {
           "diverging": [
            [
             0,
             "#8e0152"
            ],
            [
             0.1,
             "#c51b7d"
            ],
            [
             0.2,
             "#de77ae"
            ],
            [
             0.3,
             "#f1b6da"
            ],
            [
             0.4,
             "#fde0ef"
            ],
            [
             0.5,
             "#f7f7f7"
            ],
            [
             0.6,
             "#e6f5d0"
            ],
            [
             0.7,
             "#b8e186"
            ],
            [
             0.8,
             "#7fbc41"
            ],
            [
             0.9,
             "#4d9221"
            ],
            [
             1,
             "#276419"
            ]
           ],
           "sequential": [
            [
             0,
             "#0d0887"
            ],
            [
             0.1111111111111111,
             "#46039f"
            ],
            [
             0.2222222222222222,
             "#7201a8"
            ],
            [
             0.3333333333333333,
             "#9c179e"
            ],
            [
             0.4444444444444444,
             "#bd3786"
            ],
            [
             0.5555555555555556,
             "#d8576b"
            ],
            [
             0.6666666666666666,
             "#ed7953"
            ],
            [
             0.7777777777777778,
             "#fb9f3a"
            ],
            [
             0.8888888888888888,
             "#fdca26"
            ],
            [
             1,
             "#f0f921"
            ]
           ],
           "sequentialminus": [
            [
             0,
             "#0d0887"
            ],
            [
             0.1111111111111111,
             "#46039f"
            ],
            [
             0.2222222222222222,
             "#7201a8"
            ],
            [
             0.3333333333333333,
             "#9c179e"
            ],
            [
             0.4444444444444444,
             "#bd3786"
            ],
            [
             0.5555555555555556,
             "#d8576b"
            ],
            [
             0.6666666666666666,
             "#ed7953"
            ],
            [
             0.7777777777777778,
             "#fb9f3a"
            ],
            [
             0.8888888888888888,
             "#fdca26"
            ],
            [
             1,
             "#f0f921"
            ]
           ]
          },
          "colorway": [
           "#636efa",
           "#EF553B",
           "#00cc96",
           "#ab63fa",
           "#FFA15A",
           "#19d3f3",
           "#FF6692",
           "#B6E880",
           "#FF97FF",
           "#FECB52"
          ],
          "font": {
           "color": "#2a3f5f"
          },
          "geo": {
           "bgcolor": "white",
           "lakecolor": "white",
           "landcolor": "#E5ECF6",
           "showlakes": true,
           "showland": true,
           "subunitcolor": "white"
          },
          "hoverlabel": {
           "align": "left"
          },
          "hovermode": "closest",
          "mapbox": {
           "style": "light"
          },
          "paper_bgcolor": "white",
          "plot_bgcolor": "#E5ECF6",
          "polar": {
           "angularaxis": {
            "gridcolor": "white",
            "linecolor": "white",
            "ticks": ""
           },
           "bgcolor": "#E5ECF6",
           "radialaxis": {
            "gridcolor": "white",
            "linecolor": "white",
            "ticks": ""
           }
          },
          "scene": {
           "xaxis": {
            "backgroundcolor": "#E5ECF6",
            "gridcolor": "white",
            "gridwidth": 2,
            "linecolor": "white",
            "showbackground": true,
            "ticks": "",
            "zerolinecolor": "white"
           },
           "yaxis": {
            "backgroundcolor": "#E5ECF6",
            "gridcolor": "white",
            "gridwidth": 2,
            "linecolor": "white",
            "showbackground": true,
            "ticks": "",
            "zerolinecolor": "white"
           },
           "zaxis": {
            "backgroundcolor": "#E5ECF6",
            "gridcolor": "white",
            "gridwidth": 2,
            "linecolor": "white",
            "showbackground": true,
            "ticks": "",
            "zerolinecolor": "white"
           }
          },
          "shapedefaults": {
           "line": {
            "color": "#2a3f5f"
           }
          },
          "ternary": {
           "aaxis": {
            "gridcolor": "white",
            "linecolor": "white",
            "ticks": ""
           },
           "baxis": {
            "gridcolor": "white",
            "linecolor": "white",
            "ticks": ""
           },
           "bgcolor": "#E5ECF6",
           "caxis": {
            "gridcolor": "white",
            "linecolor": "white",
            "ticks": ""
           }
          },
          "title": {
           "x": 0.05
          },
          "xaxis": {
           "automargin": true,
           "gridcolor": "white",
           "linecolor": "white",
           "ticks": "",
           "title": {
            "standoff": 15
           },
           "zerolinecolor": "white",
           "zerolinewidth": 2
          },
          "yaxis": {
           "automargin": true,
           "gridcolor": "white",
           "linecolor": "white",
           "ticks": "",
           "title": {
            "standoff": 15
           },
           "zerolinecolor": "white",
           "zerolinewidth": 2
          }
         }
        },
        "title": {
         "text": "Feuer in Deutschland im Jahr 2009",
         "x": 0.5
        },
        "updatemenus": [
         {
          "buttons": [
           {
            "args": [
             null,
             {
              "frame": {
               "duration": 500,
               "redraw": true
              },
              "fromcurrent": true,
              "mode": "immediate",
              "transition": {
               "duration": 500,
               "easing": "linear"
              }
             }
            ],
            "label": "&#9654;",
            "method": "animate"
           },
           {
            "args": [
             [
              null
             ],
             {
              "frame": {
               "duration": 0,
               "redraw": true
              },
              "fromcurrent": true,
              "mode": "immediate",
              "transition": {
               "duration": 0,
               "easing": "linear"
              }
             }
            ],
            "label": "&#9724;",
            "method": "animate"
           }
          ],
          "direction": "left",
          "pad": {
           "r": 10,
           "t": 70
          },
          "showactive": false,
          "type": "buttons",
          "x": 0.1,
          "xanchor": "right",
          "y": 0,
          "yanchor": "top"
         }
        ],
        "width": 700
       }
      },
      "text/html": [
       "<div>                            <div id=\"10de8a58-1793-4009-8be2-4fafbeef7a39\" class=\"plotly-graph-div\" style=\"height:800px; width:700px;\"></div>            <script type=\"text/javascript\">                require([\"plotly\"], function(Plotly) {                    window.PLOTLYENV=window.PLOTLYENV || {};                                    if (document.getElementById(\"10de8a58-1793-4009-8be2-4fafbeef7a39\")) {                    Plotly.newPlot(                        \"10de8a58-1793-4009-8be2-4fafbeef7a39\",                        [{\"customdata\":[[\"Vegetationsbrand\"]],\"hovertemplate\":\"Datum=2009-01-12<br>Feuerintensit\\u00e4t=%{marker.color}<br>Breitengrad=%{lat}<br>L\\u00e4ngengrad=%{lon}<br>Typ=%{customdata[0]}<extra></extra>\",\"lat\":[51.4892],\"legendgroup\":\"\",\"lon\":[6.7248],\"marker\":{\"color\":[11.0],\"coloraxis\":\"coloraxis\",\"opacity\":0.5,\"size\":[11.0],\"sizemode\":\"area\",\"sizeref\":0.6502500000000001},\"mode\":\"markers\",\"name\":\"\",\"showlegend\":false,\"subplot\":\"mapbox\",\"type\":\"scattermapbox\"}],                        {\"template\":{\"data\":{\"histogram2dcontour\":[{\"type\":\"histogram2dcontour\",\"colorbar\":{\"outlinewidth\":0,\"ticks\":\"\"},\"colorscale\":[[0.0,\"#0d0887\"],[0.1111111111111111,\"#46039f\"],[0.2222222222222222,\"#7201a8\"],[0.3333333333333333,\"#9c179e\"],[0.4444444444444444,\"#bd3786\"],[0.5555555555555556,\"#d8576b\"],[0.6666666666666666,\"#ed7953\"],[0.7777777777777778,\"#fb9f3a\"],[0.8888888888888888,\"#fdca26\"],[1.0,\"#f0f921\"]]}],\"choropleth\":[{\"type\":\"choropleth\",\"colorbar\":{\"outlinewidth\":0,\"ticks\":\"\"}}],\"histogram2d\":[{\"type\":\"histogram2d\",\"colorbar\":{\"outlinewidth\":0,\"ticks\":\"\"},\"colorscale\":[[0.0,\"#0d0887\"],[0.1111111111111111,\"#46039f\"],[0.2222222222222222,\"#7201a8\"],[0.3333333333333333,\"#9c179e\"],[0.4444444444444444,\"#bd3786\"],[0.5555555555555556,\"#d8576b\"],[0.6666666666666666,\"#ed7953\"],[0.7777777777777778,\"#fb9f3a\"],[0.8888888888888888,\"#fdca26\"],[1.0,\"#f0f921\"]]}],\"heatmap\":[{\"type\":\"heatmap\",\"colorbar\":{\"outlinewidth\":0,\"ticks\":\"\"},\"colorscale\":[[0.0,\"#0d0887\"],[0.1111111111111111,\"#46039f\"],[0.2222222222222222,\"#7201a8\"],[0.3333333333333333,\"#9c179e\"],[0.4444444444444444,\"#bd3786\"],[0.5555555555555556,\"#d8576b\"],[0.6666666666666666,\"#ed7953\"],[0.7777777777777778,\"#fb9f3a\"],[0.8888888888888888,\"#fdca26\"],[1.0,\"#f0f921\"]]}],\"heatmapgl\":[{\"type\":\"heatmapgl\",\"colorbar\":{\"outlinewidth\":0,\"ticks\":\"\"},\"colorscale\":[[0.0,\"#0d0887\"],[0.1111111111111111,\"#46039f\"],[0.2222222222222222,\"#7201a8\"],[0.3333333333333333,\"#9c179e\"],[0.4444444444444444,\"#bd3786\"],[0.5555555555555556,\"#d8576b\"],[0.6666666666666666,\"#ed7953\"],[0.7777777777777778,\"#fb9f3a\"],[0.8888888888888888,\"#fdca26\"],[1.0,\"#f0f921\"]]}],\"contourcarpet\":[{\"type\":\"contourcarpet\",\"colorbar\":{\"outlinewidth\":0,\"ticks\":\"\"}}],\"contour\":[{\"type\":\"contour\",\"colorbar\":{\"outlinewidth\":0,\"ticks\":\"\"},\"colorscale\":[[0.0,\"#0d0887\"],[0.1111111111111111,\"#46039f\"],[0.2222222222222222,\"#7201a8\"],[0.3333333333333333,\"#9c179e\"],[0.4444444444444444,\"#bd3786\"],[0.5555555555555556,\"#d8576b\"],[0.6666666666666666,\"#ed7953\"],[0.7777777777777778,\"#fb9f3a\"],[0.8888888888888888,\"#fdca26\"],[1.0,\"#f0f921\"]]}],\"surface\":[{\"type\":\"surface\",\"colorbar\":{\"outlinewidth\":0,\"ticks\":\"\"},\"colorscale\":[[0.0,\"#0d0887\"],[0.1111111111111111,\"#46039f\"],[0.2222222222222222,\"#7201a8\"],[0.3333333333333333,\"#9c179e\"],[0.4444444444444444,\"#bd3786\"],[0.5555555555555556,\"#d8576b\"],[0.6666666666666666,\"#ed7953\"],[0.7777777777777778,\"#fb9f3a\"],[0.8888888888888888,\"#fdca26\"],[1.0,\"#f0f921\"]]}],\"mesh3d\":[{\"type\":\"mesh3d\",\"colorbar\":{\"outlinewidth\":0,\"ticks\":\"\"}}],\"scatter\":[{\"fillpattern\":{\"fillmode\":\"overlay\",\"size\":10,\"solidity\":0.2},\"type\":\"scatter\"}],\"parcoords\":[{\"type\":\"parcoords\",\"line\":{\"colorbar\":{\"outlinewidth\":0,\"ticks\":\"\"}}}],\"scatterpolargl\":[{\"type\":\"scatterpolargl\",\"marker\":{\"colorbar\":{\"outlinewidth\":0,\"ticks\":\"\"}}}],\"bar\":[{\"error_x\":{\"color\":\"#2a3f5f\"},\"error_y\":{\"color\":\"#2a3f5f\"},\"marker\":{\"line\":{\"color\":\"#E5ECF6\",\"width\":0.5},\"pattern\":{\"fillmode\":\"overlay\",\"size\":10,\"solidity\":0.2}},\"type\":\"bar\"}],\"scattergeo\":[{\"type\":\"scattergeo\",\"marker\":{\"colorbar\":{\"outlinewidth\":0,\"ticks\":\"\"}}}],\"scatterpolar\":[{\"type\":\"scatterpolar\",\"marker\":{\"colorbar\":{\"outlinewidth\":0,\"ticks\":\"\"}}}],\"histogram\":[{\"marker\":{\"pattern\":{\"fillmode\":\"overlay\",\"size\":10,\"solidity\":0.2}},\"type\":\"histogram\"}],\"scattergl\":[{\"type\":\"scattergl\",\"marker\":{\"colorbar\":{\"outlinewidth\":0,\"ticks\":\"\"}}}],\"scatter3d\":[{\"type\":\"scatter3d\",\"line\":{\"colorbar\":{\"outlinewidth\":0,\"ticks\":\"\"}},\"marker\":{\"colorbar\":{\"outlinewidth\":0,\"ticks\":\"\"}}}],\"scattermapbox\":[{\"type\":\"scattermapbox\",\"marker\":{\"colorbar\":{\"outlinewidth\":0,\"ticks\":\"\"}}}],\"scatterternary\":[{\"type\":\"scatterternary\",\"marker\":{\"colorbar\":{\"outlinewidth\":0,\"ticks\":\"\"}}}],\"scattercarpet\":[{\"type\":\"scattercarpet\",\"marker\":{\"colorbar\":{\"outlinewidth\":0,\"ticks\":\"\"}}}],\"carpet\":[{\"aaxis\":{\"endlinecolor\":\"#2a3f5f\",\"gridcolor\":\"white\",\"linecolor\":\"white\",\"minorgridcolor\":\"white\",\"startlinecolor\":\"#2a3f5f\"},\"baxis\":{\"endlinecolor\":\"#2a3f5f\",\"gridcolor\":\"white\",\"linecolor\":\"white\",\"minorgridcolor\":\"white\",\"startlinecolor\":\"#2a3f5f\"},\"type\":\"carpet\"}],\"table\":[{\"cells\":{\"fill\":{\"color\":\"#EBF0F8\"},\"line\":{\"color\":\"white\"}},\"header\":{\"fill\":{\"color\":\"#C8D4E3\"},\"line\":{\"color\":\"white\"}},\"type\":\"table\"}],\"barpolar\":[{\"marker\":{\"line\":{\"color\":\"#E5ECF6\",\"width\":0.5},\"pattern\":{\"fillmode\":\"overlay\",\"size\":10,\"solidity\":0.2}},\"type\":\"barpolar\"}],\"pie\":[{\"automargin\":true,\"type\":\"pie\"}]},\"layout\":{\"autotypenumbers\":\"strict\",\"colorway\":[\"#636efa\",\"#EF553B\",\"#00cc96\",\"#ab63fa\",\"#FFA15A\",\"#19d3f3\",\"#FF6692\",\"#B6E880\",\"#FF97FF\",\"#FECB52\"],\"font\":{\"color\":\"#2a3f5f\"},\"hovermode\":\"closest\",\"hoverlabel\":{\"align\":\"left\"},\"paper_bgcolor\":\"white\",\"plot_bgcolor\":\"#E5ECF6\",\"polar\":{\"bgcolor\":\"#E5ECF6\",\"angularaxis\":{\"gridcolor\":\"white\",\"linecolor\":\"white\",\"ticks\":\"\"},\"radialaxis\":{\"gridcolor\":\"white\",\"linecolor\":\"white\",\"ticks\":\"\"}},\"ternary\":{\"bgcolor\":\"#E5ECF6\",\"aaxis\":{\"gridcolor\":\"white\",\"linecolor\":\"white\",\"ticks\":\"\"},\"baxis\":{\"gridcolor\":\"white\",\"linecolor\":\"white\",\"ticks\":\"\"},\"caxis\":{\"gridcolor\":\"white\",\"linecolor\":\"white\",\"ticks\":\"\"}},\"coloraxis\":{\"colorbar\":{\"outlinewidth\":0,\"ticks\":\"\"}},\"colorscale\":{\"sequential\":[[0.0,\"#0d0887\"],[0.1111111111111111,\"#46039f\"],[0.2222222222222222,\"#7201a8\"],[0.3333333333333333,\"#9c179e\"],[0.4444444444444444,\"#bd3786\"],[0.5555555555555556,\"#d8576b\"],[0.6666666666666666,\"#ed7953\"],[0.7777777777777778,\"#fb9f3a\"],[0.8888888888888888,\"#fdca26\"],[1.0,\"#f0f921\"]],\"sequentialminus\":[[0.0,\"#0d0887\"],[0.1111111111111111,\"#46039f\"],[0.2222222222222222,\"#7201a8\"],[0.3333333333333333,\"#9c179e\"],[0.4444444444444444,\"#bd3786\"],[0.5555555555555556,\"#d8576b\"],[0.6666666666666666,\"#ed7953\"],[0.7777777777777778,\"#fb9f3a\"],[0.8888888888888888,\"#fdca26\"],[1.0,\"#f0f921\"]],\"diverging\":[[0,\"#8e0152\"],[0.1,\"#c51b7d\"],[0.2,\"#de77ae\"],[0.3,\"#f1b6da\"],[0.4,\"#fde0ef\"],[0.5,\"#f7f7f7\"],[0.6,\"#e6f5d0\"],[0.7,\"#b8e186\"],[0.8,\"#7fbc41\"],[0.9,\"#4d9221\"],[1,\"#276419\"]]},\"xaxis\":{\"gridcolor\":\"white\",\"linecolor\":\"white\",\"ticks\":\"\",\"title\":{\"standoff\":15},\"zerolinecolor\":\"white\",\"automargin\":true,\"zerolinewidth\":2},\"yaxis\":{\"gridcolor\":\"white\",\"linecolor\":\"white\",\"ticks\":\"\",\"title\":{\"standoff\":15},\"zerolinecolor\":\"white\",\"automargin\":true,\"zerolinewidth\":2},\"scene\":{\"xaxis\":{\"backgroundcolor\":\"#E5ECF6\",\"gridcolor\":\"white\",\"linecolor\":\"white\",\"showbackground\":true,\"ticks\":\"\",\"zerolinecolor\":\"white\",\"gridwidth\":2},\"yaxis\":{\"backgroundcolor\":\"#E5ECF6\",\"gridcolor\":\"white\",\"linecolor\":\"white\",\"showbackground\":true,\"ticks\":\"\",\"zerolinecolor\":\"white\",\"gridwidth\":2},\"zaxis\":{\"backgroundcolor\":\"#E5ECF6\",\"gridcolor\":\"white\",\"linecolor\":\"white\",\"showbackground\":true,\"ticks\":\"\",\"zerolinecolor\":\"white\",\"gridwidth\":2}},\"shapedefaults\":{\"line\":{\"color\":\"#2a3f5f\"}},\"annotationdefaults\":{\"arrowcolor\":\"#2a3f5f\",\"arrowhead\":0,\"arrowwidth\":1},\"geo\":{\"bgcolor\":\"white\",\"landcolor\":\"#E5ECF6\",\"subunitcolor\":\"white\",\"showland\":true,\"showlakes\":true,\"lakecolor\":\"white\"},\"title\":{\"x\":0.05},\"mapbox\":{\"style\":\"light\"}}},\"mapbox\":{\"domain\":{\"x\":[0.0,1.0],\"y\":[0.0,1.0]},\"center\":{\"lat\":51.17,\"lon\":10.45},\"zoom\":4.5,\"style\":\"carto-positron\"},\"coloraxis\":{\"colorbar\":{\"title\":{\"text\":\"Feuerintensit\\u00e4t [MW]\"},\"ticks\":\"inside\"},\"colorscale\":[[0,\"black\"],[0.5,\"red\"],[1,\"yellow\"]],\"cmin\":0,\"cmax\":50},\"legend\":{\"tracegroupgap\":0,\"itemsizing\":\"constant\",\"yanchor\":\"top\",\"xanchor\":\"left\",\"y\":1,\"x\":0.1},\"margin\":{\"t\":60},\"updatemenus\":[{\"buttons\":[{\"args\":[null,{\"frame\":{\"duration\":500,\"redraw\":true},\"mode\":\"immediate\",\"fromcurrent\":true,\"transition\":{\"duration\":500,\"easing\":\"linear\"}}],\"label\":\"&#9654;\",\"method\":\"animate\"},{\"args\":[[null],{\"frame\":{\"duration\":0,\"redraw\":true},\"mode\":\"immediate\",\"fromcurrent\":true,\"transition\":{\"duration\":0,\"easing\":\"linear\"}}],\"label\":\"&#9724;\",\"method\":\"animate\"}],\"direction\":\"left\",\"pad\":{\"r\":10,\"t\":70},\"showactive\":false,\"type\":\"buttons\",\"x\":0.1,\"xanchor\":\"right\",\"y\":0,\"yanchor\":\"top\"}],\"sliders\":[{\"active\":0,\"currentvalue\":{\"prefix\":\"Datum=\"},\"len\":0.9,\"pad\":{\"b\":10,\"t\":60},\"steps\":[{\"args\":[[\"2009-01-12\"],{\"frame\":{\"duration\":0,\"redraw\":true},\"mode\":\"immediate\",\"fromcurrent\":true,\"transition\":{\"duration\":0,\"easing\":\"linear\"}}],\"label\":\"2009-01-12\",\"method\":\"animate\"},{\"args\":[[\"2009-02-03\"],{\"frame\":{\"duration\":0,\"redraw\":true},\"mode\":\"immediate\",\"fromcurrent\":true,\"transition\":{\"duration\":0,\"easing\":\"linear\"}}],\"label\":\"2009-02-03\",\"method\":\"animate\"},{\"args\":[[\"2009-03-03\"],{\"frame\":{\"duration\":0,\"redraw\":true},\"mode\":\"immediate\",\"fromcurrent\":true,\"transition\":{\"duration\":0,\"easing\":\"linear\"}}],\"label\":\"2009-03-03\",\"method\":\"animate\"},{\"args\":[[\"2009-03-17\"],{\"frame\":{\"duration\":0,\"redraw\":true},\"mode\":\"immediate\",\"fromcurrent\":true,\"transition\":{\"duration\":0,\"easing\":\"linear\"}}],\"label\":\"2009-03-17\",\"method\":\"animate\"},{\"args\":[[\"2009-03-18\"],{\"frame\":{\"duration\":0,\"redraw\":true},\"mode\":\"immediate\",\"fromcurrent\":true,\"transition\":{\"duration\":0,\"easing\":\"linear\"}}],\"label\":\"2009-03-18\",\"method\":\"animate\"},{\"args\":[[\"2009-03-19\"],{\"frame\":{\"duration\":0,\"redraw\":true},\"mode\":\"immediate\",\"fromcurrent\":true,\"transition\":{\"duration\":0,\"easing\":\"linear\"}}],\"label\":\"2009-03-19\",\"method\":\"animate\"},{\"args\":[[\"2009-03-21\"],{\"frame\":{\"duration\":0,\"redraw\":true},\"mode\":\"immediate\",\"fromcurrent\":true,\"transition\":{\"duration\":0,\"easing\":\"linear\"}}],\"label\":\"2009-03-21\",\"method\":\"animate\"},{\"args\":[[\"2009-03-28\"],{\"frame\":{\"duration\":0,\"redraw\":true},\"mode\":\"immediate\",\"fromcurrent\":true,\"transition\":{\"duration\":0,\"easing\":\"linear\"}}],\"label\":\"2009-03-28\",\"method\":\"animate\"},{\"args\":[[\"2009-03-29\"],{\"frame\":{\"duration\":0,\"redraw\":true},\"mode\":\"immediate\",\"fromcurrent\":true,\"transition\":{\"duration\":0,\"easing\":\"linear\"}}],\"label\":\"2009-03-29\",\"method\":\"animate\"},{\"args\":[[\"2009-03-30\"],{\"frame\":{\"duration\":0,\"redraw\":true},\"mode\":\"immediate\",\"fromcurrent\":true,\"transition\":{\"duration\":0,\"easing\":\"linear\"}}],\"label\":\"2009-03-30\",\"method\":\"animate\"},{\"args\":[[\"2009-03-31\"],{\"frame\":{\"duration\":0,\"redraw\":true},\"mode\":\"immediate\",\"fromcurrent\":true,\"transition\":{\"duration\":0,\"easing\":\"linear\"}}],\"label\":\"2009-03-31\",\"method\":\"animate\"},{\"args\":[[\"2009-04-01\"],{\"frame\":{\"duration\":0,\"redraw\":true},\"mode\":\"immediate\",\"fromcurrent\":true,\"transition\":{\"duration\":0,\"easing\":\"linear\"}}],\"label\":\"2009-04-01\",\"method\":\"animate\"},{\"args\":[[\"2009-04-02\"],{\"frame\":{\"duration\":0,\"redraw\":true},\"mode\":\"immediate\",\"fromcurrent\":true,\"transition\":{\"duration\":0,\"easing\":\"linear\"}}],\"label\":\"2009-04-02\",\"method\":\"animate\"},{\"args\":[[\"2009-04-03\"],{\"frame\":{\"duration\":0,\"redraw\":true},\"mode\":\"immediate\",\"fromcurrent\":true,\"transition\":{\"duration\":0,\"easing\":\"linear\"}}],\"label\":\"2009-04-03\",\"method\":\"animate\"},{\"args\":[[\"2009-04-04\"],{\"frame\":{\"duration\":0,\"redraw\":true},\"mode\":\"immediate\",\"fromcurrent\":true,\"transition\":{\"duration\":0,\"easing\":\"linear\"}}],\"label\":\"2009-04-04\",\"method\":\"animate\"},{\"args\":[[\"2009-04-06\"],{\"frame\":{\"duration\":0,\"redraw\":true},\"mode\":\"immediate\",\"fromcurrent\":true,\"transition\":{\"duration\":0,\"easing\":\"linear\"}}],\"label\":\"2009-04-06\",\"method\":\"animate\"},{\"args\":[[\"2009-04-07\"],{\"frame\":{\"duration\":0,\"redraw\":true},\"mode\":\"immediate\",\"fromcurrent\":true,\"transition\":{\"duration\":0,\"easing\":\"linear\"}}],\"label\":\"2009-04-07\",\"method\":\"animate\"},{\"args\":[[\"2009-04-08\"],{\"frame\":{\"duration\":0,\"redraw\":true},\"mode\":\"immediate\",\"fromcurrent\":true,\"transition\":{\"duration\":0,\"easing\":\"linear\"}}],\"label\":\"2009-04-08\",\"method\":\"animate\"},{\"args\":[[\"2009-04-10\"],{\"frame\":{\"duration\":0,\"redraw\":true},\"mode\":\"immediate\",\"fromcurrent\":true,\"transition\":{\"duration\":0,\"easing\":\"linear\"}}],\"label\":\"2009-04-10\",\"method\":\"animate\"},{\"args\":[[\"2009-04-11\"],{\"frame\":{\"duration\":0,\"redraw\":true},\"mode\":\"immediate\",\"fromcurrent\":true,\"transition\":{\"duration\":0,\"easing\":\"linear\"}}],\"label\":\"2009-04-11\",\"method\":\"animate\"},{\"args\":[[\"2009-04-13\"],{\"frame\":{\"duration\":0,\"redraw\":true},\"mode\":\"immediate\",\"fromcurrent\":true,\"transition\":{\"duration\":0,\"easing\":\"linear\"}}],\"label\":\"2009-04-13\",\"method\":\"animate\"},{\"args\":[[\"2009-04-14\"],{\"frame\":{\"duration\":0,\"redraw\":true},\"mode\":\"immediate\",\"fromcurrent\":true,\"transition\":{\"duration\":0,\"easing\":\"linear\"}}],\"label\":\"2009-04-14\",\"method\":\"animate\"},{\"args\":[[\"2009-04-15\"],{\"frame\":{\"duration\":0,\"redraw\":true},\"mode\":\"immediate\",\"fromcurrent\":true,\"transition\":{\"duration\":0,\"easing\":\"linear\"}}],\"label\":\"2009-04-15\",\"method\":\"animate\"},{\"args\":[[\"2009-04-16\"],{\"frame\":{\"duration\":0,\"redraw\":true},\"mode\":\"immediate\",\"fromcurrent\":true,\"transition\":{\"duration\":0,\"easing\":\"linear\"}}],\"label\":\"2009-04-16\",\"method\":\"animate\"},{\"args\":[[\"2009-04-17\"],{\"frame\":{\"duration\":0,\"redraw\":true},\"mode\":\"immediate\",\"fromcurrent\":true,\"transition\":{\"duration\":0,\"easing\":\"linear\"}}],\"label\":\"2009-04-17\",\"method\":\"animate\"},{\"args\":[[\"2009-04-18\"],{\"frame\":{\"duration\":0,\"redraw\":true},\"mode\":\"immediate\",\"fromcurrent\":true,\"transition\":{\"duration\":0,\"easing\":\"linear\"}}],\"label\":\"2009-04-18\",\"method\":\"animate\"},{\"args\":[[\"2009-04-19\"],{\"frame\":{\"duration\":0,\"redraw\":true},\"mode\":\"immediate\",\"fromcurrent\":true,\"transition\":{\"duration\":0,\"easing\":\"linear\"}}],\"label\":\"2009-04-19\",\"method\":\"animate\"},{\"args\":[[\"2009-04-20\"],{\"frame\":{\"duration\":0,\"redraw\":true},\"mode\":\"immediate\",\"fromcurrent\":true,\"transition\":{\"duration\":0,\"easing\":\"linear\"}}],\"label\":\"2009-04-20\",\"method\":\"animate\"},{\"args\":[[\"2009-04-21\"],{\"frame\":{\"duration\":0,\"redraw\":true},\"mode\":\"immediate\",\"fromcurrent\":true,\"transition\":{\"duration\":0,\"easing\":\"linear\"}}],\"label\":\"2009-04-21\",\"method\":\"animate\"},{\"args\":[[\"2009-04-22\"],{\"frame\":{\"duration\":0,\"redraw\":true},\"mode\":\"immediate\",\"fromcurrent\":true,\"transition\":{\"duration\":0,\"easing\":\"linear\"}}],\"label\":\"2009-04-22\",\"method\":\"animate\"},{\"args\":[[\"2009-04-24\"],{\"frame\":{\"duration\":0,\"redraw\":true},\"mode\":\"immediate\",\"fromcurrent\":true,\"transition\":{\"duration\":0,\"easing\":\"linear\"}}],\"label\":\"2009-04-24\",\"method\":\"animate\"},{\"args\":[[\"2009-04-25\"],{\"frame\":{\"duration\":0,\"redraw\":true},\"mode\":\"immediate\",\"fromcurrent\":true,\"transition\":{\"duration\":0,\"easing\":\"linear\"}}],\"label\":\"2009-04-25\",\"method\":\"animate\"},{\"args\":[[\"2009-04-26\"],{\"frame\":{\"duration\":0,\"redraw\":true},\"mode\":\"immediate\",\"fromcurrent\":true,\"transition\":{\"duration\":0,\"easing\":\"linear\"}}],\"label\":\"2009-04-26\",\"method\":\"animate\"},{\"args\":[[\"2009-04-28\"],{\"frame\":{\"duration\":0,\"redraw\":true},\"mode\":\"immediate\",\"fromcurrent\":true,\"transition\":{\"duration\":0,\"easing\":\"linear\"}}],\"label\":\"2009-04-28\",\"method\":\"animate\"},{\"args\":[[\"2009-04-30\"],{\"frame\":{\"duration\":0,\"redraw\":true},\"mode\":\"immediate\",\"fromcurrent\":true,\"transition\":{\"duration\":0,\"easing\":\"linear\"}}],\"label\":\"2009-04-30\",\"method\":\"animate\"},{\"args\":[[\"2009-05-01\"],{\"frame\":{\"duration\":0,\"redraw\":true},\"mode\":\"immediate\",\"fromcurrent\":true,\"transition\":{\"duration\":0,\"easing\":\"linear\"}}],\"label\":\"2009-05-01\",\"method\":\"animate\"},{\"args\":[[\"2009-05-02\"],{\"frame\":{\"duration\":0,\"redraw\":true},\"mode\":\"immediate\",\"fromcurrent\":true,\"transition\":{\"duration\":0,\"easing\":\"linear\"}}],\"label\":\"2009-05-02\",\"method\":\"animate\"},{\"args\":[[\"2009-05-03\"],{\"frame\":{\"duration\":0,\"redraw\":true},\"mode\":\"immediate\",\"fromcurrent\":true,\"transition\":{\"duration\":0,\"easing\":\"linear\"}}],\"label\":\"2009-05-03\",\"method\":\"animate\"},{\"args\":[[\"2009-05-04\"],{\"frame\":{\"duration\":0,\"redraw\":true},\"mode\":\"immediate\",\"fromcurrent\":true,\"transition\":{\"duration\":0,\"easing\":\"linear\"}}],\"label\":\"2009-05-04\",\"method\":\"animate\"},{\"args\":[[\"2009-05-07\"],{\"frame\":{\"duration\":0,\"redraw\":true},\"mode\":\"immediate\",\"fromcurrent\":true,\"transition\":{\"duration\":0,\"easing\":\"linear\"}}],\"label\":\"2009-05-07\",\"method\":\"animate\"},{\"args\":[[\"2009-05-08\"],{\"frame\":{\"duration\":0,\"redraw\":true},\"mode\":\"immediate\",\"fromcurrent\":true,\"transition\":{\"duration\":0,\"easing\":\"linear\"}}],\"label\":\"2009-05-08\",\"method\":\"animate\"},{\"args\":[[\"2009-05-10\"],{\"frame\":{\"duration\":0,\"redraw\":true},\"mode\":\"immediate\",\"fromcurrent\":true,\"transition\":{\"duration\":0,\"easing\":\"linear\"}}],\"label\":\"2009-05-10\",\"method\":\"animate\"},{\"args\":[[\"2009-05-11\"],{\"frame\":{\"duration\":0,\"redraw\":true},\"mode\":\"immediate\",\"fromcurrent\":true,\"transition\":{\"duration\":0,\"easing\":\"linear\"}}],\"label\":\"2009-05-11\",\"method\":\"animate\"},{\"args\":[[\"2009-05-12\"],{\"frame\":{\"duration\":0,\"redraw\":true},\"mode\":\"immediate\",\"fromcurrent\":true,\"transition\":{\"duration\":0,\"easing\":\"linear\"}}],\"label\":\"2009-05-12\",\"method\":\"animate\"},{\"args\":[[\"2009-05-14\"],{\"frame\":{\"duration\":0,\"redraw\":true},\"mode\":\"immediate\",\"fromcurrent\":true,\"transition\":{\"duration\":0,\"easing\":\"linear\"}}],\"label\":\"2009-05-14\",\"method\":\"animate\"},{\"args\":[[\"2009-05-15\"],{\"frame\":{\"duration\":0,\"redraw\":true},\"mode\":\"immediate\",\"fromcurrent\":true,\"transition\":{\"duration\":0,\"easing\":\"linear\"}}],\"label\":\"2009-05-15\",\"method\":\"animate\"},{\"args\":[[\"2009-05-17\"],{\"frame\":{\"duration\":0,\"redraw\":true},\"mode\":\"immediate\",\"fromcurrent\":true,\"transition\":{\"duration\":0,\"easing\":\"linear\"}}],\"label\":\"2009-05-17\",\"method\":\"animate\"},{\"args\":[[\"2009-05-18\"],{\"frame\":{\"duration\":0,\"redraw\":true},\"mode\":\"immediate\",\"fromcurrent\":true,\"transition\":{\"duration\":0,\"easing\":\"linear\"}}],\"label\":\"2009-05-18\",\"method\":\"animate\"},{\"args\":[[\"2009-05-19\"],{\"frame\":{\"duration\":0,\"redraw\":true},\"mode\":\"immediate\",\"fromcurrent\":true,\"transition\":{\"duration\":0,\"easing\":\"linear\"}}],\"label\":\"2009-05-19\",\"method\":\"animate\"},{\"args\":[[\"2009-05-20\"],{\"frame\":{\"duration\":0,\"redraw\":true},\"mode\":\"immediate\",\"fromcurrent\":true,\"transition\":{\"duration\":0,\"easing\":\"linear\"}}],\"label\":\"2009-05-20\",\"method\":\"animate\"},{\"args\":[[\"2009-05-21\"],{\"frame\":{\"duration\":0,\"redraw\":true},\"mode\":\"immediate\",\"fromcurrent\":true,\"transition\":{\"duration\":0,\"easing\":\"linear\"}}],\"label\":\"2009-05-21\",\"method\":\"animate\"},{\"args\":[[\"2009-05-22\"],{\"frame\":{\"duration\":0,\"redraw\":true},\"mode\":\"immediate\",\"fromcurrent\":true,\"transition\":{\"duration\":0,\"easing\":\"linear\"}}],\"label\":\"2009-05-22\",\"method\":\"animate\"},{\"args\":[[\"2009-05-23\"],{\"frame\":{\"duration\":0,\"redraw\":true},\"mode\":\"immediate\",\"fromcurrent\":true,\"transition\":{\"duration\":0,\"easing\":\"linear\"}}],\"label\":\"2009-05-23\",\"method\":\"animate\"},{\"args\":[[\"2009-05-24\"],{\"frame\":{\"duration\":0,\"redraw\":true},\"mode\":\"immediate\",\"fromcurrent\":true,\"transition\":{\"duration\":0,\"easing\":\"linear\"}}],\"label\":\"2009-05-24\",\"method\":\"animate\"},{\"args\":[[\"2009-05-25\"],{\"frame\":{\"duration\":0,\"redraw\":true},\"mode\":\"immediate\",\"fromcurrent\":true,\"transition\":{\"duration\":0,\"easing\":\"linear\"}}],\"label\":\"2009-05-25\",\"method\":\"animate\"},{\"args\":[[\"2009-05-26\"],{\"frame\":{\"duration\":0,\"redraw\":true},\"mode\":\"immediate\",\"fromcurrent\":true,\"transition\":{\"duration\":0,\"easing\":\"linear\"}}],\"label\":\"2009-05-26\",\"method\":\"animate\"},{\"args\":[[\"2009-05-27\"],{\"frame\":{\"duration\":0,\"redraw\":true},\"mode\":\"immediate\",\"fromcurrent\":true,\"transition\":{\"duration\":0,\"easing\":\"linear\"}}],\"label\":\"2009-05-27\",\"method\":\"animate\"},{\"args\":[[\"2009-05-28\"],{\"frame\":{\"duration\":0,\"redraw\":true},\"mode\":\"immediate\",\"fromcurrent\":true,\"transition\":{\"duration\":0,\"easing\":\"linear\"}}],\"label\":\"2009-05-28\",\"method\":\"animate\"},{\"args\":[[\"2009-05-29\"],{\"frame\":{\"duration\":0,\"redraw\":true},\"mode\":\"immediate\",\"fromcurrent\":true,\"transition\":{\"duration\":0,\"easing\":\"linear\"}}],\"label\":\"2009-05-29\",\"method\":\"animate\"},{\"args\":[[\"2009-05-31\"],{\"frame\":{\"duration\":0,\"redraw\":true},\"mode\":\"immediate\",\"fromcurrent\":true,\"transition\":{\"duration\":0,\"easing\":\"linear\"}}],\"label\":\"2009-05-31\",\"method\":\"animate\"},{\"args\":[[\"2009-06-01\"],{\"frame\":{\"duration\":0,\"redraw\":true},\"mode\":\"immediate\",\"fromcurrent\":true,\"transition\":{\"duration\":0,\"easing\":\"linear\"}}],\"label\":\"2009-06-01\",\"method\":\"animate\"},{\"args\":[[\"2009-06-02\"],{\"frame\":{\"duration\":0,\"redraw\":true},\"mode\":\"immediate\",\"fromcurrent\":true,\"transition\":{\"duration\":0,\"easing\":\"linear\"}}],\"label\":\"2009-06-02\",\"method\":\"animate\"},{\"args\":[[\"2009-06-03\"],{\"frame\":{\"duration\":0,\"redraw\":true},\"mode\":\"immediate\",\"fromcurrent\":true,\"transition\":{\"duration\":0,\"easing\":\"linear\"}}],\"label\":\"2009-06-03\",\"method\":\"animate\"},{\"args\":[[\"2009-06-04\"],{\"frame\":{\"duration\":0,\"redraw\":true},\"mode\":\"immediate\",\"fromcurrent\":true,\"transition\":{\"duration\":0,\"easing\":\"linear\"}}],\"label\":\"2009-06-04\",\"method\":\"animate\"},{\"args\":[[\"2009-06-09\"],{\"frame\":{\"duration\":0,\"redraw\":true},\"mode\":\"immediate\",\"fromcurrent\":true,\"transition\":{\"duration\":0,\"easing\":\"linear\"}}],\"label\":\"2009-06-09\",\"method\":\"animate\"},{\"args\":[[\"2009-06-10\"],{\"frame\":{\"duration\":0,\"redraw\":true},\"mode\":\"immediate\",\"fromcurrent\":true,\"transition\":{\"duration\":0,\"easing\":\"linear\"}}],\"label\":\"2009-06-10\",\"method\":\"animate\"},{\"args\":[[\"2009-06-11\"],{\"frame\":{\"duration\":0,\"redraw\":true},\"mode\":\"immediate\",\"fromcurrent\":true,\"transition\":{\"duration\":0,\"easing\":\"linear\"}}],\"label\":\"2009-06-11\",\"method\":\"animate\"},{\"args\":[[\"2009-06-13\"],{\"frame\":{\"duration\":0,\"redraw\":true},\"mode\":\"immediate\",\"fromcurrent\":true,\"transition\":{\"duration\":0,\"easing\":\"linear\"}}],\"label\":\"2009-06-13\",\"method\":\"animate\"},{\"args\":[[\"2009-06-14\"],{\"frame\":{\"duration\":0,\"redraw\":true},\"mode\":\"immediate\",\"fromcurrent\":true,\"transition\":{\"duration\":0,\"easing\":\"linear\"}}],\"label\":\"2009-06-14\",\"method\":\"animate\"},{\"args\":[[\"2009-06-15\"],{\"frame\":{\"duration\":0,\"redraw\":true},\"mode\":\"immediate\",\"fromcurrent\":true,\"transition\":{\"duration\":0,\"easing\":\"linear\"}}],\"label\":\"2009-06-15\",\"method\":\"animate\"},{\"args\":[[\"2009-06-16\"],{\"frame\":{\"duration\":0,\"redraw\":true},\"mode\":\"immediate\",\"fromcurrent\":true,\"transition\":{\"duration\":0,\"easing\":\"linear\"}}],\"label\":\"2009-06-16\",\"method\":\"animate\"},{\"args\":[[\"2009-06-17\"],{\"frame\":{\"duration\":0,\"redraw\":true},\"mode\":\"immediate\",\"fromcurrent\":true,\"transition\":{\"duration\":0,\"easing\":\"linear\"}}],\"label\":\"2009-06-17\",\"method\":\"animate\"},{\"args\":[[\"2009-06-18\"],{\"frame\":{\"duration\":0,\"redraw\":true},\"mode\":\"immediate\",\"fromcurrent\":true,\"transition\":{\"duration\":0,\"easing\":\"linear\"}}],\"label\":\"2009-06-18\",\"method\":\"animate\"},{\"args\":[[\"2009-06-19\"],{\"frame\":{\"duration\":0,\"redraw\":true},\"mode\":\"immediate\",\"fromcurrent\":true,\"transition\":{\"duration\":0,\"easing\":\"linear\"}}],\"label\":\"2009-06-19\",\"method\":\"animate\"},{\"args\":[[\"2009-06-20\"],{\"frame\":{\"duration\":0,\"redraw\":true},\"mode\":\"immediate\",\"fromcurrent\":true,\"transition\":{\"duration\":0,\"easing\":\"linear\"}}],\"label\":\"2009-06-20\",\"method\":\"animate\"},{\"args\":[[\"2009-06-22\"],{\"frame\":{\"duration\":0,\"redraw\":true},\"mode\":\"immediate\",\"fromcurrent\":true,\"transition\":{\"duration\":0,\"easing\":\"linear\"}}],\"label\":\"2009-06-22\",\"method\":\"animate\"},{\"args\":[[\"2009-06-23\"],{\"frame\":{\"duration\":0,\"redraw\":true},\"mode\":\"immediate\",\"fromcurrent\":true,\"transition\":{\"duration\":0,\"easing\":\"linear\"}}],\"label\":\"2009-06-23\",\"method\":\"animate\"},{\"args\":[[\"2009-06-24\"],{\"frame\":{\"duration\":0,\"redraw\":true},\"mode\":\"immediate\",\"fromcurrent\":true,\"transition\":{\"duration\":0,\"easing\":\"linear\"}}],\"label\":\"2009-06-24\",\"method\":\"animate\"},{\"args\":[[\"2009-06-25\"],{\"frame\":{\"duration\":0,\"redraw\":true},\"mode\":\"immediate\",\"fromcurrent\":true,\"transition\":{\"duration\":0,\"easing\":\"linear\"}}],\"label\":\"2009-06-25\",\"method\":\"animate\"},{\"args\":[[\"2009-06-27\"],{\"frame\":{\"duration\":0,\"redraw\":true},\"mode\":\"immediate\",\"fromcurrent\":true,\"transition\":{\"duration\":0,\"easing\":\"linear\"}}],\"label\":\"2009-06-27\",\"method\":\"animate\"},{\"args\":[[\"2009-06-29\"],{\"frame\":{\"duration\":0,\"redraw\":true},\"mode\":\"immediate\",\"fromcurrent\":true,\"transition\":{\"duration\":0,\"easing\":\"linear\"}}],\"label\":\"2009-06-29\",\"method\":\"animate\"},{\"args\":[[\"2009-06-30\"],{\"frame\":{\"duration\":0,\"redraw\":true},\"mode\":\"immediate\",\"fromcurrent\":true,\"transition\":{\"duration\":0,\"easing\":\"linear\"}}],\"label\":\"2009-06-30\",\"method\":\"animate\"},{\"args\":[[\"2009-07-01\"],{\"frame\":{\"duration\":0,\"redraw\":true},\"mode\":\"immediate\",\"fromcurrent\":true,\"transition\":{\"duration\":0,\"easing\":\"linear\"}}],\"label\":\"2009-07-01\",\"method\":\"animate\"},{\"args\":[[\"2009-07-02\"],{\"frame\":{\"duration\":0,\"redraw\":true},\"mode\":\"immediate\",\"fromcurrent\":true,\"transition\":{\"duration\":0,\"easing\":\"linear\"}}],\"label\":\"2009-07-02\",\"method\":\"animate\"},{\"args\":[[\"2009-07-03\"],{\"frame\":{\"duration\":0,\"redraw\":true},\"mode\":\"immediate\",\"fromcurrent\":true,\"transition\":{\"duration\":0,\"easing\":\"linear\"}}],\"label\":\"2009-07-03\",\"method\":\"animate\"},{\"args\":[[\"2009-07-04\"],{\"frame\":{\"duration\":0,\"redraw\":true},\"mode\":\"immediate\",\"fromcurrent\":true,\"transition\":{\"duration\":0,\"easing\":\"linear\"}}],\"label\":\"2009-07-04\",\"method\":\"animate\"},{\"args\":[[\"2009-07-06\"],{\"frame\":{\"duration\":0,\"redraw\":true},\"mode\":\"immediate\",\"fromcurrent\":true,\"transition\":{\"duration\":0,\"easing\":\"linear\"}}],\"label\":\"2009-07-06\",\"method\":\"animate\"},{\"args\":[[\"2009-07-07\"],{\"frame\":{\"duration\":0,\"redraw\":true},\"mode\":\"immediate\",\"fromcurrent\":true,\"transition\":{\"duration\":0,\"easing\":\"linear\"}}],\"label\":\"2009-07-07\",\"method\":\"animate\"},{\"args\":[[\"2009-07-09\"],{\"frame\":{\"duration\":0,\"redraw\":true},\"mode\":\"immediate\",\"fromcurrent\":true,\"transition\":{\"duration\":0,\"easing\":\"linear\"}}],\"label\":\"2009-07-09\",\"method\":\"animate\"},{\"args\":[[\"2009-07-12\"],{\"frame\":{\"duration\":0,\"redraw\":true},\"mode\":\"immediate\",\"fromcurrent\":true,\"transition\":{\"duration\":0,\"easing\":\"linear\"}}],\"label\":\"2009-07-12\",\"method\":\"animate\"},{\"args\":[[\"2009-07-13\"],{\"frame\":{\"duration\":0,\"redraw\":true},\"mode\":\"immediate\",\"fromcurrent\":true,\"transition\":{\"duration\":0,\"easing\":\"linear\"}}],\"label\":\"2009-07-13\",\"method\":\"animate\"},{\"args\":[[\"2009-07-15\"],{\"frame\":{\"duration\":0,\"redraw\":true},\"mode\":\"immediate\",\"fromcurrent\":true,\"transition\":{\"duration\":0,\"easing\":\"linear\"}}],\"label\":\"2009-07-15\",\"method\":\"animate\"},{\"args\":[[\"2009-07-16\"],{\"frame\":{\"duration\":0,\"redraw\":true},\"mode\":\"immediate\",\"fromcurrent\":true,\"transition\":{\"duration\":0,\"easing\":\"linear\"}}],\"label\":\"2009-07-16\",\"method\":\"animate\"},{\"args\":[[\"2009-07-21\"],{\"frame\":{\"duration\":0,\"redraw\":true},\"mode\":\"immediate\",\"fromcurrent\":true,\"transition\":{\"duration\":0,\"easing\":\"linear\"}}],\"label\":\"2009-07-21\",\"method\":\"animate\"},{\"args\":[[\"2009-07-22\"],{\"frame\":{\"duration\":0,\"redraw\":true},\"mode\":\"immediate\",\"fromcurrent\":true,\"transition\":{\"duration\":0,\"easing\":\"linear\"}}],\"label\":\"2009-07-22\",\"method\":\"animate\"},{\"args\":[[\"2009-07-24\"],{\"frame\":{\"duration\":0,\"redraw\":true},\"mode\":\"immediate\",\"fromcurrent\":true,\"transition\":{\"duration\":0,\"easing\":\"linear\"}}],\"label\":\"2009-07-24\",\"method\":\"animate\"},{\"args\":[[\"2009-07-25\"],{\"frame\":{\"duration\":0,\"redraw\":true},\"mode\":\"immediate\",\"fromcurrent\":true,\"transition\":{\"duration\":0,\"easing\":\"linear\"}}],\"label\":\"2009-07-25\",\"method\":\"animate\"},{\"args\":[[\"2009-07-27\"],{\"frame\":{\"duration\":0,\"redraw\":true},\"mode\":\"immediate\",\"fromcurrent\":true,\"transition\":{\"duration\":0,\"easing\":\"linear\"}}],\"label\":\"2009-07-27\",\"method\":\"animate\"},{\"args\":[[\"2009-07-28\"],{\"frame\":{\"duration\":0,\"redraw\":true},\"mode\":\"immediate\",\"fromcurrent\":true,\"transition\":{\"duration\":0,\"easing\":\"linear\"}}],\"label\":\"2009-07-28\",\"method\":\"animate\"},{\"args\":[[\"2009-07-29\"],{\"frame\":{\"duration\":0,\"redraw\":true},\"mode\":\"immediate\",\"fromcurrent\":true,\"transition\":{\"duration\":0,\"easing\":\"linear\"}}],\"label\":\"2009-07-29\",\"method\":\"animate\"},{\"args\":[[\"2009-07-31\"],{\"frame\":{\"duration\":0,\"redraw\":true},\"mode\":\"immediate\",\"fromcurrent\":true,\"transition\":{\"duration\":0,\"easing\":\"linear\"}}],\"label\":\"2009-07-31\",\"method\":\"animate\"},{\"args\":[[\"2009-08-01\"],{\"frame\":{\"duration\":0,\"redraw\":true},\"mode\":\"immediate\",\"fromcurrent\":true,\"transition\":{\"duration\":0,\"easing\":\"linear\"}}],\"label\":\"2009-08-01\",\"method\":\"animate\"},{\"args\":[[\"2009-08-04\"],{\"frame\":{\"duration\":0,\"redraw\":true},\"mode\":\"immediate\",\"fromcurrent\":true,\"transition\":{\"duration\":0,\"easing\":\"linear\"}}],\"label\":\"2009-08-04\",\"method\":\"animate\"},{\"args\":[[\"2009-08-05\"],{\"frame\":{\"duration\":0,\"redraw\":true},\"mode\":\"immediate\",\"fromcurrent\":true,\"transition\":{\"duration\":0,\"easing\":\"linear\"}}],\"label\":\"2009-08-05\",\"method\":\"animate\"},{\"args\":[[\"2009-08-06\"],{\"frame\":{\"duration\":0,\"redraw\":true},\"mode\":\"immediate\",\"fromcurrent\":true,\"transition\":{\"duration\":0,\"easing\":\"linear\"}}],\"label\":\"2009-08-06\",\"method\":\"animate\"},{\"args\":[[\"2009-08-07\"],{\"frame\":{\"duration\":0,\"redraw\":true},\"mode\":\"immediate\",\"fromcurrent\":true,\"transition\":{\"duration\":0,\"easing\":\"linear\"}}],\"label\":\"2009-08-07\",\"method\":\"animate\"},{\"args\":[[\"2009-08-11\"],{\"frame\":{\"duration\":0,\"redraw\":true},\"mode\":\"immediate\",\"fromcurrent\":true,\"transition\":{\"duration\":0,\"easing\":\"linear\"}}],\"label\":\"2009-08-11\",\"method\":\"animate\"},{\"args\":[[\"2009-08-12\"],{\"frame\":{\"duration\":0,\"redraw\":true},\"mode\":\"immediate\",\"fromcurrent\":true,\"transition\":{\"duration\":0,\"easing\":\"linear\"}}],\"label\":\"2009-08-12\",\"method\":\"animate\"},{\"args\":[[\"2009-08-13\"],{\"frame\":{\"duration\":0,\"redraw\":true},\"mode\":\"immediate\",\"fromcurrent\":true,\"transition\":{\"duration\":0,\"easing\":\"linear\"}}],\"label\":\"2009-08-13\",\"method\":\"animate\"},{\"args\":[[\"2009-08-14\"],{\"frame\":{\"duration\":0,\"redraw\":true},\"mode\":\"immediate\",\"fromcurrent\":true,\"transition\":{\"duration\":0,\"easing\":\"linear\"}}],\"label\":\"2009-08-14\",\"method\":\"animate\"},{\"args\":[[\"2009-08-15\"],{\"frame\":{\"duration\":0,\"redraw\":true},\"mode\":\"immediate\",\"fromcurrent\":true,\"transition\":{\"duration\":0,\"easing\":\"linear\"}}],\"label\":\"2009-08-15\",\"method\":\"animate\"},{\"args\":[[\"2009-08-16\"],{\"frame\":{\"duration\":0,\"redraw\":true},\"mode\":\"immediate\",\"fromcurrent\":true,\"transition\":{\"duration\":0,\"easing\":\"linear\"}}],\"label\":\"2009-08-16\",\"method\":\"animate\"},{\"args\":[[\"2009-08-17\"],{\"frame\":{\"duration\":0,\"redraw\":true},\"mode\":\"immediate\",\"fromcurrent\":true,\"transition\":{\"duration\":0,\"easing\":\"linear\"}}],\"label\":\"2009-08-17\",\"method\":\"animate\"},{\"args\":[[\"2009-08-18\"],{\"frame\":{\"duration\":0,\"redraw\":true},\"mode\":\"immediate\",\"fromcurrent\":true,\"transition\":{\"duration\":0,\"easing\":\"linear\"}}],\"label\":\"2009-08-18\",\"method\":\"animate\"},{\"args\":[[\"2009-08-19\"],{\"frame\":{\"duration\":0,\"redraw\":true},\"mode\":\"immediate\",\"fromcurrent\":true,\"transition\":{\"duration\":0,\"easing\":\"linear\"}}],\"label\":\"2009-08-19\",\"method\":\"animate\"},{\"args\":[[\"2009-08-20\"],{\"frame\":{\"duration\":0,\"redraw\":true},\"mode\":\"immediate\",\"fromcurrent\":true,\"transition\":{\"duration\":0,\"easing\":\"linear\"}}],\"label\":\"2009-08-20\",\"method\":\"animate\"},{\"args\":[[\"2009-08-21\"],{\"frame\":{\"duration\":0,\"redraw\":true},\"mode\":\"immediate\",\"fromcurrent\":true,\"transition\":{\"duration\":0,\"easing\":\"linear\"}}],\"label\":\"2009-08-21\",\"method\":\"animate\"},{\"args\":[[\"2009-08-23\"],{\"frame\":{\"duration\":0,\"redraw\":true},\"mode\":\"immediate\",\"fromcurrent\":true,\"transition\":{\"duration\":0,\"easing\":\"linear\"}}],\"label\":\"2009-08-23\",\"method\":\"animate\"},{\"args\":[[\"2009-08-24\"],{\"frame\":{\"duration\":0,\"redraw\":true},\"mode\":\"immediate\",\"fromcurrent\":true,\"transition\":{\"duration\":0,\"easing\":\"linear\"}}],\"label\":\"2009-08-24\",\"method\":\"animate\"},{\"args\":[[\"2009-08-25\"],{\"frame\":{\"duration\":0,\"redraw\":true},\"mode\":\"immediate\",\"fromcurrent\":true,\"transition\":{\"duration\":0,\"easing\":\"linear\"}}],\"label\":\"2009-08-25\",\"method\":\"animate\"},{\"args\":[[\"2009-08-26\"],{\"frame\":{\"duration\":0,\"redraw\":true},\"mode\":\"immediate\",\"fromcurrent\":true,\"transition\":{\"duration\":0,\"easing\":\"linear\"}}],\"label\":\"2009-08-26\",\"method\":\"animate\"},{\"args\":[[\"2009-08-27\"],{\"frame\":{\"duration\":0,\"redraw\":true},\"mode\":\"immediate\",\"fromcurrent\":true,\"transition\":{\"duration\":0,\"easing\":\"linear\"}}],\"label\":\"2009-08-27\",\"method\":\"animate\"},{\"args\":[[\"2009-08-28\"],{\"frame\":{\"duration\":0,\"redraw\":true},\"mode\":\"immediate\",\"fromcurrent\":true,\"transition\":{\"duration\":0,\"easing\":\"linear\"}}],\"label\":\"2009-08-28\",\"method\":\"animate\"},{\"args\":[[\"2009-08-29\"],{\"frame\":{\"duration\":0,\"redraw\":true},\"mode\":\"immediate\",\"fromcurrent\":true,\"transition\":{\"duration\":0,\"easing\":\"linear\"}}],\"label\":\"2009-08-29\",\"method\":\"animate\"},{\"args\":[[\"2009-08-30\"],{\"frame\":{\"duration\":0,\"redraw\":true},\"mode\":\"immediate\",\"fromcurrent\":true,\"transition\":{\"duration\":0,\"easing\":\"linear\"}}],\"label\":\"2009-08-30\",\"method\":\"animate\"},{\"args\":[[\"2009-08-31\"],{\"frame\":{\"duration\":0,\"redraw\":true},\"mode\":\"immediate\",\"fromcurrent\":true,\"transition\":{\"duration\":0,\"easing\":\"linear\"}}],\"label\":\"2009-08-31\",\"method\":\"animate\"},{\"args\":[[\"2009-09-01\"],{\"frame\":{\"duration\":0,\"redraw\":true},\"mode\":\"immediate\",\"fromcurrent\":true,\"transition\":{\"duration\":0,\"easing\":\"linear\"}}],\"label\":\"2009-09-01\",\"method\":\"animate\"},{\"args\":[[\"2009-09-02\"],{\"frame\":{\"duration\":0,\"redraw\":true},\"mode\":\"immediate\",\"fromcurrent\":true,\"transition\":{\"duration\":0,\"easing\":\"linear\"}}],\"label\":\"2009-09-02\",\"method\":\"animate\"},{\"args\":[[\"2009-09-04\"],{\"frame\":{\"duration\":0,\"redraw\":true},\"mode\":\"immediate\",\"fromcurrent\":true,\"transition\":{\"duration\":0,\"easing\":\"linear\"}}],\"label\":\"2009-09-04\",\"method\":\"animate\"},{\"args\":[[\"2009-09-05\"],{\"frame\":{\"duration\":0,\"redraw\":true},\"mode\":\"immediate\",\"fromcurrent\":true,\"transition\":{\"duration\":0,\"easing\":\"linear\"}}],\"label\":\"2009-09-05\",\"method\":\"animate\"},{\"args\":[[\"2009-09-06\"],{\"frame\":{\"duration\":0,\"redraw\":true},\"mode\":\"immediate\",\"fromcurrent\":true,\"transition\":{\"duration\":0,\"easing\":\"linear\"}}],\"label\":\"2009-09-06\",\"method\":\"animate\"},{\"args\":[[\"2009-09-07\"],{\"frame\":{\"duration\":0,\"redraw\":true},\"mode\":\"immediate\",\"fromcurrent\":true,\"transition\":{\"duration\":0,\"easing\":\"linear\"}}],\"label\":\"2009-09-07\",\"method\":\"animate\"},{\"args\":[[\"2009-09-08\"],{\"frame\":{\"duration\":0,\"redraw\":true},\"mode\":\"immediate\",\"fromcurrent\":true,\"transition\":{\"duration\":0,\"easing\":\"linear\"}}],\"label\":\"2009-09-08\",\"method\":\"animate\"},{\"args\":[[\"2009-09-09\"],{\"frame\":{\"duration\":0,\"redraw\":true},\"mode\":\"immediate\",\"fromcurrent\":true,\"transition\":{\"duration\":0,\"easing\":\"linear\"}}],\"label\":\"2009-09-09\",\"method\":\"animate\"},{\"args\":[[\"2009-09-10\"],{\"frame\":{\"duration\":0,\"redraw\":true},\"mode\":\"immediate\",\"fromcurrent\":true,\"transition\":{\"duration\":0,\"easing\":\"linear\"}}],\"label\":\"2009-09-10\",\"method\":\"animate\"},{\"args\":[[\"2009-09-12\"],{\"frame\":{\"duration\":0,\"redraw\":true},\"mode\":\"immediate\",\"fromcurrent\":true,\"transition\":{\"duration\":0,\"easing\":\"linear\"}}],\"label\":\"2009-09-12\",\"method\":\"animate\"},{\"args\":[[\"2009-09-13\"],{\"frame\":{\"duration\":0,\"redraw\":true},\"mode\":\"immediate\",\"fromcurrent\":true,\"transition\":{\"duration\":0,\"easing\":\"linear\"}}],\"label\":\"2009-09-13\",\"method\":\"animate\"},{\"args\":[[\"2009-09-17\"],{\"frame\":{\"duration\":0,\"redraw\":true},\"mode\":\"immediate\",\"fromcurrent\":true,\"transition\":{\"duration\":0,\"easing\":\"linear\"}}],\"label\":\"2009-09-17\",\"method\":\"animate\"},{\"args\":[[\"2009-09-18\"],{\"frame\":{\"duration\":0,\"redraw\":true},\"mode\":\"immediate\",\"fromcurrent\":true,\"transition\":{\"duration\":0,\"easing\":\"linear\"}}],\"label\":\"2009-09-18\",\"method\":\"animate\"},{\"args\":[[\"2009-09-19\"],{\"frame\":{\"duration\":0,\"redraw\":true},\"mode\":\"immediate\",\"fromcurrent\":true,\"transition\":{\"duration\":0,\"easing\":\"linear\"}}],\"label\":\"2009-09-19\",\"method\":\"animate\"},{\"args\":[[\"2009-09-20\"],{\"frame\":{\"duration\":0,\"redraw\":true},\"mode\":\"immediate\",\"fromcurrent\":true,\"transition\":{\"duration\":0,\"easing\":\"linear\"}}],\"label\":\"2009-09-20\",\"method\":\"animate\"},{\"args\":[[\"2009-09-21\"],{\"frame\":{\"duration\":0,\"redraw\":true},\"mode\":\"immediate\",\"fromcurrent\":true,\"transition\":{\"duration\":0,\"easing\":\"linear\"}}],\"label\":\"2009-09-21\",\"method\":\"animate\"},{\"args\":[[\"2009-09-22\"],{\"frame\":{\"duration\":0,\"redraw\":true},\"mode\":\"immediate\",\"fromcurrent\":true,\"transition\":{\"duration\":0,\"easing\":\"linear\"}}],\"label\":\"2009-09-22\",\"method\":\"animate\"},{\"args\":[[\"2009-09-23\"],{\"frame\":{\"duration\":0,\"redraw\":true},\"mode\":\"immediate\",\"fromcurrent\":true,\"transition\":{\"duration\":0,\"easing\":\"linear\"}}],\"label\":\"2009-09-23\",\"method\":\"animate\"},{\"args\":[[\"2009-09-24\"],{\"frame\":{\"duration\":0,\"redraw\":true},\"mode\":\"immediate\",\"fromcurrent\":true,\"transition\":{\"duration\":0,\"easing\":\"linear\"}}],\"label\":\"2009-09-24\",\"method\":\"animate\"},{\"args\":[[\"2009-09-26\"],{\"frame\":{\"duration\":0,\"redraw\":true},\"mode\":\"immediate\",\"fromcurrent\":true,\"transition\":{\"duration\":0,\"easing\":\"linear\"}}],\"label\":\"2009-09-26\",\"method\":\"animate\"},{\"args\":[[\"2009-09-27\"],{\"frame\":{\"duration\":0,\"redraw\":true},\"mode\":\"immediate\",\"fromcurrent\":true,\"transition\":{\"duration\":0,\"easing\":\"linear\"}}],\"label\":\"2009-09-27\",\"method\":\"animate\"},{\"args\":[[\"2009-09-29\"],{\"frame\":{\"duration\":0,\"redraw\":true},\"mode\":\"immediate\",\"fromcurrent\":true,\"transition\":{\"duration\":0,\"easing\":\"linear\"}}],\"label\":\"2009-09-29\",\"method\":\"animate\"},{\"args\":[[\"2009-10-01\"],{\"frame\":{\"duration\":0,\"redraw\":true},\"mode\":\"immediate\",\"fromcurrent\":true,\"transition\":{\"duration\":0,\"easing\":\"linear\"}}],\"label\":\"2009-10-01\",\"method\":\"animate\"},{\"args\":[[\"2009-10-03\"],{\"frame\":{\"duration\":0,\"redraw\":true},\"mode\":\"immediate\",\"fromcurrent\":true,\"transition\":{\"duration\":0,\"easing\":\"linear\"}}],\"label\":\"2009-10-03\",\"method\":\"animate\"},{\"args\":[[\"2009-10-05\"],{\"frame\":{\"duration\":0,\"redraw\":true},\"mode\":\"immediate\",\"fromcurrent\":true,\"transition\":{\"duration\":0,\"easing\":\"linear\"}}],\"label\":\"2009-10-05\",\"method\":\"animate\"},{\"args\":[[\"2009-10-08\"],{\"frame\":{\"duration\":0,\"redraw\":true},\"mode\":\"immediate\",\"fromcurrent\":true,\"transition\":{\"duration\":0,\"easing\":\"linear\"}}],\"label\":\"2009-10-08\",\"method\":\"animate\"},{\"args\":[[\"2009-10-10\"],{\"frame\":{\"duration\":0,\"redraw\":true},\"mode\":\"immediate\",\"fromcurrent\":true,\"transition\":{\"duration\":0,\"easing\":\"linear\"}}],\"label\":\"2009-10-10\",\"method\":\"animate\"},{\"args\":[[\"2009-10-12\"],{\"frame\":{\"duration\":0,\"redraw\":true},\"mode\":\"immediate\",\"fromcurrent\":true,\"transition\":{\"duration\":0,\"easing\":\"linear\"}}],\"label\":\"2009-10-12\",\"method\":\"animate\"},{\"args\":[[\"2009-10-13\"],{\"frame\":{\"duration\":0,\"redraw\":true},\"mode\":\"immediate\",\"fromcurrent\":true,\"transition\":{\"duration\":0,\"easing\":\"linear\"}}],\"label\":\"2009-10-13\",\"method\":\"animate\"},{\"args\":[[\"2009-10-15\"],{\"frame\":{\"duration\":0,\"redraw\":true},\"mode\":\"immediate\",\"fromcurrent\":true,\"transition\":{\"duration\":0,\"easing\":\"linear\"}}],\"label\":\"2009-10-15\",\"method\":\"animate\"},{\"args\":[[\"2009-10-20\"],{\"frame\":{\"duration\":0,\"redraw\":true},\"mode\":\"immediate\",\"fromcurrent\":true,\"transition\":{\"duration\":0,\"easing\":\"linear\"}}],\"label\":\"2009-10-20\",\"method\":\"animate\"},{\"args\":[[\"2009-10-21\"],{\"frame\":{\"duration\":0,\"redraw\":true},\"mode\":\"immediate\",\"fromcurrent\":true,\"transition\":{\"duration\":0,\"easing\":\"linear\"}}],\"label\":\"2009-10-21\",\"method\":\"animate\"},{\"args\":[[\"2009-10-28\"],{\"frame\":{\"duration\":0,\"redraw\":true},\"mode\":\"immediate\",\"fromcurrent\":true,\"transition\":{\"duration\":0,\"easing\":\"linear\"}}],\"label\":\"2009-10-28\",\"method\":\"animate\"},{\"args\":[[\"2009-10-29\"],{\"frame\":{\"duration\":0,\"redraw\":true},\"mode\":\"immediate\",\"fromcurrent\":true,\"transition\":{\"duration\":0,\"easing\":\"linear\"}}],\"label\":\"2009-10-29\",\"method\":\"animate\"},{\"args\":[[\"2009-10-31\"],{\"frame\":{\"duration\":0,\"redraw\":true},\"mode\":\"immediate\",\"fromcurrent\":true,\"transition\":{\"duration\":0,\"easing\":\"linear\"}}],\"label\":\"2009-10-31\",\"method\":\"animate\"},{\"args\":[[\"2009-11-03\"],{\"frame\":{\"duration\":0,\"redraw\":true},\"mode\":\"immediate\",\"fromcurrent\":true,\"transition\":{\"duration\":0,\"easing\":\"linear\"}}],\"label\":\"2009-11-03\",\"method\":\"animate\"},{\"args\":[[\"2009-11-06\"],{\"frame\":{\"duration\":0,\"redraw\":true},\"mode\":\"immediate\",\"fromcurrent\":true,\"transition\":{\"duration\":0,\"easing\":\"linear\"}}],\"label\":\"2009-11-06\",\"method\":\"animate\"},{\"args\":[[\"2009-11-17\"],{\"frame\":{\"duration\":0,\"redraw\":true},\"mode\":\"immediate\",\"fromcurrent\":true,\"transition\":{\"duration\":0,\"easing\":\"linear\"}}],\"label\":\"2009-11-17\",\"method\":\"animate\"},{\"args\":[[\"2009-11-19\"],{\"frame\":{\"duration\":0,\"redraw\":true},\"mode\":\"immediate\",\"fromcurrent\":true,\"transition\":{\"duration\":0,\"easing\":\"linear\"}}],\"label\":\"2009-11-19\",\"method\":\"animate\"},{\"args\":[[\"2009-11-20\"],{\"frame\":{\"duration\":0,\"redraw\":true},\"mode\":\"immediate\",\"fromcurrent\":true,\"transition\":{\"duration\":0,\"easing\":\"linear\"}}],\"label\":\"2009-11-20\",\"method\":\"animate\"},{\"args\":[[\"2009-12-13\"],{\"frame\":{\"duration\":0,\"redraw\":true},\"mode\":\"immediate\",\"fromcurrent\":true,\"transition\":{\"duration\":0,\"easing\":\"linear\"}}],\"label\":\"2009-12-13\",\"method\":\"animate\"},{\"args\":[[\"2009-12-27\"],{\"frame\":{\"duration\":0,\"redraw\":true},\"mode\":\"immediate\",\"fromcurrent\":true,\"transition\":{\"duration\":0,\"easing\":\"linear\"}}],\"label\":\"2009-12-27\",\"method\":\"animate\"}],\"x\":0.1,\"xanchor\":\"left\",\"y\":0,\"yanchor\":\"top\"}],\"title\":{\"text\":\"Feuer in Deutschland im Jahr 2009\",\"x\":0.5},\"width\":700,\"height\":800},                        {\"responsive\": true}                    ).then(function(){\n",
       "                            Plotly.addFrames('10de8a58-1793-4009-8be2-4fafbeef7a39', [{\"data\":[{\"customdata\":[[\"Vegetationsbrand\"]],\"hovertemplate\":\"Datum=2009-01-12<br>Feuerintensit\\u00e4t=%{marker.color}<br>Breitengrad=%{lat}<br>L\\u00e4ngengrad=%{lon}<br>Typ=%{customdata[0]}<extra></extra>\",\"lat\":[51.4892],\"legendgroup\":\"\",\"lon\":[6.7248],\"marker\":{\"color\":[11.0],\"coloraxis\":\"coloraxis\",\"opacity\":0.5,\"size\":[11.0],\"sizemode\":\"area\",\"sizeref\":0.6502500000000001},\"mode\":\"markers\",\"name\":\"\",\"showlegend\":false,\"subplot\":\"mapbox\",\"type\":\"scattermapbox\"}],\"name\":\"2009-01-12\"},{\"data\":[{\"customdata\":[[\"Vegetationsbrand\"],[\"Vegetationsbrand\"]],\"hovertemplate\":\"Datum=2009-02-03<br>Feuerintensit\\u00e4t=%{marker.color}<br>Breitengrad=%{lat}<br>L\\u00e4ngengrad=%{lon}<br>Typ=%{customdata[0]}<extra></extra>\",\"lat\":[49.2923,49.2947],\"legendgroup\":\"\",\"lon\":[8.6136,8.6279],\"marker\":{\"color\":[10.2,17.2],\"coloraxis\":\"coloraxis\",\"opacity\":0.5,\"size\":[10.2,17.2],\"sizemode\":\"area\",\"sizeref\":0.6502500000000001},\"mode\":\"markers\",\"name\":\"\",\"showlegend\":false,\"subplot\":\"mapbox\",\"type\":\"scattermapbox\"}],\"name\":\"2009-02-03\"},{\"data\":[{\"customdata\":[[\"Vegetationsbrand\"]],\"hovertemplate\":\"Datum=2009-03-03<br>Feuerintensit\\u00e4t=%{marker.color}<br>Breitengrad=%{lat}<br>L\\u00e4ngengrad=%{lon}<br>Typ=%{customdata[0]}<extra></extra>\",\"lat\":[49.3559],\"legendgroup\":\"\",\"lon\":[6.7447],\"marker\":{\"color\":[6.6],\"coloraxis\":\"coloraxis\",\"opacity\":0.5,\"size\":[6.6],\"sizemode\":\"area\",\"sizeref\":0.6502500000000001},\"mode\":\"markers\",\"name\":\"\",\"showlegend\":false,\"subplot\":\"mapbox\",\"type\":\"scattermapbox\"}],\"name\":\"2009-03-03\"},{\"data\":[{\"customdata\":[[\"Vegetationsbrand\"]],\"hovertemplate\":\"Datum=2009-03-17<br>Feuerintensit\\u00e4t=%{marker.color}<br>Breitengrad=%{lat}<br>L\\u00e4ngengrad=%{lon}<br>Typ=%{customdata[0]}<extra></extra>\",\"lat\":[51.4659],\"legendgroup\":\"\",\"lon\":[6.2459],\"marker\":{\"color\":[12.7],\"coloraxis\":\"coloraxis\",\"opacity\":0.5,\"size\":[12.7],\"sizemode\":\"area\",\"sizeref\":0.6502500000000001},\"mode\":\"markers\",\"name\":\"\",\"showlegend\":false,\"subplot\":\"mapbox\",\"type\":\"scattermapbox\"}],\"name\":\"2009-03-17\"},{\"data\":[{\"customdata\":[[\"Vegetationsbrand\"],[\"Vegetationsbrand\"],[\"Vegetationsbrand\"],[\"Vegetationsbrand\"]],\"hovertemplate\":\"Datum=2009-03-18<br>Feuerintensit\\u00e4t=%{marker.color}<br>Breitengrad=%{lat}<br>L\\u00e4ngengrad=%{lon}<br>Typ=%{customdata[0]}<extra></extra>\",\"lat\":[54.1371,51.7948,51.7924,51.6042],\"legendgroup\":\"\",\"lon\":[9.394,12.9329,12.9183,7.0158],\"marker\":{\"color\":[12.7,60.6,213.5,31.8],\"coloraxis\":\"coloraxis\",\"opacity\":0.5,\"size\":[12.7,60.6,213.5,31.8],\"sizemode\":\"area\",\"sizeref\":0.6502500000000001},\"mode\":\"markers\",\"name\":\"\",\"showlegend\":false,\"subplot\":\"mapbox\",\"type\":\"scattermapbox\"}],\"name\":\"2009-03-18\"},{\"data\":[{\"customdata\":[[\"Vegetationsbrand\"],[\"Vegetationsbrand\"],[\"Vegetationsbrand\"]],\"hovertemplate\":\"Datum=2009-03-19<br>Feuerintensit\\u00e4t=%{marker.color}<br>Breitengrad=%{lat}<br>L\\u00e4ngengrad=%{lon}<br>Typ=%{customdata[0]}<extra></extra>\",\"lat\":[53.5115,51.6377,51.6401],\"legendgroup\":\"\",\"lon\":[10.0381,6.995,6.9804],\"marker\":{\"color\":[6.3,7.1,5.6],\"coloraxis\":\"coloraxis\",\"opacity\":0.5,\"size\":[6.3,7.1,5.6],\"sizemode\":\"area\",\"sizeref\":0.6502500000000001},\"mode\":\"markers\",\"name\":\"\",\"showlegend\":false,\"subplot\":\"mapbox\",\"type\":\"scattermapbox\"}],\"name\":\"2009-03-19\"},{\"data\":[{\"customdata\":[[\"Vegetationsbrand\"],[\"Vegetationsbrand\"],[\"Vegetationsbrand\"],[\"Vegetationsbrand\"],[\"Vegetationsbrand\"],[\"Vegetationsbrand\"],[\"Vegetationsbrand\"],[\"Vegetationsbrand\"],[\"Vegetationsbrand\"],[\"Vegetationsbrand\"],[\"Vegetationsbrand\"],[\"Vegetationsbrand\"]],\"hovertemplate\":\"Datum=2009-03-21<br>Feuerintensit\\u00e4t=%{marker.color}<br>Breitengrad=%{lat}<br>L\\u00e4ngengrad=%{lon}<br>Typ=%{customdata[0]}<extra></extra>\",\"lat\":[52.7768,52.7791,48.9818,48.9784,51.4657,51.4875,49.7166,49.7198,48.699,49.2539,49.3498,49.2558],\"legendgroup\":\"\",\"lon\":[9.8457,9.831,12.1765,12.1938,6.7458,6.7231,11.7446,11.7281,8.9807,8.5177,6.7332,8.5312],\"marker\":{\"color\":[8.0,60.8,28.5,40.3,3.7,23.4,18.7,12.7,4.2,20.2,10.6,23.6],\"coloraxis\":\"coloraxis\",\"opacity\":0.5,\"size\":[8.0,60.8,28.5,40.3,3.7,23.4,18.7,12.7,4.2,20.2,10.6,23.6],\"sizemode\":\"area\",\"sizeref\":0.6502500000000001},\"mode\":\"markers\",\"name\":\"\",\"showlegend\":false,\"subplot\":\"mapbox\",\"type\":\"scattermapbox\"}],\"name\":\"2009-03-21\"},{\"data\":[{\"customdata\":[[\"Vegetationsbrand\"]],\"hovertemplate\":\"Datum=2009-03-28<br>Feuerintensit\\u00e4t=%{marker.color}<br>Breitengrad=%{lat}<br>L\\u00e4ngengrad=%{lon}<br>Typ=%{customdata[0]}<extra></extra>\",\"lat\":[48.9841],\"legendgroup\":\"\",\"lon\":[12.1912],\"marker\":{\"color\":[13.1],\"coloraxis\":\"coloraxis\",\"opacity\":0.5,\"size\":[13.1],\"sizemode\":\"area\",\"sizeref\":0.6502500000000001},\"mode\":\"markers\",\"name\":\"\",\"showlegend\":false,\"subplot\":\"mapbox\",\"type\":\"scattermapbox\"}],\"name\":\"2009-03-28\"},{\"data\":[{\"customdata\":[[\"Vegetationsbrand\"]],\"hovertemplate\":\"Datum=2009-03-29<br>Feuerintensit\\u00e4t=%{marker.color}<br>Breitengrad=%{lat}<br>L\\u00e4ngengrad=%{lon}<br>Typ=%{customdata[0]}<extra></extra>\",\"lat\":[52.156],\"legendgroup\":\"\",\"lon\":[10.3925],\"marker\":{\"color\":[10.4],\"coloraxis\":\"coloraxis\",\"opacity\":0.5,\"size\":[10.4],\"sizemode\":\"area\",\"sizeref\":0.6502500000000001},\"mode\":\"markers\",\"name\":\"\",\"showlegend\":false,\"subplot\":\"mapbox\",\"type\":\"scattermapbox\"}],\"name\":\"2009-03-29\"},{\"data\":[{\"customdata\":[[\"Vegetationsbrand\"],[\"Vegetationsbrand\"],[\"Vegetationsbrand\"],[\"Vegetationsbrand\"],[\"Vegetationsbrand\"]],\"hovertemplate\":\"Datum=2009-03-30<br>Feuerintensit\\u00e4t=%{marker.color}<br>Breitengrad=%{lat}<br>L\\u00e4ngengrad=%{lon}<br>Typ=%{customdata[0]}<extra></extra>\",\"lat\":[52.4601,49.9031,51.2712,51.4693,51.4718],\"legendgroup\":\"\",\"lon\":[10.5388,8.0694,6.4568,6.232,6.2469],\"marker\":{\"color\":[5.0,3.4,5.9,18.7,20.6],\"coloraxis\":\"coloraxis\",\"opacity\":0.5,\"size\":[5.0,3.4,5.9,18.7,20.6],\"sizemode\":\"area\",\"sizeref\":0.6502500000000001},\"mode\":\"markers\",\"name\":\"\",\"showlegend\":false,\"subplot\":\"mapbox\",\"type\":\"scattermapbox\"}],\"name\":\"2009-03-30\"},{\"data\":[{\"customdata\":[[\"Vegetationsbrand\"],[\"Vegetationsbrand\"],[\"Vegetationsbrand\"],[\"Vegetationsbrand\"],[\"Vegetationsbrand\"]],\"hovertemplate\":\"Datum=2009-03-31<br>Feuerintensit\\u00e4t=%{marker.color}<br>Breitengrad=%{lat}<br>L\\u00e4ngengrad=%{lon}<br>Typ=%{customdata[0]}<extra></extra>\",\"lat\":[49.6977,49.6995,49.3545,52.1583,52.1508],\"legendgroup\":\"\",\"lon\":[11.8548,11.8203,6.7442,12.168,12.1719],\"marker\":{\"color\":[260.1,27.5,14.0,40.2,43.9],\"coloraxis\":\"coloraxis\",\"opacity\":0.5,\"size\":[260.1,27.5,14.0,40.2,43.9],\"sizemode\":\"area\",\"sizeref\":0.6502500000000001},\"mode\":\"markers\",\"name\":\"\",\"showlegend\":false,\"subplot\":\"mapbox\",\"type\":\"scattermapbox\"}],\"name\":\"2009-03-31\"},{\"data\":[{\"customdata\":[[\"Vegetationsbrand\"],[\"Vegetationsbrand\"],[\"Vegetationsbrand\"],[\"Vegetationsbrand\"],[\"Vegetationsbrand\"],[\"Vegetationsbrand\"],[\"Vegetationsbrand\"],[\"Vegetationsbrand\"],[\"Vegetationsbrand\"],[\"Vegetationsbrand\"],[\"Vegetationsbrand\"],[\"Vegetationsbrand\"],[\"Vegetationsbrand\"],[\"Vegetationsbrand\"],[\"Vegetationsbrand\"],[\"Vegetationsbrand\"],[\"Vegetationsbrand\"],[\"Vegetationsbrand\"],[\"Vegetationsbrand\"],[\"Vegetationsbrand\"]],\"hovertemplate\":\"Datum=2009-04-01<br>Feuerintensit\\u00e4t=%{marker.color}<br>Breitengrad=%{lat}<br>L\\u00e4ngengrad=%{lon}<br>Typ=%{customdata[0]}<extra></extra>\",\"lat\":[50.8975,52.151,51.33,53.5079,51.3279,49.2474,49.2391,48.4732,51.5663,52.1572,52.1552,50.7908,50.0767,50.0792,50.0685,50.0709,49.815,53.1009,53.0059,53.1038],\"legendgroup\":\"\",\"lon\":[12.4272,12.1771,12.6474,10.0391,12.6614,6.8585,6.8508,11.9399,7.9268,12.2101,12.1957,6.9284,9.8488,9.8634,9.8435,9.8581,9.0256,7.3601,7.361,7.3764],\"marker\":{\"color\":[4.5,27.7,6.2,3.8,6.4,11.7,7.9,5.4,5.3,15.2,15.6,11.0,28.5,4.3,12.6,24.5,5.6,9.3,5.6,8.6],\"coloraxis\":\"coloraxis\",\"opacity\":0.5,\"size\":[4.5,27.7,6.2,3.8,6.4,11.7,7.9,5.4,5.3,15.2,15.6,11.0,28.5,4.3,12.6,24.5,5.6,9.3,5.6,8.6],\"sizemode\":\"area\",\"sizeref\":0.6502500000000001},\"mode\":\"markers\",\"name\":\"\",\"showlegend\":false,\"subplot\":\"mapbox\",\"type\":\"scattermapbox\"}],\"name\":\"2009-04-01\"},{\"data\":[{\"customdata\":[[\"Vegetationsbrand\"],[\"Vegetationsbrand\"],[\"Vegetationsbrand\"],[\"Vegetationsbrand\"],[\"Vegetationsbrand\"],[\"Vegetationsbrand\"],[\"Vegetationsbrand\"],[\"Vegetationsbrand\"]],\"hovertemplate\":\"Datum=2009-04-02<br>Feuerintensit\\u00e4t=%{marker.color}<br>Breitengrad=%{lat}<br>L\\u00e4ngengrad=%{lon}<br>Typ=%{customdata[0]}<extra></extra>\",\"lat\":[51.607,51.3792,51.6923,51.6892,51.2678,51.0168,51.7381,51.4592],\"legendgroup\":\"\",\"lon\":[14.2179,6.2035,6.1021,6.1185,6.5115,6.8318,6.4742,6.7357],\"marker\":{\"color\":[17.3,14.5,5.3,7.9,6.2,6.9,5.8,12.9],\"coloraxis\":\"coloraxis\",\"opacity\":0.5,\"size\":[17.3,14.5,5.3,7.9,6.2,6.9,5.8,12.9],\"sizemode\":\"area\",\"sizeref\":0.6502500000000001},\"mode\":\"markers\",\"name\":\"\",\"showlegend\":false,\"subplot\":\"mapbox\",\"type\":\"scattermapbox\"}],\"name\":\"2009-04-02\"},{\"data\":[{\"customdata\":[[\"Vegetationsbrand\"],[\"Vegetationsbrand\"],[\"Vegetationsbrand\"],[\"Vegetationsbrand\"],[\"Vegetationsbrand\"],[\"Vegetationsbrand\"],[\"Vegetationsbrand\"]],\"hovertemplate\":\"Datum=2009-04-03<br>Feuerintensit\\u00e4t=%{marker.color}<br>Breitengrad=%{lat}<br>L\\u00e4ngengrad=%{lon}<br>Typ=%{customdata[0]}<extra></extra>\",\"lat\":[52.7937,52.7917,52.797,50.0635,50.0637,53.5188,51.5161],\"legendgroup\":\"\",\"lon\":[9.7487,9.77,9.7556,8.2192,8.2263,9.8986,6.9729],\"marker\":{\"color\":[9.1,6.7,13.7,25.4,7.8,5.8,8.2],\"coloraxis\":\"coloraxis\",\"opacity\":0.5,\"size\":[9.1,6.7,13.7,25.4,7.8,5.8,8.2],\"sizemode\":\"area\",\"sizeref\":0.6502500000000001},\"mode\":\"markers\",\"name\":\"\",\"showlegend\":false,\"subplot\":\"mapbox\",\"type\":\"scattermapbox\"}],\"name\":\"2009-04-03\"},{\"data\":[{\"customdata\":[[\"Vegetationsbrand\"],[\"Vegetationsbrand\"],[\"Vegetationsbrand\"],[\"Vegetationsbrand\"],[\"Vegetationsbrand\"],[\"Vegetationsbrand\"],[\"Vegetationsbrand\"]],\"hovertemplate\":\"Datum=2009-04-04<br>Feuerintensit\\u00e4t=%{marker.color}<br>Breitengrad=%{lat}<br>L\\u00e4ngengrad=%{lon}<br>Typ=%{customdata[0]}<extra></extra>\",\"lat\":[53.4104,54.1522,49.0231,53.5213,53.5193,50.9114,49.9625],\"legendgroup\":\"\",\"lon\":[10.1888,9.6501,8.4687,9.9086,9.8868,10.829,9.1601],\"marker\":{\"color\":[21.6,3.9,7.4,15.0,11.4,4.2,3.9],\"coloraxis\":\"coloraxis\",\"opacity\":0.5,\"size\":[21.6,3.9,7.4,15.0,11.4,4.2,3.9],\"sizemode\":\"area\",\"sizeref\":0.6502500000000001},\"mode\":\"markers\",\"name\":\"\",\"showlegend\":false,\"subplot\":\"mapbox\",\"type\":\"scattermapbox\"}],\"name\":\"2009-04-04\"},{\"data\":[{\"customdata\":[[\"Vegetationsbrand\"],[\"Vegetationsbrand\"],[\"Vegetationsbrand\"],[\"Vegetationsbrand\"],[\"Vegetationsbrand\"],[\"Vegetationsbrand\"],[\"Vegetationsbrand\"],[\"Vegetationsbrand\"],[\"Vegetationsbrand\"],[\"Vegetationsbrand\"],[\"Vegetationsbrand\"],[\"Vegetationsbrand\"],[\"Vegetationsbrand\"],[\"Vegetationsbrand\"],[\"Vegetationsbrand\"],[\"Vegetationsbrand\"],[\"Vegetationsbrand\"]],\"hovertemplate\":\"Datum=2009-04-06<br>Feuerintensit\\u00e4t=%{marker.color}<br>Breitengrad=%{lat}<br>L\\u00e4ngengrad=%{lon}<br>Typ=%{customdata[0]}<extra></extra>\",\"lat\":[52.3589,51.7234,49.9968,49.9902,49.9431,49.816,47.743,51.1898,48.6388,47.7573,52.9425,51.466,52.9328,51.4638,52.9384,52.9443,52.8314],\"legendgroup\":\"\",\"lon\":[8.8296,7.5199,9.0661,9.0485,9.1049,9.028,10.322,9.4911,10.1566,8.8684,10.0316,6.2585,10.076,6.2443,10.04,10.0482,9.8701],\"marker\":{\"color\":[3.0,8.4,13.6,15.0,8.1,6.8,3.2,4.3,8.3,5.2,12.5,3.4,9.8,9.9,13.8,4.8,5.3],\"coloraxis\":\"coloraxis\",\"opacity\":0.5,\"size\":[3.0,8.4,13.6,15.0,8.1,6.8,3.2,4.3,8.3,5.2,12.5,3.4,9.8,9.9,13.8,4.8,5.3],\"sizemode\":\"area\",\"sizeref\":0.6502500000000001},\"mode\":\"markers\",\"name\":\"\",\"showlegend\":false,\"subplot\":\"mapbox\",\"type\":\"scattermapbox\"}],\"name\":\"2009-04-06\"},{\"data\":[{\"customdata\":[[\"Vegetationsbrand\"],[\"Vegetationsbrand\"],[\"Vegetationsbrand\"]],\"hovertemplate\":\"Datum=2009-04-07<br>Feuerintensit\\u00e4t=%{marker.color}<br>Breitengrad=%{lat}<br>L\\u00e4ngengrad=%{lon}<br>Typ=%{customdata[0]}<extra></extra>\",\"lat\":[52.9432,52.9365,52.9391],\"legendgroup\":\"\",\"lon\":[10.0534,10.0435,10.0397],\"marker\":{\"color\":[43.6,33.1,19.2],\"coloraxis\":\"coloraxis\",\"opacity\":0.5,\"size\":[43.6,33.1,19.2],\"sizemode\":\"area\",\"sizeref\":0.6502500000000001},\"mode\":\"markers\",\"name\":\"\",\"showlegend\":false,\"subplot\":\"mapbox\",\"type\":\"scattermapbox\"}],\"name\":\"2009-04-07\"},{\"data\":[{\"customdata\":[[\"Vegetationsbrand\"],[\"Vegetationsbrand\"]],\"hovertemplate\":\"Datum=2009-04-08<br>Feuerintensit\\u00e4t=%{marker.color}<br>Breitengrad=%{lat}<br>L\\u00e4ngengrad=%{lon}<br>Typ=%{customdata[0]}<extra></extra>\",\"lat\":[48.1919,48.9762],\"legendgroup\":\"\",\"lon\":[11.5979,12.1896],\"marker\":{\"color\":[7.1,5.3],\"coloraxis\":\"coloraxis\",\"opacity\":0.5,\"size\":[7.1,5.3],\"sizemode\":\"area\",\"sizeref\":0.6502500000000001},\"mode\":\"markers\",\"name\":\"\",\"showlegend\":false,\"subplot\":\"mapbox\",\"type\":\"scattermapbox\"}],\"name\":\"2009-04-08\"},{\"data\":[{\"customdata\":[[\"Vegetationsbrand\"],[\"Vegetationsbrand\"],[\"Vegetationsbrand\"],[\"Vegetationsbrand\"],[\"Vegetationsbrand\"],[\"Vegetationsbrand\"],[\"Vegetationsbrand\"],[\"Vegetationsbrand\"],[\"Vegetationsbrand\"],[\"Vegetationsbrand\"],[\"Vegetationsbrand\"],[\"Vegetationsbrand\"],[\"Vegetationsbrand\"],[\"Vegetationsbrand\"]],\"hovertemplate\":\"Datum=2009-04-10<br>Feuerintensit\\u00e4t=%{marker.color}<br>Breitengrad=%{lat}<br>L\\u00e4ngengrad=%{lon}<br>Typ=%{customdata[0]}<extra></extra>\",\"lat\":[53.5138,48.5536,48.0761,48.0859,49.1641,49.9928,49.9961,50.7369,51.9458,51.5458,51.2423,52.48,52.4774,53.5073],\"legendgroup\":\"\",\"lon\":[10.0371,12.5629,9.8034,9.799,9.9104,9.1791,9.1962,6.1763,10.6016,9.925,11.9667,10.0252,10.0097,10.0425],\"marker\":{\"color\":[7.7,5.3,8.2,8.5,6.5,9.6,11.0,10.8,3.8,12.2,16.8,4.2,10.7,5.7],\"coloraxis\":\"coloraxis\",\"opacity\":0.5,\"size\":[7.7,5.3,8.2,8.5,6.5,9.6,11.0,10.8,3.8,12.2,16.8,4.2,10.7,5.7],\"sizemode\":\"area\",\"sizeref\":0.6502500000000001},\"mode\":\"markers\",\"name\":\"\",\"showlegend\":false,\"subplot\":\"mapbox\",\"type\":\"scattermapbox\"}],\"name\":\"2009-04-10\"},{\"data\":[{\"customdata\":[[\"Vegetationsbrand\"],[\"Vegetationsbrand\"],[\"Vegetationsbrand\"],[\"Vegetationsbrand\"],[\"Vegetationsbrand\"],[\"Vegetationsbrand\"],[\"Vegetationsbrand\"]],\"hovertemplate\":\"Datum=2009-04-11<br>Feuerintensit\\u00e4t=%{marker.color}<br>Breitengrad=%{lat}<br>L\\u00e4ngengrad=%{lon}<br>Typ=%{customdata[0]}<extra></extra>\",\"lat\":[53.441,53.5081,48.7842,52.7581,51.6257,53.5595,51.8554],\"legendgroup\":\"\",\"lon\":[10.2083,10.0354,9.2483,7.9803,7.3042,7.3668,14.1083],\"marker\":{\"color\":[9.2,6.2,13.4,4.3,6.6,5.4,16.1],\"coloraxis\":\"coloraxis\",\"opacity\":0.5,\"size\":[9.2,6.2,13.4,4.3,6.6,5.4,16.1],\"sizemode\":\"area\",\"sizeref\":0.6502500000000001},\"mode\":\"markers\",\"name\":\"\",\"showlegend\":false,\"subplot\":\"mapbox\",\"type\":\"scattermapbox\"}],\"name\":\"2009-04-11\"},{\"data\":[{\"customdata\":[[\"Vegetationsbrand\"],[\"Vegetationsbrand\"],[\"Vegetationsbrand\"],[\"Vegetationsbrand\"]],\"hovertemplate\":\"Datum=2009-04-13<br>Feuerintensit\\u00e4t=%{marker.color}<br>Breitengrad=%{lat}<br>L\\u00e4ngengrad=%{lon}<br>Typ=%{customdata[0]}<extra></extra>\",\"lat\":[53.4504,53.1021,49.8135,49.8162],\"legendgroup\":\"\",\"lon\":[10.2218,7.3719,9.0303,9.0152],\"marker\":{\"color\":[3.2,5.8,26.0,12.8],\"coloraxis\":\"coloraxis\",\"opacity\":0.5,\"size\":[3.2,5.8,26.0,12.8],\"sizemode\":\"area\",\"sizeref\":0.6502500000000001},\"mode\":\"markers\",\"name\":\"\",\"showlegend\":false,\"subplot\":\"mapbox\",\"type\":\"scattermapbox\"}],\"name\":\"2009-04-13\"},{\"data\":[{\"customdata\":[[\"Vegetationsbrand\"],[\"Vegetationsbrand\"]],\"hovertemplate\":\"Datum=2009-04-14<br>Feuerintensit\\u00e4t=%{marker.color}<br>Breitengrad=%{lat}<br>L\\u00e4ngengrad=%{lon}<br>Typ=%{customdata[0]}<extra></extra>\",\"lat\":[53.4192,53.4138],\"legendgroup\":\"\",\"lon\":[10.2094,10.1856],\"marker\":{\"color\":[24.0,10.8],\"coloraxis\":\"coloraxis\",\"opacity\":0.5,\"size\":[24.0,10.8],\"sizemode\":\"area\",\"sizeref\":0.6502500000000001},\"mode\":\"markers\",\"name\":\"\",\"showlegend\":false,\"subplot\":\"mapbox\",\"type\":\"scattermapbox\"}],\"name\":\"2009-04-14\"},{\"data\":[{\"customdata\":[[\"Vegetationsbrand\"],[\"Vegetationsbrand\"],[\"Vegetationsbrand\"],[\"Vegetationsbrand\"],[\"Vegetationsbrand\"],[\"Vegetationsbrand\"],[\"Vegetationsbrand\"],[\"Vegetationsbrand\"],[\"Vegetationsbrand\"],[\"Vegetationsbrand\"],[\"Vegetationsbrand\"],[\"Vegetationsbrand\"],[\"Vegetationsbrand\"]],\"hovertemplate\":\"Datum=2009-04-15<br>Feuerintensit\\u00e4t=%{marker.color}<br>Breitengrad=%{lat}<br>L\\u00e4ngengrad=%{lon}<br>Typ=%{customdata[0]}<extra></extra>\",\"lat\":[49.3608,49.3613,47.6013,49.9709,50.9135,48.9925,48.4762,48.9898,50.7981,49.7076,49.8124,48.7743,52.1185],\"legendgroup\":\"\",\"lon\":[6.7479,6.7437,11.0509,10.8802,6.8301,11.8159,11.9406,11.8308,7.1545,11.7696,9.0237,8.1504,8.6466],\"marker\":{\"color\":[30.7,27.1,4.8,5.7,6.3,10.6,6.7,18.3,6.3,13.4,10.1,18.0,4.6],\"coloraxis\":\"coloraxis\",\"opacity\":0.5,\"size\":[30.7,27.1,4.8,5.7,6.3,10.6,6.7,18.3,6.3,13.4,10.1,18.0,4.6],\"sizemode\":\"area\",\"sizeref\":0.6502500000000001},\"mode\":\"markers\",\"name\":\"\",\"showlegend\":false,\"subplot\":\"mapbox\",\"type\":\"scattermapbox\"}],\"name\":\"2009-04-15\"},{\"data\":[{\"customdata\":[[\"Vegetationsbrand\"],[\"Vegetationsbrand\"]],\"hovertemplate\":\"Datum=2009-04-16<br>Feuerintensit\\u00e4t=%{marker.color}<br>Breitengrad=%{lat}<br>L\\u00e4ngengrad=%{lon}<br>Typ=%{customdata[0]}<extra></extra>\",\"lat\":[53.0367,53.0289],\"legendgroup\":\"\",\"lon\":[10.1975,10.2069],\"marker\":{\"color\":[12.9,14.4],\"coloraxis\":\"coloraxis\",\"opacity\":0.5,\"size\":[12.9,14.4],\"sizemode\":\"area\",\"sizeref\":0.6502500000000001},\"mode\":\"markers\",\"name\":\"\",\"showlegend\":false,\"subplot\":\"mapbox\",\"type\":\"scattermapbox\"}],\"name\":\"2009-04-16\"},{\"data\":[{\"customdata\":[[\"Vegetationsbrand\"]],\"hovertemplate\":\"Datum=2009-04-17<br>Feuerintensit\\u00e4t=%{marker.color}<br>Breitengrad=%{lat}<br>L\\u00e4ngengrad=%{lon}<br>Typ=%{customdata[0]}<extra></extra>\",\"lat\":[52.9756],\"legendgroup\":\"\",\"lon\":[13.3493],\"marker\":{\"color\":[7.7],\"coloraxis\":\"coloraxis\",\"opacity\":0.5,\"size\":[7.7],\"sizemode\":\"area\",\"sizeref\":0.6502500000000001},\"mode\":\"markers\",\"name\":\"\",\"showlegend\":false,\"subplot\":\"mapbox\",\"type\":\"scattermapbox\"}],\"name\":\"2009-04-17\"},{\"data\":[{\"customdata\":[[\"Vegetationsbrand\"],[\"Vegetationsbrand\"],[\"Vegetationsbrand\"],[\"Vegetationsbrand\"]],\"hovertemplate\":\"Datum=2009-04-18<br>Feuerintensit\\u00e4t=%{marker.color}<br>Breitengrad=%{lat}<br>L\\u00e4ngengrad=%{lon}<br>Typ=%{customdata[0]}<extra></extra>\",\"lat\":[51.4673,52.1477,52.5541,52.1581],\"legendgroup\":\"\",\"lon\":[6.242,7.8587,7.6726,7.8495],\"marker\":{\"color\":[4.6,18.9,7.2,11.1],\"coloraxis\":\"coloraxis\",\"opacity\":0.5,\"size\":[4.6,18.9,7.2,11.1],\"sizemode\":\"area\",\"sizeref\":0.6502500000000001},\"mode\":\"markers\",\"name\":\"\",\"showlegend\":false,\"subplot\":\"mapbox\",\"type\":\"scattermapbox\"}],\"name\":\"2009-04-18\"},{\"data\":[{\"customdata\":[[\"Vegetationsbrand\"],[\"Vegetationsbrand\"],[\"Vegetationsbrand\"]],\"hovertemplate\":\"Datum=2009-04-19<br>Feuerintensit\\u00e4t=%{marker.color}<br>Breitengrad=%{lat}<br>L\\u00e4ngengrad=%{lon}<br>Typ=%{customdata[0]}<extra></extra>\",\"lat\":[53.5255,49.2464,48.4327],\"legendgroup\":\"\",\"lon\":[9.9093,6.8616,13.3292],\"marker\":{\"color\":[20.6,11.5,4.9],\"coloraxis\":\"coloraxis\",\"opacity\":0.5,\"size\":[20.6,11.5,4.9],\"sizemode\":\"area\",\"sizeref\":0.6502500000000001},\"mode\":\"markers\",\"name\":\"\",\"showlegend\":false,\"subplot\":\"mapbox\",\"type\":\"scattermapbox\"}],\"name\":\"2009-04-19\"},{\"data\":[{\"customdata\":[[\"Vegetationsbrand\"],[\"Vegetationsbrand\"],[\"Vegetationsbrand\"],[\"Vegetationsbrand\"],[\"Vegetationsbrand\"],[\"Vegetationsbrand\"],[\"Vegetationsbrand\"],[\"Vegetationsbrand\"],[\"Vegetationsbrand\"],[\"Vegetationsbrand\"],[\"Vegetationsbrand\"],[\"Vegetationsbrand\"],[\"Vegetationsbrand\"],[\"Vegetationsbrand\"],[\"Vegetationsbrand\"],[\"Vegetationsbrand\"],[\"Vegetationsbrand\"],[\"Vegetationsbrand\"]],\"hovertemplate\":\"Datum=2009-04-20<br>Feuerintensit\\u00e4t=%{marker.color}<br>Breitengrad=%{lat}<br>L\\u00e4ngengrad=%{lon}<br>Typ=%{customdata[0]}<extra></extra>\",\"lat\":[53.4436,53.4342,52.7875,52.7889,52.7936,49.8174,48.7874,49.2422,51.1491,49.4387,49.8187,51.4624,48.9447,50.0122,50.3658,47.8826,51.4633,51.1823],\"legendgroup\":\"\",\"lon\":[10.2395,10.2346,9.8519,9.8586,9.7632,9.0359,9.2507,6.8506,6.7767,7.6952,9.0297,6.7461,8.3817,9.2871,10.6057,8.9824,6.739,7.2579],\"marker\":{\"color\":[13.0,19.3,14.1,7.4,9.0,5.6,7.9,5.3,4.9,6.0,6.9,8.1,6.4,4.1,4.7,5.1,15.4,3.0],\"coloraxis\":\"coloraxis\",\"opacity\":0.5,\"size\":[13.0,19.3,14.1,7.4,9.0,5.6,7.9,5.3,4.9,6.0,6.9,8.1,6.4,4.1,4.7,5.1,15.4,3.0],\"sizemode\":\"area\",\"sizeref\":0.6502500000000001},\"mode\":\"markers\",\"name\":\"\",\"showlegend\":false,\"subplot\":\"mapbox\",\"type\":\"scattermapbox\"}],\"name\":\"2009-04-20\"},{\"data\":[{\"customdata\":[[\"Vegetationsbrand\"],[\"Vegetationsbrand\"],[\"Vegetationsbrand\"],[\"Vegetationsbrand\"],[\"Vegetationsbrand\"],[\"Vegetationsbrand\"],[\"Vegetationsbrand\"],[\"Vegetationsbrand\"]],\"hovertemplate\":\"Datum=2009-04-21<br>Feuerintensit\\u00e4t=%{marker.color}<br>Breitengrad=%{lat}<br>L\\u00e4ngengrad=%{lon}<br>Typ=%{customdata[0]}<extra></extra>\",\"lat\":[52.7869,52.7885,52.7849,51.4439,53.5185,54.2426,54.383,52.776],\"legendgroup\":\"\",\"lon\":[9.7388,9.7465,9.7683,14.8628,9.9054,8.8996,9.6036,9.8113],\"marker\":{\"color\":[21.5,31.9,12.8,11.3,12.3,12.5,9.0,8.3],\"coloraxis\":\"coloraxis\",\"opacity\":0.5,\"size\":[21.5,31.9,12.8,11.3,12.3,12.5,9.0,8.3],\"sizemode\":\"area\",\"sizeref\":0.6502500000000001},\"mode\":\"markers\",\"name\":\"\",\"showlegend\":false,\"subplot\":\"mapbox\",\"type\":\"scattermapbox\"}],\"name\":\"2009-04-21\"},{\"data\":[{\"customdata\":[[\"Vegetationsbrand\"],[\"Vegetationsbrand\"],[\"Vegetationsbrand\"],[\"Vegetationsbrand\"]],\"hovertemplate\":\"Datum=2009-04-22<br>Feuerintensit\\u00e4t=%{marker.color}<br>Breitengrad=%{lat}<br>L\\u00e4ngengrad=%{lon}<br>Typ=%{customdata[0]}<extra></extra>\",\"lat\":[49.8165,51.4621,51.3395,52.6612],\"legendgroup\":\"\",\"lon\":[9.0241,6.7379,12.0612,7.2206],\"marker\":{\"color\":[4.8,3.3,5.1,2.7],\"coloraxis\":\"coloraxis\",\"opacity\":0.5,\"size\":[4.8,3.3,5.1,2.7],\"sizemode\":\"area\",\"sizeref\":0.6502500000000001},\"mode\":\"markers\",\"name\":\"\",\"showlegend\":false,\"subplot\":\"mapbox\",\"type\":\"scattermapbox\"}],\"name\":\"2009-04-22\"},{\"data\":[{\"customdata\":[[\"Vegetationsbrand\"],[\"Vegetationsbrand\"],[\"Vegetationsbrand\"],[\"Vegetationsbrand\"],[\"Vegetationsbrand\"],[\"Vegetationsbrand\"],[\"Vegetationsbrand\"],[\"Vegetationsbrand\"],[\"Vegetationsbrand\"],[\"Vegetationsbrand\"],[\"Vegetationsbrand\"]],\"hovertemplate\":\"Datum=2009-04-24<br>Feuerintensit\\u00e4t=%{marker.color}<br>Breitengrad=%{lat}<br>L\\u00e4ngengrad=%{lon}<br>Typ=%{customdata[0]}<extra></extra>\",\"lat\":[48.0861,49.346,48.4678,50.2459,51.5135,49.2771,50.6344,49.2386,51.0257,53.5595,53.4431],\"legendgroup\":\"\",\"lon\":[9.8039,6.7316,11.9403,12.0268,6.9701,7.1056,9.3977,6.843,8.6797,9.9724,10.1333],\"marker\":{\"color\":[6.8,7.8,11.2,2.8,6.2,4.0,3.3,8.2,5.3,2.7,4.6],\"coloraxis\":\"coloraxis\",\"opacity\":0.5,\"size\":[6.8,7.8,11.2,2.8,6.2,4.0,3.3,8.2,5.3,2.7,4.6],\"sizemode\":\"area\",\"sizeref\":0.6502500000000001},\"mode\":\"markers\",\"name\":\"\",\"showlegend\":false,\"subplot\":\"mapbox\",\"type\":\"scattermapbox\"}],\"name\":\"2009-04-24\"},{\"data\":[{\"customdata\":[[\"Vegetationsbrand\"],[\"Vegetationsbrand\"]],\"hovertemplate\":\"Datum=2009-04-25<br>Feuerintensit\\u00e4t=%{marker.color}<br>Breitengrad=%{lat}<br>L\\u00e4ngengrad=%{lon}<br>Typ=%{customdata[0]}<extra></extra>\",\"lat\":[48.9839,51.6929],\"legendgroup\":\"\",\"lon\":[12.1962,7.4737],\"marker\":{\"color\":[25.9,3.8],\"coloraxis\":\"coloraxis\",\"opacity\":0.5,\"size\":[25.9,3.8],\"sizemode\":\"area\",\"sizeref\":0.6502500000000001},\"mode\":\"markers\",\"name\":\"\",\"showlegend\":false,\"subplot\":\"mapbox\",\"type\":\"scattermapbox\"}],\"name\":\"2009-04-25\"},{\"data\":[{\"customdata\":[[\"Vegetationsbrand\"]],\"hovertemplate\":\"Datum=2009-04-26<br>Feuerintensit\\u00e4t=%{marker.color}<br>Breitengrad=%{lat}<br>L\\u00e4ngengrad=%{lon}<br>Typ=%{customdata[0]}<extra></extra>\",\"lat\":[52.1545],\"legendgroup\":\"\",\"lon\":[10.3974],\"marker\":{\"color\":[6.0],\"coloraxis\":\"coloraxis\",\"opacity\":0.5,\"size\":[6.0],\"sizemode\":\"area\",\"sizeref\":0.6502500000000001},\"mode\":\"markers\",\"name\":\"\",\"showlegend\":false,\"subplot\":\"mapbox\",\"type\":\"scattermapbox\"}],\"name\":\"2009-04-26\"},{\"data\":[{\"customdata\":[[\"Vegetationsbrand\"],[\"Vegetationsbrand\"],[\"Vegetationsbrand\"]],\"hovertemplate\":\"Datum=2009-04-28<br>Feuerintensit\\u00e4t=%{marker.color}<br>Breitengrad=%{lat}<br>L\\u00e4ngengrad=%{lon}<br>Typ=%{customdata[0]}<extra></extra>\",\"lat\":[52.1446,52.1492,52.1468],\"legendgroup\":\"\",\"lon\":[13.8855,13.8857,13.8707],\"marker\":{\"color\":[7.1,8.0,8.1],\"coloraxis\":\"coloraxis\",\"opacity\":0.5,\"size\":[7.1,8.0,8.1],\"sizemode\":\"area\",\"sizeref\":0.6502500000000001},\"mode\":\"markers\",\"name\":\"\",\"showlegend\":false,\"subplot\":\"mapbox\",\"type\":\"scattermapbox\"}],\"name\":\"2009-04-28\"},{\"data\":[{\"customdata\":[[\"Vegetationsbrand\"]],\"hovertemplate\":\"Datum=2009-04-30<br>Feuerintensit\\u00e4t=%{marker.color}<br>Breitengrad=%{lat}<br>L\\u00e4ngengrad=%{lon}<br>Typ=%{customdata[0]}<extra></extra>\",\"lat\":[53.9701],\"legendgroup\":\"\",\"lon\":[10.2044],\"marker\":{\"color\":[6.5],\"coloraxis\":\"coloraxis\",\"opacity\":0.5,\"size\":[6.5],\"sizemode\":\"area\",\"sizeref\":0.6502500000000001},\"mode\":\"markers\",\"name\":\"\",\"showlegend\":false,\"subplot\":\"mapbox\",\"type\":\"scattermapbox\"}],\"name\":\"2009-04-30\"},{\"data\":[{\"customdata\":[[\"Vegetationsbrand\"],[\"Vegetationsbrand\"],[\"Vegetationsbrand\"],[\"Vegetationsbrand\"],[\"Vegetationsbrand\"],[\"Vegetationsbrand\"],[\"Vegetationsbrand\"],[\"Vegetationsbrand\"],[\"Vegetationsbrand\"],[\"Vegetationsbrand\"],[\"Vegetationsbrand\"],[\"Vegetationsbrand\"],[\"Vegetationsbrand\"]],\"hovertemplate\":\"Datum=2009-05-01<br>Feuerintensit\\u00e4t=%{marker.color}<br>Breitengrad=%{lat}<br>L\\u00e4ngengrad=%{lon}<br>Typ=%{customdata[0]}<extra></extra>\",\"lat\":[51.3835,51.1499,52.4377,49.9819,48.3895,48.0734,48.1335,48.0809,49.2845,49.8097,50.9873,53.8539,53.8449],\"legendgroup\":\"\",\"lon\":[12.6259,6.7694,10.7775,9.154,10.0368,11.5083,11.698,9.8135,8.2721,9.0246,7.1245,9.9276,9.9309],\"marker\":{\"color\":[4.9,4.6,10.8,3.8,7.5,10.9,3.3,4.0,4.6,3.8,3.7,8.9,6.8],\"coloraxis\":\"coloraxis\",\"opacity\":0.5,\"size\":[4.9,4.6,10.8,3.8,7.5,10.9,3.3,4.0,4.6,3.8,3.7,8.9,6.8],\"sizemode\":\"area\",\"sizeref\":0.6502500000000001},\"mode\":\"markers\",\"name\":\"\",\"showlegend\":false,\"subplot\":\"mapbox\",\"type\":\"scattermapbox\"}],\"name\":\"2009-05-01\"},{\"data\":[{\"customdata\":[[\"Vegetationsbrand\"],[\"Vegetationsbrand\"],[\"Vegetationsbrand\"]],\"hovertemplate\":\"Datum=2009-05-02<br>Feuerintensit\\u00e4t=%{marker.color}<br>Breitengrad=%{lat}<br>L\\u00e4ngengrad=%{lon}<br>Typ=%{customdata[0]}<extra></extra>\",\"lat\":[51.4925,53.4225,53.57],\"legendgroup\":\"\",\"lon\":[6.7235,10.2058,14.0183],\"marker\":{\"color\":[29.3,14.3,11.4],\"coloraxis\":\"coloraxis\",\"opacity\":0.5,\"size\":[29.3,14.3,11.4],\"sizemode\":\"area\",\"sizeref\":0.6502500000000001},\"mode\":\"markers\",\"name\":\"\",\"showlegend\":false,\"subplot\":\"mapbox\",\"type\":\"scattermapbox\"}],\"name\":\"2009-05-02\"},{\"data\":[{\"customdata\":[[\"Vegetationsbrand\"],[\"Vegetationsbrand\"],[\"Vegetationsbrand\"],[\"Vegetationsbrand\"],[\"Vegetationsbrand\"],[\"Vegetationsbrand\"],[\"Vegetationsbrand\"],[\"Vegetationsbrand\"],[\"Vegetationsbrand\"],[\"Vegetationsbrand\"],[\"Vegetationsbrand\"]],\"hovertemplate\":\"Datum=2009-05-03<br>Feuerintensit\\u00e4t=%{marker.color}<br>Breitengrad=%{lat}<br>L\\u00e4ngengrad=%{lon}<br>Typ=%{customdata[0]}<extra></extra>\",\"lat\":[53.6814,53.6221,51.9328,51.7537,51.3271,48.6457,48.0892,48.4324,48.0818,48.4303,51.1523],\"legendgroup\":\"\",\"lon\":[13.2984,14.1369,14.4064,13.3491,12.6558,12.4709,9.7991,13.3355,9.8066,13.3335,12.5946],\"marker\":{\"color\":[5.4,6.1,15.0,4.0,6.7,6.3,6.1,11.4,13.0,4.3,4.4],\"coloraxis\":\"coloraxis\",\"opacity\":0.5,\"size\":[5.4,6.1,15.0,4.0,6.7,6.3,6.1,11.4,13.0,4.3,4.4],\"sizemode\":\"area\",\"sizeref\":0.6502500000000001},\"mode\":\"markers\",\"name\":\"\",\"showlegend\":false,\"subplot\":\"mapbox\",\"type\":\"scattermapbox\"}],\"name\":\"2009-05-03\"},{\"data\":[{\"customdata\":[[\"Vegetationsbrand\"]],\"hovertemplate\":\"Datum=2009-05-04<br>Feuerintensit\\u00e4t=%{marker.color}<br>Breitengrad=%{lat}<br>L\\u00e4ngengrad=%{lon}<br>Typ=%{customdata[0]}<extra></extra>\",\"lat\":[52.1683],\"legendgroup\":\"\",\"lon\":[10.4157],\"marker\":{\"color\":[20.4],\"coloraxis\":\"coloraxis\",\"opacity\":0.5,\"size\":[20.4],\"sizemode\":\"area\",\"sizeref\":0.6502500000000001},\"mode\":\"markers\",\"name\":\"\",\"showlegend\":false,\"subplot\":\"mapbox\",\"type\":\"scattermapbox\"}],\"name\":\"2009-05-04\"},{\"data\":[{\"customdata\":[[\"Vegetationsbrand\"]],\"hovertemplate\":\"Datum=2009-05-07<br>Feuerintensit\\u00e4t=%{marker.color}<br>Breitengrad=%{lat}<br>L\\u00e4ngengrad=%{lon}<br>Typ=%{customdata[0]}<extra></extra>\",\"lat\":[50.2697],\"legendgroup\":\"\",\"lon\":[8.9716],\"marker\":{\"color\":[6.9],\"coloraxis\":\"coloraxis\",\"opacity\":0.5,\"size\":[6.9],\"sizemode\":\"area\",\"sizeref\":0.6502500000000001},\"mode\":\"markers\",\"name\":\"\",\"showlegend\":false,\"subplot\":\"mapbox\",\"type\":\"scattermapbox\"}],\"name\":\"2009-05-07\"},{\"data\":[{\"customdata\":[[\"Vegetationsbrand\"],[\"Vegetationsbrand\"]],\"hovertemplate\":\"Datum=2009-05-08<br>Feuerintensit\\u00e4t=%{marker.color}<br>Breitengrad=%{lat}<br>L\\u00e4ngengrad=%{lon}<br>Typ=%{customdata[0]}<extra></extra>\",\"lat\":[51.9067,48.7818],\"legendgroup\":\"\",\"lon\":[8.4225,9.2431],\"marker\":{\"color\":[4.7,9.6],\"coloraxis\":\"coloraxis\",\"opacity\":0.5,\"size\":[4.7,9.6],\"sizemode\":\"area\",\"sizeref\":0.6502500000000001},\"mode\":\"markers\",\"name\":\"\",\"showlegend\":false,\"subplot\":\"mapbox\",\"type\":\"scattermapbox\"}],\"name\":\"2009-05-08\"},{\"data\":[{\"customdata\":[[\"Vegetationsbrand\"],[\"Vegetationsbrand\"],[\"Vegetationsbrand\"],[\"Vegetationsbrand\"],[\"Vegetationsbrand\"],[\"Vegetationsbrand\"],[\"Vegetationsbrand\"],[\"Vegetationsbrand\"],[\"Vegetationsbrand\"],[\"Vegetationsbrand\"],[\"Vegetationsbrand\"],[\"Vegetationsbrand\"]],\"hovertemplate\":\"Datum=2009-05-10<br>Feuerintensit\\u00e4t=%{marker.color}<br>Breitengrad=%{lat}<br>L\\u00e4ngengrad=%{lon}<br>Typ=%{customdata[0]}<extra></extra>\",\"lat\":[53.2214,54.0091,51.5491,48.4346,50.8793,51.0266,51.6595,51.9459,51.9209,54.5379,53.5144,53.9275],\"legendgroup\":\"\",\"lon\":[13.6933,12.0541,9.936,13.3438,7.6236,8.6806,14.0967,11.3055,8.5928,9.3158,9.9048,13.4372],\"marker\":{\"color\":[10.3,5.2,10.2,6.1,2.6,8.0,3.9,2.1,3.5,2.6,7.8,3.7],\"coloraxis\":\"coloraxis\",\"opacity\":0.5,\"size\":[10.3,5.2,10.2,6.1,2.6,8.0,3.9,2.1,3.5,2.6,7.8,3.7],\"sizemode\":\"area\",\"sizeref\":0.6502500000000001},\"mode\":\"markers\",\"name\":\"\",\"showlegend\":false,\"subplot\":\"mapbox\",\"type\":\"scattermapbox\"}],\"name\":\"2009-05-10\"},{\"data\":[{\"customdata\":[[\"Vegetationsbrand\"]],\"hovertemplate\":\"Datum=2009-05-11<br>Feuerintensit\\u00e4t=%{marker.color}<br>Breitengrad=%{lat}<br>L\\u00e4ngengrad=%{lon}<br>Typ=%{customdata[0]}<extra></extra>\",\"lat\":[53.5226],\"legendgroup\":\"\",\"lon\":[9.9013],\"marker\":{\"color\":[12.0],\"coloraxis\":\"coloraxis\",\"opacity\":0.5,\"size\":[12.0],\"sizemode\":\"area\",\"sizeref\":0.6502500000000001},\"mode\":\"markers\",\"name\":\"\",\"showlegend\":false,\"subplot\":\"mapbox\",\"type\":\"scattermapbox\"}],\"name\":\"2009-05-11\"},{\"data\":[{\"customdata\":[[\"Vegetationsbrand\"],[\"Vegetationsbrand\"],[\"Vegetationsbrand\"],[\"Vegetationsbrand\"],[\"Vegetationsbrand\"],[\"Vegetationsbrand\"],[\"Vegetationsbrand\"],[\"Vegetationsbrand\"]],\"hovertemplate\":\"Datum=2009-05-12<br>Feuerintensit\\u00e4t=%{marker.color}<br>Breitengrad=%{lat}<br>L\\u00e4ngengrad=%{lon}<br>Typ=%{customdata[0]}<extra></extra>\",\"lat\":[54.2894,51.9814,52.582,51.9014,52.1295,53.5569,52.3314,53.1383],\"legendgroup\":\"\",\"lon\":[12.4954,12.8992,14.5731,10.8588,14.2349,9.9698,10.2382,8.6841],\"marker\":{\"color\":[5.7,3.8,3.8,6.6,3.7,4.0,2.8,9.5],\"coloraxis\":\"coloraxis\",\"opacity\":0.5,\"size\":[5.7,3.8,3.8,6.6,3.7,4.0,2.8,9.5],\"sizemode\":\"area\",\"sizeref\":0.6502500000000001},\"mode\":\"markers\",\"name\":\"\",\"showlegend\":false,\"subplot\":\"mapbox\",\"type\":\"scattermapbox\"}],\"name\":\"2009-05-12\"},{\"data\":[{\"customdata\":[[\"Vegetationsbrand\"],[\"Vegetationsbrand\"],[\"Vegetationsbrand\"],[\"Vegetationsbrand\"],[\"Vegetationsbrand\"],[\"Vegetationsbrand\"]],\"hovertemplate\":\"Datum=2009-05-14<br>Feuerintensit\\u00e4t=%{marker.color}<br>Breitengrad=%{lat}<br>L\\u00e4ngengrad=%{lon}<br>Typ=%{customdata[0]}<extra></extra>\",\"lat\":[51.8797,53.2239,52.4683,53.7172,52.9381,53.218],\"legendgroup\":\"\",\"lon\":[14.6421,13.6838,12.5912,14.0654,13.4239,13.692],\"marker\":{\"color\":[3.5,8.5,4.9,3.5,5.8,12.5],\"coloraxis\":\"coloraxis\",\"opacity\":0.5,\"size\":[3.5,8.5,4.9,3.5,5.8,12.5],\"sizemode\":\"area\",\"sizeref\":0.6502500000000001},\"mode\":\"markers\",\"name\":\"\",\"showlegend\":false,\"subplot\":\"mapbox\",\"type\":\"scattermapbox\"}],\"name\":\"2009-05-14\"},{\"data\":[{\"customdata\":[[\"Vegetationsbrand\"],[\"Vegetationsbrand\"]],\"hovertemplate\":\"Datum=2009-05-15<br>Feuerintensit\\u00e4t=%{marker.color}<br>Breitengrad=%{lat}<br>L\\u00e4ngengrad=%{lon}<br>Typ=%{customdata[0]}<extra></extra>\",\"lat\":[51.6101,52.4365],\"legendgroup\":\"\",\"lon\":[14.229,14.4257],\"marker\":{\"color\":[34.6,6.6],\"coloraxis\":\"coloraxis\",\"opacity\":0.5,\"size\":[34.6,6.6],\"sizemode\":\"area\",\"sizeref\":0.6502500000000001},\"mode\":\"markers\",\"name\":\"\",\"showlegend\":false,\"subplot\":\"mapbox\",\"type\":\"scattermapbox\"}],\"name\":\"2009-05-15\"},{\"data\":[{\"customdata\":[[\"Vegetationsbrand\"],[\"Vegetationsbrand\"],[\"Vegetationsbrand\"]],\"hovertemplate\":\"Datum=2009-05-17<br>Feuerintensit\\u00e4t=%{marker.color}<br>Breitengrad=%{lat}<br>L\\u00e4ngengrad=%{lon}<br>Typ=%{customdata[0]}<extra></extra>\",\"lat\":[50.0292,48.8594,48.7849],\"legendgroup\":\"\",\"lon\":[10.2137,8.1774,11.4062],\"marker\":{\"color\":[5.1,7.4,9.3],\"coloraxis\":\"coloraxis\",\"opacity\":0.5,\"size\":[5.1,7.4,9.3],\"sizemode\":\"area\",\"sizeref\":0.6502500000000001},\"mode\":\"markers\",\"name\":\"\",\"showlegend\":false,\"subplot\":\"mapbox\",\"type\":\"scattermapbox\"}],\"name\":\"2009-05-17\"},{\"data\":[{\"customdata\":[[\"Vegetationsbrand\"]],\"hovertemplate\":\"Datum=2009-05-18<br>Feuerintensit\\u00e4t=%{marker.color}<br>Breitengrad=%{lat}<br>L\\u00e4ngengrad=%{lon}<br>Typ=%{customdata[0]}<extra></extra>\",\"lat\":[51.4972],\"legendgroup\":\"\",\"lon\":[6.75],\"marker\":{\"color\":[10.0],\"coloraxis\":\"coloraxis\",\"opacity\":0.5,\"size\":[10.0],\"sizemode\":\"area\",\"sizeref\":0.6502500000000001},\"mode\":\"markers\",\"name\":\"\",\"showlegend\":false,\"subplot\":\"mapbox\",\"type\":\"scattermapbox\"}],\"name\":\"2009-05-18\"},{\"data\":[{\"customdata\":[[\"Vegetationsbrand\"],[\"Vegetationsbrand\"],[\"Vegetationsbrand\"],[\"Vegetationsbrand\"],[\"Vegetationsbrand\"],[\"Vegetationsbrand\"],[\"Vegetationsbrand\"],[\"Vegetationsbrand\"],[\"Vegetationsbrand\"]],\"hovertemplate\":\"Datum=2009-05-19<br>Feuerintensit\\u00e4t=%{marker.color}<br>Breitengrad=%{lat}<br>L\\u00e4ngengrad=%{lon}<br>Typ=%{customdata[0]}<extra></extra>\",\"lat\":[51.3276,49.3856,48.433,49.0451,48.7876,48.391,47.8051,53.5103,51.7385],\"legendgroup\":\"\",\"lon\":[12.6548,12.142,13.3346,8.285,10.108,10.0389,10.8794,10.033,13.759],\"marker\":{\"color\":[4.8,2.8,5.6,8.3,4.0,7.5,3.2,3.9,4.3],\"coloraxis\":\"coloraxis\",\"opacity\":0.5,\"size\":[4.8,2.8,5.6,8.3,4.0,7.5,3.2,3.9,4.3],\"sizemode\":\"area\",\"sizeref\":0.6502500000000001},\"mode\":\"markers\",\"name\":\"\",\"showlegend\":false,\"subplot\":\"mapbox\",\"type\":\"scattermapbox\"}],\"name\":\"2009-05-19\"},{\"data\":[{\"customdata\":[[\"Vegetationsbrand\"]],\"hovertemplate\":\"Datum=2009-05-20<br>Feuerintensit\\u00e4t=%{marker.color}<br>Breitengrad=%{lat}<br>L\\u00e4ngengrad=%{lon}<br>Typ=%{customdata[0]}<extra></extra>\",\"lat\":[48.6977],\"legendgroup\":\"\",\"lon\":[8.9973],\"marker\":{\"color\":[13.1],\"coloraxis\":\"coloraxis\",\"opacity\":0.5,\"size\":[13.1],\"sizemode\":\"area\",\"sizeref\":0.6502500000000001},\"mode\":\"markers\",\"name\":\"\",\"showlegend\":false,\"subplot\":\"mapbox\",\"type\":\"scattermapbox\"}],\"name\":\"2009-05-20\"},{\"data\":[{\"customdata\":[[\"Vegetationsbrand\"]],\"hovertemplate\":\"Datum=2009-05-21<br>Feuerintensit\\u00e4t=%{marker.color}<br>Breitengrad=%{lat}<br>L\\u00e4ngengrad=%{lon}<br>Typ=%{customdata[0]}<extra></extra>\",\"lat\":[51.4968],\"legendgroup\":\"\",\"lon\":[6.7389],\"marker\":{\"color\":[5.4],\"coloraxis\":\"coloraxis\",\"opacity\":0.5,\"size\":[5.4],\"sizemode\":\"area\",\"sizeref\":0.6502500000000001},\"mode\":\"markers\",\"name\":\"\",\"showlegend\":false,\"subplot\":\"mapbox\",\"type\":\"scattermapbox\"}],\"name\":\"2009-05-21\"},{\"data\":[{\"customdata\":[[\"Vegetationsbrand\"],[\"Vegetationsbrand\"],[\"Vegetationsbrand\"]],\"hovertemplate\":\"Datum=2009-05-22<br>Feuerintensit\\u00e4t=%{marker.color}<br>Breitengrad=%{lat}<br>L\\u00e4ngengrad=%{lon}<br>Typ=%{customdata[0]}<extra></extra>\",\"lat\":[51.4311,51.1526,50.9195],\"legendgroup\":\"\",\"lon\":[6.7448,6.769,6.5233],\"marker\":{\"color\":[12.5,6.7,4.9],\"coloraxis\":\"coloraxis\",\"opacity\":0.5,\"size\":[12.5,6.7,4.9],\"sizemode\":\"area\",\"sizeref\":0.6502500000000001},\"mode\":\"markers\",\"name\":\"\",\"showlegend\":false,\"subplot\":\"mapbox\",\"type\":\"scattermapbox\"}],\"name\":\"2009-05-22\"},{\"data\":[{\"customdata\":[[\"Vegetationsbrand\"],[\"Vegetationsbrand\"],[\"Vegetationsbrand\"],[\"Vegetationsbrand\"],[\"Vegetationsbrand\"]],\"hovertemplate\":\"Datum=2009-05-23<br>Feuerintensit\\u00e4t=%{marker.color}<br>Breitengrad=%{lat}<br>L\\u00e4ngengrad=%{lon}<br>Typ=%{customdata[0]}<extra></extra>\",\"lat\":[48.8162,51.024,51.9833,54.0411,52.6769],\"legendgroup\":\"\",\"lon\":[13.5441,8.6718,13.3508,11.6768,12.1677],\"marker\":{\"color\":[6.4,7.7,3.4,4.9,5.4],\"coloraxis\":\"coloraxis\",\"opacity\":0.5,\"size\":[6.4,7.7,3.4,4.9,5.4],\"sizemode\":\"area\",\"sizeref\":0.6502500000000001},\"mode\":\"markers\",\"name\":\"\",\"showlegend\":false,\"subplot\":\"mapbox\",\"type\":\"scattermapbox\"}],\"name\":\"2009-05-23\"},{\"data\":[{\"customdata\":[[\"Vegetationsbrand\"],[\"Vegetationsbrand\"],[\"Vegetationsbrand\"],[\"Vegetationsbrand\"]],\"hovertemplate\":\"Datum=2009-05-24<br>Feuerintensit\\u00e4t=%{marker.color}<br>Breitengrad=%{lat}<br>L\\u00e4ngengrad=%{lon}<br>Typ=%{customdata[0]}<extra></extra>\",\"lat\":[51.6564,49.7236,49.2427,51.1498],\"legendgroup\":\"\",\"lon\":[11.5047,6.5971,6.8465,6.769],\"marker\":{\"color\":[8.0,5.2,9.2,7.4],\"coloraxis\":\"coloraxis\",\"opacity\":0.5,\"size\":[8.0,5.2,9.2,7.4],\"sizemode\":\"area\",\"sizeref\":0.6502500000000001},\"mode\":\"markers\",\"name\":\"\",\"showlegend\":false,\"subplot\":\"mapbox\",\"type\":\"scattermapbox\"}],\"name\":\"2009-05-24\"},{\"data\":[{\"customdata\":[[\"Vegetationsbrand\"],[\"Vegetationsbrand\"],[\"Vegetationsbrand\"],[\"Vegetationsbrand\"]],\"hovertemplate\":\"Datum=2009-05-25<br>Feuerintensit\\u00e4t=%{marker.color}<br>Breitengrad=%{lat}<br>L\\u00e4ngengrad=%{lon}<br>Typ=%{customdata[0]}<extra></extra>\",\"lat\":[50.9359,53.1379,52.7641,51.49],\"legendgroup\":\"\",\"lon\":[10.7176,8.6765,13.8897,6.7189],\"marker\":{\"color\":[23.7,17.8,6.3,7.7],\"coloraxis\":\"coloraxis\",\"opacity\":0.5,\"size\":[23.7,17.8,6.3,7.7],\"sizemode\":\"area\",\"sizeref\":0.6502500000000001},\"mode\":\"markers\",\"name\":\"\",\"showlegend\":false,\"subplot\":\"mapbox\",\"type\":\"scattermapbox\"}],\"name\":\"2009-05-25\"},{\"data\":[{\"customdata\":[[\"Vegetationsbrand\"],[\"Vegetationsbrand\"],[\"Vegetationsbrand\"],[\"Vegetationsbrand\"]],\"hovertemplate\":\"Datum=2009-05-26<br>Feuerintensit\\u00e4t=%{marker.color}<br>Breitengrad=%{lat}<br>L\\u00e4ngengrad=%{lon}<br>Typ=%{customdata[0]}<extra></extra>\",\"lat\":[48.1909,48.1348,48.1361,48.386],\"legendgroup\":\"\",\"lon\":[11.6496,11.7016,11.6955,10.0356],\"marker\":{\"color\":[6.1,5.9,4.9,8.5],\"coloraxis\":\"coloraxis\",\"opacity\":0.5,\"size\":[6.1,5.9,4.9,8.5],\"sizemode\":\"area\",\"sizeref\":0.6502500000000001},\"mode\":\"markers\",\"name\":\"\",\"showlegend\":false,\"subplot\":\"mapbox\",\"type\":\"scattermapbox\"}],\"name\":\"2009-05-26\"},{\"data\":[{\"customdata\":[[\"Vegetationsbrand\"]],\"hovertemplate\":\"Datum=2009-05-27<br>Feuerintensit\\u00e4t=%{marker.color}<br>Breitengrad=%{lat}<br>L\\u00e4ngengrad=%{lon}<br>Typ=%{customdata[0]}<extra></extra>\",\"lat\":[51.4889],\"legendgroup\":\"\",\"lon\":[6.7104],\"marker\":{\"color\":[7.1],\"coloraxis\":\"coloraxis\",\"opacity\":0.5,\"size\":[7.1],\"sizemode\":\"area\",\"sizeref\":0.6502500000000001},\"mode\":\"markers\",\"name\":\"\",\"showlegend\":false,\"subplot\":\"mapbox\",\"type\":\"scattermapbox\"}],\"name\":\"2009-05-27\"},{\"data\":[{\"customdata\":[[\"Vegetationsbrand\"]],\"hovertemplate\":\"Datum=2009-05-28<br>Feuerintensit\\u00e4t=%{marker.color}<br>Breitengrad=%{lat}<br>L\\u00e4ngengrad=%{lon}<br>Typ=%{customdata[0]}<extra></extra>\",\"lat\":[53.1161],\"legendgroup\":\"\",\"lon\":[9.701],\"marker\":{\"color\":[2.9],\"coloraxis\":\"coloraxis\",\"opacity\":0.5,\"size\":[2.9],\"sizemode\":\"area\",\"sizeref\":0.6502500000000001},\"mode\":\"markers\",\"name\":\"\",\"showlegend\":false,\"subplot\":\"mapbox\",\"type\":\"scattermapbox\"}],\"name\":\"2009-05-28\"},{\"data\":[{\"customdata\":[[\"Vegetationsbrand\"],[\"Vegetationsbrand\"],[\"Vegetationsbrand\"],[\"Vegetationsbrand\"],[\"Vegetationsbrand\"],[\"Vegetationsbrand\"]],\"hovertemplate\":\"Datum=2009-05-29<br>Feuerintensit\\u00e4t=%{marker.color}<br>Breitengrad=%{lat}<br>L\\u00e4ngengrad=%{lon}<br>Typ=%{customdata[0]}<extra></extra>\",\"lat\":[53.1378,49.2443,49.2473,49.2449,49.2431,51.5184],\"legendgroup\":\"\",\"lon\":[8.6975,6.8578,6.8417,6.8525,6.8371,6.9656],\"marker\":{\"color\":[12.0,18.2,13.8,15.4,10.9,7.0],\"coloraxis\":\"coloraxis\",\"opacity\":0.5,\"size\":[12.0,18.2,13.8,15.4,10.9,7.0],\"sizemode\":\"area\",\"sizeref\":0.6502500000000001},\"mode\":\"markers\",\"name\":\"\",\"showlegend\":false,\"subplot\":\"mapbox\",\"type\":\"scattermapbox\"}],\"name\":\"2009-05-29\"},{\"data\":[{\"customdata\":[[\"Vegetationsbrand\"],[\"Vegetationsbrand\"]],\"hovertemplate\":\"Datum=2009-05-31<br>Feuerintensit\\u00e4t=%{marker.color}<br>Breitengrad=%{lat}<br>L\\u00e4ngengrad=%{lon}<br>Typ=%{customdata[0]}<extra></extra>\",\"lat\":[51.3716,51.365],\"legendgroup\":\"\",\"lon\":[6.7111,6.6907],\"marker\":{\"color\":[36.0,14.5],\"coloraxis\":\"coloraxis\",\"opacity\":0.5,\"size\":[36.0,14.5],\"sizemode\":\"area\",\"sizeref\":0.6502500000000001},\"mode\":\"markers\",\"name\":\"\",\"showlegend\":false,\"subplot\":\"mapbox\",\"type\":\"scattermapbox\"}],\"name\":\"2009-05-31\"},{\"data\":[{\"customdata\":[[\"Vegetationsbrand\"],[\"Vegetationsbrand\"]],\"hovertemplate\":\"Datum=2009-06-01<br>Feuerintensit\\u00e4t=%{marker.color}<br>Breitengrad=%{lat}<br>L\\u00e4ngengrad=%{lon}<br>Typ=%{customdata[0]}<extra></extra>\",\"lat\":[52.1345,52.4019],\"legendgroup\":\"\",\"lon\":[10.9982,12.4957],\"marker\":{\"color\":[10.6,6.3],\"coloraxis\":\"coloraxis\",\"opacity\":0.5,\"size\":[10.6,6.3],\"sizemode\":\"area\",\"sizeref\":0.6502500000000001},\"mode\":\"markers\",\"name\":\"\",\"showlegend\":false,\"subplot\":\"mapbox\",\"type\":\"scattermapbox\"}],\"name\":\"2009-06-01\"},{\"data\":[{\"customdata\":[[\"Vegetationsbrand\"],[\"Vegetationsbrand\"],[\"Vegetationsbrand\"],[\"Vegetationsbrand\"],[\"Vegetationsbrand\"],[\"Vegetationsbrand\"],[\"Vegetationsbrand\"],[\"Vegetationsbrand\"],[\"Vegetationsbrand\"]],\"hovertemplate\":\"Datum=2009-06-02<br>Feuerintensit\\u00e4t=%{marker.color}<br>Breitengrad=%{lat}<br>L\\u00e4ngengrad=%{lon}<br>Typ=%{customdata[0]}<extra></extra>\",\"lat\":[51.7505,51.9105,49.2446,49.2464,50.0827,51.4847,52.9529,52.156,52.8154],\"legendgroup\":\"\",\"lon\":[11.9899,8.4217,6.8554,6.8413,8.4436,7.3197,7.2125,10.3968,7.1047],\"marker\":{\"color\":[6.8,8.4,22.4,10.0,5.4,5.8,14.1,8.8,6.3],\"coloraxis\":\"coloraxis\",\"opacity\":0.5,\"size\":[6.8,8.4,22.4,10.0,5.4,5.8,14.1,8.8,6.3],\"sizemode\":\"area\",\"sizeref\":0.6502500000000001},\"mode\":\"markers\",\"name\":\"\",\"showlegend\":false,\"subplot\":\"mapbox\",\"type\":\"scattermapbox\"}],\"name\":\"2009-06-02\"},{\"data\":[{\"customdata\":[[\"Vegetationsbrand\"],[\"Vegetationsbrand\"]],\"hovertemplate\":\"Datum=2009-06-03<br>Feuerintensit\\u00e4t=%{marker.color}<br>Breitengrad=%{lat}<br>L\\u00e4ngengrad=%{lon}<br>Typ=%{customdata[0]}<extra></extra>\",\"lat\":[49.2463,50.0422],\"legendgroup\":\"\",\"lon\":[6.8525,10.2236],\"marker\":{\"color\":[10.7,11.9],\"coloraxis\":\"coloraxis\",\"opacity\":0.5,\"size\":[10.7,11.9],\"sizemode\":\"area\",\"sizeref\":0.6502500000000001},\"mode\":\"markers\",\"name\":\"\",\"showlegend\":false,\"subplot\":\"mapbox\",\"type\":\"scattermapbox\"}],\"name\":\"2009-06-03\"},{\"data\":[{\"customdata\":[[\"Vegetationsbrand\"]],\"hovertemplate\":\"Datum=2009-06-04<br>Feuerintensit\\u00e4t=%{marker.color}<br>Breitengrad=%{lat}<br>L\\u00e4ngengrad=%{lon}<br>Typ=%{customdata[0]}<extra></extra>\",\"lat\":[53.5185],\"legendgroup\":\"\",\"lon\":[9.9053],\"marker\":{\"color\":[18.1],\"coloraxis\":\"coloraxis\",\"opacity\":0.5,\"size\":[18.1],\"sizemode\":\"area\",\"sizeref\":0.6502500000000001},\"mode\":\"markers\",\"name\":\"\",\"showlegend\":false,\"subplot\":\"mapbox\",\"type\":\"scattermapbox\"}],\"name\":\"2009-06-04\"},{\"data\":[{\"customdata\":[[\"Vegetationsbrand\"],[\"Vegetationsbrand\"],[\"Vegetationsbrand\"]],\"hovertemplate\":\"Datum=2009-06-09<br>Feuerintensit\\u00e4t=%{marker.color}<br>Breitengrad=%{lat}<br>L\\u00e4ngengrad=%{lon}<br>Typ=%{customdata[0]}<extra></extra>\",\"lat\":[48.9414,48.8715,49.3577],\"legendgroup\":\"\",\"lon\":[8.3789,9.3896,6.747],\"marker\":{\"color\":[7.8,2.7,9.2],\"coloraxis\":\"coloraxis\",\"opacity\":0.5,\"size\":[7.8,2.7,9.2],\"sizemode\":\"area\",\"sizeref\":0.6502500000000001},\"mode\":\"markers\",\"name\":\"\",\"showlegend\":false,\"subplot\":\"mapbox\",\"type\":\"scattermapbox\"}],\"name\":\"2009-06-09\"},{\"data\":[{\"customdata\":[[\"Vegetationsbrand\"]],\"hovertemplate\":\"Datum=2009-06-10<br>Feuerintensit\\u00e4t=%{marker.color}<br>Breitengrad=%{lat}<br>L\\u00e4ngengrad=%{lon}<br>Typ=%{customdata[0]}<extra></extra>\",\"lat\":[52.1565],\"legendgroup\":\"\",\"lon\":[10.3972],\"marker\":{\"color\":[8.4],\"coloraxis\":\"coloraxis\",\"opacity\":0.5,\"size\":[8.4],\"sizemode\":\"area\",\"sizeref\":0.6502500000000001},\"mode\":\"markers\",\"name\":\"\",\"showlegend\":false,\"subplot\":\"mapbox\",\"type\":\"scattermapbox\"}],\"name\":\"2009-06-10\"},{\"data\":[{\"customdata\":[[\"Vegetationsbrand\"],[\"Vegetationsbrand\"]],\"hovertemplate\":\"Datum=2009-06-11<br>Feuerintensit\\u00e4t=%{marker.color}<br>Breitengrad=%{lat}<br>L\\u00e4ngengrad=%{lon}<br>Typ=%{customdata[0]}<extra></extra>\",\"lat\":[48.8803,48.8778],\"legendgroup\":\"\",\"lon\":[8.2888,8.274],\"marker\":{\"color\":[8.0,21.1],\"coloraxis\":\"coloraxis\",\"opacity\":0.5,\"size\":[8.0,21.1],\"sizemode\":\"area\",\"sizeref\":0.6502500000000001},\"mode\":\"markers\",\"name\":\"\",\"showlegend\":false,\"subplot\":\"mapbox\",\"type\":\"scattermapbox\"}],\"name\":\"2009-06-11\"},{\"data\":[{\"customdata\":[[\"Vegetationsbrand\"],[\"Vegetationsbrand\"],[\"Vegetationsbrand\"],[\"Vegetationsbrand\"],[\"Vegetationsbrand\"],[\"Vegetationsbrand\"],[\"Vegetationsbrand\"],[\"Vegetationsbrand\"],[\"Vegetationsbrand\"],[\"Vegetationsbrand\"]],\"hovertemplate\":\"Datum=2009-06-13<br>Feuerintensit\\u00e4t=%{marker.color}<br>Breitengrad=%{lat}<br>L\\u00e4ngengrad=%{lon}<br>Typ=%{customdata[0]}<extra></extra>\",\"lat\":[52.203,53.0891,51.7722,51.1458,51.9582,51.6125,53.1487,52.5638,52.9201,51.4926],\"legendgroup\":\"\",\"lon\":[12.2893,14.2433,14.5336,14.7928,12.9691,14.1931,11.348,11.2501,11.4963,6.7207],\"marker\":{\"color\":[5.4,5.1,4.4,8.1,5.1,4.4,2.8,3.3,3.2,8.5],\"coloraxis\":\"coloraxis\",\"opacity\":0.5,\"size\":[5.4,5.1,4.4,8.1,5.1,4.4,2.8,3.3,3.2,8.5],\"sizemode\":\"area\",\"sizeref\":0.6502500000000001},\"mode\":\"markers\",\"name\":\"\",\"showlegend\":false,\"subplot\":\"mapbox\",\"type\":\"scattermapbox\"}],\"name\":\"2009-06-13\"},{\"data\":[{\"customdata\":[[\"Vegetationsbrand\"]],\"hovertemplate\":\"Datum=2009-06-14<br>Feuerintensit\\u00e4t=%{marker.color}<br>Breitengrad=%{lat}<br>L\\u00e4ngengrad=%{lon}<br>Typ=%{customdata[0]}<extra></extra>\",\"lat\":[52.4152],\"legendgroup\":\"\",\"lon\":[12.1565],\"marker\":{\"color\":[16.3],\"coloraxis\":\"coloraxis\",\"opacity\":0.5,\"size\":[16.3],\"sizemode\":\"area\",\"sizeref\":0.6502500000000001},\"mode\":\"markers\",\"name\":\"\",\"showlegend\":false,\"subplot\":\"mapbox\",\"type\":\"scattermapbox\"}],\"name\":\"2009-06-14\"},{\"data\":[{\"customdata\":[[\"Vegetationsbrand\"]],\"hovertemplate\":\"Datum=2009-06-15<br>Feuerintensit\\u00e4t=%{marker.color}<br>Breitengrad=%{lat}<br>L\\u00e4ngengrad=%{lon}<br>Typ=%{customdata[0]}<extra></extra>\",\"lat\":[51.49],\"legendgroup\":\"\",\"lon\":[6.7098],\"marker\":{\"color\":[6.6],\"coloraxis\":\"coloraxis\",\"opacity\":0.5,\"size\":[6.6],\"sizemode\":\"area\",\"sizeref\":0.6502500000000001},\"mode\":\"markers\",\"name\":\"\",\"showlegend\":false,\"subplot\":\"mapbox\",\"type\":\"scattermapbox\"}],\"name\":\"2009-06-15\"},{\"data\":[{\"customdata\":[[\"Vegetationsbrand\"],[\"Vegetationsbrand\"]],\"hovertemplate\":\"Datum=2009-06-16<br>Feuerintensit\\u00e4t=%{marker.color}<br>Breitengrad=%{lat}<br>L\\u00e4ngengrad=%{lon}<br>Typ=%{customdata[0]}<extra></extra>\",\"lat\":[48.7824,49.0711],\"legendgroup\":\"\",\"lon\":[9.2385,9.149],\"marker\":{\"color\":[7.4,3.6],\"coloraxis\":\"coloraxis\",\"opacity\":0.5,\"size\":[7.4,3.6],\"sizemode\":\"area\",\"sizeref\":0.6502500000000001},\"mode\":\"markers\",\"name\":\"\",\"showlegend\":false,\"subplot\":\"mapbox\",\"type\":\"scattermapbox\"}],\"name\":\"2009-06-16\"},{\"data\":[{\"customdata\":[[\"Vegetationsbrand\"],[\"Vegetationsbrand\"]],\"hovertemplate\":\"Datum=2009-06-17<br>Feuerintensit\\u00e4t=%{marker.color}<br>Breitengrad=%{lat}<br>L\\u00e4ngengrad=%{lon}<br>Typ=%{customdata[0]}<extra></extra>\",\"lat\":[50.7483,51.4516],\"legendgroup\":\"\",\"lon\":[13.0673,11.7051],\"marker\":{\"color\":[4.4,4.5],\"coloraxis\":\"coloraxis\",\"opacity\":0.5,\"size\":[4.4,4.5],\"sizemode\":\"area\",\"sizeref\":0.6502500000000001},\"mode\":\"markers\",\"name\":\"\",\"showlegend\":false,\"subplot\":\"mapbox\",\"type\":\"scattermapbox\"}],\"name\":\"2009-06-17\"},{\"data\":[{\"customdata\":[[\"Vegetationsbrand\"],[\"Vegetationsbrand\"],[\"Vegetationsbrand\"],[\"Vegetationsbrand\"],[\"Vegetationsbrand\"],[\"Vegetationsbrand\"],[\"Vegetationsbrand\"],[\"Vegetationsbrand\"]],\"hovertemplate\":\"Datum=2009-06-18<br>Feuerintensit\\u00e4t=%{marker.color}<br>Breitengrad=%{lat}<br>L\\u00e4ngengrad=%{lon}<br>Typ=%{customdata[0]}<extra></extra>\",\"lat\":[48.7863,48.723,47.7594,47.7557,48.2861,52.4533,53.1844,51.5133],\"legendgroup\":\"\",\"lon\":[11.4111,11.1798,8.8574,8.8567,11.571,11.5959,11.1898,6.9642],\"marker\":{\"color\":[9.7,8.6,8.7,8.7,5.9,8.0,4.6,6.0],\"coloraxis\":\"coloraxis\",\"opacity\":0.5,\"size\":[9.7,8.6,8.7,8.7,5.9,8.0,4.6,6.0],\"sizemode\":\"area\",\"sizeref\":0.6502500000000001},\"mode\":\"markers\",\"name\":\"\",\"showlegend\":false,\"subplot\":\"mapbox\",\"type\":\"scattermapbox\"}],\"name\":\"2009-06-18\"},{\"data\":[{\"customdata\":[[\"Vegetationsbrand\"]],\"hovertemplate\":\"Datum=2009-06-19<br>Feuerintensit\\u00e4t=%{marker.color}<br>Breitengrad=%{lat}<br>L\\u00e4ngengrad=%{lon}<br>Typ=%{customdata[0]}<extra></extra>\",\"lat\":[52.1558],\"legendgroup\":\"\",\"lon\":[10.3958],\"marker\":{\"color\":[10.6],\"coloraxis\":\"coloraxis\",\"opacity\":0.5,\"size\":[10.6],\"sizemode\":\"area\",\"sizeref\":0.6502500000000001},\"mode\":\"markers\",\"name\":\"\",\"showlegend\":false,\"subplot\":\"mapbox\",\"type\":\"scattermapbox\"}],\"name\":\"2009-06-19\"},{\"data\":[{\"customdata\":[[\"Vegetationsbrand\"]],\"hovertemplate\":\"Datum=2009-06-20<br>Feuerintensit\\u00e4t=%{marker.color}<br>Breitengrad=%{lat}<br>L\\u00e4ngengrad=%{lon}<br>Typ=%{customdata[0]}<extra></extra>\",\"lat\":[49.3491],\"legendgroup\":\"\",\"lon\":[11.1552],\"marker\":{\"color\":[4.6],\"coloraxis\":\"coloraxis\",\"opacity\":0.5,\"size\":[4.6],\"sizemode\":\"area\",\"sizeref\":0.6502500000000001},\"mode\":\"markers\",\"name\":\"\",\"showlegend\":false,\"subplot\":\"mapbox\",\"type\":\"scattermapbox\"}],\"name\":\"2009-06-20\"},{\"data\":[{\"customdata\":[[\"Vegetationsbrand\"],[\"Vegetationsbrand\"]],\"hovertemplate\":\"Datum=2009-06-22<br>Feuerintensit\\u00e4t=%{marker.color}<br>Breitengrad=%{lat}<br>L\\u00e4ngengrad=%{lon}<br>Typ=%{customdata[0]}<extra></extra>\",\"lat\":[54.3318,49.3551],\"legendgroup\":\"\",\"lon\":[13.0652,6.7477],\"marker\":{\"color\":[11.7,8.5],\"coloraxis\":\"coloraxis\",\"opacity\":0.5,\"size\":[11.7,8.5],\"sizemode\":\"area\",\"sizeref\":0.6502500000000001},\"mode\":\"markers\",\"name\":\"\",\"showlegend\":false,\"subplot\":\"mapbox\",\"type\":\"scattermapbox\"}],\"name\":\"2009-06-22\"},{\"data\":[{\"customdata\":[[\"Vegetationsbrand\"],[\"Vegetationsbrand\"],[\"Vegetationsbrand\"],[\"Vegetationsbrand\"],[\"Vegetationsbrand\"]],\"hovertemplate\":\"Datum=2009-06-23<br>Feuerintensit\\u00e4t=%{marker.color}<br>Breitengrad=%{lat}<br>L\\u00e4ngengrad=%{lon}<br>Typ=%{customdata[0]}<extra></extra>\",\"lat\":[51.4872,53.5126,53.5071,51.1541,51.153],\"legendgroup\":\"\",\"lon\":[7.3168,9.8871,9.8957,6.7773,6.7746],\"marker\":{\"color\":[7.8,9.3,8.4,4.5,5.3],\"coloraxis\":\"coloraxis\",\"opacity\":0.5,\"size\":[7.8,9.3,8.4,4.5,5.3],\"sizemode\":\"area\",\"sizeref\":0.6502500000000001},\"mode\":\"markers\",\"name\":\"\",\"showlegend\":false,\"subplot\":\"mapbox\",\"type\":\"scattermapbox\"}],\"name\":\"2009-06-23\"},{\"data\":[{\"customdata\":[[\"Vegetationsbrand\"],[\"Vegetationsbrand\"],[\"Vegetationsbrand\"]],\"hovertemplate\":\"Datum=2009-06-24<br>Feuerintensit\\u00e4t=%{marker.color}<br>Breitengrad=%{lat}<br>L\\u00e4ngengrad=%{lon}<br>Typ=%{customdata[0]}<extra></extra>\",\"lat\":[52.7906,53.056,52.7911],\"legendgroup\":\"\",\"lon\":[9.7532,10.1038,9.7581],\"marker\":{\"color\":[14.0,8.7,12.3],\"coloraxis\":\"coloraxis\",\"opacity\":0.5,\"size\":[14.0,8.7,12.3],\"sizemode\":\"area\",\"sizeref\":0.6502500000000001},\"mode\":\"markers\",\"name\":\"\",\"showlegend\":false,\"subplot\":\"mapbox\",\"type\":\"scattermapbox\"}],\"name\":\"2009-06-24\"},{\"data\":[{\"customdata\":[[\"Vegetationsbrand\"],[\"Vegetationsbrand\"],[\"Vegetationsbrand\"]],\"hovertemplate\":\"Datum=2009-06-25<br>Feuerintensit\\u00e4t=%{marker.color}<br>Breitengrad=%{lat}<br>L\\u00e4ngengrad=%{lon}<br>Typ=%{customdata[0]}<extra></extra>\",\"lat\":[53.1393,52.7964,51.4883],\"legendgroup\":\"\",\"lon\":[8.6871,9.8174,6.7128],\"marker\":{\"color\":[15.1,7.1,10.1],\"coloraxis\":\"coloraxis\",\"opacity\":0.5,\"size\":[15.1,7.1,10.1],\"sizemode\":\"area\",\"sizeref\":0.6502500000000001},\"mode\":\"markers\",\"name\":\"\",\"showlegend\":false,\"subplot\":\"mapbox\",\"type\":\"scattermapbox\"}],\"name\":\"2009-06-25\"},{\"data\":[{\"customdata\":[[\"Vegetationsbrand\"],[\"Vegetationsbrand\"],[\"Vegetationsbrand\"],[\"Vegetationsbrand\"]],\"hovertemplate\":\"Datum=2009-06-27<br>Feuerintensit\\u00e4t=%{marker.color}<br>Breitengrad=%{lat}<br>L\\u00e4ngengrad=%{lon}<br>Typ=%{customdata[0]}<extra></extra>\",\"lat\":[54.3358,48.8774,48.9389,48.8749],\"legendgroup\":\"\",\"lon\":[13.067,8.2836,8.3782,8.2688],\"marker\":{\"color\":[13.2,24.2,10.1,11.4],\"coloraxis\":\"coloraxis\",\"opacity\":0.5,\"size\":[13.2,24.2,10.1,11.4],\"sizemode\":\"area\",\"sizeref\":0.6502500000000001},\"mode\":\"markers\",\"name\":\"\",\"showlegend\":false,\"subplot\":\"mapbox\",\"type\":\"scattermapbox\"}],\"name\":\"2009-06-27\"},{\"data\":[{\"customdata\":[[\"Vegetationsbrand\"],[\"Vegetationsbrand\"],[\"Vegetationsbrand\"]],\"hovertemplate\":\"Datum=2009-06-29<br>Feuerintensit\\u00e4t=%{marker.color}<br>Breitengrad=%{lat}<br>L\\u00e4ngengrad=%{lon}<br>Typ=%{customdata[0]}<extra></extra>\",\"lat\":[51.8396,49.3566,52.1582],\"legendgroup\":\"\",\"lon\":[6.2713,6.742,10.3929],\"marker\":{\"color\":[7.0,5.0,9.8],\"coloraxis\":\"coloraxis\",\"opacity\":0.5,\"size\":[7.0,5.0,9.8],\"sizemode\":\"area\",\"sizeref\":0.6502500000000001},\"mode\":\"markers\",\"name\":\"\",\"showlegend\":false,\"subplot\":\"mapbox\",\"type\":\"scattermapbox\"}],\"name\":\"2009-06-29\"},{\"data\":[{\"customdata\":[[\"Vegetationsbrand\"],[\"Vegetationsbrand\"],[\"Vegetationsbrand\"],[\"Vegetationsbrand\"],[\"Vegetationsbrand\"],[\"Vegetationsbrand\"]],\"hovertemplate\":\"Datum=2009-06-30<br>Feuerintensit\\u00e4t=%{marker.color}<br>Breitengrad=%{lat}<br>L\\u00e4ngengrad=%{lon}<br>Typ=%{customdata[0]}<extra></extra>\",\"lat\":[51.4893,51.4835,49.7237,49.7255,49.4733,52.1566],\"legendgroup\":\"\",\"lon\":[6.7138,7.3145,6.6008,6.6081,11.2265,10.3917],\"marker\":{\"color\":[22.3,7.9,11.5,10.7,9.9,15.0],\"coloraxis\":\"coloraxis\",\"opacity\":0.5,\"size\":[22.3,7.9,11.5,10.7,9.9,15.0],\"sizemode\":\"area\",\"sizeref\":0.6502500000000001},\"mode\":\"markers\",\"name\":\"\",\"showlegend\":false,\"subplot\":\"mapbox\",\"type\":\"scattermapbox\"}],\"name\":\"2009-06-30\"},{\"data\":[{\"customdata\":[[\"Vegetationsbrand\"],[\"Vegetationsbrand\"],[\"Vegetationsbrand\"],[\"Vegetationsbrand\"],[\"Vegetationsbrand\"],[\"Vegetationsbrand\"],[\"Vegetationsbrand\"]],\"hovertemplate\":\"Datum=2009-07-01<br>Feuerintensit\\u00e4t=%{marker.color}<br>Breitengrad=%{lat}<br>L\\u00e4ngengrad=%{lon}<br>Typ=%{customdata[0]}<extra></extra>\",\"lat\":[51.4877,52.1549,52.0482,53.2233,52.1633,49.3601,52.1593],\"legendgroup\":\"\",\"lon\":[6.7161,10.394,10.3729,13.6861,14.6149,6.7437,10.3969],\"marker\":{\"color\":[34.7,13.3,5.9,11.0,12.0,5.3,5.5],\"coloraxis\":\"coloraxis\",\"opacity\":0.5,\"size\":[34.7,13.3,5.9,11.0,12.0,5.3,5.5],\"sizemode\":\"area\",\"sizeref\":0.6502500000000001},\"mode\":\"markers\",\"name\":\"\",\"showlegend\":false,\"subplot\":\"mapbox\",\"type\":\"scattermapbox\"}],\"name\":\"2009-07-01\"},{\"data\":[{\"customdata\":[[\"Vegetationsbrand\"],[\"Vegetationsbrand\"],[\"Vegetationsbrand\"],[\"Vegetationsbrand\"],[\"Vegetationsbrand\"],[\"Vegetationsbrand\"],[\"Vegetationsbrand\"],[\"Vegetationsbrand\"],[\"Vegetationsbrand\"]],\"hovertemplate\":\"Datum=2009-07-02<br>Feuerintensit\\u00e4t=%{marker.color}<br>Breitengrad=%{lat}<br>L\\u00e4ngengrad=%{lon}<br>Typ=%{customdata[0]}<extra></extra>\",\"lat\":[49.9715,51.0321,49.7224,47.7599,48.3598,47.7571,47.7189,48.776,51.6008],\"legendgroup\":\"\",\"lon\":[9.0694,8.6785,6.6029,10.327,9.9429,8.862,9.3925,9.2423,7.0191],\"marker\":{\"color\":[9.8,8.0,6.5,6.4,9.6,6.6,5.5,9.1,13.5],\"coloraxis\":\"coloraxis\",\"opacity\":0.5,\"size\":[9.8,8.0,6.5,6.4,9.6,6.6,5.5,9.1,13.5],\"sizemode\":\"area\",\"sizeref\":0.6502500000000001},\"mode\":\"markers\",\"name\":\"\",\"showlegend\":false,\"subplot\":\"mapbox\",\"type\":\"scattermapbox\"}],\"name\":\"2009-07-02\"},{\"data\":[{\"customdata\":[[\"Vegetationsbrand\"],[\"Vegetationsbrand\"]],\"hovertemplate\":\"Datum=2009-07-03<br>Feuerintensit\\u00e4t=%{marker.color}<br>Breitengrad=%{lat}<br>L\\u00e4ngengrad=%{lon}<br>Typ=%{customdata[0]}<extra></extra>\",\"lat\":[52.6809,51.7497],\"legendgroup\":\"\",\"lon\":[9.3545,11.9847],\"marker\":{\"color\":[25.3,6.7],\"coloraxis\":\"coloraxis\",\"opacity\":0.5,\"size\":[25.3,6.7],\"sizemode\":\"area\",\"sizeref\":0.6502500000000001},\"mode\":\"markers\",\"name\":\"\",\"showlegend\":false,\"subplot\":\"mapbox\",\"type\":\"scattermapbox\"}],\"name\":\"2009-07-03\"},{\"data\":[{\"customdata\":[[\"Vegetationsbrand\"],[\"Vegetationsbrand\"],[\"Vegetationsbrand\"],[\"Vegetationsbrand\"],[\"Vegetationsbrand\"]],\"hovertemplate\":\"Datum=2009-07-04<br>Feuerintensit\\u00e4t=%{marker.color}<br>Breitengrad=%{lat}<br>L\\u00e4ngengrad=%{lon}<br>Typ=%{customdata[0]}<extra></extra>\",\"lat\":[49.0523,48.7894,48.9727,52.0323,51.4877],\"legendgroup\":\"\",\"lon\":[8.2895,11.4097,12.165,13.4179,6.7103],\"marker\":{\"color\":[8.7,6.6,9.4,7.4,14.8],\"coloraxis\":\"coloraxis\",\"opacity\":0.5,\"size\":[8.7,6.6,9.4,7.4,14.8],\"sizemode\":\"area\",\"sizeref\":0.6502500000000001},\"mode\":\"markers\",\"name\":\"\",\"showlegend\":false,\"subplot\":\"mapbox\",\"type\":\"scattermapbox\"}],\"name\":\"2009-07-04\"},{\"data\":[{\"customdata\":[[\"Vegetationsbrand\"],[\"Vegetationsbrand\"],[\"Vegetationsbrand\"]],\"hovertemplate\":\"Datum=2009-07-06<br>Feuerintensit\\u00e4t=%{marker.color}<br>Breitengrad=%{lat}<br>L\\u00e4ngengrad=%{lon}<br>Typ=%{customdata[0]}<extra></extra>\",\"lat\":[51.7785,53.1674,52.6653],\"legendgroup\":\"\",\"lon\":[9.3796,8.6385,8.1278],\"marker\":{\"color\":[4.6,4.0,4.1],\"coloraxis\":\"coloraxis\",\"opacity\":0.5,\"size\":[4.6,4.0,4.1],\"sizemode\":\"area\",\"sizeref\":0.6502500000000001},\"mode\":\"markers\",\"name\":\"\",\"showlegend\":false,\"subplot\":\"mapbox\",\"type\":\"scattermapbox\"}],\"name\":\"2009-07-06\"},{\"data\":[{\"customdata\":[[\"Vegetationsbrand\"]],\"hovertemplate\":\"Datum=2009-07-07<br>Feuerintensit\\u00e4t=%{marker.color}<br>Breitengrad=%{lat}<br>L\\u00e4ngengrad=%{lon}<br>Typ=%{customdata[0]}<extra></extra>\",\"lat\":[51.4907],\"legendgroup\":\"\",\"lon\":[6.7201],\"marker\":{\"color\":[45.6],\"coloraxis\":\"coloraxis\",\"opacity\":0.5,\"size\":[45.6],\"sizemode\":\"area\",\"sizeref\":0.6502500000000001},\"mode\":\"markers\",\"name\":\"\",\"showlegend\":false,\"subplot\":\"mapbox\",\"type\":\"scattermapbox\"}],\"name\":\"2009-07-07\"},{\"data\":[{\"customdata\":[[\"Vegetationsbrand\"],[\"Vegetationsbrand\"]],\"hovertemplate\":\"Datum=2009-07-09<br>Feuerintensit\\u00e4t=%{marker.color}<br>Breitengrad=%{lat}<br>L\\u00e4ngengrad=%{lon}<br>Typ=%{customdata[0]}<extra></extra>\",\"lat\":[48.9467,51.2005],\"legendgroup\":\"\",\"lon\":[8.3772,8.7004],\"marker\":{\"color\":[5.6,13.4],\"coloraxis\":\"coloraxis\",\"opacity\":0.5,\"size\":[5.6,13.4],\"sizemode\":\"area\",\"sizeref\":0.6502500000000001},\"mode\":\"markers\",\"name\":\"\",\"showlegend\":false,\"subplot\":\"mapbox\",\"type\":\"scattermapbox\"}],\"name\":\"2009-07-09\"},{\"data\":[{\"customdata\":[[\"Vegetationsbrand\"]],\"hovertemplate\":\"Datum=2009-07-12<br>Feuerintensit\\u00e4t=%{marker.color}<br>Breitengrad=%{lat}<br>L\\u00e4ngengrad=%{lon}<br>Typ=%{customdata[0]}<extra></extra>\",\"lat\":[51.3712],\"legendgroup\":\"\",\"lon\":[6.7141],\"marker\":{\"color\":[12.0],\"coloraxis\":\"coloraxis\",\"opacity\":0.5,\"size\":[12.0],\"sizemode\":\"area\",\"sizeref\":0.6502500000000001},\"mode\":\"markers\",\"name\":\"\",\"showlegend\":false,\"subplot\":\"mapbox\",\"type\":\"scattermapbox\"}],\"name\":\"2009-07-12\"},{\"data\":[{\"customdata\":[[\"Vegetationsbrand\"],[\"Vegetationsbrand\"],[\"Vegetationsbrand\"],[\"Vegetationsbrand\"]],\"hovertemplate\":\"Datum=2009-07-13<br>Feuerintensit\\u00e4t=%{marker.color}<br>Breitengrad=%{lat}<br>L\\u00e4ngengrad=%{lon}<br>Typ=%{customdata[0]}<extra></extra>\",\"lat\":[53.5174,48.1339,50.8239,51.4963],\"legendgroup\":\"\",\"lon\":[9.9024,11.6982,8.9364,6.7409],\"marker\":{\"color\":[10.7,5.8,3.3,6.4],\"coloraxis\":\"coloraxis\",\"opacity\":0.5,\"size\":[10.7,5.8,3.3,6.4],\"sizemode\":\"area\",\"sizeref\":0.6502500000000001},\"mode\":\"markers\",\"name\":\"\",\"showlegend\":false,\"subplot\":\"mapbox\",\"type\":\"scattermapbox\"}],\"name\":\"2009-07-13\"},{\"data\":[{\"customdata\":[[\"Vegetationsbrand\"],[\"Vegetationsbrand\"]],\"hovertemplate\":\"Datum=2009-07-15<br>Feuerintensit\\u00e4t=%{marker.color}<br>Breitengrad=%{lat}<br>L\\u00e4ngengrad=%{lon}<br>Typ=%{customdata[0]}<extra></extra>\",\"lat\":[53.5212,53.1377],\"legendgroup\":\"\",\"lon\":[9.9032,8.6824],\"marker\":{\"color\":[8.4,7.5],\"coloraxis\":\"coloraxis\",\"opacity\":0.5,\"size\":[8.4,7.5],\"sizemode\":\"area\",\"sizeref\":0.6502500000000001},\"mode\":\"markers\",\"name\":\"\",\"showlegend\":false,\"subplot\":\"mapbox\",\"type\":\"scattermapbox\"}],\"name\":\"2009-07-15\"},{\"data\":[{\"customdata\":[[\"Vegetationsbrand\"],[\"Vegetationsbrand\"],[\"Vegetationsbrand\"]],\"hovertemplate\":\"Datum=2009-07-16<br>Feuerintensit\\u00e4t=%{marker.color}<br>Breitengrad=%{lat}<br>L\\u00e4ngengrad=%{lon}<br>Typ=%{customdata[0]}<extra></extra>\",\"lat\":[47.7531,51.4905,51.4884],\"legendgroup\":\"\",\"lon\":[8.8545,6.7156,6.7219],\"marker\":{\"color\":[11.1,18.3,20.4],\"coloraxis\":\"coloraxis\",\"opacity\":0.5,\"size\":[11.1,18.3,20.4],\"sizemode\":\"area\",\"sizeref\":0.6502500000000001},\"mode\":\"markers\",\"name\":\"\",\"showlegend\":false,\"subplot\":\"mapbox\",\"type\":\"scattermapbox\"}],\"name\":\"2009-07-16\"},{\"data\":[{\"customdata\":[[\"Vegetationsbrand\"],[\"Vegetationsbrand\"],[\"Vegetationsbrand\"],[\"Vegetationsbrand\"]],\"hovertemplate\":\"Datum=2009-07-21<br>Feuerintensit\\u00e4t=%{marker.color}<br>Breitengrad=%{lat}<br>L\\u00e4ngengrad=%{lon}<br>Typ=%{customdata[0]}<extra></extra>\",\"lat\":[53.138,47.4062,53.3951,53.387],\"legendgroup\":\"\",\"lon\":[8.6809,10.2907,10.2437,10.2117],\"marker\":{\"color\":[7.8,17.9,13.1,11.6],\"coloraxis\":\"coloraxis\",\"opacity\":0.5,\"size\":[7.8,17.9,13.1,11.6],\"sizemode\":\"area\",\"sizeref\":0.6502500000000001},\"mode\":\"markers\",\"name\":\"\",\"showlegend\":false,\"subplot\":\"mapbox\",\"type\":\"scattermapbox\"}],\"name\":\"2009-07-21\"},{\"data\":[{\"customdata\":[[\"Vegetationsbrand\"]],\"hovertemplate\":\"Datum=2009-07-22<br>Feuerintensit\\u00e4t=%{marker.color}<br>Breitengrad=%{lat}<br>L\\u00e4ngengrad=%{lon}<br>Typ=%{customdata[0]}<extra></extra>\",\"lat\":[48.4286],\"legendgroup\":\"\",\"lon\":[13.3382],\"marker\":{\"color\":[7.5],\"coloraxis\":\"coloraxis\",\"opacity\":0.5,\"size\":[7.5],\"sizemode\":\"area\",\"sizeref\":0.6502500000000001},\"mode\":\"markers\",\"name\":\"\",\"showlegend\":false,\"subplot\":\"mapbox\",\"type\":\"scattermapbox\"}],\"name\":\"2009-07-22\"},{\"data\":[{\"customdata\":[[\"Vegetationsbrand\"]],\"hovertemplate\":\"Datum=2009-07-24<br>Feuerintensit\\u00e4t=%{marker.color}<br>Breitengrad=%{lat}<br>L\\u00e4ngengrad=%{lon}<br>Typ=%{customdata[0]}<extra></extra>\",\"lat\":[51.9104],\"legendgroup\":\"\",\"lon\":[12.76],\"marker\":{\"color\":[10.9],\"coloraxis\":\"coloraxis\",\"opacity\":0.5,\"size\":[10.9],\"sizemode\":\"area\",\"sizeref\":0.6502500000000001},\"mode\":\"markers\",\"name\":\"\",\"showlegend\":false,\"subplot\":\"mapbox\",\"type\":\"scattermapbox\"}],\"name\":\"2009-07-24\"},{\"data\":[{\"customdata\":[[\"Vegetationsbrand\"],[\"Vegetationsbrand\"],[\"Vegetationsbrand\"],[\"Vegetationsbrand\"]],\"hovertemplate\":\"Datum=2009-07-25<br>Feuerintensit\\u00e4t=%{marker.color}<br>Breitengrad=%{lat}<br>L\\u00e4ngengrad=%{lon}<br>Typ=%{customdata[0]}<extra></extra>\",\"lat\":[51.4876,50.9156,48.3069,50.7942],\"legendgroup\":\"\",\"lon\":[6.7181,6.8181,10.1674,6.7738],\"marker\":{\"color\":[10.8,3.1,4.8,2.5],\"coloraxis\":\"coloraxis\",\"opacity\":0.5,\"size\":[10.8,3.1,4.8,2.5],\"sizemode\":\"area\",\"sizeref\":0.6502500000000001},\"mode\":\"markers\",\"name\":\"\",\"showlegend\":false,\"subplot\":\"mapbox\",\"type\":\"scattermapbox\"}],\"name\":\"2009-07-25\"},{\"data\":[{\"customdata\":[[\"Vegetationsbrand\"],[\"Vegetationsbrand\"],[\"Vegetationsbrand\"],[\"Vegetationsbrand\"],[\"Vegetationsbrand\"],[\"Vegetationsbrand\"],[\"Vegetationsbrand\"],[\"Vegetationsbrand\"],[\"Vegetationsbrand\"]],\"hovertemplate\":\"Datum=2009-07-27<br>Feuerintensit\\u00e4t=%{marker.color}<br>Breitengrad=%{lat}<br>L\\u00e4ngengrad=%{lon}<br>Typ=%{customdata[0]}<extra></extra>\",\"lat\":[51.0256,50.5017,49.7242,51.9059,51.8785,48.9449,48.9845,52.3892,52.2042],\"legendgroup\":\"\",\"lon\":[8.6784,10.6599,6.6046,10.864,11.0797,8.3862,12.1923,7.3022,8.0426],\"marker\":{\"color\":[6.3,5.3,6.6,7.1,5.9,8.3,10.5,3.0,8.3],\"coloraxis\":\"coloraxis\",\"opacity\":0.5,\"size\":[6.3,5.3,6.6,7.1,5.9,8.3,10.5,3.0,8.3],\"sizemode\":\"area\",\"sizeref\":0.6502500000000001},\"mode\":\"markers\",\"name\":\"\",\"showlegend\":false,\"subplot\":\"mapbox\",\"type\":\"scattermapbox\"}],\"name\":\"2009-07-27\"},{\"data\":[{\"customdata\":[[\"Vegetationsbrand\"],[\"Vegetationsbrand\"]],\"hovertemplate\":\"Datum=2009-07-28<br>Feuerintensit\\u00e4t=%{marker.color}<br>Breitengrad=%{lat}<br>L\\u00e4ngengrad=%{lon}<br>Typ=%{customdata[0]}<extra></extra>\",\"lat\":[51.4893,51.3397],\"legendgroup\":\"\",\"lon\":[6.7091,6.7485],\"marker\":{\"color\":[6.8,14.4],\"coloraxis\":\"coloraxis\",\"opacity\":0.5,\"size\":[6.8,14.4],\"sizemode\":\"area\",\"sizeref\":0.6502500000000001},\"mode\":\"markers\",\"name\":\"\",\"showlegend\":false,\"subplot\":\"mapbox\",\"type\":\"scattermapbox\"}],\"name\":\"2009-07-28\"},{\"data\":[{\"customdata\":[[\"Vegetationsbrand\"],[\"Vegetationsbrand\"],[\"Vegetationsbrand\"],[\"Vegetationsbrand\"],[\"Vegetationsbrand\"],[\"Vegetationsbrand\"],[\"Vegetationsbrand\"],[\"Vegetationsbrand\"],[\"Vegetationsbrand\"],[\"Vegetationsbrand\"],[\"Vegetationsbrand\"]],\"hovertemplate\":\"Datum=2009-07-29<br>Feuerintensit\\u00e4t=%{marker.color}<br>Breitengrad=%{lat}<br>L\\u00e4ngengrad=%{lon}<br>Typ=%{customdata[0]}<extra></extra>\",\"lat\":[51.2918,48.0805,51.1551,48.3687,48.2109,48.4284,48.4689,48.9401,48.9427,48.3861,49.3611],\"legendgroup\":\"\",\"lon\":[12.0053,9.8058,6.5073,9.7383,9.0306,13.3403,11.9456,8.3688,8.3835,10.0316,6.7452],\"marker\":{\"color\":[7.0,6.5,9.5,5.1,4.7,5.1,4.4,8.7,10.5,12.9,5.2],\"coloraxis\":\"coloraxis\",\"opacity\":0.5,\"size\":[7.0,6.5,9.5,5.1,4.7,5.1,4.4,8.7,10.5,12.9,5.2],\"sizemode\":\"area\",\"sizeref\":0.6502500000000001},\"mode\":\"markers\",\"name\":\"\",\"showlegend\":false,\"subplot\":\"mapbox\",\"type\":\"scattermapbox\"}],\"name\":\"2009-07-29\"},{\"data\":[{\"customdata\":[[\"Vegetationsbrand\"]],\"hovertemplate\":\"Datum=2009-07-31<br>Feuerintensit\\u00e4t=%{marker.color}<br>Breitengrad=%{lat}<br>L\\u00e4ngengrad=%{lon}<br>Typ=%{customdata[0]}<extra></extra>\",\"lat\":[53.9605],\"legendgroup\":\"\",\"lon\":[10.3894],\"marker\":{\"color\":[3.7],\"coloraxis\":\"coloraxis\",\"opacity\":0.5,\"size\":[3.7],\"sizemode\":\"area\",\"sizeref\":0.6502500000000001},\"mode\":\"markers\",\"name\":\"\",\"showlegend\":false,\"subplot\":\"mapbox\",\"type\":\"scattermapbox\"}],\"name\":\"2009-07-31\"},{\"data\":[{\"customdata\":[[\"Vegetationsbrand\"],[\"Vegetationsbrand\"],[\"Vegetationsbrand\"],[\"Vegetationsbrand\"]],\"hovertemplate\":\"Datum=2009-08-01<br>Feuerintensit\\u00e4t=%{marker.color}<br>Breitengrad=%{lat}<br>L\\u00e4ngengrad=%{lon}<br>Typ=%{customdata[0]}<extra></extra>\",\"lat\":[51.4897,47.6843,47.6685,47.6732],\"legendgroup\":\"\",\"lon\":[6.712,9.4938,9.5105,9.4887],\"marker\":{\"color\":[11.0,17.2,33.8,14.3],\"coloraxis\":\"coloraxis\",\"opacity\":0.5,\"size\":[11.0,17.2,33.8,14.3],\"sizemode\":\"area\",\"sizeref\":0.6502500000000001},\"mode\":\"markers\",\"name\":\"\",\"showlegend\":false,\"subplot\":\"mapbox\",\"type\":\"scattermapbox\"}],\"name\":\"2009-08-01\"},{\"data\":[{\"customdata\":[[\"Vegetationsbrand\"]],\"hovertemplate\":\"Datum=2009-08-04<br>Feuerintensit\\u00e4t=%{marker.color}<br>Breitengrad=%{lat}<br>L\\u00e4ngengrad=%{lon}<br>Typ=%{customdata[0]}<extra></extra>\",\"lat\":[53.5152],\"legendgroup\":\"\",\"lon\":[10.0341],\"marker\":{\"color\":[5.3],\"coloraxis\":\"coloraxis\",\"opacity\":0.5,\"size\":[5.3],\"sizemode\":\"area\",\"sizeref\":0.6502500000000001},\"mode\":\"markers\",\"name\":\"\",\"showlegend\":false,\"subplot\":\"mapbox\",\"type\":\"scattermapbox\"}],\"name\":\"2009-08-04\"},{\"data\":[{\"customdata\":[[\"Vegetationsbrand\"],[\"Vegetationsbrand\"],[\"Vegetationsbrand\"],[\"Vegetationsbrand\"],[\"Vegetationsbrand\"],[\"Vegetationsbrand\"],[\"Vegetationsbrand\"],[\"Vegetationsbrand\"],[\"Vegetationsbrand\"]],\"hovertemplate\":\"Datum=2009-08-05<br>Feuerintensit\\u00e4t=%{marker.color}<br>Breitengrad=%{lat}<br>L\\u00e4ngengrad=%{lon}<br>Typ=%{customdata[0]}<extra></extra>\",\"lat\":[53.9447,50.9158,48.0872,48.3938,48.0721,49.8125,52.7341,51.0244,52.1737],\"legendgroup\":\"\",\"lon\":[10.2007,11.8189,9.8087,10.0447,10.1338,9.029,7.218,8.6727,10.413],\"marker\":{\"color\":[6.7,4.8,6.2,9.2,5.1,7.4,12.9,7.1,53.2],\"coloraxis\":\"coloraxis\",\"opacity\":0.5,\"size\":[6.7,4.8,6.2,9.2,5.1,7.4,12.9,7.1,53.2],\"sizemode\":\"area\",\"sizeref\":0.6502500000000001},\"mode\":\"markers\",\"name\":\"\",\"showlegend\":false,\"subplot\":\"mapbox\",\"type\":\"scattermapbox\"}],\"name\":\"2009-08-05\"},{\"data\":[{\"customdata\":[[\"Vegetationsbrand\"],[\"Vegetationsbrand\"],[\"Vegetationsbrand\"],[\"Vegetationsbrand\"]],\"hovertemplate\":\"Datum=2009-08-06<br>Feuerintensit\\u00e4t=%{marker.color}<br>Breitengrad=%{lat}<br>L\\u00e4ngengrad=%{lon}<br>Typ=%{customdata[0]}<extra></extra>\",\"lat\":[53.1398,51.3712,52.1554,51.4877],\"legendgroup\":\"\",\"lon\":[8.681,6.7084,10.3943,6.71],\"marker\":{\"color\":[6.7,18.8,8.0,19.9],\"coloraxis\":\"coloraxis\",\"opacity\":0.5,\"size\":[6.7,18.8,8.0,19.9],\"sizemode\":\"area\",\"sizeref\":0.6502500000000001},\"mode\":\"markers\",\"name\":\"\",\"showlegend\":false,\"subplot\":\"mapbox\",\"type\":\"scattermapbox\"}],\"name\":\"2009-08-06\"},{\"data\":[{\"customdata\":[[\"Vegetationsbrand\"],[\"Vegetationsbrand\"],[\"Vegetationsbrand\"],[\"Vegetationsbrand\"],[\"Vegetationsbrand\"],[\"Vegetationsbrand\"],[\"Vegetationsbrand\"],[\"Vegetationsbrand\"],[\"Vegetationsbrand\"]],\"hovertemplate\":\"Datum=2009-08-07<br>Feuerintensit\\u00e4t=%{marker.color}<br>Breitengrad=%{lat}<br>L\\u00e4ngengrad=%{lon}<br>Typ=%{customdata[0]}<extra></extra>\",\"lat\":[52.8,52.2088,51.3709,52.4076,52.4057,49.3315,48.4298,53.52,52.156],\"legendgroup\":\"\",\"lon\":[8.6091,8.0464,6.7074,9.8141,9.8303,11.0313,13.3314,9.9093,10.3963],\"marker\":{\"color\":[16.2,11.8,19.8,10.1,10.6,9.0,7.3,9.7,16.0],\"coloraxis\":\"coloraxis\",\"opacity\":0.5,\"size\":[16.2,11.8,19.8,10.1,10.6,9.0,7.3,9.7,16.0],\"sizemode\":\"area\",\"sizeref\":0.6502500000000001},\"mode\":\"markers\",\"name\":\"\",\"showlegend\":false,\"subplot\":\"mapbox\",\"type\":\"scattermapbox\"}],\"name\":\"2009-08-07\"},{\"data\":[{\"customdata\":[[\"Vegetationsbrand\"],[\"Vegetationsbrand\"]],\"hovertemplate\":\"Datum=2009-08-11<br>Feuerintensit\\u00e4t=%{marker.color}<br>Breitengrad=%{lat}<br>L\\u00e4ngengrad=%{lon}<br>Typ=%{customdata[0]}<extra></extra>\",\"lat\":[53.5193,53.5214],\"legendgroup\":\"\",\"lon\":[9.8948,9.9096],\"marker\":{\"color\":[10.3,11.8],\"coloraxis\":\"coloraxis\",\"opacity\":0.5,\"size\":[10.3,11.8],\"sizemode\":\"area\",\"sizeref\":0.6502500000000001},\"mode\":\"markers\",\"name\":\"\",\"showlegend\":false,\"subplot\":\"mapbox\",\"type\":\"scattermapbox\"}],\"name\":\"2009-08-11\"},{\"data\":[{\"customdata\":[[\"Vegetationsbrand\"],[\"Vegetationsbrand\"],[\"Vegetationsbrand\"],[\"Vegetationsbrand\"],[\"Vegetationsbrand\"]],\"hovertemplate\":\"Datum=2009-08-12<br>Feuerintensit\\u00e4t=%{marker.color}<br>Breitengrad=%{lat}<br>L\\u00e4ngengrad=%{lon}<br>Typ=%{customdata[0]}<extra></extra>\",\"lat\":[49.3545,49.2455,47.7586,48.7807,49.2449],\"legendgroup\":\"\",\"lon\":[6.7436,6.8566,8.8578,9.2382,6.8426],\"marker\":{\"color\":[6.3,6.7,8.2,6.5,6.6],\"coloraxis\":\"coloraxis\",\"opacity\":0.5,\"size\":[6.3,6.7,8.2,6.5,6.6],\"sizemode\":\"area\",\"sizeref\":0.6502500000000001},\"mode\":\"markers\",\"name\":\"\",\"showlegend\":false,\"subplot\":\"mapbox\",\"type\":\"scattermapbox\"}],\"name\":\"2009-08-12\"},{\"data\":[{\"customdata\":[[\"Vegetationsbrand\"],[\"Vegetationsbrand\"],[\"Vegetationsbrand\"],[\"Vegetationsbrand\"],[\"Vegetationsbrand\"]],\"hovertemplate\":\"Datum=2009-08-13<br>Feuerintensit\\u00e4t=%{marker.color}<br>Breitengrad=%{lat}<br>L\\u00e4ngengrad=%{lon}<br>Typ=%{customdata[0]}<extra></extra>\",\"lat\":[51.4974,51.4908,53.6029,53.6013,53.6129],\"legendgroup\":\"\",\"lon\":[6.7432,6.7251,9.8905,9.8958,9.8879],\"marker\":{\"color\":[5.3,10.5,25.0,26.2,43.3],\"coloraxis\":\"coloraxis\",\"opacity\":0.5,\"size\":[5.3,10.5,25.0,26.2,43.3],\"sizemode\":\"area\",\"sizeref\":0.6502500000000001},\"mode\":\"markers\",\"name\":\"\",\"showlegend\":false,\"subplot\":\"mapbox\",\"type\":\"scattermapbox\"}],\"name\":\"2009-08-13\"},{\"data\":[{\"customdata\":[[\"Vegetationsbrand\"],[\"Vegetationsbrand\"]],\"hovertemplate\":\"Datum=2009-08-14<br>Feuerintensit\\u00e4t=%{marker.color}<br>Breitengrad=%{lat}<br>L\\u00e4ngengrad=%{lon}<br>Typ=%{customdata[0]}<extra></extra>\",\"lat\":[49.6821,49.3578],\"legendgroup\":\"\",\"lon\":[9.972,6.7443],\"marker\":{\"color\":[9.7,8.3],\"coloraxis\":\"coloraxis\",\"opacity\":0.5,\"size\":[9.7,8.3],\"sizemode\":\"area\",\"sizeref\":0.6502500000000001},\"mode\":\"markers\",\"name\":\"\",\"showlegend\":false,\"subplot\":\"mapbox\",\"type\":\"scattermapbox\"}],\"name\":\"2009-08-14\"},{\"data\":[{\"customdata\":[[\"Vegetationsbrand\"],[\"Vegetationsbrand\"]],\"hovertemplate\":\"Datum=2009-08-15<br>Feuerintensit\\u00e4t=%{marker.color}<br>Breitengrad=%{lat}<br>L\\u00e4ngengrad=%{lon}<br>Typ=%{customdata[0]}<extra></extra>\",\"lat\":[51.4879,53.1398],\"legendgroup\":\"\",\"lon\":[6.71,8.6844],\"marker\":{\"color\":[8.2,8.2],\"coloraxis\":\"coloraxis\",\"opacity\":0.5,\"size\":[8.2,8.2],\"sizemode\":\"area\",\"sizeref\":0.6502500000000001},\"mode\":\"markers\",\"name\":\"\",\"showlegend\":false,\"subplot\":\"mapbox\",\"type\":\"scattermapbox\"}],\"name\":\"2009-08-15\"},{\"data\":[{\"customdata\":[[\"Vegetationsbrand\"],[\"Vegetationsbrand\"],[\"Vegetationsbrand\"],[\"Vegetationsbrand\"],[\"Vegetationsbrand\"],[\"Vegetationsbrand\"]],\"hovertemplate\":\"Datum=2009-08-16<br>Feuerintensit\\u00e4t=%{marker.color}<br>Breitengrad=%{lat}<br>L\\u00e4ngengrad=%{lon}<br>Typ=%{customdata[0]}<extra></extra>\",\"lat\":[48.4299,48.8921,54.0164,54.0136,52.5149,49.3614],\"legendgroup\":\"\",\"lon\":[13.3253,12.6552,9.0718,9.0557,13.7303,6.7453],\"marker\":{\"color\":[8.5,10.0,12.8,15.9,6.9,5.1],\"coloraxis\":\"coloraxis\",\"opacity\":0.5,\"size\":[8.5,10.0,12.8,15.9,6.9,5.1],\"sizemode\":\"area\",\"sizeref\":0.6502500000000001},\"mode\":\"markers\",\"name\":\"\",\"showlegend\":false,\"subplot\":\"mapbox\",\"type\":\"scattermapbox\"}],\"name\":\"2009-08-16\"},{\"data\":[{\"customdata\":[[\"Vegetationsbrand\"]],\"hovertemplate\":\"Datum=2009-08-17<br>Feuerintensit\\u00e4t=%{marker.color}<br>Breitengrad=%{lat}<br>L\\u00e4ngengrad=%{lon}<br>Typ=%{customdata[0]}<extra></extra>\",\"lat\":[49.3559],\"legendgroup\":\"\",\"lon\":[6.7478],\"marker\":{\"color\":[13.0],\"coloraxis\":\"coloraxis\",\"opacity\":0.5,\"size\":[13.0],\"sizemode\":\"area\",\"sizeref\":0.6502500000000001},\"mode\":\"markers\",\"name\":\"\",\"showlegend\":false,\"subplot\":\"mapbox\",\"type\":\"scattermapbox\"}],\"name\":\"2009-08-17\"},{\"data\":[{\"customdata\":[[\"Vegetationsbrand\"],[\"Vegetationsbrand\"]],\"hovertemplate\":\"Datum=2009-08-18<br>Feuerintensit\\u00e4t=%{marker.color}<br>Breitengrad=%{lat}<br>L\\u00e4ngengrad=%{lon}<br>Typ=%{customdata[0]}<extra></extra>\",\"lat\":[51.0544,51.0488],\"legendgroup\":\"\",\"lon\":[11.3842,11.3768],\"marker\":{\"color\":[9.6,7.3],\"coloraxis\":\"coloraxis\",\"opacity\":0.5,\"size\":[9.6,7.3],\"sizemode\":\"area\",\"sizeref\":0.6502500000000001},\"mode\":\"markers\",\"name\":\"\",\"showlegend\":false,\"subplot\":\"mapbox\",\"type\":\"scattermapbox\"}],\"name\":\"2009-08-18\"},{\"data\":[{\"customdata\":[[\"Vegetationsbrand\"],[\"Vegetationsbrand\"],[\"Vegetationsbrand\"],[\"Vegetationsbrand\"],[\"Vegetationsbrand\"]],\"hovertemplate\":\"Datum=2009-08-19<br>Feuerintensit\\u00e4t=%{marker.color}<br>Breitengrad=%{lat}<br>L\\u00e4ngengrad=%{lon}<br>Typ=%{customdata[0]}<extra></extra>\",\"lat\":[51.1244,51.354,51.3509,49.3582,49.8207],\"legendgroup\":\"\",\"lon\":[11.1489,10.6926,10.709,6.746,9.0258],\"marker\":{\"color\":[14.1,19.0,38.4,9.7,8.7],\"coloraxis\":\"coloraxis\",\"opacity\":0.5,\"size\":[14.1,19.0,38.4,9.7,8.7],\"sizemode\":\"area\",\"sizeref\":0.6502500000000001},\"mode\":\"markers\",\"name\":\"\",\"showlegend\":false,\"subplot\":\"mapbox\",\"type\":\"scattermapbox\"}],\"name\":\"2009-08-19\"},{\"data\":[{\"customdata\":[[\"Vegetationsbrand\"],[\"Vegetationsbrand\"],[\"Vegetationsbrand\"],[\"Vegetationsbrand\"],[\"Vegetationsbrand\"]],\"hovertemplate\":\"Datum=2009-08-20<br>Feuerintensit\\u00e4t=%{marker.color}<br>Breitengrad=%{lat}<br>L\\u00e4ngengrad=%{lon}<br>Typ=%{customdata[0]}<extra></extra>\",\"lat\":[50.8632,50.8604,51.8622,51.855,51.8515],\"legendgroup\":\"\",\"lon\":[6.6144,6.63,13.8471,13.8574,13.839],\"marker\":{\"color\":[7.1,5.8,20.1,11.8,12.0],\"coloraxis\":\"coloraxis\",\"opacity\":0.5,\"size\":[7.1,5.8,20.1,11.8,12.0],\"sizemode\":\"area\",\"sizeref\":0.6502500000000001},\"mode\":\"markers\",\"name\":\"\",\"showlegend\":false,\"subplot\":\"mapbox\",\"type\":\"scattermapbox\"}],\"name\":\"2009-08-20\"},{\"data\":[{\"customdata\":[[\"Vegetationsbrand\"],[\"Vegetationsbrand\"]],\"hovertemplate\":\"Datum=2009-08-21<br>Feuerintensit\\u00e4t=%{marker.color}<br>Breitengrad=%{lat}<br>L\\u00e4ngengrad=%{lon}<br>Typ=%{customdata[0]}<extra></extra>\",\"lat\":[51.4881,52.2261],\"legendgroup\":\"\",\"lon\":[6.7121,7.4879],\"marker\":{\"color\":[11.2,2.7],\"coloraxis\":\"coloraxis\",\"opacity\":0.5,\"size\":[11.2,2.7],\"sizemode\":\"area\",\"sizeref\":0.6502500000000001},\"mode\":\"markers\",\"name\":\"\",\"showlegend\":false,\"subplot\":\"mapbox\",\"type\":\"scattermapbox\"}],\"name\":\"2009-08-21\"},{\"data\":[{\"customdata\":[[\"Vegetationsbrand\"],[\"Vegetationsbrand\"],[\"Vegetationsbrand\"],[\"Vegetationsbrand\"]],\"hovertemplate\":\"Datum=2009-08-23<br>Feuerintensit\\u00e4t=%{marker.color}<br>Breitengrad=%{lat}<br>L\\u00e4ngengrad=%{lon}<br>Typ=%{customdata[0]}<extra></extra>\",\"lat\":[49.3561,48.0875,51.5584,53.1912],\"legendgroup\":\"\",\"lon\":[6.7437,9.8024,14.2908,7.2611],\"marker\":{\"color\":[9.1,4.5,4.3,5.3],\"coloraxis\":\"coloraxis\",\"opacity\":0.5,\"size\":[9.1,4.5,4.3,5.3],\"sizemode\":\"area\",\"sizeref\":0.6502500000000001},\"mode\":\"markers\",\"name\":\"\",\"showlegend\":false,\"subplot\":\"mapbox\",\"type\":\"scattermapbox\"}],\"name\":\"2009-08-23\"},{\"data\":[{\"customdata\":[[\"Vegetationsbrand\"],[\"Vegetationsbrand\"],[\"Vegetationsbrand\"]],\"hovertemplate\":\"Datum=2009-08-24<br>Feuerintensit\\u00e4t=%{marker.color}<br>Breitengrad=%{lat}<br>L\\u00e4ngengrad=%{lon}<br>Typ=%{customdata[0]}<extra></extra>\",\"lat\":[48.9889,48.9817,52.155],\"legendgroup\":\"\",\"lon\":[12.1832,12.1842,10.3887],\"marker\":{\"color\":[20.4,22.3,9.2],\"coloraxis\":\"coloraxis\",\"opacity\":0.5,\"size\":[20.4,22.3,9.2],\"sizemode\":\"area\",\"sizeref\":0.6502500000000001},\"mode\":\"markers\",\"name\":\"\",\"showlegend\":false,\"subplot\":\"mapbox\",\"type\":\"scattermapbox\"}],\"name\":\"2009-08-24\"},{\"data\":[{\"customdata\":[[\"Vegetationsbrand\"],[\"Vegetationsbrand\"],[\"Vegetationsbrand\"]],\"hovertemplate\":\"Datum=2009-08-25<br>Feuerintensit\\u00e4t=%{marker.color}<br>Breitengrad=%{lat}<br>L\\u00e4ngengrad=%{lon}<br>Typ=%{customdata[0]}<extra></extra>\",\"lat\":[51.4884,51.1104,51.1126],\"legendgroup\":\"\",\"lon\":[6.708,6.3059,6.32],\"marker\":{\"color\":[8.0,10.2,7.3],\"coloraxis\":\"coloraxis\",\"opacity\":0.5,\"size\":[8.0,10.2,7.3],\"sizemode\":\"area\",\"sizeref\":0.6502500000000001},\"mode\":\"markers\",\"name\":\"\",\"showlegend\":false,\"subplot\":\"mapbox\",\"type\":\"scattermapbox\"}],\"name\":\"2009-08-25\"},{\"data\":[{\"customdata\":[[\"Vegetationsbrand\"],[\"Vegetationsbrand\"]],\"hovertemplate\":\"Datum=2009-08-26<br>Feuerintensit\\u00e4t=%{marker.color}<br>Breitengrad=%{lat}<br>L\\u00e4ngengrad=%{lon}<br>Typ=%{customdata[0]}<extra></extra>\",\"lat\":[48.7591,49.2409],\"legendgroup\":\"\",\"lon\":[11.7143,6.8518],\"marker\":{\"color\":[9.4,7.2],\"coloraxis\":\"coloraxis\",\"opacity\":0.5,\"size\":[9.4,7.2],\"sizemode\":\"area\",\"sizeref\":0.6502500000000001},\"mode\":\"markers\",\"name\":\"\",\"showlegend\":false,\"subplot\":\"mapbox\",\"type\":\"scattermapbox\"}],\"name\":\"2009-08-26\"},{\"data\":[{\"customdata\":[[\"Vegetationsbrand\"]],\"hovertemplate\":\"Datum=2009-08-27<br>Feuerintensit\\u00e4t=%{marker.color}<br>Breitengrad=%{lat}<br>L\\u00e4ngengrad=%{lon}<br>Typ=%{customdata[0]}<extra></extra>\",\"lat\":[52.8352],\"legendgroup\":\"\",\"lon\":[9.8517],\"marker\":{\"color\":[18.5],\"coloraxis\":\"coloraxis\",\"opacity\":0.5,\"size\":[18.5],\"sizemode\":\"area\",\"sizeref\":0.6502500000000001},\"mode\":\"markers\",\"name\":\"\",\"showlegend\":false,\"subplot\":\"mapbox\",\"type\":\"scattermapbox\"}],\"name\":\"2009-08-27\"},{\"data\":[{\"customdata\":[[\"Vegetationsbrand\"]],\"hovertemplate\":\"Datum=2009-08-28<br>Feuerintensit\\u00e4t=%{marker.color}<br>Breitengrad=%{lat}<br>L\\u00e4ngengrad=%{lon}<br>Typ=%{customdata[0]}<extra></extra>\",\"lat\":[52.2043],\"legendgroup\":\"\",\"lon\":[8.0407],\"marker\":{\"color\":[5.3],\"coloraxis\":\"coloraxis\",\"opacity\":0.5,\"size\":[5.3],\"sizemode\":\"area\",\"sizeref\":0.6502500000000001},\"mode\":\"markers\",\"name\":\"\",\"showlegend\":false,\"subplot\":\"mapbox\",\"type\":\"scattermapbox\"}],\"name\":\"2009-08-28\"},{\"data\":[{\"customdata\":[[\"Vegetationsbrand\"],[\"Vegetationsbrand\"]],\"hovertemplate\":\"Datum=2009-08-29<br>Feuerintensit\\u00e4t=%{marker.color}<br>Breitengrad=%{lat}<br>L\\u00e4ngengrad=%{lon}<br>Typ=%{customdata[0]}<extra></extra>\",\"lat\":[53.1392,52.1549],\"legendgroup\":\"\",\"lon\":[8.6861,14.0906],\"marker\":{\"color\":[8.1,10.3],\"coloraxis\":\"coloraxis\",\"opacity\":0.5,\"size\":[8.1,10.3],\"sizemode\":\"area\",\"sizeref\":0.6502500000000001},\"mode\":\"markers\",\"name\":\"\",\"showlegend\":false,\"subplot\":\"mapbox\",\"type\":\"scattermapbox\"}],\"name\":\"2009-08-29\"},{\"data\":[{\"customdata\":[[\"Vegetationsbrand\"],[\"Vegetationsbrand\"],[\"Vegetationsbrand\"],[\"Vegetationsbrand\"],[\"Vegetationsbrand\"],[\"Vegetationsbrand\"],[\"Vegetationsbrand\"],[\"Vegetationsbrand\"],[\"Vegetationsbrand\"]],\"hovertemplate\":\"Datum=2009-08-30<br>Feuerintensit\\u00e4t=%{marker.color}<br>Breitengrad=%{lat}<br>L\\u00e4ngengrad=%{lon}<br>Typ=%{customdata[0]}<extra></extra>\",\"lat\":[48.2159,48.2137,48.0833,48.1938,48.1961,48.4682,47.7543,48.5242,49.8556],\"legendgroup\":\"\",\"lon\":[11.4681,11.4817,9.8015,11.6042,11.5905,11.9411,8.8611,9.3354,7.8879],\"marker\":{\"color\":[5.4,5.3,4.6,7.9,8.1,9.1,7.2,7.3,8.2],\"coloraxis\":\"coloraxis\",\"opacity\":0.5,\"size\":[5.4,5.3,4.6,7.9,8.1,9.1,7.2,7.3,8.2],\"sizemode\":\"area\",\"sizeref\":0.6502500000000001},\"mode\":\"markers\",\"name\":\"\",\"showlegend\":false,\"subplot\":\"mapbox\",\"type\":\"scattermapbox\"}],\"name\":\"2009-08-30\"},{\"data\":[{\"customdata\":[[\"Vegetationsbrand\"],[\"Vegetationsbrand\"]],\"hovertemplate\":\"Datum=2009-08-31<br>Feuerintensit\\u00e4t=%{marker.color}<br>Breitengrad=%{lat}<br>L\\u00e4ngengrad=%{lon}<br>Typ=%{customdata[0]}<extra></extra>\",\"lat\":[51.49,51.3558],\"legendgroup\":\"\",\"lon\":[6.713,6.2054],\"marker\":{\"color\":[10.0,7.3],\"coloraxis\":\"coloraxis\",\"opacity\":0.5,\"size\":[10.0,7.3],\"sizemode\":\"area\",\"sizeref\":0.6502500000000001},\"mode\":\"markers\",\"name\":\"\",\"showlegend\":false,\"subplot\":\"mapbox\",\"type\":\"scattermapbox\"}],\"name\":\"2009-08-31\"},{\"data\":[{\"customdata\":[[\"Vegetationsbrand\"],[\"Vegetationsbrand\"],[\"Vegetationsbrand\"],[\"Vegetationsbrand\"],[\"Vegetationsbrand\"],[\"Vegetationsbrand\"],[\"Vegetationsbrand\"],[\"Vegetationsbrand\"],[\"Vegetationsbrand\"]],\"hovertemplate\":\"Datum=2009-09-01<br>Feuerintensit\\u00e4t=%{marker.color}<br>Breitengrad=%{lat}<br>L\\u00e4ngengrad=%{lon}<br>Typ=%{customdata[0]}<extra></extra>\",\"lat\":[48.0857,49.9952,51.5448,51.2374,51.2396,49.9919,52.6356,52.9436,52.6334],\"legendgroup\":\"\",\"lon\":[9.7965,9.1962,9.9268,11.9592,11.9735,9.179,12.1819,10.0781,12.1674],\"marker\":{\"color\":[7.5,10.3,12.1,9.4,29.3,9.2,89.6,19.1,38.4],\"coloraxis\":\"coloraxis\",\"opacity\":0.5,\"size\":[7.5,10.3,12.1,9.4,29.3,9.2,89.6,19.1,38.4],\"sizemode\":\"area\",\"sizeref\":0.6502500000000001},\"mode\":\"markers\",\"name\":\"\",\"showlegend\":false,\"subplot\":\"mapbox\",\"type\":\"scattermapbox\"}],\"name\":\"2009-09-01\"},{\"data\":[{\"customdata\":[[\"Vegetationsbrand\"]],\"hovertemplate\":\"Datum=2009-09-02<br>Feuerintensit\\u00e4t=%{marker.color}<br>Breitengrad=%{lat}<br>L\\u00e4ngengrad=%{lon}<br>Typ=%{customdata[0]}<extra></extra>\",\"lat\":[53.1397],\"legendgroup\":\"\",\"lon\":[8.6906],\"marker\":{\"color\":[8.0],\"coloraxis\":\"coloraxis\",\"opacity\":0.5,\"size\":[8.0],\"sizemode\":\"area\",\"sizeref\":0.6502500000000001},\"mode\":\"markers\",\"name\":\"\",\"showlegend\":false,\"subplot\":\"mapbox\",\"type\":\"scattermapbox\"}],\"name\":\"2009-09-02\"},{\"data\":[{\"customdata\":[[\"Vegetationsbrand\"]],\"hovertemplate\":\"Datum=2009-09-04<br>Feuerintensit\\u00e4t=%{marker.color}<br>Breitengrad=%{lat}<br>L\\u00e4ngengrad=%{lon}<br>Typ=%{customdata[0]}<extra></extra>\",\"lat\":[53.1036],\"legendgroup\":\"\",\"lon\":[7.3771],\"marker\":{\"color\":[5.1],\"coloraxis\":\"coloraxis\",\"opacity\":0.5,\"size\":[5.1],\"sizemode\":\"area\",\"sizeref\":0.6502500000000001},\"mode\":\"markers\",\"name\":\"\",\"showlegend\":false,\"subplot\":\"mapbox\",\"type\":\"scattermapbox\"}],\"name\":\"2009-09-04\"},{\"data\":[{\"customdata\":[[\"Vegetationsbrand\"],[\"Vegetationsbrand\"]],\"hovertemplate\":\"Datum=2009-09-05<br>Feuerintensit\\u00e4t=%{marker.color}<br>Breitengrad=%{lat}<br>L\\u00e4ngengrad=%{lon}<br>Typ=%{customdata[0]}<extra></extra>\",\"lat\":[52.1547,51.4883],\"legendgroup\":\"\",\"lon\":[10.3954,6.7174],\"marker\":{\"color\":[9.2,9.7],\"coloraxis\":\"coloraxis\",\"opacity\":0.5,\"size\":[9.2,9.7],\"sizemode\":\"area\",\"sizeref\":0.6502500000000001},\"mode\":\"markers\",\"name\":\"\",\"showlegend\":false,\"subplot\":\"mapbox\",\"type\":\"scattermapbox\"}],\"name\":\"2009-09-05\"},{\"data\":[{\"customdata\":[[\"Vegetationsbrand\"]],\"hovertemplate\":\"Datum=2009-09-06<br>Feuerintensit\\u00e4t=%{marker.color}<br>Breitengrad=%{lat}<br>L\\u00e4ngengrad=%{lon}<br>Typ=%{customdata[0]}<extra></extra>\",\"lat\":[48.5921],\"legendgroup\":\"\",\"lon\":[7.8179],\"marker\":{\"color\":[6.2],\"coloraxis\":\"coloraxis\",\"opacity\":0.5,\"size\":[6.2],\"sizemode\":\"area\",\"sizeref\":0.6502500000000001},\"mode\":\"markers\",\"name\":\"\",\"showlegend\":false,\"subplot\":\"mapbox\",\"type\":\"scattermapbox\"}],\"name\":\"2009-09-06\"},{\"data\":[{\"customdata\":[[\"Vegetationsbrand\"]],\"hovertemplate\":\"Datum=2009-09-07<br>Feuerintensit\\u00e4t=%{marker.color}<br>Breitengrad=%{lat}<br>L\\u00e4ngengrad=%{lon}<br>Typ=%{customdata[0]}<extra></extra>\",\"lat\":[49.2394],\"legendgroup\":\"\",\"lon\":[6.8536],\"marker\":{\"color\":[12.7],\"coloraxis\":\"coloraxis\",\"opacity\":0.5,\"size\":[12.7],\"sizemode\":\"area\",\"sizeref\":0.6502500000000001},\"mode\":\"markers\",\"name\":\"\",\"showlegend\":false,\"subplot\":\"mapbox\",\"type\":\"scattermapbox\"}],\"name\":\"2009-09-07\"},{\"data\":[{\"customdata\":[[\"Vegetationsbrand\"],[\"Vegetationsbrand\"],[\"Vegetationsbrand\"],[\"Vegetationsbrand\"],[\"Vegetationsbrand\"],[\"Vegetationsbrand\"],[\"Vegetationsbrand\"],[\"Vegetationsbrand\"],[\"Vegetationsbrand\"],[\"Vegetationsbrand\"],[\"Vegetationsbrand\"],[\"Vegetationsbrand\"],[\"Vegetationsbrand\"]],\"hovertemplate\":\"Datum=2009-09-08<br>Feuerintensit\\u00e4t=%{marker.color}<br>Breitengrad=%{lat}<br>L\\u00e4ngengrad=%{lon}<br>Typ=%{customdata[0]}<extra></extra>\",\"lat\":[52.9461,51.3304,51.3236,49.0584,49.1662,48.4694,48.0852,50.0386,53.5175,52.5584,52.9547,53.4608,53.5152],\"legendgroup\":\"\",\"lon\":[10.0644,12.6614,12.644,10.0628,9.9203,11.9419,9.8026,8.5298,9.9062,7.4958,10.0765,10.2047,9.8913],\"marker\":{\"color\":[8.3,12.0,8.4,22.9,5.2,6.3,5.1,7.2,10.9,4.6,9.5,3.9,4.5],\"coloraxis\":\"coloraxis\",\"opacity\":0.5,\"size\":[8.3,12.0,8.4,22.9,5.2,6.3,5.1,7.2,10.9,4.6,9.5,3.9,4.5],\"sizemode\":\"area\",\"sizeref\":0.6502500000000001},\"mode\":\"markers\",\"name\":\"\",\"showlegend\":false,\"subplot\":\"mapbox\",\"type\":\"scattermapbox\"}],\"name\":\"2009-09-08\"},{\"data\":[{\"customdata\":[[\"Vegetationsbrand\"],[\"Vegetationsbrand\"],[\"Vegetationsbrand\"]],\"hovertemplate\":\"Datum=2009-09-09<br>Feuerintensit\\u00e4t=%{marker.color}<br>Breitengrad=%{lat}<br>L\\u00e4ngengrad=%{lon}<br>Typ=%{customdata[0]}<extra></extra>\",\"lat\":[51.5708,53.472,51.0196],\"legendgroup\":\"\",\"lon\":[7.3505,10.1141,6.8468],\"marker\":{\"color\":[6.8,5.3,25.3],\"coloraxis\":\"coloraxis\",\"opacity\":0.5,\"size\":[6.8,5.3,25.3],\"sizemode\":\"area\",\"sizeref\":0.6502500000000001},\"mode\":\"markers\",\"name\":\"\",\"showlegend\":false,\"subplot\":\"mapbox\",\"type\":\"scattermapbox\"}],\"name\":\"2009-09-09\"},{\"data\":[{\"customdata\":[[\"Vegetationsbrand\"],[\"Vegetationsbrand\"]],\"hovertemplate\":\"Datum=2009-09-10<br>Feuerintensit\\u00e4t=%{marker.color}<br>Breitengrad=%{lat}<br>L\\u00e4ngengrad=%{lon}<br>Typ=%{customdata[0]}<extra></extra>\",\"lat\":[48.3596,51.5001],\"legendgroup\":\"\",\"lon\":[11.9558,12.6678],\"marker\":{\"color\":[6.4,9.2],\"coloraxis\":\"coloraxis\",\"opacity\":0.5,\"size\":[6.4,9.2],\"sizemode\":\"area\",\"sizeref\":0.6502500000000001},\"mode\":\"markers\",\"name\":\"\",\"showlegend\":false,\"subplot\":\"mapbox\",\"type\":\"scattermapbox\"}],\"name\":\"2009-09-10\"},{\"data\":[{\"customdata\":[[\"Vegetationsbrand\"],[\"Vegetationsbrand\"],[\"Vegetationsbrand\"],[\"Vegetationsbrand\"]],\"hovertemplate\":\"Datum=2009-09-12<br>Feuerintensit\\u00e4t=%{marker.color}<br>Breitengrad=%{lat}<br>L\\u00e4ngengrad=%{lon}<br>Typ=%{customdata[0]}<extra></extra>\",\"lat\":[49.2987,51.9568,51.5164,51.4961],\"legendgroup\":\"\",\"lon\":[8.9753,13.9866,6.9744,6.7463],\"marker\":{\"color\":[7.0,6.4,7.2,6.2],\"coloraxis\":\"coloraxis\",\"opacity\":0.5,\"size\":[7.0,6.4,7.2,6.2],\"sizemode\":\"area\",\"sizeref\":0.6502500000000001},\"mode\":\"markers\",\"name\":\"\",\"showlegend\":false,\"subplot\":\"mapbox\",\"type\":\"scattermapbox\"}],\"name\":\"2009-09-12\"},{\"data\":[{\"customdata\":[[\"Vegetationsbrand\"],[\"Vegetationsbrand\"],[\"Vegetationsbrand\"],[\"Vegetationsbrand\"]],\"hovertemplate\":\"Datum=2009-09-13<br>Feuerintensit\\u00e4t=%{marker.color}<br>Breitengrad=%{lat}<br>L\\u00e4ngengrad=%{lon}<br>Typ=%{customdata[0]}<extra></extra>\",\"lat\":[49.0194,48.2095,48.3025,53.5103],\"legendgroup\":\"\",\"lon\":[8.3333,9.003,10.1467,10.0323],\"marker\":{\"color\":[3.9,9.2,4.1,5.7],\"coloraxis\":\"coloraxis\",\"opacity\":0.5,\"size\":[3.9,9.2,4.1,5.7],\"sizemode\":\"area\",\"sizeref\":0.6502500000000001},\"mode\":\"markers\",\"name\":\"\",\"showlegend\":false,\"subplot\":\"mapbox\",\"type\":\"scattermapbox\"}],\"name\":\"2009-09-13\"},{\"data\":[{\"customdata\":[[\"Vegetationsbrand\"],[\"Vegetationsbrand\"],[\"Vegetationsbrand\"],[\"Vegetationsbrand\"],[\"Vegetationsbrand\"]],\"hovertemplate\":\"Datum=2009-09-17<br>Feuerintensit\\u00e4t=%{marker.color}<br>Breitengrad=%{lat}<br>L\\u00e4ngengrad=%{lon}<br>Typ=%{customdata[0]}<extra></extra>\",\"lat\":[53.5163,52.6971,52.2718,53.5002,53.0541],\"legendgroup\":\"\",\"lon\":[9.8966,12.7939,10.4935,9.9716,10.1117],\"marker\":{\"color\":[5.1,3.2,2.4,1.7,5.3],\"coloraxis\":\"coloraxis\",\"opacity\":0.5,\"size\":[5.1,3.2,2.4,1.7,5.3],\"sizemode\":\"area\",\"sizeref\":0.6502500000000001},\"mode\":\"markers\",\"name\":\"\",\"showlegend\":false,\"subplot\":\"mapbox\",\"type\":\"scattermapbox\"}],\"name\":\"2009-09-17\"},{\"data\":[{\"customdata\":[[\"Vegetationsbrand\"],[\"Vegetationsbrand\"]],\"hovertemplate\":\"Datum=2009-09-18<br>Feuerintensit\\u00e4t=%{marker.color}<br>Breitengrad=%{lat}<br>L\\u00e4ngengrad=%{lon}<br>Typ=%{customdata[0]}<extra></extra>\",\"lat\":[53.5193,52.9153],\"legendgroup\":\"\",\"lon\":[9.9119,9.0541],\"marker\":{\"color\":[8.6,4.6],\"coloraxis\":\"coloraxis\",\"opacity\":0.5,\"size\":[8.6,4.6],\"sizemode\":\"area\",\"sizeref\":0.6502500000000001},\"mode\":\"markers\",\"name\":\"\",\"showlegend\":false,\"subplot\":\"mapbox\",\"type\":\"scattermapbox\"}],\"name\":\"2009-09-18\"},{\"data\":[{\"customdata\":[[\"Vegetationsbrand\"],[\"Vegetationsbrand\"],[\"Vegetationsbrand\"],[\"Vegetationsbrand\"],[\"Vegetationsbrand\"],[\"Vegetationsbrand\"],[\"Vegetationsbrand\"],[\"Vegetationsbrand\"],[\"Vegetationsbrand\"],[\"Vegetationsbrand\"],[\"Vegetationsbrand\"],[\"Vegetationsbrand\"]],\"hovertemplate\":\"Datum=2009-09-19<br>Feuerintensit\\u00e4t=%{marker.color}<br>Breitengrad=%{lat}<br>L\\u00e4ngengrad=%{lon}<br>Typ=%{customdata[0]}<extra></extra>\",\"lat\":[52.4642,52.4841,52.4633,52.4834,52.4619,51.329,52.4819,52.4724,51.9195,51.9284,52.2088,51.489],\"legendgroup\":\"\",\"lon\":[11.5794,11.5186,11.5828,11.5223,11.5522,12.6522,11.5349,11.5396,14.4063,14.4025,8.0452,6.7206],\"marker\":{\"color\":[55.2,56.6,47.6,63.1,8.5,6.1,16.4,12.6,5.0,4.6,7.0,15.4],\"coloraxis\":\"coloraxis\",\"opacity\":0.5,\"size\":[55.2,56.6,47.6,63.1,8.5,6.1,16.4,12.6,5.0,4.6,7.0,15.4],\"sizemode\":\"area\",\"sizeref\":0.6502500000000001},\"mode\":\"markers\",\"name\":\"\",\"showlegend\":false,\"subplot\":\"mapbox\",\"type\":\"scattermapbox\"}],\"name\":\"2009-09-19\"},{\"data\":[{\"customdata\":[[\"Vegetationsbrand\"],[\"Vegetationsbrand\"],[\"Vegetationsbrand\"],[\"Vegetationsbrand\"],[\"Vegetationsbrand\"],[\"Vegetationsbrand\"],[\"Vegetationsbrand\"]],\"hovertemplate\":\"Datum=2009-09-20<br>Feuerintensit\\u00e4t=%{marker.color}<br>Breitengrad=%{lat}<br>L\\u00e4ngengrad=%{lon}<br>Typ=%{customdata[0]}<extra></extra>\",\"lat\":[53.5191,52.4316,52.4506,51.0625,51.0713,51.0677,53.1168],\"legendgroup\":\"\",\"lon\":[9.9099,11.5905,11.5999,6.8362,6.8395,6.8287,8.6992],\"marker\":{\"color\":[12.4,18.4,9.5,6.2,14.0,15.3,16.6],\"coloraxis\":\"coloraxis\",\"opacity\":0.5,\"size\":[12.4,18.4,9.5,6.2,14.0,15.3,16.6],\"sizemode\":\"area\",\"sizeref\":0.6502500000000001},\"mode\":\"markers\",\"name\":\"\",\"showlegend\":false,\"subplot\":\"mapbox\",\"type\":\"scattermapbox\"}],\"name\":\"2009-09-20\"},{\"data\":[{\"customdata\":[[\"Vegetationsbrand\"]],\"hovertemplate\":\"Datum=2009-09-21<br>Feuerintensit\\u00e4t=%{marker.color}<br>Breitengrad=%{lat}<br>L\\u00e4ngengrad=%{lon}<br>Typ=%{customdata[0]}<extra></extra>\",\"lat\":[51.4908],\"legendgroup\":\"\",\"lon\":[6.7098],\"marker\":{\"color\":[7.5],\"coloraxis\":\"coloraxis\",\"opacity\":0.5,\"size\":[7.5],\"sizemode\":\"area\",\"sizeref\":0.6502500000000001},\"mode\":\"markers\",\"name\":\"\",\"showlegend\":false,\"subplot\":\"mapbox\",\"type\":\"scattermapbox\"}],\"name\":\"2009-09-21\"},{\"data\":[{\"customdata\":[[\"Vegetationsbrand\"],[\"Vegetationsbrand\"],[\"Vegetationsbrand\"],[\"Vegetationsbrand\"],[\"Vegetationsbrand\"],[\"Vegetationsbrand\"],[\"Vegetationsbrand\"],[\"Vegetationsbrand\"],[\"Vegetationsbrand\"]],\"hovertemplate\":\"Datum=2009-09-22<br>Feuerintensit\\u00e4t=%{marker.color}<br>Breitengrad=%{lat}<br>L\\u00e4ngengrad=%{lon}<br>Typ=%{customdata[0]}<extra></extra>\",\"lat\":[51.8973,48.4771,49.244,50.4847,49.5047,51.5379,51.5426,51.1113,51.492],\"legendgroup\":\"\",\"lon\":[11.0907,9.2261,6.8552,9.9788,10.9557,6.3538,6.6572,7.2398,6.7235],\"marker\":{\"color\":[6.8,4.4,5.4,4.4,12.6,5.1,7.6,5.8,9.6],\"coloraxis\":\"coloraxis\",\"opacity\":0.5,\"size\":[6.8,4.4,5.4,4.4,12.6,5.1,7.6,5.8,9.6],\"sizemode\":\"area\",\"sizeref\":0.6502500000000001},\"mode\":\"markers\",\"name\":\"\",\"showlegend\":false,\"subplot\":\"mapbox\",\"type\":\"scattermapbox\"}],\"name\":\"2009-09-22\"},{\"data\":[{\"customdata\":[[\"Vegetationsbrand\"]],\"hovertemplate\":\"Datum=2009-09-23<br>Feuerintensit\\u00e4t=%{marker.color}<br>Breitengrad=%{lat}<br>L\\u00e4ngengrad=%{lon}<br>Typ=%{customdata[0]}<extra></extra>\",\"lat\":[51.0674],\"legendgroup\":\"\",\"lon\":[6.8381],\"marker\":{\"color\":[11.5],\"coloraxis\":\"coloraxis\",\"opacity\":0.5,\"size\":[11.5],\"sizemode\":\"area\",\"sizeref\":0.6502500000000001},\"mode\":\"markers\",\"name\":\"\",\"showlegend\":false,\"subplot\":\"mapbox\",\"type\":\"scattermapbox\"}],\"name\":\"2009-09-23\"},{\"data\":[{\"customdata\":[[\"Vegetationsbrand\"],[\"Vegetationsbrand\"],[\"Vegetationsbrand\"],[\"Vegetationsbrand\"],[\"Vegetationsbrand\"],[\"Vegetationsbrand\"]],\"hovertemplate\":\"Datum=2009-09-24<br>Feuerintensit\\u00e4t=%{marker.color}<br>Breitengrad=%{lat}<br>L\\u00e4ngengrad=%{lon}<br>Typ=%{customdata[0]}<extra></extra>\",\"lat\":[52.4628,52.4648,52.2873,52.026,51.8323,52.0239],\"legendgroup\":\"\",\"lon\":[11.6242,11.6094,10.9533,11.2635,13.9917,11.2492],\"marker\":{\"color\":[19.9,6.9,4.4,4.1,2.7,16.3],\"coloraxis\":\"coloraxis\",\"opacity\":0.5,\"size\":[19.9,6.9,4.4,4.1,2.7,16.3],\"sizemode\":\"area\",\"sizeref\":0.6502500000000001},\"mode\":\"markers\",\"name\":\"\",\"showlegend\":false,\"subplot\":\"mapbox\",\"type\":\"scattermapbox\"}],\"name\":\"2009-09-24\"},{\"data\":[{\"customdata\":[[\"Vegetationsbrand\"]],\"hovertemplate\":\"Datum=2009-09-26<br>Feuerintensit\\u00e4t=%{marker.color}<br>Breitengrad=%{lat}<br>L\\u00e4ngengrad=%{lon}<br>Typ=%{customdata[0]}<extra></extra>\",\"lat\":[51.349],\"legendgroup\":\"\",\"lon\":[14.3757],\"marker\":{\"color\":[3.6],\"coloraxis\":\"coloraxis\",\"opacity\":0.5,\"size\":[3.6],\"sizemode\":\"area\",\"sizeref\":0.6502500000000001},\"mode\":\"markers\",\"name\":\"\",\"showlegend\":false,\"subplot\":\"mapbox\",\"type\":\"scattermapbox\"}],\"name\":\"2009-09-26\"},{\"data\":[{\"customdata\":[[\"Vegetationsbrand\"],[\"Vegetationsbrand\"],[\"Vegetationsbrand\"],[\"Vegetationsbrand\"],[\"Vegetationsbrand\"],[\"Vegetationsbrand\"],[\"Vegetationsbrand\"],[\"Vegetationsbrand\"],[\"Vegetationsbrand\"]],\"hovertemplate\":\"Datum=2009-09-27<br>Feuerintensit\\u00e4t=%{marker.color}<br>Breitengrad=%{lat}<br>L\\u00e4ngengrad=%{lon}<br>Typ=%{customdata[0]}<extra></extra>\",\"lat\":[51.4891,53.1387,49.8541,48.6963,50.7807,49.2491,51.6871,51.0656,53.5212],\"legendgroup\":\"\",\"lon\":[6.7157,8.6799,6.7761,8.9914,6.7836,6.8522,6.9129,6.829,9.9006],\"marker\":{\"color\":[17.2,7.3,6.3,7.5,5.4,13.8,6.1,6.0,10.7],\"coloraxis\":\"coloraxis\",\"opacity\":0.5,\"size\":[17.2,7.3,6.3,7.5,5.4,13.8,6.1,6.0,10.7],\"sizemode\":\"area\",\"sizeref\":0.6502500000000001},\"mode\":\"markers\",\"name\":\"\",\"showlegend\":false,\"subplot\":\"mapbox\",\"type\":\"scattermapbox\"}],\"name\":\"2009-09-27\"},{\"data\":[{\"customdata\":[[\"Vegetationsbrand\"],[\"Vegetationsbrand\"],[\"Vegetationsbrand\"]],\"hovertemplate\":\"Datum=2009-09-29<br>Feuerintensit\\u00e4t=%{marker.color}<br>Breitengrad=%{lat}<br>L\\u00e4ngengrad=%{lon}<br>Typ=%{customdata[0]}<extra></extra>\",\"lat\":[49.3542,48.6962,49.3469],\"legendgroup\":\"\",\"lon\":[6.7433,8.9882,6.7313],\"marker\":{\"color\":[4.3,10.5,9.2],\"coloraxis\":\"coloraxis\",\"opacity\":0.5,\"size\":[4.3,10.5,9.2],\"sizemode\":\"area\",\"sizeref\":0.6502500000000001},\"mode\":\"markers\",\"name\":\"\",\"showlegend\":false,\"subplot\":\"mapbox\",\"type\":\"scattermapbox\"}],\"name\":\"2009-09-29\"},{\"data\":[{\"customdata\":[[\"Vegetationsbrand\"],[\"Vegetationsbrand\"],[\"Vegetationsbrand\"],[\"Vegetationsbrand\"],[\"Vegetationsbrand\"],[\"Vegetationsbrand\"],[\"Vegetationsbrand\"],[\"Vegetationsbrand\"]],\"hovertemplate\":\"Datum=2009-10-01<br>Feuerintensit\\u00e4t=%{marker.color}<br>Breitengrad=%{lat}<br>L\\u00e4ngengrad=%{lon}<br>Typ=%{customdata[0]}<extra></extra>\",\"lat\":[48.5772,48.3077,48.4774,48.1991,48.3056,49.5562,49.5935,49.5537],\"legendgroup\":\"\",\"lon\":[11.0126,11.1258,11.1133,11.2228,11.1393,8.3108,8.1476,8.2961],\"marker\":{\"color\":[5.7,19.3,14.6,5.7,9.7,9.2,5.4,7.4],\"coloraxis\":\"coloraxis\",\"opacity\":0.5,\"size\":[5.7,19.3,14.6,5.7,9.7,9.2,5.4,7.4],\"sizemode\":\"area\",\"sizeref\":0.6502500000000001},\"mode\":\"markers\",\"name\":\"\",\"showlegend\":false,\"subplot\":\"mapbox\",\"type\":\"scattermapbox\"}],\"name\":\"2009-10-01\"},{\"data\":[{\"customdata\":[[\"Vegetationsbrand\"],[\"Vegetationsbrand\"]],\"hovertemplate\":\"Datum=2009-10-03<br>Feuerintensit\\u00e4t=%{marker.color}<br>Breitengrad=%{lat}<br>L\\u00e4ngengrad=%{lon}<br>Typ=%{customdata[0]}<extra></extra>\",\"lat\":[51.4876,48.4525],\"legendgroup\":\"\",\"lon\":[6.7157,12.935],\"marker\":{\"color\":[22.0,9.8],\"coloraxis\":\"coloraxis\",\"opacity\":0.5,\"size\":[22.0,9.8],\"sizemode\":\"area\",\"sizeref\":0.6502500000000001},\"mode\":\"markers\",\"name\":\"\",\"showlegend\":false,\"subplot\":\"mapbox\",\"type\":\"scattermapbox\"}],\"name\":\"2009-10-03\"},{\"data\":[{\"customdata\":[[\"Vegetationsbrand\"]],\"hovertemplate\":\"Datum=2009-10-05<br>Feuerintensit\\u00e4t=%{marker.color}<br>Breitengrad=%{lat}<br>L\\u00e4ngengrad=%{lon}<br>Typ=%{customdata[0]}<extra></extra>\",\"lat\":[51.5659],\"legendgroup\":\"\",\"lon\":[13.7334],\"marker\":{\"color\":[19.1],\"coloraxis\":\"coloraxis\",\"opacity\":0.5,\"size\":[19.1],\"sizemode\":\"area\",\"sizeref\":0.6502500000000001},\"mode\":\"markers\",\"name\":\"\",\"showlegend\":false,\"subplot\":\"mapbox\",\"type\":\"scattermapbox\"}],\"name\":\"2009-10-05\"},{\"data\":[{\"customdata\":[[\"Vegetationsbrand\"],[\"Vegetationsbrand\"],[\"Vegetationsbrand\"]],\"hovertemplate\":\"Datum=2009-10-08<br>Feuerintensit\\u00e4t=%{marker.color}<br>Breitengrad=%{lat}<br>L\\u00e4ngengrad=%{lon}<br>Typ=%{customdata[0]}<extra></extra>\",\"lat\":[48.1985,51.4602,52.1576],\"legendgroup\":\"\",\"lon\":[12.8432,6.7345,10.3909],\"marker\":{\"color\":[10.2,5.3,22.5],\"coloraxis\":\"coloraxis\",\"opacity\":0.5,\"size\":[10.2,5.3,22.5],\"sizemode\":\"area\",\"sizeref\":0.6502500000000001},\"mode\":\"markers\",\"name\":\"\",\"showlegend\":false,\"subplot\":\"mapbox\",\"type\":\"scattermapbox\"}],\"name\":\"2009-10-08\"},{\"data\":[{\"customdata\":[[\"Vegetationsbrand\"],[\"Vegetationsbrand\"]],\"hovertemplate\":\"Datum=2009-10-10<br>Feuerintensit\\u00e4t=%{marker.color}<br>Breitengrad=%{lat}<br>L\\u00e4ngengrad=%{lon}<br>Typ=%{customdata[0]}<extra></extra>\",\"lat\":[49.2439,49.3482],\"legendgroup\":\"\",\"lon\":[6.8504,6.7334],\"marker\":{\"color\":[8.2,7.4],\"coloraxis\":\"coloraxis\",\"opacity\":0.5,\"size\":[8.2,7.4],\"sizemode\":\"area\",\"sizeref\":0.6502500000000001},\"mode\":\"markers\",\"name\":\"\",\"showlegend\":false,\"subplot\":\"mapbox\",\"type\":\"scattermapbox\"}],\"name\":\"2009-10-10\"},{\"data\":[{\"customdata\":[[\"Vegetationsbrand\"]],\"hovertemplate\":\"Datum=2009-10-12<br>Feuerintensit\\u00e4t=%{marker.color}<br>Breitengrad=%{lat}<br>L\\u00e4ngengrad=%{lon}<br>Typ=%{customdata[0]}<extra></extra>\",\"lat\":[51.6107],\"legendgroup\":\"\",\"lon\":[7.0198],\"marker\":{\"color\":[8.1],\"coloraxis\":\"coloraxis\",\"opacity\":0.5,\"size\":[8.1],\"sizemode\":\"area\",\"sizeref\":0.6502500000000001},\"mode\":\"markers\",\"name\":\"\",\"showlegend\":false,\"subplot\":\"mapbox\",\"type\":\"scattermapbox\"}],\"name\":\"2009-10-12\"},{\"data\":[{\"customdata\":[[\"Vegetationsbrand\"],[\"Vegetationsbrand\"],[\"Vegetationsbrand\"]],\"hovertemplate\":\"Datum=2009-10-13<br>Feuerintensit\\u00e4t=%{marker.color}<br>Breitengrad=%{lat}<br>L\\u00e4ngengrad=%{lon}<br>Typ=%{customdata[0]}<extra></extra>\",\"lat\":[53.5163,53.4948,53.519],\"legendgroup\":\"\",\"lon\":[9.9058,7.3834,9.913],\"marker\":{\"color\":[9.2,29.7,6.6],\"coloraxis\":\"coloraxis\",\"opacity\":0.5,\"size\":[9.2,29.7,6.6],\"sizemode\":\"area\",\"sizeref\":0.6502500000000001},\"mode\":\"markers\",\"name\":\"\",\"showlegend\":false,\"subplot\":\"mapbox\",\"type\":\"scattermapbox\"}],\"name\":\"2009-10-13\"},{\"data\":[{\"customdata\":[[\"Vegetationsbrand\"]],\"hovertemplate\":\"Datum=2009-10-15<br>Feuerintensit\\u00e4t=%{marker.color}<br>Breitengrad=%{lat}<br>L\\u00e4ngengrad=%{lon}<br>Typ=%{customdata[0]}<extra></extra>\",\"lat\":[49.3532],\"legendgroup\":\"\",\"lon\":[6.7325],\"marker\":{\"color\":[6.7],\"coloraxis\":\"coloraxis\",\"opacity\":0.5,\"size\":[6.7],\"sizemode\":\"area\",\"sizeref\":0.6502500000000001},\"mode\":\"markers\",\"name\":\"\",\"showlegend\":false,\"subplot\":\"mapbox\",\"type\":\"scattermapbox\"}],\"name\":\"2009-10-15\"},{\"data\":[{\"customdata\":[[\"Vegetationsbrand\"],[\"Vegetationsbrand\"]],\"hovertemplate\":\"Datum=2009-10-20<br>Feuerintensit\\u00e4t=%{marker.color}<br>Breitengrad=%{lat}<br>L\\u00e4ngengrad=%{lon}<br>Typ=%{customdata[0]}<extra></extra>\",\"lat\":[49.3562,51.4533],\"legendgroup\":\"\",\"lon\":[6.7376,6.7344],\"marker\":{\"color\":[7.4,6.2],\"coloraxis\":\"coloraxis\",\"opacity\":0.5,\"size\":[7.4,6.2],\"sizemode\":\"area\",\"sizeref\":0.6502500000000001},\"mode\":\"markers\",\"name\":\"\",\"showlegend\":false,\"subplot\":\"mapbox\",\"type\":\"scattermapbox\"}],\"name\":\"2009-10-20\"},{\"data\":[{\"customdata\":[[\"Vegetationsbrand\"],[\"Vegetationsbrand\"]],\"hovertemplate\":\"Datum=2009-10-21<br>Feuerintensit\\u00e4t=%{marker.color}<br>Breitengrad=%{lat}<br>L\\u00e4ngengrad=%{lon}<br>Typ=%{customdata[0]}<extra></extra>\",\"lat\":[51.2714,52.1706],\"legendgroup\":\"\",\"lon\":[13.8754,14.6211],\"marker\":{\"color\":[7.3,27.9],\"coloraxis\":\"coloraxis\",\"opacity\":0.5,\"size\":[7.3,27.9],\"sizemode\":\"area\",\"sizeref\":0.6502500000000001},\"mode\":\"markers\",\"name\":\"\",\"showlegend\":false,\"subplot\":\"mapbox\",\"type\":\"scattermapbox\"}],\"name\":\"2009-10-21\"},{\"data\":[{\"customdata\":[[\"Vegetationsbrand\"]],\"hovertemplate\":\"Datum=2009-10-28<br>Feuerintensit\\u00e4t=%{marker.color}<br>Breitengrad=%{lat}<br>L\\u00e4ngengrad=%{lon}<br>Typ=%{customdata[0]}<extra></extra>\",\"lat\":[49.246],\"legendgroup\":\"\",\"lon\":[6.8615],\"marker\":{\"color\":[24.5],\"coloraxis\":\"coloraxis\",\"opacity\":0.5,\"size\":[24.5],\"sizemode\":\"area\",\"sizeref\":0.6502500000000001},\"mode\":\"markers\",\"name\":\"\",\"showlegend\":false,\"subplot\":\"mapbox\",\"type\":\"scattermapbox\"}],\"name\":\"2009-10-28\"},{\"data\":[{\"customdata\":[[\"Vegetationsbrand\"]],\"hovertemplate\":\"Datum=2009-10-29<br>Feuerintensit\\u00e4t=%{marker.color}<br>Breitengrad=%{lat}<br>L\\u00e4ngengrad=%{lon}<br>Typ=%{customdata[0]}<extra></extra>\",\"lat\":[49.2465],\"legendgroup\":\"\",\"lon\":[6.8521],\"marker\":{\"color\":[6.6],\"coloraxis\":\"coloraxis\",\"opacity\":0.5,\"size\":[6.6],\"sizemode\":\"area\",\"sizeref\":0.6502500000000001},\"mode\":\"markers\",\"name\":\"\",\"showlegend\":false,\"subplot\":\"mapbox\",\"type\":\"scattermapbox\"}],\"name\":\"2009-10-29\"},{\"data\":[{\"customdata\":[[\"Vegetationsbrand\"]],\"hovertemplate\":\"Datum=2009-10-31<br>Feuerintensit\\u00e4t=%{marker.color}<br>Breitengrad=%{lat}<br>L\\u00e4ngengrad=%{lon}<br>Typ=%{customdata[0]}<extra></extra>\",\"lat\":[49.2415],\"legendgroup\":\"\",\"lon\":[6.8521],\"marker\":{\"color\":[10.9],\"coloraxis\":\"coloraxis\",\"opacity\":0.5,\"size\":[10.9],\"sizemode\":\"area\",\"sizeref\":0.6502500000000001},\"mode\":\"markers\",\"name\":\"\",\"showlegend\":false,\"subplot\":\"mapbox\",\"type\":\"scattermapbox\"}],\"name\":\"2009-10-31\"},{\"data\":[{\"customdata\":[[\"Vegetationsbrand\"]],\"hovertemplate\":\"Datum=2009-11-03<br>Feuerintensit\\u00e4t=%{marker.color}<br>Breitengrad=%{lat}<br>L\\u00e4ngengrad=%{lon}<br>Typ=%{customdata[0]}<extra></extra>\",\"lat\":[51.4878],\"legendgroup\":\"\",\"lon\":[6.7088],\"marker\":{\"color\":[10.4],\"coloraxis\":\"coloraxis\",\"opacity\":0.5,\"size\":[10.4],\"sizemode\":\"area\",\"sizeref\":0.6502500000000001},\"mode\":\"markers\",\"name\":\"\",\"showlegend\":false,\"subplot\":\"mapbox\",\"type\":\"scattermapbox\"}],\"name\":\"2009-11-03\"},{\"data\":[{\"customdata\":[[\"Vegetationsbrand\"]],\"hovertemplate\":\"Datum=2009-11-06<br>Feuerintensit\\u00e4t=%{marker.color}<br>Breitengrad=%{lat}<br>L\\u00e4ngengrad=%{lon}<br>Typ=%{customdata[0]}<extra></extra>\",\"lat\":[52.1737],\"legendgroup\":\"\",\"lon\":[10.4133],\"marker\":{\"color\":[16.1],\"coloraxis\":\"coloraxis\",\"opacity\":0.5,\"size\":[16.1],\"sizemode\":\"area\",\"sizeref\":0.6502500000000001},\"mode\":\"markers\",\"name\":\"\",\"showlegend\":false,\"subplot\":\"mapbox\",\"type\":\"scattermapbox\"}],\"name\":\"2009-11-06\"},{\"data\":[{\"customdata\":[[\"Vegetationsbrand\"],[\"Vegetationsbrand\"]],\"hovertemplate\":\"Datum=2009-11-17<br>Feuerintensit\\u00e4t=%{marker.color}<br>Breitengrad=%{lat}<br>L\\u00e4ngengrad=%{lon}<br>Typ=%{customdata[0]}<extra></extra>\",\"lat\":[51.4965,51.4923],\"legendgroup\":\"\",\"lon\":[6.7456,6.7256],\"marker\":{\"color\":[13.2,21.3],\"coloraxis\":\"coloraxis\",\"opacity\":0.5,\"size\":[13.2,21.3],\"sizemode\":\"area\",\"sizeref\":0.6502500000000001},\"mode\":\"markers\",\"name\":\"\",\"showlegend\":false,\"subplot\":\"mapbox\",\"type\":\"scattermapbox\"}],\"name\":\"2009-11-17\"},{\"data\":[{\"customdata\":[[\"Vegetationsbrand\"]],\"hovertemplate\":\"Datum=2009-11-19<br>Feuerintensit\\u00e4t=%{marker.color}<br>Breitengrad=%{lat}<br>L\\u00e4ngengrad=%{lon}<br>Typ=%{customdata[0]}<extra></extra>\",\"lat\":[51.4913],\"legendgroup\":\"\",\"lon\":[6.7247],\"marker\":{\"color\":[15.3],\"coloraxis\":\"coloraxis\",\"opacity\":0.5,\"size\":[15.3],\"sizemode\":\"area\",\"sizeref\":0.6502500000000001},\"mode\":\"markers\",\"name\":\"\",\"showlegend\":false,\"subplot\":\"mapbox\",\"type\":\"scattermapbox\"}],\"name\":\"2009-11-19\"},{\"data\":[{\"customdata\":[[\"Vegetationsbrand\"]],\"hovertemplate\":\"Datum=2009-11-20<br>Feuerintensit\\u00e4t=%{marker.color}<br>Breitengrad=%{lat}<br>L\\u00e4ngengrad=%{lon}<br>Typ=%{customdata[0]}<extra></extra>\",\"lat\":[49.2439],\"legendgroup\":\"\",\"lon\":[6.8499],\"marker\":{\"color\":[21.8],\"coloraxis\":\"coloraxis\",\"opacity\":0.5,\"size\":[21.8],\"sizemode\":\"area\",\"sizeref\":0.6502500000000001},\"mode\":\"markers\",\"name\":\"\",\"showlegend\":false,\"subplot\":\"mapbox\",\"type\":\"scattermapbox\"}],\"name\":\"2009-11-20\"},{\"data\":[{\"customdata\":[[\"Vegetationsbrand\"]],\"hovertemplate\":\"Datum=2009-12-13<br>Feuerintensit\\u00e4t=%{marker.color}<br>Breitengrad=%{lat}<br>L\\u00e4ngengrad=%{lon}<br>Typ=%{customdata[0]}<extra></extra>\",\"lat\":[51.4875],\"legendgroup\":\"\",\"lon\":[6.7236],\"marker\":{\"color\":[46.2],\"coloraxis\":\"coloraxis\",\"opacity\":0.5,\"size\":[46.2],\"sizemode\":\"area\",\"sizeref\":0.6502500000000001},\"mode\":\"markers\",\"name\":\"\",\"showlegend\":false,\"subplot\":\"mapbox\",\"type\":\"scattermapbox\"}],\"name\":\"2009-12-13\"},{\"data\":[{\"customdata\":[[\"Vegetationsbrand\"]],\"hovertemplate\":\"Datum=2009-12-27<br>Feuerintensit\\u00e4t=%{marker.color}<br>Breitengrad=%{lat}<br>L\\u00e4ngengrad=%{lon}<br>Typ=%{customdata[0]}<extra></extra>\",\"lat\":[51.4878],\"legendgroup\":\"\",\"lon\":[6.7246],\"marker\":{\"color\":[16.9],\"coloraxis\":\"coloraxis\",\"opacity\":0.5,\"size\":[16.9],\"sizemode\":\"area\",\"sizeref\":0.6502500000000001},\"mode\":\"markers\",\"name\":\"\",\"showlegend\":false,\"subplot\":\"mapbox\",\"type\":\"scattermapbox\"}],\"name\":\"2009-12-27\"}]);\n",
       "                        }).then(function(){\n",
       "                            \n",
       "var gd = document.getElementById('10de8a58-1793-4009-8be2-4fafbeef7a39');\n",
       "var x = new MutationObserver(function (mutations, observer) {{\n",
       "        var display = window.getComputedStyle(gd).display;\n",
       "        if (!display || display === 'none') {{\n",
       "            console.log([gd, 'removed!']);\n",
       "            Plotly.purge(gd);\n",
       "            observer.disconnect();\n",
       "        }}\n",
       "}});\n",
       "\n",
       "// Listen for the removal of the full notebook cells\n",
       "var notebookContainer = gd.closest('#notebook-container');\n",
       "if (notebookContainer) {{\n",
       "    x.observe(notebookContainer, {childList: true});\n",
       "}}\n",
       "\n",
       "// Listen for the clearing of the current output cell\n",
       "var outputEl = gd.closest('.output');\n",
       "if (outputEl) {{\n",
       "    x.observe(outputEl, {childList: true});\n",
       "}}\n",
       "\n",
       "                        })                };                });            </script>        </div>"
      ]
     },
     "metadata": {},
     "output_type": "display_data"
    }
   ],
   "source": [
    "vmin, vmax = 0, 50\n",
    "fig = px.scatter_mapbox(feuerdaten, \n",
    "                        lat = 'Breitengrad', \n",
    "                        lon = 'Längengrad', \n",
    "                        color = 'Feuerintensität', \n",
    "                        size = 'Feuerintensität',\n",
    "                        color_continuous_scale  = cmap,\n",
    "                        opacity = 0.5,\n",
    "                        range_color = [vmin, vmax],\n",
    "                        hover_data=['Typ'],\n",
    "                        animation_frame= 'Datum',  \n",
    "                        center = {'lat': 51.17, 'lon': 10.45}, \n",
    "                        zoom = 4.5,\n",
    "                        mapbox_style = 'carto-positron')\n",
    "fig.update_layout(\n",
    "    title='Feuer in Deutschland im Jahr '+str(jahr), title_x=0.5,\n",
    "    width=700, height=800,\n",
    "    legend={'yanchor': 'top', 'xanchor':'left', 'y':1, 'x': 0.1},\n",
    "    coloraxis={'colorbar':{'title':'Feuerintensität [MW]', 'ticks':'inside'}})\n",
    "\n",
    "fig.layout.updatemenus[0].buttons[0].args[1]['frame']['duration'] = 20\n"
   ]
  },
  {
   "cell_type": "code",
   "execution_count": 10,
   "metadata": {},
   "outputs": [],
   "source": [
    "pio.write_html(fig, file = 'MODIS_Feuer_Deutschland_'+str(jahr)+'.html')"
   ]
  }
 ],
 "metadata": {
  "kernelspec": {
   "display_name": "firekernel",
   "language": "python",
   "name": "firekernel"
  },
  "language_info": {
   "codemirror_mode": {
    "name": "ipython",
    "version": 3
   },
   "file_extension": ".py",
   "mimetype": "text/x-python",
   "name": "python",
   "nbconvert_exporter": "python",
   "pygments_lexer": "ipython3",
   "version": "3.9.12"
  }
 },
 "nbformat": 4,
 "nbformat_minor": 4
}
